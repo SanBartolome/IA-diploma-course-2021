{
  "nbformat": 4,
  "nbformat_minor": 0,
  "metadata": {
    "accelerator": "GPU",
    "colab": {
      "name": "Desafio8_San_Bartolomé_Carlos.ipynb",
      "provenance": [],
      "collapsed_sections": [],
      "toc_visible": true,
      "include_colab_link": true
    },
    "kernelspec": {
      "display_name": "Python 3",
      "language": "python",
      "name": "python3"
    },
    "language_info": {
      "codemirror_mode": {
        "name": "ipython",
        "version": 3
      },
      "file_extension": ".py",
      "mimetype": "text/x-python",
      "name": "python",
      "nbconvert_exporter": "python",
      "pygments_lexer": "ipython3",
      "version": "3.6.9"
    }
  },
  "cells": [
    {
      "cell_type": "markdown",
      "metadata": {
        "id": "view-in-github",
        "colab_type": "text"
      },
      "source": [
        "<a href=\"https://colab.research.google.com/github/SanBartolome/IA-diploma-course-2021/blob/main/Desafio8_San_Bartolom%C3%A9_Carlos.ipynb\" target=\"_parent\"><img src=\"https://colab.research.google.com/assets/colab-badge.svg\" alt=\"Open In Colab\"/></a>"
      ]
    },
    {
      "cell_type": "markdown",
      "metadata": {
        "id": "e_rXK8PJ7pJ3"
      },
      "source": [
        "# Diplomatura de Especialización en Desarrollo de Aplicaciones con Inteligencia Artificial - Inteligencia Artificial para Juegos (Game IA) - Sesión 8 - Tarea\n",
        "\n",
        "<img src='https://escuela.pucp.edu.pe/gobierno/wp-content/uploads/2015/04/logo-pucp-full-color-300x88.png' width=200px>\n",
        "\n",
        "\n",
        "Dr. Edwin Villanueva, Ing. Daniel Saromo"
      ]
    },
    {
      "cell_type": "markdown",
      "metadata": {
        "id": "HWV9A-zMtpFg"
      },
      "source": [
        "<font color='orange'>Entorno de `MountainCar-v0` con agente aleatorio y aprendizaje con DDQN. **Ejecutable en Google Colaboratory!**.</font>"
      ]
    },
    {
      "cell_type": "markdown",
      "metadata": {
        "id": "txSHXSsfDuLn"
      },
      "source": [
        "## Aprendizaje por refuerzo con Double Deep Q-networks - Entorno `MountainCar-v0`\n",
        "\n",
        "Esta es una implementacion de un agente Double Deep Q-learning que aprende a mover el carrito para que alcance la bandera amarilla en el entorno `MountainCar-v0` de OpenAI Gym. Adaptado de  https://github.com/keon/deep-q-learning. Se hicieron modificaciones para su ejecución en colab, adaptadas de [aquí](https://colab.research.google.com/drive/1flu31ulJlgiRL1dnN2ir8wGh9p7Zij2t#scrollTo=8-AxnvAVyzQQ).\n",
        "\n",
        "Es necesario tener instalado: gym, tensorflow y keras. En colab, están preinstalados.\n",
        "\n",
        "Descripción detallada del entorno: https://github.com/openai/gym/wiki/MountainCar-v0 "
      ]
    },
    {
      "cell_type": "markdown",
      "metadata": {
        "id": "EZB0W1wPSzex"
      },
      "source": [
        "Es posible que luego de actualizar pyglet, te pida reiniciar el entorno de ejecución. Es normal eso.\n",
        "\n",
        "Nota importante: Al ejecutar este notebook, es posible que colab lo cierre repentinamente. Simplemente es cuestión de volver a ejecutarlo de cero."
      ]
    },
    {
      "cell_type": "markdown",
      "metadata": {
        "id": "aDAtmKbQpqrl"
      },
      "source": [
        "Completar con su código los campos requeridos y subir su notebook solucionado a la plataforma PAIDEIA. El formato del nombre del notebook es: `Desafio8_APELLIDOPATERNO_NOMBRE.ipynb`.\n",
        "\n",
        "Es responsabilidad del alumno verificar que el archivo que subió es el correcto. Respetar los lineamientos de la entrega de archivo, ya que influirá en su calificación. La fecha límite de entrega del presente desafío se encuentra en PAIDEIA."
      ]
    },
    {
      "cell_type": "markdown",
      "metadata": {
        "id": "M07enyn3DuLo"
      },
      "source": [
        "### Clase <b>DDQNAgent</b>\n",
        "\n",
        "Esta es la clase que implementa el agente Double Deep Q-lerrning. Es una implementacion general, pudiendo ser usado en diferentes entornos de gym u otros. El constructor recibe las dimensiones del estado y la dimesion del vector de acciones posibles "
      ]
    },
    {
      "cell_type": "code",
      "metadata": {
        "id": "Qu2SHDCnIQnI",
        "colab": {
          "base_uri": "https://localhost:8080/"
        },
        "outputId": "944c73db-1bd9-4e8e-94eb-7731ca1323f8"
      },
      "source": [
        "!pip install pyglet --upgrade"
      ],
      "execution_count": 1,
      "outputs": [
        {
          "output_type": "stream",
          "name": "stdout",
          "text": [
            "Requirement already satisfied: pyglet in /usr/local/lib/python3.7/dist-packages (1.5.0)\n",
            "Collecting pyglet\n",
            "  Downloading pyglet-1.5.21-py3-none-any.whl (1.1 MB)\n",
            "\u001b[K     |████████████████████████████████| 1.1 MB 3.5 MB/s \n",
            "\u001b[?25hInstalling collected packages: pyglet\n",
            "  Attempting uninstall: pyglet\n",
            "    Found existing installation: pyglet 1.5.0\n",
            "    Uninstalling pyglet-1.5.0:\n",
            "      Successfully uninstalled pyglet-1.5.0\n",
            "\u001b[31mERROR: pip's dependency resolver does not currently take into account all the packages that are installed. This behaviour is the source of the following dependency conflicts.\n",
            "gym 0.17.3 requires pyglet<=1.5.0,>=1.4.0, but you have pyglet 1.5.21 which is incompatible.\u001b[0m\n",
            "Successfully installed pyglet-1.5.21\n"
          ]
        }
      ]
    },
    {
      "cell_type": "code",
      "metadata": {
        "id": "5zZjZ6Q3DuLp"
      },
      "source": [
        "import random\n",
        "import gym\n",
        "import numpy as np\n",
        "from collections import deque\n",
        "from tensorflow.keras.models import Sequential\n",
        "from tensorflow.keras.layers import Dense\n",
        "from tensorflow.keras.optimizers import Adam\n",
        "\n",
        "class DDQNAgent:\n",
        "    def __init__(self, state_size, action_size):\n",
        "        self.state_size = state_size      # tamaño de un estado (numero de atributos que representan un estado)\n",
        "        self.action_size = action_size    # tamaño del vector de acciones \n",
        "        self.memory = deque(maxlen=9000)  # define la memoria del agente (10000 registros como maximo)\n",
        "        self.gamma = 0.98                 # discount rate\n",
        "        self.learning_rate = 0.001        # taza de aprendizaje \n",
        "        \n",
        "        self.epsilon = 1.0               # factor de exploration inicial\n",
        "        self.epsilon_min = 0.01          # factor de exploration minimo\n",
        "        self.epsilon_decay = 0.999       # factor de decaimiento del factor de exploracion\n",
        "        self.model = self._build_model() # construye el modelo neuronal a entrenar \n",
        "        \n",
        "        # construye un 2do modelo neuronal (target_model) para ayudar a estimar el target del 1er modelo (model)   \n",
        "        self.target_model = self._build_model() \n",
        "        self.update_target_model()  # actualiza el target_model copiando los pesos de model\n",
        "       \n",
        "\n",
        "    def _build_model(self):\n",
        "        # Define y compila un modelo de red neuronal de X capas\n",
        "        model = Sequential()\n",
        "        model.add(Dense(20, input_dim=self.state_size, activation='relu'))\n",
        "        model.add(Dense(20, activation='relu'))\n",
        "        model.add(Dense(40, activation='relu'))\n",
        "        model.add(Dense(self.action_size, activation='linear'))\n",
        "        model.compile(loss='mse', optimizer = Adam(learning_rate=self.learning_rate))\n",
        "        \n",
        "        return model\n",
        "    \n",
        "    # Metodo para copiar los pesos de model a target_model\n",
        "    def update_target_model(self):\n",
        "        self.target_model.set_weights(self.model.get_weights())\n",
        "\n",
        "    # metodo para guardar una transicion del agente (experiencia): (estado, accion, reward resultante, nuevo estado, done)\n",
        "    # done es un flag que indica que el entorno cayo en un estado terminal\n",
        "    def remember(self, state, action, reward, next_state, done): \n",
        "        self.memory.append((state, action, reward, next_state, done))\n",
        "\n",
        "    # retorna una accion.  \n",
        "    def get_action(self, state):\n",
        "        if np.random.rand() <= self.epsilon:  # retorna una accion aleatoria con probabilidad self.epsilon\n",
        "            return random.randrange(self.action_size)\n",
        "        action_values = self.model.predict(state) # obtiene los q valores predichos por el modelo para cada accion\n",
        "        return np.argmax(action_values[0])  # retorna la accion con el maximo q-valor predicho\n",
        "\n",
        "    # metodo para actualizar los pesos de model con una muestra (minibatch) de la memoria de experiencias de tamaño batch_size\n",
        "    def replay(self, batch_size): \n",
        "        # obtiene una muestra (minibatch) de la memoria de experiencias\n",
        "        minibatch = random.sample(self.memory, batch_size) \n",
        "        \n",
        "        # Obtiene arrays de  states, accions, rewards, next_estates  del minibatch\n",
        "        states = np.array([i[0] for i in minibatch])    \n",
        "        actions = np.array([i[1] for i in minibatch])   \n",
        "        rewards = np.array([i[2] for i in minibatch])   \n",
        "        next_states = np.array([i[3] for i in minibatch]) \n",
        "        dones = np.array([i[4] for i in minibatch])       \n",
        "        states = np.squeeze(states)\n",
        "        next_states = np.squeeze(next_states)\n",
        "        \n",
        "        # Calcula el target Q-value para la accion ejecutada en cada experiencia del batch \n",
        "        Qvals_next_states = self.target_model.predict_on_batch(next_states)  # predice Qvals de next_state con el modelo target\n",
        "        Targets_actions = rewards + self.gamma*(np.amax(Qvals_next_states, axis=1))*(1-dones) # si es terminal -> Target = reward\n",
        "        \n",
        "        # Construye el target completo de Q-values para los states de cada experiencia del batch\n",
        "        Targets = self.model.predict_on_batch(states)  # los target Q-values son los que predice el modelo actual, salvo el correspondiente a la accion tomada\n",
        "        ind = np.array([i for i in range(batch_size)])\n",
        "        Targets[[ind], [actions]] = Targets_actions   # actualiza el target Q-value de la accion ejecutada  \n",
        "        \n",
        "        # Ajusta el modelo  con pares  [states, Targets] del minibatch\n",
        "        self.model.fit(states, Targets, epochs=1, verbose=0)\n",
        "        \n",
        "        # Si no esta en el minimo factor de exploracion -> hace un decaimiento del factor de exploracion\n",
        "        if self.epsilon > self.epsilon_min: \n",
        "            self.epsilon *= self.epsilon_decay\n",
        "\n",
        "    def load(self, name):\n",
        "        self.model.load_weights(name)\n",
        "\n",
        "    def save(self, name):\n",
        "        self.model.save_weights(name)\n"
      ],
      "execution_count": 35,
      "outputs": []
    },
    {
      "cell_type": "markdown",
      "metadata": {
        "id": "UapRJwejf5Bz"
      },
      "source": [
        "### Familiarización con el entorno"
      ]
    },
    {
      "cell_type": "markdown",
      "metadata": {
        "id": "XEDPdKAshyRv"
      },
      "source": [
        "[`MountainCar-v0`](https://github.com/openai/gym/wiki/MountainCar-v0)"
      ]
    },
    {
      "cell_type": "code",
      "metadata": {
        "colab": {
          "base_uri": "https://localhost:8080/"
        },
        "id": "B91n3iHMf7D7",
        "outputId": "a1eb7797-0bda-480e-f640-2f0bad98d22b"
      },
      "source": [
        "env = gym.make('MountainCar-v0')   # carga el modelo MountainCar de gym\n",
        "state_size = env.observation_space.shape[0]\n",
        "action_size = env.action_space.n\n",
        "agent = DDQNAgent(state_size, action_size)  # instancia el agente deep q-learning\n",
        "state_size, action_size"
      ],
      "execution_count": 50,
      "outputs": [
        {
          "output_type": "execute_result",
          "data": {
            "text/plain": [
              "(2, 3)"
            ]
          },
          "metadata": {},
          "execution_count": 50
        }
      ]
    },
    {
      "cell_type": "code",
      "source": [
        "state = env.reset()     # resetea el entorno\n",
        "print(\"Vanilla State: \", state)\n",
        "state"
      ],
      "metadata": {
        "colab": {
          "base_uri": "https://localhost:8080/"
        },
        "id": "vONnhAIfcGbK",
        "outputId": "b8a80ce4-d052-4bcf-8c44-6337ec1229d2"
      },
      "execution_count": 51,
      "outputs": [
        {
          "output_type": "stream",
          "name": "stdout",
          "text": [
            "Vanilla State:  [-0.51156799  0.        ]\n"
          ]
        },
        {
          "output_type": "execute_result",
          "data": {
            "text/plain": [
              "array([-0.51156799,  0.        ])"
            ]
          },
          "metadata": {},
          "execution_count": 51
        }
      ]
    },
    {
      "cell_type": "code",
      "metadata": {
        "colab": {
          "base_uri": "https://localhost:8080/"
        },
        "id": "2V8S7oTGmR9p",
        "outputId": "30537936-2f57-439c-8a02-b6132c16934f"
      },
      "source": [
        "state = env.reset()     # resetea el entorno\n",
        "print(\"Vanilla State: \", state)\n",
        "state"
      ],
      "execution_count": 52,
      "outputs": [
        {
          "output_type": "stream",
          "name": "stdout",
          "text": [
            "Vanilla State:  [-0.48322155  0.        ]\n"
          ]
        },
        {
          "output_type": "execute_result",
          "data": {
            "text/plain": [
              "array([-0.48322155,  0.        ])"
            ]
          },
          "metadata": {},
          "execution_count": 52
        }
      ]
    },
    {
      "cell_type": "code",
      "metadata": {
        "colab": {
          "base_uri": "https://localhost:8080/"
        },
        "id": "o7PHqX53gF5n",
        "outputId": "22b94a04-f700-4721-bb37-3d24ad3bb4c7"
      },
      "source": [
        "score = 0\n",
        "action = agent.get_action(state)   # obtiene una accion del agente\n",
        "action"
      ],
      "execution_count": 53,
      "outputs": [
        {
          "output_type": "execute_result",
          "data": {
            "text/plain": [
              "1"
            ]
          },
          "metadata": {},
          "execution_count": 53
        }
      ]
    },
    {
      "cell_type": "code",
      "metadata": {
        "colab": {
          "base_uri": "https://localhost:8080/"
        },
        "id": "BcdSUtdBgISx",
        "outputId": "eac03ca7-57fc-4d45-e8fd-e2863e3dabb1"
      },
      "source": [
        "next_state, reward, done, extraInfo = env.step(action)  # ejecuta action en el entorno y obtiene: nuevo estado, reward y flag done (si es estado terminal)\n",
        "print(\"Vanilla New State: \", next_state)\n",
        "next_state, reward, done, extraInfo"
      ],
      "execution_count": 54,
      "outputs": [
        {
          "output_type": "stream",
          "name": "stdout",
          "text": [
            "Vanilla New State:  [-4.83523634e-01 -3.02089208e-04]\n"
          ]
        },
        {
          "output_type": "execute_result",
          "data": {
            "text/plain": [
              "(array([-4.83523634e-01, -3.02089208e-04]), -1.0, False, {})"
            ]
          },
          "metadata": {},
          "execution_count": 54
        }
      ]
    },
    {
      "cell_type": "markdown",
      "metadata": {
        "id": "7jTb-VXufsHO"
      },
      "source": [
        "### Definiendo la función de recompensa"
      ]
    },
    {
      "cell_type": "markdown",
      "metadata": {
        "id": "E10z5Iz4hWGe"
      },
      "source": [
        "¿Cuál es el dominio de `state[0]`?"
      ]
    },
    {
      "cell_type": "code",
      "source": [
        "state[0]"
      ],
      "metadata": {
        "colab": {
          "base_uri": "https://localhost:8080/"
        },
        "id": "4lGmsJNfdvV4",
        "outputId": "14574d9c-3447-437b-8f73-3a351e1ee509"
      },
      "execution_count": 55,
      "outputs": [
        {
          "output_type": "execute_result",
          "data": {
            "text/plain": [
              "-0.48322154525023864"
            ]
          },
          "metadata": {},
          "execution_count": 55
        }
      ]
    },
    {
      "cell_type": "markdown",
      "metadata": {
        "id": "IaNfGF3ZTvZP"
      },
      "source": [
        "[¿Por qué definimos así la función de reward?](https://www.wolframalpha.com/input/?i=plot+piecewise+%5B%7B+%7B0%2C+-1.2%3C%3Dx%3C%3D-0.4%7D+%2C+%7B1%2Bx%5E2%2C+-0.4%3Cx%3C%3D0.3%7D+%2C+%7B1%2B15*%281%2Bx%29%5E2%2C+%2B0.3%3Cx%3C%3D0.5%7D%2C+%7B50%2B60*%28x-0.5%29%5E2%2C+0.5%3Cx%3C%3D0.6%7D%7D%5D)"
      ]
    },
    {
      "cell_type": "code",
      "metadata": {
        "id": "1EW9z5T4g0wH"
      },
      "source": [
        "def get_reward(state):\n",
        "    x=state[0]\n",
        "    if x >= 0.5:\n",
        "        print(\"Car has reached the goal\")\n",
        "        #No está permitido editar las anteriores líneas de código de esta función!\n",
        "        return 50+60*(-0.5+x)**2\n",
        "    if x >= 0.3:\n",
        "        return 1+15*(1+x)**2\n",
        "    if x >= -0.4:\n",
        "        return 1 + x**2\n",
        "    return 0"
      ],
      "execution_count": 56,
      "outputs": []
    },
    {
      "cell_type": "code",
      "metadata": {
        "colab": {
          "base_uri": "https://localhost:8080/"
        },
        "id": "YLOytVJpmnRV",
        "outputId": "32483403-4e24-487d-fc19-64cc00a99306"
      },
      "source": [
        "next_state[0]"
      ],
      "execution_count": 57,
      "outputs": [
        {
          "output_type": "execute_result",
          "data": {
            "text/plain": [
              "-0.4835236344578179"
            ]
          },
          "metadata": {},
          "execution_count": 57
        }
      ]
    },
    {
      "cell_type": "code",
      "metadata": {
        "id": "XMqS3hTOgLUJ",
        "colab": {
          "base_uri": "https://localhost:8080/"
        },
        "outputId": "d868cd00-5276-41ea-915f-9b139b212db7"
      },
      "source": [
        "reward = get_reward(next_state)\n",
        "reward"
      ],
      "execution_count": 58,
      "outputs": [
        {
          "output_type": "execute_result",
          "data": {
            "text/plain": [
              "0"
            ]
          },
          "metadata": {},
          "execution_count": 58
        }
      ]
    },
    {
      "cell_type": "markdown",
      "metadata": {
        "id": "Mc0oWcXoDuLt"
      },
      "source": [
        "### Ejecutando el agente en el entorno MountainCar\n",
        "\n",
        " "
      ]
    },
    {
      "cell_type": "code",
      "metadata": {
        "id": "V3n-Gbq9DuLu",
        "colab": {
          "base_uri": "https://localhost:8080/"
        },
        "outputId": "1c3b9c22-5859-4145-985a-91646e70936d"
      },
      "source": [
        "done = False\n",
        "batch_size = 128    # tamaño del batch con el que se re-entrena el modelo neuronal\n",
        "EPISODES = 100      # numero de episodios\n",
        "\n",
        "env = gym.make('MountainCar-v0')   # carga el modelo MountainCar de gym\n",
        "state_size = env.observation_space.shape[0]\n",
        "action_size = env.action_space.n\n",
        "agent = DDQNAgent(state_size, action_size)  # instancia el agente double deep q-learning\n",
        "\n",
        "score_list = []     # lista para guardar la evolucion del score\n",
        "epsilon_list = []\n",
        "\n",
        "for e in range(EPISODES):   # por cada episodio\n",
        "    state = env.reset()     # resetea el entorno\n",
        "    state = np.reshape(state, [1, state_size]) # se hace un reshape para que la red neuronal entienda el state\n",
        "    score = 0\n",
        "    for step in range(1000):   # prueba el agente hasta 1000 pasos, sale de este loop cuando se cae en estado terminal\n",
        "        #env.render()  # renderiza el entorno (por ahora no activarlo, porque de forma nativa, el renderizado no funciona en colab)\n",
        "        action = agent.get_action(state)   # obtiene una accion del agente\n",
        "        next_state, reward, done, _ = env.step(action)  # ejecuta action en el entorno y obtiene: nuevo estado, reward y flag done (si es estado terminal)\n",
        "        reward = get_reward(next_state)\n",
        "        next_state = np.reshape(next_state, [1, state_size])\n",
        "        agent.remember(state, action, reward, next_state, done) # almacena esta experiencia en la memoria del agente\n",
        "        state = next_state   # actualiza el estado actual al nuevo estado\n",
        "        score += reward\n",
        "        \n",
        "        if len(agent.memory) > batch_size:  # si hay suficiente experiencias en memoria del agente -> ajusta su modelo neuronal \n",
        "            agent.replay(batch_size) \n",
        "        \n",
        "        if done:  # si es estado terminal, imprime resultados del trial. El escore del trial es el numero de pasos que logro ejecutar el agente\n",
        "            print(\"episode: {}/{}, score: {}, e: {:.2}\".format(e, EPISODES, score, agent.epsilon))\n",
        "            break\n",
        "\n",
        "    agent.update_target_model()  # actualiza el target_model al final de cada trial\n",
        "    score_list.append(score)   \n",
        "    epsilon_list.append(agent.epsilon)\n",
        "        \n",
        "env.close()"
      ],
      "execution_count": 59,
      "outputs": [
        {
          "output_type": "stream",
          "name": "stdout",
          "text": [
            "episode: 0/100, score: 18.31117705008138, e: 0.93\n",
            "episode: 1/100, score: 0, e: 0.76\n",
            "episode: 2/100, score: 0, e: 0.62\n",
            "episode: 3/100, score: 25.528716221424673, e: 0.51\n",
            "episode: 4/100, score: 0, e: 0.42\n",
            "episode: 5/100, score: 0, e: 0.34\n",
            "episode: 6/100, score: 0, e: 0.28\n",
            "episode: 7/100, score: 0, e: 0.23\n",
            "episode: 8/100, score: 0, e: 0.19\n",
            "episode: 9/100, score: 0, e: 0.15\n",
            "episode: 10/100, score: 20.439506330096744, e: 0.13\n",
            "episode: 11/100, score: 0, e: 0.1\n",
            "episode: 12/100, score: 0, e: 0.084\n",
            "episode: 13/100, score: 0, e: 0.069\n",
            "episode: 14/100, score: 18.267597931648986, e: 0.057\n",
            "episode: 15/100, score: 34.43108647516051, e: 0.046\n",
            "episode: 16/100, score: 0, e: 0.038\n",
            "episode: 17/100, score: 0, e: 0.031\n",
            "episode: 18/100, score: 9.249005815288115, e: 0.025\n",
            "episode: 19/100, score: 5.692109131569422, e: 0.021\n",
            "episode: 20/100, score: 175.02750193014114, e: 0.017\n",
            "episode: 21/100, score: 152.48949551028156, e: 0.014\n",
            "episode: 22/100, score: 137.75825011345808, e: 0.011\n",
            "Car has reached the goal\n",
            "episode: 23/100, score: 326.5529913750122, e: 0.01\n",
            "Car has reached the goal\n",
            "episode: 24/100, score: 324.0647123486821, e: 0.01\n",
            "Car has reached the goal\n",
            "episode: 25/100, score: 262.34177798606044, e: 0.01\n",
            "episode: 26/100, score: 141.1582674949647, e: 0.01\n",
            "Car has reached the goal\n",
            "episode: 27/100, score: 293.0959840377909, e: 0.01\n",
            "Car has reached the goal\n",
            "episode: 28/100, score: 259.1766314172846, e: 0.01\n",
            "Car has reached the goal\n",
            "episode: 29/100, score: 364.528166836992, e: 0.01\n",
            "episode: 30/100, score: 140.60187973624141, e: 0.01\n",
            "episode: 31/100, score: 134.6275633489517, e: 0.01\n",
            "Car has reached the goal\n",
            "episode: 32/100, score: 224.758709960278, e: 0.01\n",
            "episode: 33/100, score: 130.03837246725195, e: 0.01\n",
            "episode: 34/100, score: 135.98094473745374, e: 0.01\n",
            "Car has reached the goal\n",
            "episode: 35/100, score: 326.9841508584234, e: 0.01\n",
            "Car has reached the goal\n",
            "episode: 36/100, score: 297.03905916466505, e: 0.01\n",
            "episode: 37/100, score: 112.1547922904354, e: 0.01\n",
            "episode: 38/100, score: 136.27404559081194, e: 0.01\n",
            "episode: 39/100, score: 136.0170176317035, e: 0.01\n",
            "Car has reached the goal\n",
            "episode: 40/100, score: 229.39062656877232, e: 0.01\n",
            "Car has reached the goal\n",
            "episode: 41/100, score: 288.284653661988, e: 0.01\n",
            "episode: 42/100, score: 151.60685751059103, e: 0.01\n",
            "Car has reached the goal\n",
            "episode: 43/100, score: 259.0942572538537, e: 0.01\n",
            "Car has reached the goal\n",
            "episode: 44/100, score: 291.55673868735056, e: 0.01\n",
            "episode: 45/100, score: 151.32048262768984, e: 0.01\n",
            "Car has reached the goal\n",
            "episode: 46/100, score: 260.2800930339425, e: 0.01\n",
            "episode: 47/100, score: 115.9226387851405, e: 0.01\n",
            "episode: 48/100, score: 203.4261327375658, e: 0.01\n",
            "Car has reached the goal\n",
            "episode: 49/100, score: 279.301330892516, e: 0.01\n",
            "Car has reached the goal\n",
            "episode: 50/100, score: 264.15364541773425, e: 0.01\n",
            "Car has reached the goal\n",
            "episode: 51/100, score: 297.7557288271644, e: 0.01\n",
            "Car has reached the goal\n",
            "episode: 52/100, score: 391.8476962816632, e: 0.01\n",
            "Car has reached the goal\n",
            "episode: 53/100, score: 272.68411786164603, e: 0.01\n",
            "Car has reached the goal\n",
            "episode: 54/100, score: 390.0511255589229, e: 0.01\n",
            "episode: 55/100, score: 227.62341798531645, e: 0.01\n",
            "Car has reached the goal\n",
            "episode: 56/100, score: 362.4809926604666, e: 0.01\n",
            "episode: 57/100, score: 108.95861493321932, e: 0.01\n",
            "episode: 58/100, score: 219.97635716562644, e: 0.01\n",
            "episode: 59/100, score: 245.52821646667402, e: 0.01\n",
            "episode: 60/100, score: 103.37251278079287, e: 0.01\n",
            "Car has reached the goal\n",
            "episode: 61/100, score: 392.21311718968514, e: 0.01\n",
            "episode: 62/100, score: 118.30174734459773, e: 0.01\n",
            "Car has reached the goal\n",
            "episode: 63/100, score: 320.06767446951426, e: 0.01\n",
            "Car has reached the goal\n",
            "episode: 64/100, score: 289.10360232844766, e: 0.01\n",
            "Car has reached the goal\n",
            "episode: 65/100, score: 423.5981628720974, e: 0.01\n",
            "Car has reached the goal\n",
            "episode: 66/100, score: 264.88442637671335, e: 0.01\n",
            "Car has reached the goal\n",
            "episode: 67/100, score: 278.24594736482646, e: 0.01\n",
            "Car has reached the goal\n",
            "episode: 68/100, score: 599.9629820936498, e: 0.01\n",
            "episode: 69/100, score: 638.8013356189307, e: 0.01\n",
            "Car has reached the goal\n",
            "episode: 70/100, score: 348.908033536446, e: 0.01\n",
            "episode: 71/100, score: 116.65450250557585, e: 0.01\n",
            "episode: 72/100, score: 139.58162870286392, e: 0.01\n",
            "episode: 73/100, score: 88.9263129115508, e: 0.01\n",
            "episode: 74/100, score: 87.21928764851177, e: 0.01\n",
            "episode: 75/100, score: 88.55307487533742, e: 0.01\n",
            "Car has reached the goal\n",
            "episode: 76/100, score: 293.8975660078833, e: 0.01\n",
            "episode: 77/100, score: 161.34835211599568, e: 0.01\n",
            "episode: 78/100, score: 80.88505150155417, e: 0.01\n",
            "episode: 79/100, score: 85.85322495039551, e: 0.01\n",
            "episode: 80/100, score: 0, e: 0.01\n",
            "episode: 81/100, score: 0, e: 0.01\n",
            "episode: 82/100, score: 0, e: 0.01\n",
            "episode: 83/100, score: 87.46605772114737, e: 0.01\n",
            "episode: 84/100, score: 0, e: 0.01\n",
            "episode: 85/100, score: 45.867186751420846, e: 0.01\n",
            "episode: 86/100, score: 0, e: 0.01\n",
            "episode: 87/100, score: 0, e: 0.01\n",
            "episode: 88/100, score: 64.4352782135286, e: 0.01\n",
            "episode: 89/100, score: 47.15289400354576, e: 0.01\n",
            "Car has reached the goal\n",
            "episode: 90/100, score: 325.4899783764175, e: 0.01\n",
            "Car has reached the goal\n",
            "episode: 91/100, score: 394.3492413535864, e: 0.01\n",
            "episode: 92/100, score: 0, e: 0.01\n",
            "episode: 93/100, score: 4.464735353052788, e: 0.01\n",
            "Car has reached the goal\n",
            "episode: 94/100, score: 358.74905236938065, e: 0.01\n",
            "Car has reached the goal\n",
            "episode: 95/100, score: 229.9037306515358, e: 0.01\n",
            "episode: 96/100, score: 0, e: 0.01\n",
            "episode: 97/100, score: 0, e: 0.01\n",
            "episode: 98/100, score: 0, e: 0.01\n",
            "episode: 99/100, score: 0, e: 0.01\n"
          ]
        }
      ]
    },
    {
      "cell_type": "code",
      "metadata": {
        "id": "YgKymKE3AMw8",
        "colab": {
          "base_uri": "https://localhost:8080/",
          "height": 391
        },
        "outputId": "f46b5594-7245-4ff8-b127-2adbd9508225"
      },
      "source": [
        "import matplotlib.pyplot as plt\n",
        "import matplotlib as mpl\n",
        "\n",
        "mpl.style.use('classic')\n",
        "\n",
        "#x = range(train_episodes)\n",
        "\n",
        "fig, ax = plt.subplots(figsize=(8, 4.5))\n",
        "\n",
        "ax.set_title('DDQN-Learning Agent: Score')\n",
        "ax.set_xlabel('Episode')\n",
        "#ax.set_xlim(-1000,20000)\n",
        "ax.set_ylabel('Total training reward')\n",
        "ax.plot(score_list,'-', label='reward')\n",
        "ax.legend(loc='best')"
      ],
      "execution_count": 60,
      "outputs": [
        {
          "output_type": "execute_result",
          "data": {
            "text/plain": [
              "<matplotlib.legend.Legend at 0x7ff76b32ad10>"
            ]
          },
          "metadata": {},
          "execution_count": 60
        },
        {
          "output_type": "display_data",
          "data": {
            "image/png": "[encoded data removed]",
            "text/plain": [
              "<Figure size 640x360 with 1 Axes>"
            ]
          },
          "metadata": {}
        }
      ]
    },
    {
      "cell_type": "markdown",
      "metadata": {
        "id": "odNaDE1zyrL2"
      },
      "source": [
        "### Visualización - install dependancies, takes around 45 seconds\n",
        "\n",
        "Rendering Dependancies\n",
        "\n"
      ]
    },
    {
      "cell_type": "code",
      "metadata": {
        "id": "DiU3efKIJzWF"
      },
      "source": [
        "#remove \" > /dev/null 2>&1\" to see what is going on under the hood\n",
        "!pip install gym pyvirtualdisplay > /dev/null 2>&1\n",
        "!apt-get install -y xvfb python-opengl ffmpeg > /dev/null 2>&1"
      ],
      "execution_count": 61,
      "outputs": []
    },
    {
      "cell_type": "markdown",
      "metadata": {
        "id": "8A-1LTSH88EE"
      },
      "source": [
        "Pacman Dependancies"
      ]
    },
    {
      "cell_type": "code",
      "metadata": {
        "id": "TCelFzWY9MBI",
        "colab": {
          "base_uri": "https://localhost:8080/",
          "height": 331
        },
        "outputId": "d25d43b1-033f-4eb3-ac6f-fd83f93d0b91"
      },
      "source": [
        "!apt-get update > /dev/null 2>&1\n",
        "!apt-get install cmake > /dev/null 2>&1\n",
        "!pip install --upgrade setuptools 2>&1\n",
        "!pip install ez_setup > /dev/null 2>&1\n",
        "!pip install gym[atari] > /dev/null 2>&1"
      ],
      "execution_count": 62,
      "outputs": [
        {
          "output_type": "stream",
          "name": "stdout",
          "text": [
            "Requirement already satisfied: setuptools in /usr/local/lib/python3.7/dist-packages (57.4.0)\n",
            "Collecting setuptools\n",
            "  Downloading setuptools-60.5.0-py3-none-any.whl (958 kB)\n",
            "\u001b[K     |████████████████████████████████| 958 kB 5.0 MB/s \n",
            "\u001b[?25hInstalling collected packages: setuptools\n",
            "  Attempting uninstall: setuptools\n",
            "    Found existing installation: setuptools 57.4.0\n",
            "    Uninstalling setuptools-57.4.0:\n",
            "      Successfully uninstalled setuptools-57.4.0\n",
            "\u001b[31mERROR: pip's dependency resolver does not currently take into account all the packages that are installed. This behaviour is the source of the following dependency conflicts.\n",
            "datascience 0.10.6 requires folium==0.2.1, but you have folium 0.8.3 which is incompatible.\u001b[0m\n",
            "Successfully installed setuptools-60.5.0\n"
          ]
        },
        {
          "output_type": "display_data",
          "data": {
            "application/vnd.colab-display-data+json": {
              "pip_warning": {
                "packages": [
                  "pkg_resources"
                ]
              }
            }
          },
          "metadata": {}
        }
      ]
    },
    {
      "cell_type": "markdown",
      "metadata": {
        "id": "APXSx7hg19TH"
      },
      "source": [
        "### Imports and Helper functions\n"
      ]
    },
    {
      "cell_type": "code",
      "metadata": {
        "id": "pdb2JwZy4jGj"
      },
      "source": [
        "import gym\n",
        "from gym import logger as gymlogger\n",
        "from gym.wrappers import Monitor\n",
        "gymlogger.set_level(40) #error only\n",
        "import random\n",
        "import matplotlib\n",
        "import matplotlib.pyplot as plt\n",
        "%matplotlib inline\n",
        "import math\n",
        "import glob\n",
        "import io\n",
        "import base64\n",
        "from IPython.display import HTML\n",
        "\n",
        "from IPython import display as ipythondisplay"
      ],
      "execution_count": 63,
      "outputs": []
    },
    {
      "cell_type": "code",
      "metadata": {
        "id": "nQEtc28G4niA",
        "colab": {
          "base_uri": "https://localhost:8080/"
        },
        "outputId": "0b3e14ea-9a73-47df-d66c-3f6b35b7973b"
      },
      "source": [
        "from pyvirtualdisplay import Display\n",
        "display = Display(visible=0, size=(1400, 900))\n",
        "display.start()"
      ],
      "execution_count": 64,
      "outputs": [
        {
          "output_type": "execute_result",
          "data": {
            "text/plain": [
              "<pyvirtualdisplay.display.Display at 0x7ff7ec08ba10>"
            ]
          },
          "metadata": {},
          "execution_count": 64
        }
      ]
    },
    {
      "cell_type": "code",
      "metadata": {
        "id": "G9UWeToN4r7D"
      },
      "source": [
        "\"\"\"\n",
        "Utility functions to enable video recording of gym environment and displaying it\n",
        "To enable video, just do \"env = wrap_env(env)\"\"\n",
        "\"\"\"\n",
        "\n",
        "def show_video():\n",
        "  mp4list = glob.glob('video/*.mp4')\n",
        "  if len(mp4list) > 0:\n",
        "    mp4 = mp4list[0]\n",
        "    video = io.open(mp4, 'r+b').read()\n",
        "    encoded = base64.b64encode(video)\n",
        "    ipythondisplay.display(HTML(data='''<video alt=\"test\" autoplay \n",
        "                loop controls style=\"height: 400px;\">\n",
        "                <source src=\"data:video/mp4;base64,{0}\" type=\"video/mp4\" />\n",
        "             </video>'''.format(encoded.decode('ascii'))))\n",
        "  else: \n",
        "    print(\"Could not find video\")\n",
        "    \n",
        "\n",
        "def wrap_env(env):\n",
        "  env = Monitor(env, './video', force=True)\n",
        "  return env"
      ],
      "execution_count": 65,
      "outputs": []
    },
    {
      "cell_type": "markdown",
      "metadata": {
        "id": "6t76pXOU_85F"
      },
      "source": [
        "### Funcion para probar el agente entrenado  en el entorno MountainCar\n",
        "\n",
        "play_MountainCar()  no realiza entrenamiento, solo actua en el ambiente de acuerdo a su modelo aprendido previamente\n",
        " "
      ]
    },
    {
      "cell_type": "code",
      "metadata": {
        "id": "kWpUawxj_85F"
      },
      "source": [
        "def play_MountainCar(agent, trials = 1):\n",
        "    env = gym.make('MountainCar-v0')\n",
        "    env = wrap_env(env)\n",
        "    scores = []\n",
        "    for trial in range(trials):\n",
        "        score = 0\n",
        "        game_memory = []\n",
        "        state = []\n",
        "        env.reset()\n",
        "        for step in range(1000): # en cada trial ejecuta 1000 pasos\n",
        "            env.render()\n",
        "\n",
        "            if len(state) == 0:    # si es el primer movimiento  -> escoge una accion aleatoria\n",
        "                action = random.randrange(0,3)\n",
        "            else:\n",
        "                action_values = agent.model.predict(state.reshape(1, 2)) # predice los q valores con la RN del agente\n",
        "                action = np.argmax(action_values[0])      # retorna la accion con el maximo q-valor predicho\n",
        "\n",
        "            next_state, reward, done, _  = env.step(action)  # corre el entorno un step ejecutando la accion inferida\n",
        "\n",
        "            reward = get_reward(next_state)\n",
        "\n",
        "            score += reward   # acumula el reward (reward=1 en cualquier estado no terminal)\n",
        "            state = next_state\n",
        "            game_memory.append([next_state, action])\n",
        "            if done: \n",
        "                print(\"Play {}/{}, score: {}\".format(trial, trials, score))\n",
        "                break\n",
        "        scores.append(score)\n",
        "    env.close()\n",
        " \n",
        "    print(\"Score medio = {}\".format(sum(scores) /float(trials)) )\n",
        "    \n",
        "    show_video()"
      ],
      "execution_count": 66,
      "outputs": []
    },
    {
      "cell_type": "code",
      "metadata": {
        "id": "8AJWl6iW_85I"
      },
      "source": [
        "def play_MountainCar_random(trials = 1):\n",
        "    env = gym.make('MountainCar-v0')\n",
        "    env = wrap_env(env)\n",
        "    scores = []\n",
        "    for trial in range(trials):\n",
        "        score = 0\n",
        "        game_memory = []\n",
        "        state = []\n",
        "        env.reset()\n",
        "        for step in range(1000): # en cada trial ejecuta 1000 pasos\n",
        "            env.render()\n",
        "\n",
        "            action = env.action_space.sample()\n",
        "\n",
        "            next_state, reward, done, _  = env.step(action)  # corre el entorno un step ejecutando la accion inferida\n",
        "\n",
        "            reward = get_reward(next_state)\n",
        "\n",
        "            score += reward   # acumula el reward (reward=1 en cualquier estado no terminal)\n",
        "            state = next_state\n",
        "            game_memory.append([next_state, action])\n",
        "            if done: \n",
        "                print(\"Play {}/{}, score: {}\".format(trial, trials, score))\n",
        "                break\n",
        "        scores.append(score)\n",
        "    env.close()\n",
        " \n",
        "    print(\"Score medio = {}\".format(sum(scores) /float(trials)) )\n",
        "    \n",
        "    show_video()"
      ],
      "execution_count": 67,
      "outputs": []
    },
    {
      "cell_type": "code",
      "metadata": {
        "id": "3DZWeRZf2yVC"
      },
      "source": [
        "#!pip install pyglet --upgrade"
      ],
      "execution_count": 68,
      "outputs": []
    },
    {
      "cell_type": "code",
      "metadata": {
        "id": "KrDZMraP_85N",
        "colab": {
          "base_uri": "https://localhost:8080/",
          "height": 526
        },
        "outputId": "f5903070-2d67-4a3b-a8a2-fc305e58f664"
      },
      "source": [
        "# prueba el agente 5 trials del entorno\n",
        "play_MountainCar_random(5) #el video solo muestra la ejecución del último trial"
      ],
      "execution_count": 72,
      "outputs": [
        {
          "output_type": "stream",
          "name": "stdout",
          "text": [
            "Play 0/5, score: 14.953291663630369\n",
            "Play 1/5, score: 0\n",
            "Play 2/5, score: 0\n",
            "Play 3/5, score: 0\n",
            "Play 4/5, score: 6.951543750469589\n",
            "Score medio = 4.380967082819991\n"
          ]
        },
        {
          "output_type": "display_data",
          "data": {
            "text/html": [
              "<video alt=\"test\" autoplay \n",
              "                loop controls style=\"height: 400px;\">\n",
              "                <source src=\"data:video/mp4;base64,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\" type=\"video/mp4\" />\n",
              "             </video>"
            ],
            "text/plain": [
              "<IPython.core.display.HTML object>"
            ]
          },
          "metadata": {}
        }
      ]
    },
    {
      "cell_type": "markdown",
      "metadata": {
        "id": "AvIIHuBKtjpf"
      },
      "source": [
        "### IA en acción!"
      ]
    },
    {
      "cell_type": "code",
      "metadata": {
        "id": "rHrHMTun_85R",
        "colab": {
          "base_uri": "https://localhost:8080/",
          "height": 560
        },
        "outputId": "f8996f73-4c2a-4ffc-fec1-c0af62cd2235"
      },
      "source": [
        "# prueba el agente 5 trials del entorno\n",
        "play_MountainCar(agent,5)  #el video solo muestra la ejecución del último trial"
      ],
      "execution_count": 70,
      "outputs": [
        {
          "output_type": "stream",
          "name": "stdout",
          "text": [
            "Car has reached the goal\n",
            "Play 0/5, score: 315.39968556110483\n",
            "Car has reached the goal\n",
            "Play 1/5, score: 310.66465503335814\n",
            "Play 2/5, score: 0\n",
            "Play 3/5, score: 0\n",
            "Play 4/5, score: 0\n",
            "Score medio = 125.21286811889259\n"
          ]
        },
        {
          "output_type": "display_data",
          "data": {
            "text/html": [
              "<video alt=\"test\" autoplay \n",
              "                loop controls style=\"height: 400px;\">\n",
              "                <source src=\"data:video/mp4;base64,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\" type=\"video/mp4\" />\n",
              "             </video>"
            ],
            "text/plain": [
              "<IPython.core.display.HTML object>"
            ]
          },
          "metadata": {}
        }
      ]
    },
    {
      "cell_type": "markdown",
      "metadata": {
        "id": "vyc-B-guXYK_"
      },
      "source": [
        "## Desafío de la semana: Entorno Entorno `MountainCar-v0` <font color='red'>(2 puntos en total)</font>"
      ]
    },
    {
      "cell_type": "markdown",
      "metadata": {
        "id": "ZnLgXJpvT0yt"
      },
      "source": [
        "Definir un modelo neuronal en la función `_build_model` y entrenar el agente DDQN. Si deseas, podrías utilizar DQN. Puedes modificar los siguientes hiperparámetros e ir viendo la combinación de valores que te conviene más: `memory`, `gamma`, `epsilon_decay`, `get_reward()` (se deja ya propuesta una función matemática con la que puedes terminar la implementación para calcular el reward), `batch_size` (el valor propuesto es 128), `EPISODES` (el valor propuesto es 100). Recuerda la teoría, por ejemplo, ¿`epsilon_decay` puede ser mayor a 1?\n"
      ]
    },
    {
      "cell_type": "markdown",
      "metadata": {
        "id": "MOzKQ9WkdqAk"
      },
      "source": [
        "La primera parte del desafío consiste en completar las siguientes funciones de manera que el código compile y se pueda entrenar un agente en el entorno:\n",
        "\n",
        "- `_build_model`:  <font color='red'>(0.25 puntos)</font>\n",
        "\n",
        "- `get_reward()`: <font color='red'>(0.25 puntos)</font>"
      ]
    },
    {
      "cell_type": "markdown",
      "metadata": {
        "id": "j9rnhSYmeZB5"
      },
      "source": [
        "Es parte del desafío modificar adecuadamente los hiperparámetros del agente, así como las dos funciones previamente mencionadas, para mejorar el desempeño del agente."
      ]
    },
    {
      "cell_type": "markdown",
      "metadata": {
        "id": "dlN6-vUSdTht"
      },
      "source": [
        "El puntaje restante se determina en función a la cantidad de veces en las que el agente logre alcanzar el objetivo en 5 intentos, luego de ejecutar el comando `play_MountainCar(agent,5)`:\n",
        "\n",
        "- 5 veces: <font color='red'>(1.5 puntos)</font>\n",
        "- 4 veces: <font color='red'>(1.0 puntos)</font>\n",
        "- 3 veces: <font color='red'>(0.5 puntos)</font>"
      ]
    },
    {
      "cell_type": "markdown",
      "metadata": {
        "id": "nU0rH3Iqzeny"
      },
      "source": [
        "Nota importante: El presente desafío **debe** ser desarrollado en Google Colaboratory."
      ]
    }
  ]
}