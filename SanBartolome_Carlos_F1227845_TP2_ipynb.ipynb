{
  "nbformat": 4,
  "nbformat_minor": 0,
  "metadata": {
    "colab": {
      "name": "SanBartolome_Carlos_F1227845_TP2.ipynb.ipynb",
      "provenance": [],
      "authorship_tag": "ABX9TyNrq1NeObv6uz+fu7HLf77j",
      "include_colab_link": true
    },
    "kernelspec": {
      "name": "python3",
      "display_name": "Python 3"
    },
    "language_info": {
      "name": "python"
    }
  },
  "cells": [
    {
      "cell_type": "markdown",
      "metadata": {
        "id": "view-in-github",
        "colab_type": "text"
      },
      "source": [
        "<a href=\"https://colab.research.google.com/github/SanBartolome/IA-diploma-course-2021/blob/main/SanBartolome_Carlos_F1227845_TP2_ipynb.ipynb\" target=\"_parent\"><img src=\"https://colab.research.google.com/assets/colab-badge.svg\" alt=\"Open In Colab\"/></a>"
      ]
    },
    {
      "cell_type": "code",
      "metadata": {
        "id": "6Ae1NQlJkWOE"
      },
      "source": [
        "import pandas as pd"
      ],
      "execution_count": 1,
      "outputs": []
    },
    {
      "cell_type": "code",
      "metadata": {
        "colab": {
          "base_uri": "https://localhost:8080/",
          "height": 295
        },
        "id": "RvPT0JPplPHq",
        "outputId": "ecfcbcd3-8391-4f19-ccc5-d596bfb9d5b6"
      },
      "source": [
        "df = pd.read_excel('cap1502_2.xlsx', header=2, skipfooter=4)\n",
        "df = df[['Año', ' Cobre', ' Zinc', 'Plomo', 'Estaño']]\n",
        "df = df.iloc[1: , :]\n",
        "df = df[((pd.to_numeric(df['Año'].astype(str).str[:4]) >= 2005) & (pd.to_numeric(df['Año'].astype(str).str[:4]) <= 2015))]\n",
        "df = df.set_index('Año')\n",
        "df.plot.barh()"
      ],
      "execution_count": 72,
      "outputs": [
        {
          "output_type": "execute_result",
          "data": {
            "text/plain": [
              "<matplotlib.axes._subplots.AxesSubplot at 0x7fdf8aad6ed0>"
            ]
          },
          "metadata": {},
          "execution_count": 72
        },
        {
          "output_type": "display_data",
          "data": {
            "image/png": "[encoded data removed]",
            "text/plain": [
              "<Figure size 432x288 with 1 Axes>"
            ]
          },
          "metadata": {
            "needs_background": "light"
          }
        }
      ]
    }
  ]
}