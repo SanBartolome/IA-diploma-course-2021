{
  "nbformat": 4,
  "nbformat_minor": 0,
  "metadata": {
    "kernelspec": {
      "name": "python3",
      "display_name": "Python 3"
    },
    "language_info": {
      "codemirror_mode": {
        "name": "ipython",
        "version": 3
      },
      "file_extension": ".py",
      "mimetype": "text/x-python",
      "name": "python",
      "nbconvert_exporter": "python",
      "pygments_lexer": "ipython3",
      "version": "3.5.5"
    },
    "colab": {
      "name": "2_Inicializacion_y_Regularizacion_de_NN - Solucionado.ipynb",
      "provenance": [],
      "collapsed_sections": [],
      "toc_visible": true,
      "include_colab_link": true
    },
    "accelerator": "GPU"
  },
  "cells": [
    {
      "cell_type": "markdown",
      "metadata": {
        "id": "view-in-github",
        "colab_type": "text"
      },
      "source": [
        "<a href=\"https://colab.research.google.com/github/SanBartolome/IA-diploma-course-2021/blob/main/2_Inicializacion_y_Regularizacion_de_NN_Solucionado.ipynb\" target=\"_parent\"><img src=\"https://colab.research.google.com/assets/colab-badge.svg\" alt=\"Open In Colab\"/></a>"
      ]
    },
    {
      "cell_type": "markdown",
      "metadata": {
        "id": "vwK0hayrXEsU"
      },
      "source": [
        "# CLASE 2: Inicializacion y Regularizacion de Neural Networks"
      ]
    },
    {
      "cell_type": "markdown",
      "metadata": {
        "id": "AHp3M9ZmrIxj"
      },
      "source": [
        "En un problema de *regresion*, buscamos predecir la salida de un valor continuo como la probabilidad de un precio. En contraste en un problema de *Clasificacion*, buscamos seleccionar una clase de una lista de clases (por ejemplo, en donde una imagen contenga una manzana o una naranja queremos reconocer cual es la fruta en la imagen).\n",
        "\n",
        "Este libro usa el set de datos clasico [Auto MPG](https://archive.ics.uci.edu/ml/datasets/auto+mpg) y construye un modelo para predecir la eficiencia de vehiculos de 1970 y 1980. Para hacer esto proveeremos el modelo con una descripcion de muchos automoviles de ese periodo. Esta descripcion incluye atributos como: Cilindros, desplazamiento, potencia y peso.\n"
      ]
    },
    {
      "cell_type": "code",
      "metadata": {
        "id": "moB4tpEHxKB3",
        "outputId": "2fba1bbc-f3bb-4fce-fa72-2e06d96657f1",
        "colab": {
          "base_uri": "https://localhost:8080/"
        }
      },
      "source": [
        "# Use seaborn for pairplot\n",
        "!pip install seaborn"
      ],
      "execution_count": null,
      "outputs": [
        {
          "output_type": "stream",
          "name": "stdout",
          "text": [
            "Requirement already satisfied: seaborn in /usr/local/lib/python3.7/dist-packages (0.11.2)\n",
            "Requirement already satisfied: pandas>=0.23 in /usr/local/lib/python3.7/dist-packages (from seaborn) (1.3.5)\n",
            "Requirement already satisfied: scipy>=1.0 in /usr/local/lib/python3.7/dist-packages (from seaborn) (1.4.1)\n",
            "Requirement already satisfied: numpy>=1.15 in /usr/local/lib/python3.7/dist-packages (from seaborn) (1.19.5)\n",
            "Requirement already satisfied: matplotlib>=2.2 in /usr/local/lib/python3.7/dist-packages (from seaborn) (3.2.2)\n",
            "Requirement already satisfied: pyparsing!=2.0.4,!=2.1.2,!=2.1.6,>=2.0.1 in /usr/local/lib/python3.7/dist-packages (from matplotlib>=2.2->seaborn) (3.0.7)\n",
            "Requirement already satisfied: cycler>=0.10 in /usr/local/lib/python3.7/dist-packages (from matplotlib>=2.2->seaborn) (0.11.0)\n",
            "Requirement already satisfied: python-dateutil>=2.1 in /usr/local/lib/python3.7/dist-packages (from matplotlib>=2.2->seaborn) (2.8.2)\n",
            "Requirement already satisfied: kiwisolver>=1.0.1 in /usr/local/lib/python3.7/dist-packages (from matplotlib>=2.2->seaborn) (1.3.2)\n",
            "Requirement already satisfied: pytz>=2017.3 in /usr/local/lib/python3.7/dist-packages (from pandas>=0.23->seaborn) (2018.9)\n",
            "Requirement already satisfied: six>=1.5 in /usr/local/lib/python3.7/dist-packages (from python-dateutil>=2.1->matplotlib>=2.2->seaborn) (1.15.0)\n"
          ]
        }
      ]
    },
    {
      "cell_type": "code",
      "metadata": {
        "id": "1rRo8oNqZ-Rj",
        "outputId": "48d27217-8280-4f5c-805b-545eb12992f3",
        "colab": {
          "base_uri": "https://localhost:8080/"
        }
      },
      "source": [
        "from __future__ import absolute_import, division, print_function, unicode_literals\n",
        "\n",
        "import pathlib\n",
        "\n",
        "import matplotlib.pyplot as plt\n",
        "import pandas as pd\n",
        "import seaborn as sns\n",
        "\n",
        "import tensorflow as tf\n",
        "\n",
        "from tensorflow import keras\n",
        "from tensorflow.keras import layers\n",
        "\n",
        "print(tf.__version__)"
      ],
      "execution_count": null,
      "outputs": [
        {
          "output_type": "stream",
          "name": "stdout",
          "text": [
            "2.7.0\n"
          ]
        }
      ]
    },
    {
      "cell_type": "markdown",
      "metadata": {
        "id": "gFh9ne3FZ-On"
      },
      "source": [
        "### Obtenga la data\n",
        "Primero descargue el set de datos."
      ]
    },
    {
      "cell_type": "code",
      "metadata": {
        "id": "p9kxxgzvzlyz",
        "outputId": "79333b61-5e42-4703-dbb5-ef037b8d036d",
        "colab": {
          "base_uri": "https://localhost:8080/",
          "height": 91
        }
      },
      "source": [
        "dataset_path = keras.utils.get_file(\"auto-mpg.data\", \"http://archive.ics.uci.edu/ml/machine-learning-databases/auto-mpg/auto-mpg.data\")\n",
        "dataset_path"
      ],
      "execution_count": null,
      "outputs": [
        {
          "output_type": "stream",
          "name": "stdout",
          "text": [
            "Downloading data from http://archive.ics.uci.edu/ml/machine-learning-databases/auto-mpg/auto-mpg.data\n",
            "32768/30286 [================================] - 0s 2us/step\n",
            "40960/30286 [========================================] - 0s 1us/step\n"
          ]
        },
        {
          "output_type": "execute_result",
          "data": {
            "application/vnd.google.colaboratory.intrinsic+json": {
              "type": "string"
            },
            "text/plain": [
              "'/root/.keras/datasets/auto-mpg.data'"
            ]
          },
          "metadata": {},
          "execution_count": 3
        }
      ]
    },
    {
      "cell_type": "markdown",
      "metadata": {
        "id": "nslsRLh7Zss4"
      },
      "source": [
        "Importelo usando pandas."
      ]
    },
    {
      "cell_type": "code",
      "metadata": {
        "id": "CiX2FI4gZtTt",
        "outputId": "1deaabe1-b038-40ef-87e8-f1ee4e2b4712",
        "colab": {
          "base_uri": "https://localhost:8080/",
          "height": 206
        }
      },
      "source": [
        "column_names = ['MPG','Cylinders','Displacement','Horsepower','Weight',\n",
        "                'Acceleration', 'Model Year', 'Origin']\n",
        "raw_dataset = pd.read_csv(dataset_path, names=column_names,\n",
        "                      na_values = \"?\", comment='\\t',\n",
        "                      sep=\" \", skipinitialspace=True)\n",
        "\n",
        "dataset = raw_dataset.copy()\n",
        "dataset.tail()"
      ],
      "execution_count": null,
      "outputs": [
        {
          "output_type": "execute_result",
          "data": {
            "text/html": [
              "\n",
              "  <div id=\"df-fa98f6cc-7821-4bd5-93aa-1fa83f725289\">\n",
              "    <div class=\"colab-df-container\">\n",
              "      <div>\n",
              "<style scoped>\n",
              "    .dataframe tbody tr th:only-of-type {\n",
              "        vertical-align: middle;\n",
              "    }\n",
              "\n",
              "    .dataframe tbody tr th {\n",
              "        vertical-align: top;\n",
              "    }\n",
              "\n",
              "    .dataframe thead th {\n",
              "        text-align: right;\n",
              "    }\n",
              "</style>\n",
              "<table border=\"1\" class=\"dataframe\">\n",
              "  <thead>\n",
              "    <tr style=\"text-align: right;\">\n",
              "      <th></th>\n",
              "      <th>MPG</th>\n",
              "      <th>Cylinders</th>\n",
              "      <th>Displacement</th>\n",
              "      <th>Horsepower</th>\n",
              "      <th>Weight</th>\n",
              "      <th>Acceleration</th>\n",
              "      <th>Model Year</th>\n",
              "      <th>Origin</th>\n",
              "    </tr>\n",
              "  </thead>\n",
              "  <tbody>\n",
              "    <tr>\n",
              "      <th>393</th>\n",
              "      <td>27.0</td>\n",
              "      <td>4</td>\n",
              "      <td>140.0</td>\n",
              "      <td>86.0</td>\n",
              "      <td>2790.0</td>\n",
              "      <td>15.6</td>\n",
              "      <td>82</td>\n",
              "      <td>1</td>\n",
              "    </tr>\n",
              "    <tr>\n",
              "      <th>394</th>\n",
              "      <td>44.0</td>\n",
              "      <td>4</td>\n",
              "      <td>97.0</td>\n",
              "      <td>52.0</td>\n",
              "      <td>2130.0</td>\n",
              "      <td>24.6</td>\n",
              "      <td>82</td>\n",
              "      <td>2</td>\n",
              "    </tr>\n",
              "    <tr>\n",
              "      <th>395</th>\n",
              "      <td>32.0</td>\n",
              "      <td>4</td>\n",
              "      <td>135.0</td>\n",
              "      <td>84.0</td>\n",
              "      <td>2295.0</td>\n",
              "      <td>11.6</td>\n",
              "      <td>82</td>\n",
              "      <td>1</td>\n",
              "    </tr>\n",
              "    <tr>\n",
              "      <th>396</th>\n",
              "      <td>28.0</td>\n",
              "      <td>4</td>\n",
              "      <td>120.0</td>\n",
              "      <td>79.0</td>\n",
              "      <td>2625.0</td>\n",
              "      <td>18.6</td>\n",
              "      <td>82</td>\n",
              "      <td>1</td>\n",
              "    </tr>\n",
              "    <tr>\n",
              "      <th>397</th>\n",
              "      <td>31.0</td>\n",
              "      <td>4</td>\n",
              "      <td>119.0</td>\n",
              "      <td>82.0</td>\n",
              "      <td>2720.0</td>\n",
              "      <td>19.4</td>\n",
              "      <td>82</td>\n",
              "      <td>1</td>\n",
              "    </tr>\n",
              "  </tbody>\n",
              "</table>\n",
              "</div>\n",
              "      <button class=\"colab-df-convert\" onclick=\"convertToInteractive('df-fa98f6cc-7821-4bd5-93aa-1fa83f725289')\"\n",
              "              title=\"Convert this dataframe to an interactive table.\"\n",
              "              style=\"display:none;\">\n",
              "        \n",
              "  <svg xmlns=\"http://www.w3.org/2000/svg\" height=\"24px\"viewBox=\"0 0 24 24\"\n",
              "       width=\"24px\">\n",
              "    <path d=\"M0 0h24v24H0V0z\" fill=\"none\"/>\n",
              "    <path d=\"M18.56 5.44l.94 2.06.94-2.06 2.06-.94-2.06-.94-.94-2.06-.94 2.06-2.06.94zm-11 1L8.5 8.5l.94-2.06 2.06-.94-2.06-.94L8.5 2.5l-.94 2.06-2.06.94zm10 10l.94 2.06.94-2.06 2.06-.94-2.06-.94-.94-2.06-.94 2.06-2.06.94z\"/><path d=\"M17.41 7.96l-1.37-1.37c-.4-.4-.92-.59-1.43-.59-.52 0-1.04.2-1.43.59L10.3 9.45l-7.72 7.72c-.78.78-.78 2.05 0 2.83L4 21.41c.39.39.9.59 1.41.59.51 0 1.02-.2 1.41-.59l7.78-7.78 2.81-2.81c.8-.78.8-2.07 0-2.86zM5.41 20L4 18.59l7.72-7.72 1.47 1.35L5.41 20z\"/>\n",
              "  </svg>\n",
              "      </button>\n",
              "      \n",
              "  <style>\n",
              "    .colab-df-container {\n",
              "      display:flex;\n",
              "      flex-wrap:wrap;\n",
              "      gap: 12px;\n",
              "    }\n",
              "\n",
              "    .colab-df-convert {\n",
              "      background-color: #E8F0FE;\n",
              "      border: none;\n",
              "      border-radius: 50%;\n",
              "      cursor: pointer;\n",
              "      display: none;\n",
              "      fill: #1967D2;\n",
              "      height: 32px;\n",
              "      padding: 0 0 0 0;\n",
              "      width: 32px;\n",
              "    }\n",
              "\n",
              "    .colab-df-convert:hover {\n",
              "      background-color: #E2EBFA;\n",
              "      box-shadow: 0px 1px 2px rgba(60, 64, 67, 0.3), 0px 1px 3px 1px rgba(60, 64, 67, 0.15);\n",
              "      fill: #174EA6;\n",
              "    }\n",
              "\n",
              "    [theme=dark] .colab-df-convert {\n",
              "      background-color: #3B4455;\n",
              "      fill: #D2E3FC;\n",
              "    }\n",
              "\n",
              "    [theme=dark] .colab-df-convert:hover {\n",
              "      background-color: #434B5C;\n",
              "      box-shadow: 0px 1px 3px 1px rgba(0, 0, 0, 0.15);\n",
              "      filter: drop-shadow(0px 1px 2px rgba(0, 0, 0, 0.3));\n",
              "      fill: #FFFFFF;\n",
              "    }\n",
              "  </style>\n",
              "\n",
              "      <script>\n",
              "        const buttonEl =\n",
              "          document.querySelector('#df-fa98f6cc-7821-4bd5-93aa-1fa83f725289 button.colab-df-convert');\n",
              "        buttonEl.style.display =\n",
              "          google.colab.kernel.accessAllowed ? 'block' : 'none';\n",
              "\n",
              "        async function convertToInteractive(key) {\n",
              "          const element = document.querySelector('#df-fa98f6cc-7821-4bd5-93aa-1fa83f725289');\n",
              "          const dataTable =\n",
              "            await google.colab.kernel.invokeFunction('convertToInteractive',\n",
              "                                                     [key], {});\n",
              "          if (!dataTable) return;\n",
              "\n",
              "          const docLinkHtml = 'Like what you see? Visit the ' +\n",
              "            '<a target=\"_blank\" href=https://colab.research.google.com/notebooks/data_table.ipynb>data table notebook</a>'\n",
              "            + ' to learn more about interactive tables.';\n",
              "          element.innerHTML = '';\n",
              "          dataTable['output_type'] = 'display_data';\n",
              "          await google.colab.output.renderOutput(dataTable, element);\n",
              "          const docLink = document.createElement('div');\n",
              "          docLink.innerHTML = docLinkHtml;\n",
              "          element.appendChild(docLink);\n",
              "        }\n",
              "      </script>\n",
              "    </div>\n",
              "  </div>\n",
              "  "
            ],
            "text/plain": [
              "      MPG  Cylinders  Displacement  ...  Acceleration  Model Year  Origin\n",
              "393  27.0          4         140.0  ...          15.6          82       1\n",
              "394  44.0          4          97.0  ...          24.6          82       2\n",
              "395  32.0          4         135.0  ...          11.6          82       1\n",
              "396  28.0          4         120.0  ...          18.6          82       1\n",
              "397  31.0          4         119.0  ...          19.4          82       1\n",
              "\n",
              "[5 rows x 8 columns]"
            ]
          },
          "metadata": {},
          "execution_count": 4
        }
      ]
    },
    {
      "cell_type": "code",
      "source": [
        "dataset.describe()"
      ],
      "metadata": {
        "colab": {
          "base_uri": "https://localhost:8080/",
          "height": 300
        },
        "id": "q47ynp5f7CF5",
        "outputId": "2d795896-6104-4116-f8bc-27ba8320079e"
      },
      "execution_count": null,
      "outputs": [
        {
          "output_type": "execute_result",
          "data": {
            "text/html": [
              "\n",
              "  <div id=\"df-c9746bf9-0599-4562-bfed-0608cb67d80c\">\n",
              "    <div class=\"colab-df-container\">\n",
              "      <div>\n",
              "<style scoped>\n",
              "    .dataframe tbody tr th:only-of-type {\n",
              "        vertical-align: middle;\n",
              "    }\n",
              "\n",
              "    .dataframe tbody tr th {\n",
              "        vertical-align: top;\n",
              "    }\n",
              "\n",
              "    .dataframe thead th {\n",
              "        text-align: right;\n",
              "    }\n",
              "</style>\n",
              "<table border=\"1\" class=\"dataframe\">\n",
              "  <thead>\n",
              "    <tr style=\"text-align: right;\">\n",
              "      <th></th>\n",
              "      <th>MPG</th>\n",
              "      <th>Cylinders</th>\n",
              "      <th>Displacement</th>\n",
              "      <th>Horsepower</th>\n",
              "      <th>Weight</th>\n",
              "      <th>Acceleration</th>\n",
              "      <th>Model Year</th>\n",
              "      <th>Origin</th>\n",
              "    </tr>\n",
              "  </thead>\n",
              "  <tbody>\n",
              "    <tr>\n",
              "      <th>count</th>\n",
              "      <td>398.000000</td>\n",
              "      <td>398.000000</td>\n",
              "      <td>398.000000</td>\n",
              "      <td>392.000000</td>\n",
              "      <td>398.000000</td>\n",
              "      <td>398.000000</td>\n",
              "      <td>398.000000</td>\n",
              "      <td>398.000000</td>\n",
              "    </tr>\n",
              "    <tr>\n",
              "      <th>mean</th>\n",
              "      <td>23.514573</td>\n",
              "      <td>5.454774</td>\n",
              "      <td>193.425879</td>\n",
              "      <td>104.469388</td>\n",
              "      <td>2970.424623</td>\n",
              "      <td>15.568090</td>\n",
              "      <td>76.010050</td>\n",
              "      <td>1.572864</td>\n",
              "    </tr>\n",
              "    <tr>\n",
              "      <th>std</th>\n",
              "      <td>7.815984</td>\n",
              "      <td>1.701004</td>\n",
              "      <td>104.269838</td>\n",
              "      <td>38.491160</td>\n",
              "      <td>846.841774</td>\n",
              "      <td>2.757689</td>\n",
              "      <td>3.697627</td>\n",
              "      <td>0.802055</td>\n",
              "    </tr>\n",
              "    <tr>\n",
              "      <th>min</th>\n",
              "      <td>9.000000</td>\n",
              "      <td>3.000000</td>\n",
              "      <td>68.000000</td>\n",
              "      <td>46.000000</td>\n",
              "      <td>1613.000000</td>\n",
              "      <td>8.000000</td>\n",
              "      <td>70.000000</td>\n",
              "      <td>1.000000</td>\n",
              "    </tr>\n",
              "    <tr>\n",
              "      <th>25%</th>\n",
              "      <td>17.500000</td>\n",
              "      <td>4.000000</td>\n",
              "      <td>104.250000</td>\n",
              "      <td>75.000000</td>\n",
              "      <td>2223.750000</td>\n",
              "      <td>13.825000</td>\n",
              "      <td>73.000000</td>\n",
              "      <td>1.000000</td>\n",
              "    </tr>\n",
              "    <tr>\n",
              "      <th>50%</th>\n",
              "      <td>23.000000</td>\n",
              "      <td>4.000000</td>\n",
              "      <td>148.500000</td>\n",
              "      <td>93.500000</td>\n",
              "      <td>2803.500000</td>\n",
              "      <td>15.500000</td>\n",
              "      <td>76.000000</td>\n",
              "      <td>1.000000</td>\n",
              "    </tr>\n",
              "    <tr>\n",
              "      <th>75%</th>\n",
              "      <td>29.000000</td>\n",
              "      <td>8.000000</td>\n",
              "      <td>262.000000</td>\n",
              "      <td>126.000000</td>\n",
              "      <td>3608.000000</td>\n",
              "      <td>17.175000</td>\n",
              "      <td>79.000000</td>\n",
              "      <td>2.000000</td>\n",
              "    </tr>\n",
              "    <tr>\n",
              "      <th>max</th>\n",
              "      <td>46.600000</td>\n",
              "      <td>8.000000</td>\n",
              "      <td>455.000000</td>\n",
              "      <td>230.000000</td>\n",
              "      <td>5140.000000</td>\n",
              "      <td>24.800000</td>\n",
              "      <td>82.000000</td>\n",
              "      <td>3.000000</td>\n",
              "    </tr>\n",
              "  </tbody>\n",
              "</table>\n",
              "</div>\n",
              "      <button class=\"colab-df-convert\" onclick=\"convertToInteractive('df-c9746bf9-0599-4562-bfed-0608cb67d80c')\"\n",
              "              title=\"Convert this dataframe to an interactive table.\"\n",
              "              style=\"display:none;\">\n",
              "        \n",
              "  <svg xmlns=\"http://www.w3.org/2000/svg\" height=\"24px\"viewBox=\"0 0 24 24\"\n",
              "       width=\"24px\">\n",
              "    <path d=\"M0 0h24v24H0V0z\" fill=\"none\"/>\n",
              "    <path d=\"M18.56 5.44l.94 2.06.94-2.06 2.06-.94-2.06-.94-.94-2.06-.94 2.06-2.06.94zm-11 1L8.5 8.5l.94-2.06 2.06-.94-2.06-.94L8.5 2.5l-.94 2.06-2.06.94zm10 10l.94 2.06.94-2.06 2.06-.94-2.06-.94-.94-2.06-.94 2.06-2.06.94z\"/><path d=\"M17.41 7.96l-1.37-1.37c-.4-.4-.92-.59-1.43-.59-.52 0-1.04.2-1.43.59L10.3 9.45l-7.72 7.72c-.78.78-.78 2.05 0 2.83L4 21.41c.39.39.9.59 1.41.59.51 0 1.02-.2 1.41-.59l7.78-7.78 2.81-2.81c.8-.78.8-2.07 0-2.86zM5.41 20L4 18.59l7.72-7.72 1.47 1.35L5.41 20z\"/>\n",
              "  </svg>\n",
              "      </button>\n",
              "      \n",
              "  <style>\n",
              "    .colab-df-container {\n",
              "      display:flex;\n",
              "      flex-wrap:wrap;\n",
              "      gap: 12px;\n",
              "    }\n",
              "\n",
              "    .colab-df-convert {\n",
              "      background-color: #E8F0FE;\n",
              "      border: none;\n",
              "      border-radius: 50%;\n",
              "      cursor: pointer;\n",
              "      display: none;\n",
              "      fill: #1967D2;\n",
              "      height: 32px;\n",
              "      padding: 0 0 0 0;\n",
              "      width: 32px;\n",
              "    }\n",
              "\n",
              "    .colab-df-convert:hover {\n",
              "      background-color: #E2EBFA;\n",
              "      box-shadow: 0px 1px 2px rgba(60, 64, 67, 0.3), 0px 1px 3px 1px rgba(60, 64, 67, 0.15);\n",
              "      fill: #174EA6;\n",
              "    }\n",
              "\n",
              "    [theme=dark] .colab-df-convert {\n",
              "      background-color: #3B4455;\n",
              "      fill: #D2E3FC;\n",
              "    }\n",
              "\n",
              "    [theme=dark] .colab-df-convert:hover {\n",
              "      background-color: #434B5C;\n",
              "      box-shadow: 0px 1px 3px 1px rgba(0, 0, 0, 0.15);\n",
              "      filter: drop-shadow(0px 1px 2px rgba(0, 0, 0, 0.3));\n",
              "      fill: #FFFFFF;\n",
              "    }\n",
              "  </style>\n",
              "\n",
              "      <script>\n",
              "        const buttonEl =\n",
              "          document.querySelector('#df-c9746bf9-0599-4562-bfed-0608cb67d80c button.colab-df-convert');\n",
              "        buttonEl.style.display =\n",
              "          google.colab.kernel.accessAllowed ? 'block' : 'none';\n",
              "\n",
              "        async function convertToInteractive(key) {\n",
              "          const element = document.querySelector('#df-c9746bf9-0599-4562-bfed-0608cb67d80c');\n",
              "          const dataTable =\n",
              "            await google.colab.kernel.invokeFunction('convertToInteractive',\n",
              "                                                     [key], {});\n",
              "          if (!dataTable) return;\n",
              "\n",
              "          const docLinkHtml = 'Like what you see? Visit the ' +\n",
              "            '<a target=\"_blank\" href=https://colab.research.google.com/notebooks/data_table.ipynb>data table notebook</a>'\n",
              "            + ' to learn more about interactive tables.';\n",
              "          element.innerHTML = '';\n",
              "          dataTable['output_type'] = 'display_data';\n",
              "          await google.colab.output.renderOutput(dataTable, element);\n",
              "          const docLink = document.createElement('div');\n",
              "          docLink.innerHTML = docLinkHtml;\n",
              "          element.appendChild(docLink);\n",
              "        }\n",
              "      </script>\n",
              "    </div>\n",
              "  </div>\n",
              "  "
            ],
            "text/plain": [
              "              MPG   Cylinders  ...  Model Year      Origin\n",
              "count  398.000000  398.000000  ...  398.000000  398.000000\n",
              "mean    23.514573    5.454774  ...   76.010050    1.572864\n",
              "std      7.815984    1.701004  ...    3.697627    0.802055\n",
              "min      9.000000    3.000000  ...   70.000000    1.000000\n",
              "25%     17.500000    4.000000  ...   73.000000    1.000000\n",
              "50%     23.000000    4.000000  ...   76.000000    1.000000\n",
              "75%     29.000000    8.000000  ...   79.000000    2.000000\n",
              "max     46.600000    8.000000  ...   82.000000    3.000000\n",
              "\n",
              "[8 rows x 8 columns]"
            ]
          },
          "metadata": {},
          "execution_count": 5
        }
      ]
    },
    {
      "cell_type": "code",
      "source": [
        "dataset.Origin.unique()"
      ],
      "metadata": {
        "colab": {
          "base_uri": "https://localhost:8080/"
        },
        "id": "dqiNKrIf7HCh",
        "outputId": "36e9a924-cd37-40df-f7ab-139598b2985e"
      },
      "execution_count": null,
      "outputs": [
        {
          "output_type": "execute_result",
          "data": {
            "text/plain": [
              "array([1, 3, 2])"
            ]
          },
          "metadata": {},
          "execution_count": 6
        }
      ]
    },
    {
      "cell_type": "markdown",
      "metadata": {
        "id": "X8xEqcxWd3QM"
      },
      "source": [
        "**Pregunta 1. ¿Cuántos registros y características inciales contiene el dataset?**"
      ]
    },
    {
      "cell_type": "code",
      "metadata": {
        "id": "LRxdrltagx2q",
        "colab": {
          "base_uri": "https://localhost:8080/"
        },
        "outputId": "990bc646-b9bc-491e-b2e6-9e30197756cf"
      },
      "source": [
        "#COMPLETAR\n",
        "dataset.shape"
      ],
      "execution_count": null,
      "outputs": [
        {
          "output_type": "execute_result",
          "data": {
            "text/plain": [
              "(398, 8)"
            ]
          },
          "metadata": {},
          "execution_count": 7
        }
      ]
    },
    {
      "cell_type": "markdown",
      "metadata": {
        "id": "3MWuJTKEDM-f"
      },
      "source": [
        "### Limpie la data\n",
        "\n",
        "El set de datos contiene algunos valores desconocidos."
      ]
    },
    {
      "cell_type": "code",
      "metadata": {
        "id": "JEJHhN65a2VV",
        "outputId": "8b3f037a-4d2f-4cf4-9bcb-7b98c10cbf1a",
        "colab": {
          "base_uri": "https://localhost:8080/"
        }
      },
      "source": [
        "dataset.isna().sum()"
      ],
      "execution_count": null,
      "outputs": [
        {
          "output_type": "execute_result",
          "data": {
            "text/plain": [
              "MPG             0\n",
              "Cylinders       0\n",
              "Displacement    0\n",
              "Horsepower      6\n",
              "Weight          0\n",
              "Acceleration    0\n",
              "Model Year      0\n",
              "Origin          0\n",
              "dtype: int64"
            ]
          },
          "metadata": {},
          "execution_count": 8
        }
      ]
    },
    {
      "cell_type": "markdown",
      "metadata": {
        "id": "hIVEBHhhc-zC"
      },
      "source": [
        "**Pregunta 2. Interprete el reporte de missings anterior. Elija un método de imputación y resuelva el problema de missings.**"
      ]
    },
    {
      "cell_type": "code",
      "metadata": {
        "id": "4ZUDosChC1UN"
      },
      "source": [
        "#COMPLETAR\n",
        "dataset.dropna(inplace=True)"
      ],
      "execution_count": null,
      "outputs": []
    },
    {
      "cell_type": "markdown",
      "metadata": {
        "id": "8XKitwaH4v8h"
      },
      "source": [
        "La columna de `\"Origin\"` realmente es categorica, no numerica. Entonces conviertala a un \"one-hot\":"
      ]
    },
    {
      "cell_type": "code",
      "metadata": {
        "id": "gWNTD2QjBWFJ"
      },
      "source": [
        "origin = dataset.pop('Origin')"
      ],
      "execution_count": null,
      "outputs": []
    },
    {
      "cell_type": "code",
      "metadata": {
        "id": "ulXz4J7PAUzk",
        "outputId": "4153089c-e91d-4909-a9a1-05b2be13c9c2",
        "colab": {
          "base_uri": "https://localhost:8080/",
          "height": 206
        }
      },
      "source": [
        "dataset['USA'] = (origin == 1)*1.0\n",
        "dataset['Europe'] = (origin == 2)*1.0\n",
        "dataset['Japan'] = (origin == 3)*1.0\n",
        "dataset.tail()"
      ],
      "execution_count": null,
      "outputs": [
        {
          "output_type": "execute_result",
          "data": {
            "text/html": [
              "\n",
              "  <div id=\"df-f5b7011f-2f85-4dd7-99ce-a6672dd29d3f\">\n",
              "    <div class=\"colab-df-container\">\n",
              "      <div>\n",
              "<style scoped>\n",
              "    .dataframe tbody tr th:only-of-type {\n",
              "        vertical-align: middle;\n",
              "    }\n",
              "\n",
              "    .dataframe tbody tr th {\n",
              "        vertical-align: top;\n",
              "    }\n",
              "\n",
              "    .dataframe thead th {\n",
              "        text-align: right;\n",
              "    }\n",
              "</style>\n",
              "<table border=\"1\" class=\"dataframe\">\n",
              "  <thead>\n",
              "    <tr style=\"text-align: right;\">\n",
              "      <th></th>\n",
              "      <th>MPG</th>\n",
              "      <th>Cylinders</th>\n",
              "      <th>Displacement</th>\n",
              "      <th>Horsepower</th>\n",
              "      <th>Weight</th>\n",
              "      <th>Acceleration</th>\n",
              "      <th>Model Year</th>\n",
              "      <th>USA</th>\n",
              "      <th>Europe</th>\n",
              "      <th>Japan</th>\n",
              "    </tr>\n",
              "  </thead>\n",
              "  <tbody>\n",
              "    <tr>\n",
              "      <th>393</th>\n",
              "      <td>27.0</td>\n",
              "      <td>4</td>\n",
              "      <td>140.0</td>\n",
              "      <td>86.0</td>\n",
              "      <td>2790.0</td>\n",
              "      <td>15.6</td>\n",
              "      <td>82</td>\n",
              "      <td>1.0</td>\n",
              "      <td>0.0</td>\n",
              "      <td>0.0</td>\n",
              "    </tr>\n",
              "    <tr>\n",
              "      <th>394</th>\n",
              "      <td>44.0</td>\n",
              "      <td>4</td>\n",
              "      <td>97.0</td>\n",
              "      <td>52.0</td>\n",
              "      <td>2130.0</td>\n",
              "      <td>24.6</td>\n",
              "      <td>82</td>\n",
              "      <td>0.0</td>\n",
              "      <td>1.0</td>\n",
              "      <td>0.0</td>\n",
              "    </tr>\n",
              "    <tr>\n",
              "      <th>395</th>\n",
              "      <td>32.0</td>\n",
              "      <td>4</td>\n",
              "      <td>135.0</td>\n",
              "      <td>84.0</td>\n",
              "      <td>2295.0</td>\n",
              "      <td>11.6</td>\n",
              "      <td>82</td>\n",
              "      <td>1.0</td>\n",
              "      <td>0.0</td>\n",
              "      <td>0.0</td>\n",
              "    </tr>\n",
              "    <tr>\n",
              "      <th>396</th>\n",
              "      <td>28.0</td>\n",
              "      <td>4</td>\n",
              "      <td>120.0</td>\n",
              "      <td>79.0</td>\n",
              "      <td>2625.0</td>\n",
              "      <td>18.6</td>\n",
              "      <td>82</td>\n",
              "      <td>1.0</td>\n",
              "      <td>0.0</td>\n",
              "      <td>0.0</td>\n",
              "    </tr>\n",
              "    <tr>\n",
              "      <th>397</th>\n",
              "      <td>31.0</td>\n",
              "      <td>4</td>\n",
              "      <td>119.0</td>\n",
              "      <td>82.0</td>\n",
              "      <td>2720.0</td>\n",
              "      <td>19.4</td>\n",
              "      <td>82</td>\n",
              "      <td>1.0</td>\n",
              "      <td>0.0</td>\n",
              "      <td>0.0</td>\n",
              "    </tr>\n",
              "  </tbody>\n",
              "</table>\n",
              "</div>\n",
              "      <button class=\"colab-df-convert\" onclick=\"convertToInteractive('df-f5b7011f-2f85-4dd7-99ce-a6672dd29d3f')\"\n",
              "              title=\"Convert this dataframe to an interactive table.\"\n",
              "              style=\"display:none;\">\n",
              "        \n",
              "  <svg xmlns=\"http://www.w3.org/2000/svg\" height=\"24px\"viewBox=\"0 0 24 24\"\n",
              "       width=\"24px\">\n",
              "    <path d=\"M0 0h24v24H0V0z\" fill=\"none\"/>\n",
              "    <path d=\"M18.56 5.44l.94 2.06.94-2.06 2.06-.94-2.06-.94-.94-2.06-.94 2.06-2.06.94zm-11 1L8.5 8.5l.94-2.06 2.06-.94-2.06-.94L8.5 2.5l-.94 2.06-2.06.94zm10 10l.94 2.06.94-2.06 2.06-.94-2.06-.94-.94-2.06-.94 2.06-2.06.94z\"/><path d=\"M17.41 7.96l-1.37-1.37c-.4-.4-.92-.59-1.43-.59-.52 0-1.04.2-1.43.59L10.3 9.45l-7.72 7.72c-.78.78-.78 2.05 0 2.83L4 21.41c.39.39.9.59 1.41.59.51 0 1.02-.2 1.41-.59l7.78-7.78 2.81-2.81c.8-.78.8-2.07 0-2.86zM5.41 20L4 18.59l7.72-7.72 1.47 1.35L5.41 20z\"/>\n",
              "  </svg>\n",
              "      </button>\n",
              "      \n",
              "  <style>\n",
              "    .colab-df-container {\n",
              "      display:flex;\n",
              "      flex-wrap:wrap;\n",
              "      gap: 12px;\n",
              "    }\n",
              "\n",
              "    .colab-df-convert {\n",
              "      background-color: #E8F0FE;\n",
              "      border: none;\n",
              "      border-radius: 50%;\n",
              "      cursor: pointer;\n",
              "      display: none;\n",
              "      fill: #1967D2;\n",
              "      height: 32px;\n",
              "      padding: 0 0 0 0;\n",
              "      width: 32px;\n",
              "    }\n",
              "\n",
              "    .colab-df-convert:hover {\n",
              "      background-color: #E2EBFA;\n",
              "      box-shadow: 0px 1px 2px rgba(60, 64, 67, 0.3), 0px 1px 3px 1px rgba(60, 64, 67, 0.15);\n",
              "      fill: #174EA6;\n",
              "    }\n",
              "\n",
              "    [theme=dark] .colab-df-convert {\n",
              "      background-color: #3B4455;\n",
              "      fill: #D2E3FC;\n",
              "    }\n",
              "\n",
              "    [theme=dark] .colab-df-convert:hover {\n",
              "      background-color: #434B5C;\n",
              "      box-shadow: 0px 1px 3px 1px rgba(0, 0, 0, 0.15);\n",
              "      filter: drop-shadow(0px 1px 2px rgba(0, 0, 0, 0.3));\n",
              "      fill: #FFFFFF;\n",
              "    }\n",
              "  </style>\n",
              "\n",
              "      <script>\n",
              "        const buttonEl =\n",
              "          document.querySelector('#df-f5b7011f-2f85-4dd7-99ce-a6672dd29d3f button.colab-df-convert');\n",
              "        buttonEl.style.display =\n",
              "          google.colab.kernel.accessAllowed ? 'block' : 'none';\n",
              "\n",
              "        async function convertToInteractive(key) {\n",
              "          const element = document.querySelector('#df-f5b7011f-2f85-4dd7-99ce-a6672dd29d3f');\n",
              "          const dataTable =\n",
              "            await google.colab.kernel.invokeFunction('convertToInteractive',\n",
              "                                                     [key], {});\n",
              "          if (!dataTable) return;\n",
              "\n",
              "          const docLinkHtml = 'Like what you see? Visit the ' +\n",
              "            '<a target=\"_blank\" href=https://colab.research.google.com/notebooks/data_table.ipynb>data table notebook</a>'\n",
              "            + ' to learn more about interactive tables.';\n",
              "          element.innerHTML = '';\n",
              "          dataTable['output_type'] = 'display_data';\n",
              "          await google.colab.output.renderOutput(dataTable, element);\n",
              "          const docLink = document.createElement('div');\n",
              "          docLink.innerHTML = docLinkHtml;\n",
              "          element.appendChild(docLink);\n",
              "        }\n",
              "      </script>\n",
              "    </div>\n",
              "  </div>\n",
              "  "
            ],
            "text/plain": [
              "      MPG  Cylinders  Displacement  Horsepower  ...  Model Year  USA  Europe  Japan\n",
              "393  27.0          4         140.0        86.0  ...          82  1.0     0.0    0.0\n",
              "394  44.0          4          97.0        52.0  ...          82  0.0     1.0    0.0\n",
              "395  32.0          4         135.0        84.0  ...          82  1.0     0.0    0.0\n",
              "396  28.0          4         120.0        79.0  ...          82  1.0     0.0    0.0\n",
              "397  31.0          4         119.0        82.0  ...          82  1.0     0.0    0.0\n",
              "\n",
              "[5 rows x 10 columns]"
            ]
          },
          "metadata": {},
          "execution_count": 11
        }
      ]
    },
    {
      "cell_type": "markdown",
      "metadata": {
        "id": "Cuym4yvk76vU"
      },
      "source": [
        "### Dividamos la data en entrenamiento y prueba\n",
        "\n",
        "Ahora divida el set de datos en un set de entrenamiento y otro de pruebas.\n",
        "\n",
        "Usaremos el set de pruebas en la evaluacion final de nuestro modelo."
      ]
    },
    {
      "cell_type": "code",
      "metadata": {
        "id": "qn-IGhUE7_1H"
      },
      "source": [
        "train_dataset = dataset.sample(frac=0.8,random_state=0)\n",
        "test_dataset = dataset.drop(train_dataset.index)"
      ],
      "execution_count": null,
      "outputs": []
    },
    {
      "cell_type": "markdown",
      "metadata": {
        "id": "J4ubs136WLNp"
      },
      "source": [
        "### Inspeccione la data\n",
        "\n",
        "Revise rapidamente la distribucion conjunta de un par de columnas de el set de entrenamiento."
      ]
    },
    {
      "cell_type": "code",
      "metadata": {
        "id": "oRKO_x8gWKv-",
        "outputId": "97172048-ca8f-4f5e-a619-db089a4ff642",
        "colab": {
          "base_uri": "https://localhost:8080/",
          "height": 744
        }
      },
      "source": [
        "sns.pairplot(train_dataset[[\"MPG\", \"Cylinders\", \"Displacement\", \"Weight\"]], diag_kind=\"kde\")"
      ],
      "execution_count": null,
      "outputs": [
        {
          "output_type": "execute_result",
          "data": {
            "text/plain": [
              "<seaborn.axisgrid.PairGrid at 0x7f8f9a20f610>"
            ]
          },
          "metadata": {},
          "execution_count": 13
        },
        {
          "output_type": "display_data",
          "data": {
            "image/png": "[encoded data removed]",
            "text/plain": [
              "<Figure size 720x720 with 20 Axes>"
            ]
          },
          "metadata": {
            "needs_background": "light"
          }
        }
      ]
    },
    {
      "cell_type": "markdown",
      "metadata": {
        "id": "ibNz1Ma5db11"
      },
      "source": [
        "**Pregunta 3. Brevemente, interprete los resultados de la gráfica bivariada anterior. Sugerencia: enfóquese en el target.**"
      ]
    },
    {
      "cell_type": "markdown",
      "source": [
        "- Existe un grado de asociación entre la variable cylinders y MPG (El rango de valores de MPG disminuye mientras aumenta el valor de cylinders)\n",
        "- Existe una correlación negativa no lineal entre las variables displacement y weight con MPG"
      ],
      "metadata": {
        "id": "Ul7CxAjDIkpL"
      }
    },
    {
      "cell_type": "markdown",
      "metadata": {
        "id": "gavKO_6DWRMP"
      },
      "source": [
        "Tambien revise las estadisticas generales:"
      ]
    },
    {
      "cell_type": "code",
      "metadata": {
        "id": "yi2FzC3T21jR",
        "outputId": "fb80e540-fb1c-41d9-949e-a8f2e33b5b7f",
        "colab": {
          "base_uri": "https://localhost:8080/",
          "height": 332
        }
      },
      "source": [
        "train_stats = train_dataset.describe()\n",
        "train_stats.pop(\"MPG\")\n",
        "train_stats = train_stats.transpose()\n",
        "train_stats"
      ],
      "execution_count": null,
      "outputs": [
        {
          "output_type": "execute_result",
          "data": {
            "text/html": [
              "\n",
              "  <div id=\"df-f6ec30e7-7c54-4336-9847-65f12ba9311d\">\n",
              "    <div class=\"colab-df-container\">\n",
              "      <div>\n",
              "<style scoped>\n",
              "    .dataframe tbody tr th:only-of-type {\n",
              "        vertical-align: middle;\n",
              "    }\n",
              "\n",
              "    .dataframe tbody tr th {\n",
              "        vertical-align: top;\n",
              "    }\n",
              "\n",
              "    .dataframe thead th {\n",
              "        text-align: right;\n",
              "    }\n",
              "</style>\n",
              "<table border=\"1\" class=\"dataframe\">\n",
              "  <thead>\n",
              "    <tr style=\"text-align: right;\">\n",
              "      <th></th>\n",
              "      <th>count</th>\n",
              "      <th>mean</th>\n",
              "      <th>std</th>\n",
              "      <th>min</th>\n",
              "      <th>25%</th>\n",
              "      <th>50%</th>\n",
              "      <th>75%</th>\n",
              "      <th>max</th>\n",
              "    </tr>\n",
              "  </thead>\n",
              "  <tbody>\n",
              "    <tr>\n",
              "      <th>Cylinders</th>\n",
              "      <td>314.0</td>\n",
              "      <td>5.477707</td>\n",
              "      <td>1.699788</td>\n",
              "      <td>3.0</td>\n",
              "      <td>4.00</td>\n",
              "      <td>4.0</td>\n",
              "      <td>8.00</td>\n",
              "      <td>8.0</td>\n",
              "    </tr>\n",
              "    <tr>\n",
              "      <th>Displacement</th>\n",
              "      <td>314.0</td>\n",
              "      <td>195.318471</td>\n",
              "      <td>104.331589</td>\n",
              "      <td>68.0</td>\n",
              "      <td>105.50</td>\n",
              "      <td>151.0</td>\n",
              "      <td>265.75</td>\n",
              "      <td>455.0</td>\n",
              "    </tr>\n",
              "    <tr>\n",
              "      <th>Horsepower</th>\n",
              "      <td>314.0</td>\n",
              "      <td>104.869427</td>\n",
              "      <td>38.096214</td>\n",
              "      <td>46.0</td>\n",
              "      <td>76.25</td>\n",
              "      <td>94.5</td>\n",
              "      <td>128.00</td>\n",
              "      <td>225.0</td>\n",
              "    </tr>\n",
              "    <tr>\n",
              "      <th>Weight</th>\n",
              "      <td>314.0</td>\n",
              "      <td>2990.251592</td>\n",
              "      <td>843.898596</td>\n",
              "      <td>1649.0</td>\n",
              "      <td>2256.50</td>\n",
              "      <td>2822.5</td>\n",
              "      <td>3608.00</td>\n",
              "      <td>5140.0</td>\n",
              "    </tr>\n",
              "    <tr>\n",
              "      <th>Acceleration</th>\n",
              "      <td>314.0</td>\n",
              "      <td>15.559236</td>\n",
              "      <td>2.789230</td>\n",
              "      <td>8.0</td>\n",
              "      <td>13.80</td>\n",
              "      <td>15.5</td>\n",
              "      <td>17.20</td>\n",
              "      <td>24.8</td>\n",
              "    </tr>\n",
              "    <tr>\n",
              "      <th>Model Year</th>\n",
              "      <td>314.0</td>\n",
              "      <td>75.898089</td>\n",
              "      <td>3.675642</td>\n",
              "      <td>70.0</td>\n",
              "      <td>73.00</td>\n",
              "      <td>76.0</td>\n",
              "      <td>79.00</td>\n",
              "      <td>82.0</td>\n",
              "    </tr>\n",
              "    <tr>\n",
              "      <th>USA</th>\n",
              "      <td>314.0</td>\n",
              "      <td>0.624204</td>\n",
              "      <td>0.485101</td>\n",
              "      <td>0.0</td>\n",
              "      <td>0.00</td>\n",
              "      <td>1.0</td>\n",
              "      <td>1.00</td>\n",
              "      <td>1.0</td>\n",
              "    </tr>\n",
              "    <tr>\n",
              "      <th>Europe</th>\n",
              "      <td>314.0</td>\n",
              "      <td>0.178344</td>\n",
              "      <td>0.383413</td>\n",
              "      <td>0.0</td>\n",
              "      <td>0.00</td>\n",
              "      <td>0.0</td>\n",
              "      <td>0.00</td>\n",
              "      <td>1.0</td>\n",
              "    </tr>\n",
              "    <tr>\n",
              "      <th>Japan</th>\n",
              "      <td>314.0</td>\n",
              "      <td>0.197452</td>\n",
              "      <td>0.398712</td>\n",
              "      <td>0.0</td>\n",
              "      <td>0.00</td>\n",
              "      <td>0.0</td>\n",
              "      <td>0.00</td>\n",
              "      <td>1.0</td>\n",
              "    </tr>\n",
              "  </tbody>\n",
              "</table>\n",
              "</div>\n",
              "      <button class=\"colab-df-convert\" onclick=\"convertToInteractive('df-f6ec30e7-7c54-4336-9847-65f12ba9311d')\"\n",
              "              title=\"Convert this dataframe to an interactive table.\"\n",
              "              style=\"display:none;\">\n",
              "        \n",
              "  <svg xmlns=\"http://www.w3.org/2000/svg\" height=\"24px\"viewBox=\"0 0 24 24\"\n",
              "       width=\"24px\">\n",
              "    <path d=\"M0 0h24v24H0V0z\" fill=\"none\"/>\n",
              "    <path d=\"M18.56 5.44l.94 2.06.94-2.06 2.06-.94-2.06-.94-.94-2.06-.94 2.06-2.06.94zm-11 1L8.5 8.5l.94-2.06 2.06-.94-2.06-.94L8.5 2.5l-.94 2.06-2.06.94zm10 10l.94 2.06.94-2.06 2.06-.94-2.06-.94-.94-2.06-.94 2.06-2.06.94z\"/><path d=\"M17.41 7.96l-1.37-1.37c-.4-.4-.92-.59-1.43-.59-.52 0-1.04.2-1.43.59L10.3 9.45l-7.72 7.72c-.78.78-.78 2.05 0 2.83L4 21.41c.39.39.9.59 1.41.59.51 0 1.02-.2 1.41-.59l7.78-7.78 2.81-2.81c.8-.78.8-2.07 0-2.86zM5.41 20L4 18.59l7.72-7.72 1.47 1.35L5.41 20z\"/>\n",
              "  </svg>\n",
              "      </button>\n",
              "      \n",
              "  <style>\n",
              "    .colab-df-container {\n",
              "      display:flex;\n",
              "      flex-wrap:wrap;\n",
              "      gap: 12px;\n",
              "    }\n",
              "\n",
              "    .colab-df-convert {\n",
              "      background-color: #E8F0FE;\n",
              "      border: none;\n",
              "      border-radius: 50%;\n",
              "      cursor: pointer;\n",
              "      display: none;\n",
              "      fill: #1967D2;\n",
              "      height: 32px;\n",
              "      padding: 0 0 0 0;\n",
              "      width: 32px;\n",
              "    }\n",
              "\n",
              "    .colab-df-convert:hover {\n",
              "      background-color: #E2EBFA;\n",
              "      box-shadow: 0px 1px 2px rgba(60, 64, 67, 0.3), 0px 1px 3px 1px rgba(60, 64, 67, 0.15);\n",
              "      fill: #174EA6;\n",
              "    }\n",
              "\n",
              "    [theme=dark] .colab-df-convert {\n",
              "      background-color: #3B4455;\n",
              "      fill: #D2E3FC;\n",
              "    }\n",
              "\n",
              "    [theme=dark] .colab-df-convert:hover {\n",
              "      background-color: #434B5C;\n",
              "      box-shadow: 0px 1px 3px 1px rgba(0, 0, 0, 0.15);\n",
              "      filter: drop-shadow(0px 1px 2px rgba(0, 0, 0, 0.3));\n",
              "      fill: #FFFFFF;\n",
              "    }\n",
              "  </style>\n",
              "\n",
              "      <script>\n",
              "        const buttonEl =\n",
              "          document.querySelector('#df-f6ec30e7-7c54-4336-9847-65f12ba9311d button.colab-df-convert');\n",
              "        buttonEl.style.display =\n",
              "          google.colab.kernel.accessAllowed ? 'block' : 'none';\n",
              "\n",
              "        async function convertToInteractive(key) {\n",
              "          const element = document.querySelector('#df-f6ec30e7-7c54-4336-9847-65f12ba9311d');\n",
              "          const dataTable =\n",
              "            await google.colab.kernel.invokeFunction('convertToInteractive',\n",
              "                                                     [key], {});\n",
              "          if (!dataTable) return;\n",
              "\n",
              "          const docLinkHtml = 'Like what you see? Visit the ' +\n",
              "            '<a target=\"_blank\" href=https://colab.research.google.com/notebooks/data_table.ipynb>data table notebook</a>'\n",
              "            + ' to learn more about interactive tables.';\n",
              "          element.innerHTML = '';\n",
              "          dataTable['output_type'] = 'display_data';\n",
              "          await google.colab.output.renderOutput(dataTable, element);\n",
              "          const docLink = document.createElement('div');\n",
              "          docLink.innerHTML = docLinkHtml;\n",
              "          element.appendChild(docLink);\n",
              "        }\n",
              "      </script>\n",
              "    </div>\n",
              "  </div>\n",
              "  "
            ],
            "text/plain": [
              "              count         mean         std  ...     50%      75%     max\n",
              "Cylinders     314.0     5.477707    1.699788  ...     4.0     8.00     8.0\n",
              "Displacement  314.0   195.318471  104.331589  ...   151.0   265.75   455.0\n",
              "Horsepower    314.0   104.869427   38.096214  ...    94.5   128.00   225.0\n",
              "Weight        314.0  2990.251592  843.898596  ...  2822.5  3608.00  5140.0\n",
              "Acceleration  314.0    15.559236    2.789230  ...    15.5    17.20    24.8\n",
              "Model Year    314.0    75.898089    3.675642  ...    76.0    79.00    82.0\n",
              "USA           314.0     0.624204    0.485101  ...     1.0     1.00     1.0\n",
              "Europe        314.0     0.178344    0.383413  ...     0.0     0.00     1.0\n",
              "Japan         314.0     0.197452    0.398712  ...     0.0     0.00     1.0\n",
              "\n",
              "[9 rows x 8 columns]"
            ]
          },
          "metadata": {},
          "execution_count": 14
        }
      ]
    },
    {
      "cell_type": "markdown",
      "metadata": {
        "id": "Db7Auq1yXUvh"
      },
      "source": [
        "### Separe las caracteristicas de las etiquetas.\n",
        "\n",
        "Separe el valor objetivo, o la \"etiqueta\" \n",
        "de las caracteristicas. Esta etiqueta es el valor que entrenara el modelo para predecir."
      ]
    },
    {
      "cell_type": "code",
      "metadata": {
        "id": "t2sluJdCW7jN"
      },
      "source": [
        "train_labels = train_dataset.pop('MPG')\n",
        "test_labels = test_dataset.pop('MPG')"
      ],
      "execution_count": null,
      "outputs": []
    },
    {
      "cell_type": "markdown",
      "metadata": {
        "id": "mRklxK5s388r"
      },
      "source": [
        "### Normalice la data\n",
        "\n",
        "Revise otra vez el bloque de `train_stats` que se presento antes y note la diferencia de rangos de cada caracteristica."
      ]
    },
    {
      "cell_type": "markdown",
      "metadata": {
        "id": "-ywmerQ6dSox"
      },
      "source": [
        "Es una buena práctica normalizar los datos que utilizan diferentes escalas y rangos. Aunque el modelo * podría * converger sin normalización de características, dificulta el entrenamiento y hace que el modelo resultante dependa de la elección de las unidades utilizadas en la entrada.\n",
        "\n",
        "Nota: Aunque generamos intencionalmente estas estadísticas solo del conjunto de datos de entrenamiento, estas estadísticas también se utilizarán para normalizar el conjunto de datos de prueba. Necesitamos hacer eso para proyectar el conjunto de datos de prueba en la misma distribución en la que el modelo ha sido entrenado."
      ]
    },
    {
      "cell_type": "code",
      "metadata": {
        "id": "JlC5ooJrgjQF"
      },
      "source": [
        "def norm(x):\n",
        "  return (x - train_stats['mean']) / train_stats['std']\n",
        "normed_train_data = norm(train_dataset)\n",
        "normed_test_data = norm(test_dataset)"
      ],
      "execution_count": null,
      "outputs": []
    },
    {
      "cell_type": "markdown",
      "metadata": {
        "id": "BuiClDk45eS4"
      },
      "source": [
        "Estos datos normalizados es lo que usaremos para entrenar el modelo.\n",
        "\n",
        "Precaución: las estadísticas utilizadas para normalizar las entradas aquí (media y desviación estándar) deben aplicarse a cualquier otro dato que se alimente al modelo, junto con la codificación de un punto que hicimos anteriormente. Eso incluye el conjunto de pruebas, así como los datos en vivo cuando el modelo se usa en producción."
      ]
    },
    {
      "cell_type": "markdown",
      "metadata": {
        "id": "SmjdzxKzEu1-"
      },
      "source": [
        "## El modelo"
      ]
    },
    {
      "cell_type": "markdown",
      "metadata": {
        "id": "6SWtkIjhrZwa"
      },
      "source": [
        "### Construye el modelo\n",
        "\n",
        "Construyamos nuestro modelo. Aquí, utilizaremos un modelo `secuencial` con dos capas ocultas densamente conectadas y una capa de salida que devuelve un único valor continuo. Los pasos de construcción del modelo se envuelven en una función, `build_model`, ya que crearemos un segundo modelo, más adelante."
      ]
    },
    {
      "cell_type": "code",
      "metadata": {
        "id": "c26juK7ZG8j-"
      },
      "source": [
        "from tensorflow.python.keras.layers.core import Dropout\n",
        "def build_model():\n",
        "  model = keras.Sequential([\n",
        "    layers.Dense(64, activation='relu', input_shape=[len(train_dataset.keys())]),\n",
        "    layers.Dense(64, activation='relu'),\n",
        "    layers.Dense(1)\n",
        "  ])\n",
        "\n",
        "  optimizer = tf.keras.optimizers.RMSprop(0.001)\n",
        "\n",
        "  model.compile(loss='mse',\n",
        "                optimizer=optimizer,\n",
        "                metrics=['mae', 'mse'])\n",
        "  return model"
      ],
      "execution_count": null,
      "outputs": []
    },
    {
      "cell_type": "code",
      "metadata": {
        "id": "cGbPb-PHGbhs"
      },
      "source": [
        "model = build_model()"
      ],
      "execution_count": null,
      "outputs": []
    },
    {
      "cell_type": "markdown",
      "metadata": {
        "id": "eCzOa7iiaPWS"
      },
      "source": [
        "**Pregunta 4. ¿Qué inicializador usa layers.Dense por defecto y qué función de activación usa por defecto?**"
      ]
    },
    {
      "cell_type": "markdown",
      "source": [
        "Por defecto la inicialización que se emplea para las capas densas es el glorot_uniform y como activación no hay ninguna definida por defecto"
      ],
      "metadata": {
        "id": "1TRxbsG7JI20"
      }
    },
    {
      "cell_type": "markdown",
      "metadata": {
        "id": "Sj49Og4YGULr"
      },
      "source": [
        "### Inspeccione el modelo\n",
        "\n",
        "Use el método `.summary` para imprimir una descripción simple del modelo"
      ]
    },
    {
      "cell_type": "code",
      "metadata": {
        "id": "ReAD0n6MsFK-",
        "outputId": "2e30fd58-8ca1-4685-c5c7-025de377ced7",
        "colab": {
          "base_uri": "https://localhost:8080/"
        }
      },
      "source": [
        "model.summary()"
      ],
      "execution_count": null,
      "outputs": [
        {
          "output_type": "stream",
          "name": "stdout",
          "text": [
            "Model: \"sequential\"\n",
            "_________________________________________________________________\n",
            " Layer (type)                Output Shape              Param #   \n",
            "=================================================================\n",
            " dense (Dense)               (None, 64)                640       \n",
            "                                                                 \n",
            " dense_1 (Dense)             (None, 64)                4160      \n",
            "                                                                 \n",
            " dense_2 (Dense)             (None, 1)                 65        \n",
            "                                                                 \n",
            "=================================================================\n",
            "Total params: 4,865\n",
            "Trainable params: 4,865\n",
            "Non-trainable params: 0\n",
            "_________________________________________________________________\n"
          ]
        }
      ]
    },
    {
      "cell_type": "markdown",
      "metadata": {
        "id": "Vt6W50qGsJAL"
      },
      "source": [
        "\n",
        "Ahora pruebe el modelo. Tome un lote de ejemplos `10` de los datos de entrenamiento y llame a` model.predict` en él."
      ]
    },
    {
      "cell_type": "code",
      "metadata": {
        "id": "-d-gBaVtGTSC",
        "outputId": "b3fb0b70-9303-4b77-abc1-04eeaa9f814d",
        "colab": {
          "base_uri": "https://localhost:8080/"
        }
      },
      "source": [
        "example_batch = normed_train_data[:10]\n",
        "example_result = model.predict(example_batch)\n",
        "example_result"
      ],
      "execution_count": null,
      "outputs": [
        {
          "output_type": "execute_result",
          "data": {
            "text/plain": [
              "array([[-0.21998695],\n",
              "       [ 0.0310153 ],\n",
              "       [-0.07320622],\n",
              "       [-0.3700173 ],\n",
              "       [-0.45821822],\n",
              "       [ 0.11033846],\n",
              "       [-0.45840442],\n",
              "       [ 0.61882406],\n",
              "       [ 0.09752912],\n",
              "       [-0.41479188]], dtype=float32)"
            ]
          },
          "metadata": {},
          "execution_count": 20
        }
      ]
    },
    {
      "cell_type": "markdown",
      "metadata": {
        "id": "QlM8KrSOsaYo"
      },
      "source": [
        "Parece estar funcionando, y produce un resultado de la forma y tipo esperados."
      ]
    },
    {
      "cell_type": "markdown",
      "metadata": {
        "id": "0-qWCsh6DlyH"
      },
      "source": [
        "### Entrenar el modelo\n",
        "\n",
        "Entrene el modelo durante 1000 épocas y registre la precisión de entrenamiento y validación en el objeto `history`."
      ]
    },
    {
      "cell_type": "code",
      "metadata": {
        "id": "sD7qHCmNIOY0",
        "outputId": "59f2664a-e69f-4e9c-fae3-09a7308ad0b1",
        "colab": {
          "base_uri": "https://localhost:8080/"
        }
      },
      "source": [
        "# Display training progress by printing a single dot for each completed epoch\n",
        "class PrintDot(keras.callbacks.Callback):\n",
        "  def on_epoch_end(self, epoch, logs):\n",
        "    if epoch % 100 == 0: print('')\n",
        "    print('.', end='')\n",
        "\n",
        "EPOCHS = 1000\n",
        "\n",
        "history = model.fit(\n",
        "  normed_train_data, train_labels,\n",
        "  epochs=EPOCHS, validation_split = 0.2, verbose=0,\n",
        "  callbacks=[PrintDot()])"
      ],
      "execution_count": null,
      "outputs": [
        {
          "output_type": "stream",
          "name": "stdout",
          "text": [
            "\n",
            "....................................................................................................\n",
            "....................................................................................................\n",
            "....................................................................................................\n",
            "....................................................................................................\n",
            "....................................................................................................\n",
            "....................................................................................................\n",
            "....................................................................................................\n",
            "....................................................................................................\n",
            "....................................................................................................\n",
            "...................................................................................................."
          ]
        }
      ]
    },
    {
      "cell_type": "markdown",
      "metadata": {
        "id": "tQm3pc0FYPQB"
      },
      "source": [
        "Visualice el progreso de entrenamiento del modelo usando las estadísticas almacenadas en el objeto `history`."
      ]
    },
    {
      "cell_type": "code",
      "metadata": {
        "id": "4Xj91b-dymEy",
        "outputId": "2edc51b8-3a56-4de2-f9cf-d400c355891e",
        "colab": {
          "base_uri": "https://localhost:8080/",
          "height": 206
        }
      },
      "source": [
        "hist = pd.DataFrame(history.history)\n",
        "hist['epoch'] = history.epoch\n",
        "hist.tail()"
      ],
      "execution_count": null,
      "outputs": [
        {
          "output_type": "execute_result",
          "data": {
            "text/html": [
              "\n",
              "  <div id=\"df-64e5f7d9-278c-4726-8f28-27f780e9a603\">\n",
              "    <div class=\"colab-df-container\">\n",
              "      <div>\n",
              "<style scoped>\n",
              "    .dataframe tbody tr th:only-of-type {\n",
              "        vertical-align: middle;\n",
              "    }\n",
              "\n",
              "    .dataframe tbody tr th {\n",
              "        vertical-align: top;\n",
              "    }\n",
              "\n",
              "    .dataframe thead th {\n",
              "        text-align: right;\n",
              "    }\n",
              "</style>\n",
              "<table border=\"1\" class=\"dataframe\">\n",
              "  <thead>\n",
              "    <tr style=\"text-align: right;\">\n",
              "      <th></th>\n",
              "      <th>loss</th>\n",
              "      <th>mae</th>\n",
              "      <th>mse</th>\n",
              "      <th>val_loss</th>\n",
              "      <th>val_mae</th>\n",
              "      <th>val_mse</th>\n",
              "      <th>epoch</th>\n",
              "    </tr>\n",
              "  </thead>\n",
              "  <tbody>\n",
              "    <tr>\n",
              "      <th>995</th>\n",
              "      <td>2.559225</td>\n",
              "      <td>1.055372</td>\n",
              "      <td>2.559225</td>\n",
              "      <td>8.825678</td>\n",
              "      <td>2.328253</td>\n",
              "      <td>8.825678</td>\n",
              "      <td>995</td>\n",
              "    </tr>\n",
              "    <tr>\n",
              "      <th>996</th>\n",
              "      <td>2.226617</td>\n",
              "      <td>0.935861</td>\n",
              "      <td>2.226617</td>\n",
              "      <td>8.467481</td>\n",
              "      <td>2.264783</td>\n",
              "      <td>8.467481</td>\n",
              "      <td>996</td>\n",
              "    </tr>\n",
              "    <tr>\n",
              "      <th>997</th>\n",
              "      <td>2.459953</td>\n",
              "      <td>1.024926</td>\n",
              "      <td>2.459953</td>\n",
              "      <td>8.614357</td>\n",
              "      <td>2.319156</td>\n",
              "      <td>8.614357</td>\n",
              "      <td>997</td>\n",
              "    </tr>\n",
              "    <tr>\n",
              "      <th>998</th>\n",
              "      <td>2.832448</td>\n",
              "      <td>1.083628</td>\n",
              "      <td>2.832448</td>\n",
              "      <td>8.803994</td>\n",
              "      <td>2.290415</td>\n",
              "      <td>8.803994</td>\n",
              "      <td>998</td>\n",
              "    </tr>\n",
              "    <tr>\n",
              "      <th>999</th>\n",
              "      <td>2.327463</td>\n",
              "      <td>0.953033</td>\n",
              "      <td>2.327463</td>\n",
              "      <td>8.584416</td>\n",
              "      <td>2.307449</td>\n",
              "      <td>8.584416</td>\n",
              "      <td>999</td>\n",
              "    </tr>\n",
              "  </tbody>\n",
              "</table>\n",
              "</div>\n",
              "      <button class=\"colab-df-convert\" onclick=\"convertToInteractive('df-64e5f7d9-278c-4726-8f28-27f780e9a603')\"\n",
              "              title=\"Convert this dataframe to an interactive table.\"\n",
              "              style=\"display:none;\">\n",
              "        \n",
              "  <svg xmlns=\"http://www.w3.org/2000/svg\" height=\"24px\"viewBox=\"0 0 24 24\"\n",
              "       width=\"24px\">\n",
              "    <path d=\"M0 0h24v24H0V0z\" fill=\"none\"/>\n",
              "    <path d=\"M18.56 5.44l.94 2.06.94-2.06 2.06-.94-2.06-.94-.94-2.06-.94 2.06-2.06.94zm-11 1L8.5 8.5l.94-2.06 2.06-.94-2.06-.94L8.5 2.5l-.94 2.06-2.06.94zm10 10l.94 2.06.94-2.06 2.06-.94-2.06-.94-.94-2.06-.94 2.06-2.06.94z\"/><path d=\"M17.41 7.96l-1.37-1.37c-.4-.4-.92-.59-1.43-.59-.52 0-1.04.2-1.43.59L10.3 9.45l-7.72 7.72c-.78.78-.78 2.05 0 2.83L4 21.41c.39.39.9.59 1.41.59.51 0 1.02-.2 1.41-.59l7.78-7.78 2.81-2.81c.8-.78.8-2.07 0-2.86zM5.41 20L4 18.59l7.72-7.72 1.47 1.35L5.41 20z\"/>\n",
              "  </svg>\n",
              "      </button>\n",
              "      \n",
              "  <style>\n",
              "    .colab-df-container {\n",
              "      display:flex;\n",
              "      flex-wrap:wrap;\n",
              "      gap: 12px;\n",
              "    }\n",
              "\n",
              "    .colab-df-convert {\n",
              "      background-color: #E8F0FE;\n",
              "      border: none;\n",
              "      border-radius: 50%;\n",
              "      cursor: pointer;\n",
              "      display: none;\n",
              "      fill: #1967D2;\n",
              "      height: 32px;\n",
              "      padding: 0 0 0 0;\n",
              "      width: 32px;\n",
              "    }\n",
              "\n",
              "    .colab-df-convert:hover {\n",
              "      background-color: #E2EBFA;\n",
              "      box-shadow: 0px 1px 2px rgba(60, 64, 67, 0.3), 0px 1px 3px 1px rgba(60, 64, 67, 0.15);\n",
              "      fill: #174EA6;\n",
              "    }\n",
              "\n",
              "    [theme=dark] .colab-df-convert {\n",
              "      background-color: #3B4455;\n",
              "      fill: #D2E3FC;\n",
              "    }\n",
              "\n",
              "    [theme=dark] .colab-df-convert:hover {\n",
              "      background-color: #434B5C;\n",
              "      box-shadow: 0px 1px 3px 1px rgba(0, 0, 0, 0.15);\n",
              "      filter: drop-shadow(0px 1px 2px rgba(0, 0, 0, 0.3));\n",
              "      fill: #FFFFFF;\n",
              "    }\n",
              "  </style>\n",
              "\n",
              "      <script>\n",
              "        const buttonEl =\n",
              "          document.querySelector('#df-64e5f7d9-278c-4726-8f28-27f780e9a603 button.colab-df-convert');\n",
              "        buttonEl.style.display =\n",
              "          google.colab.kernel.accessAllowed ? 'block' : 'none';\n",
              "\n",
              "        async function convertToInteractive(key) {\n",
              "          const element = document.querySelector('#df-64e5f7d9-278c-4726-8f28-27f780e9a603');\n",
              "          const dataTable =\n",
              "            await google.colab.kernel.invokeFunction('convertToInteractive',\n",
              "                                                     [key], {});\n",
              "          if (!dataTable) return;\n",
              "\n",
              "          const docLinkHtml = 'Like what you see? Visit the ' +\n",
              "            '<a target=\"_blank\" href=https://colab.research.google.com/notebooks/data_table.ipynb>data table notebook</a>'\n",
              "            + ' to learn more about interactive tables.';\n",
              "          element.innerHTML = '';\n",
              "          dataTable['output_type'] = 'display_data';\n",
              "          await google.colab.output.renderOutput(dataTable, element);\n",
              "          const docLink = document.createElement('div');\n",
              "          docLink.innerHTML = docLinkHtml;\n",
              "          element.appendChild(docLink);\n",
              "        }\n",
              "      </script>\n",
              "    </div>\n",
              "  </div>\n",
              "  "
            ],
            "text/plain": [
              "         loss       mae       mse  val_loss   val_mae   val_mse  epoch\n",
              "995  2.559225  1.055372  2.559225  8.825678  2.328253  8.825678    995\n",
              "996  2.226617  0.935861  2.226617  8.467481  2.264783  8.467481    996\n",
              "997  2.459953  1.024926  2.459953  8.614357  2.319156  8.614357    997\n",
              "998  2.832448  1.083628  2.832448  8.803994  2.290415  8.803994    998\n",
              "999  2.327463  0.953033  2.327463  8.584416  2.307449  8.584416    999"
            ]
          },
          "metadata": {},
          "execution_count": 22
        }
      ]
    },
    {
      "cell_type": "code",
      "metadata": {
        "id": "B6XriGbVPh2t",
        "outputId": "0f148171-9bc7-464f-c35b-1a713b281dc1",
        "colab": {
          "base_uri": "https://localhost:8080/",
          "height": 549
        }
      },
      "source": [
        "def plot_history(history):\n",
        "  hist = pd.DataFrame(history.history)\n",
        "  hist['epoch'] = history.epoch\n",
        "\n",
        "  plt.figure()\n",
        "  plt.xlabel('Epoch')\n",
        "  plt.ylabel('Mean Abs Error [MPG]')\n",
        "  plt.plot(hist['epoch'], hist['mae'],\n",
        "           label='Train Error')\n",
        "  plt.plot(hist['epoch'], hist['val_mae'],\n",
        "           label = 'Val Error')\n",
        "  plt.ylim([0,5])\n",
        "  plt.legend()\n",
        "\n",
        "  plt.figure()\n",
        "  plt.xlabel('Epoch')\n",
        "  plt.ylabel('Mean Square Error [$MPG^2$]')\n",
        "  plt.plot(hist['epoch'], hist['mse'],\n",
        "           label='Train Error')\n",
        "  plt.plot(hist['epoch'], hist['val_mse'],\n",
        "           label = 'Val Error')\n",
        "  plt.ylim([0,20])\n",
        "  plt.legend()\n",
        "  plt.show()\n",
        "\n",
        "\n",
        "plot_history(history)"
      ],
      "execution_count": null,
      "outputs": [
        {
          "output_type": "display_data",
          "data": {
            "image/png": "[encoded data removed]",
            "text/plain": [
              "<Figure size 432x288 with 1 Axes>"
            ]
          },
          "metadata": {
            "needs_background": "light"
          }
        },
        {
          "output_type": "display_data",
          "data": {
            "image/png": "[encoded data removed]",
            "text/plain": [
              "<Figure size 432x288 with 1 Axes>"
            ]
          },
          "metadata": {
            "needs_background": "light"
          }
        }
      ]
    },
    {
      "cell_type": "markdown",
      "metadata": {
        "id": "AqsuANc11FYv"
      },
      "source": [
        "Este gráfico muestra poca mejora, o incluso degradación en el error de validación después de aproximadamente 100 épocas. Actualicemos la llamada `model.fit` para detener automáticamente el entrenamiento cuando el puntaje de validación no mejore. Utilizaremos una * devolución de llamada de EarlyStopping * que pruebe una condición de entrenamiento para cada época. Si transcurre una cantidad determinada de épocas sin mostrar mejoría, entonces detiene automáticamente el entrenamiento.\n",
        "\n",
        "Puedes obtener más información sobre esta devolución de llamada [Aca](https://www.tensorflow.org/api_docs/python/tf/keras/callbacks/EarlyStopping)."
      ]
    },
    {
      "cell_type": "code",
      "metadata": {
        "id": "fdMZuhUgzMZ4",
        "outputId": "e90faa3b-5b6a-4dc7-a010-d2f4d843c470",
        "colab": {
          "base_uri": "https://localhost:8080/",
          "height": 586
        }
      },
      "source": [
        "model = build_model()\n",
        "\n",
        "# The patience parameter is the amount of epochs to check for improvement\n",
        "early_stop = keras.callbacks.EarlyStopping(monitor='val_loss', patience=10)\n",
        "\n",
        "history = model.fit(normed_train_data, train_labels, epochs=EPOCHS,\n",
        "                    validation_split = 0.2, verbose=0, callbacks=[early_stop, PrintDot()])\n",
        "\n",
        "plot_history(history)"
      ],
      "execution_count": null,
      "outputs": [
        {
          "output_type": "stream",
          "name": "stdout",
          "text": [
            "\n",
            "..................................................................................................."
          ]
        },
        {
          "output_type": "display_data",
          "data": {
            "image/png": "[encoded data removed]",
            "text/plain": [
              "<Figure size 432x288 with 1 Axes>"
            ]
          },
          "metadata": {
            "needs_background": "light"
          }
        },
        {
          "output_type": "display_data",
          "data": {
            "image/png": "[encoded data removed]",
            "text/plain": [
              "<Figure size 432x288 with 1 Axes>"
            ]
          },
          "metadata": {
            "needs_background": "light"
          }
        }
      ]
    },
    {
      "cell_type": "markdown",
      "metadata": {
        "id": "3St8-DmrX8P4"
      },
      "source": [
        "El gráfico muestra que en el conjunto de validación, el error promedio generalmente es de alrededor de +/- 2 MPG. ¿Es esto bueno? \n",
        "\n",
        "Veamos qué tan bien generaliza el modelo al usar el conjunto ** test **, que no usamos al entrenar el modelo. Esto nos dice qué tan bien podemos esperar que el modelo prediga cuándo lo usamos en el mundo real."
      ]
    },
    {
      "cell_type": "code",
      "metadata": {
        "id": "jl_yNr5n1kms",
        "outputId": "3c8e571c-9b54-4c8c-d03e-1fe5f3575dfd",
        "colab": {
          "base_uri": "https://localhost:8080/"
        }
      },
      "source": [
        "loss, mae, mse = model.evaluate(normed_test_data, test_labels, verbose=2)\n",
        "\n",
        "print(\"Testing set Mean Abs Error: {:5.2f} MPG\".format(mae))"
      ],
      "execution_count": null,
      "outputs": [
        {
          "output_type": "stream",
          "name": "stdout",
          "text": [
            "3/3 - 0s - loss: 5.7444 - mae: 1.8298 - mse: 5.7444 - 46ms/epoch - 15ms/step\n",
            "Testing set Mean Abs Error:  1.83 MPG\n"
          ]
        }
      ]
    },
    {
      "cell_type": "markdown",
      "metadata": {
        "id": "ft603OzXuEZC"
      },
      "source": [
        "### Haga Predicciones\n",
        "\n",
        "Finalmente, prediga los valores de MPG utilizando datos en el conjunto de pruebas:"
      ]
    },
    {
      "cell_type": "code",
      "metadata": {
        "id": "Xe7RXH3N3CWU",
        "outputId": "4bf69782-df81-47d0-c843-4cb5bea7085c",
        "colab": {
          "base_uri": "https://localhost:8080/",
          "height": 279
        }
      },
      "source": [
        "test_predictions = model.predict(normed_test_data).flatten()\n",
        "\n",
        "plt.scatter(test_labels, test_predictions)\n",
        "plt.xlabel('True Values [MPG]')\n",
        "plt.ylabel('Predictions [MPG]')\n",
        "plt.axis('equal')\n",
        "plt.axis('square')\n",
        "plt.xlim([0,plt.xlim()[1]])\n",
        "plt.ylim([0,plt.ylim()[1]])\n",
        "_ = plt.plot([-100, 100], [-100, 100])\n"
      ],
      "execution_count": null,
      "outputs": [
        {
          "output_type": "display_data",
          "data": {
            "image/png": "[encoded data removed]",
            "text/plain": [
              "<Figure size 432x288 with 1 Axes>"
            ]
          },
          "metadata": {
            "needs_background": "light"
          }
        }
      ]
    },
    {
      "cell_type": "markdown",
      "metadata": {
        "id": "19wyogbOSU5t"
      },
      "source": [
        "Parece que nuestro modelo predice razonablemente bien. Echemos un vistazo a la distribución de errores."
      ]
    },
    {
      "cell_type": "code",
      "metadata": {
        "id": "f-OHX4DiXd8x",
        "outputId": "d304869a-6bb5-4bc4-d73c-9f110c3ed285",
        "colab": {
          "base_uri": "https://localhost:8080/",
          "height": 279
        }
      },
      "source": [
        "error = test_predictions - test_labels\n",
        "plt.hist(error, bins = 25)\n",
        "plt.xlabel(\"Prediction Error [MPG]\")\n",
        "_ = plt.ylabel(\"Count\")"
      ],
      "execution_count": null,
      "outputs": [
        {
          "output_type": "display_data",
          "data": {
            "image/png": "[encoded data removed]",
            "text/plain": [
              "<Figure size 432x288 with 1 Axes>"
            ]
          },
          "metadata": {
            "needs_background": "light"
          }
        }
      ]
    },
    {
      "cell_type": "markdown",
      "metadata": {
        "id": "m0CB5tBjSU5w"
      },
      "source": [
        "No es del todo gaussiano, pero podríamos esperar eso porque el número de muestras es muy pequeño."
      ]
    },
    {
      "cell_type": "markdown",
      "metadata": {
        "id": "JHGRoZ88eiXU"
      },
      "source": [
        "**Pregunta 5. Experimente utilizando He-initializer en cambio de Xavier en las capas densas. Imprima, interprete y compare sus learning curves y predicciones respecto al ejemplo base.**"
      ]
    },
    {
      "cell_type": "code",
      "source": [
        "model_he = keras.Sequential([\n",
        "  layers.Dense(64, activation='relu', kernel_initializer = 'he_uniform', input_shape=[len(train_dataset.keys())]),\n",
        "  layers.Dense(64, activation='relu', kernel_initializer = 'he_uniform'),\n",
        "  layers.Dense(1)\n",
        "])\n",
        "\n",
        "optimizer = tf.keras.optimizers.RMSprop(0.001)\n",
        "\n",
        "model_he.compile(loss='mse',\n",
        "              optimizer=optimizer,\n",
        "              metrics=['mae', 'mse'])\n",
        "\n",
        "model_he.summary()\n",
        "\n",
        "early_stop = keras.callbacks.EarlyStopping(monitor='val_loss', patience=10)\n",
        "history_he = model_he.fit(\n",
        "  normed_train_data, train_labels,\n",
        "  epochs=EPOCHS, validation_split = 0.2, \n",
        "  verbose=1,\n",
        "  callbacks=[early_stop]\n",
        ")"
      ],
      "metadata": {
        "colab": {
          "base_uri": "https://localhost:8080/"
        },
        "id": "VqLEP5cDJu-P",
        "outputId": "5731d0bc-85dc-470d-9df0-e95fbeaeb551"
      },
      "execution_count": null,
      "outputs": [
        {
          "output_type": "stream",
          "name": "stdout",
          "text": [
            "Model: \"sequential_4\"\n",
            "_________________________________________________________________\n",
            " Layer (type)                Output Shape              Param #   \n",
            "=================================================================\n",
            " dense_12 (Dense)            (None, 64)                640       \n",
            "                                                                 \n",
            " dense_13 (Dense)            (None, 64)                4160      \n",
            "                                                                 \n",
            " dense_14 (Dense)            (None, 1)                 65        \n",
            "                                                                 \n",
            "=================================================================\n",
            "Total params: 4,865\n",
            "Trainable params: 4,865\n",
            "Non-trainable params: 0\n",
            "_________________________________________________________________\n",
            "Epoch 1/1000\n",
            "8/8 [==============================] - 2s 56ms/step - loss: 545.0344 - mae: 21.8200 - mse: 545.0344 - val_loss: 510.1190 - val_mae: 20.8686 - val_mse: 510.1190\n",
            "Epoch 2/1000\n",
            "8/8 [==============================] - 0s 12ms/step - loss: 449.0075 - mae: 19.4446 - mse: 449.0075 - val_loss: 426.0450 - val_mae: 18.6634 - val_mse: 426.0450\n",
            "Epoch 3/1000\n",
            "8/8 [==============================] - 0s 12ms/step - loss: 372.9284 - mae: 17.3523 - mse: 372.9284 - val_loss: 349.8160 - val_mae: 16.6118 - val_mse: 349.8160\n",
            "Epoch 4/1000\n",
            "8/8 [==============================] - 0s 14ms/step - loss: 300.2009 - mae: 15.3374 - mse: 300.2009 - val_loss: 275.0292 - val_mae: 14.5860 - val_mse: 275.0292\n",
            "Epoch 5/1000\n",
            "8/8 [==============================] - 0s 14ms/step - loss: 232.7153 - mae: 13.3251 - mse: 232.7153 - val_loss: 207.4137 - val_mae: 12.6749 - val_mse: 207.4137\n",
            "Epoch 6/1000\n",
            "8/8 [==============================] - 0s 28ms/step - loss: 172.3637 - mae: 11.4056 - mse: 172.3637 - val_loss: 147.5724 - val_mae: 10.7666 - val_mse: 147.5724\n",
            "Epoch 7/1000\n",
            "8/8 [==============================] - 0s 26ms/step - loss: 121.0804 - mae: 9.4908 - mse: 121.0804 - val_loss: 99.5629 - val_mae: 8.7756 - val_mse: 99.5629\n",
            "Epoch 8/1000\n",
            "8/8 [==============================] - 0s 26ms/step - loss: 80.4454 - mae: 7.6174 - mse: 80.4454 - val_loss: 63.8796 - val_mae: 6.8060 - val_mse: 63.8796\n",
            "Epoch 9/1000\n",
            "8/8 [==============================] - 0s 28ms/step - loss: 52.0400 - mae: 5.9321 - mse: 52.0400 - val_loss: 41.8623 - val_mae: 5.4298 - val_mse: 41.8623\n",
            "Epoch 10/1000\n",
            "8/8 [==============================] - 0s 27ms/step - loss: 35.5867 - mae: 4.7129 - mse: 35.5867 - val_loss: 31.1258 - val_mae: 4.6121 - val_mse: 31.1258\n",
            "Epoch 11/1000\n",
            "8/8 [==============================] - 0s 28ms/step - loss: 27.0046 - mae: 4.0258 - mse: 27.0046 - val_loss: 25.9568 - val_mae: 4.1097 - val_mse: 25.9568\n",
            "Epoch 12/1000\n",
            "8/8 [==============================] - 0s 21ms/step - loss: 22.5665 - mae: 3.6310 - mse: 22.5665 - val_loss: 23.1993 - val_mae: 3.8087 - val_mse: 23.1993\n",
            "Epoch 13/1000\n",
            "8/8 [==============================] - 0s 23ms/step - loss: 19.7867 - mae: 3.3973 - mse: 19.7867 - val_loss: 21.2122 - val_mae: 3.6419 - val_mse: 21.2122\n",
            "Epoch 14/1000\n",
            "8/8 [==============================] - 0s 12ms/step - loss: 17.9739 - mae: 3.2217 - mse: 17.9739 - val_loss: 19.1782 - val_mae: 3.4744 - val_mse: 19.1782\n",
            "Epoch 15/1000\n",
            "8/8 [==============================] - 0s 14ms/step - loss: 16.6983 - mae: 3.1295 - mse: 16.6983 - val_loss: 17.3077 - val_mae: 3.2223 - val_mse: 17.3077\n",
            "Epoch 16/1000\n",
            "8/8 [==============================] - 0s 13ms/step - loss: 15.1890 - mae: 2.9576 - mse: 15.1890 - val_loss: 16.8191 - val_mae: 3.0994 - val_mse: 16.8191\n",
            "Epoch 17/1000\n",
            "8/8 [==============================] - 0s 14ms/step - loss: 14.1553 - mae: 2.8606 - mse: 14.1553 - val_loss: 15.2753 - val_mae: 2.9846 - val_mse: 15.2753\n",
            "Epoch 18/1000\n",
            "8/8 [==============================] - 0s 14ms/step - loss: 13.2211 - mae: 2.7814 - mse: 13.2211 - val_loss: 13.7633 - val_mae: 2.8524 - val_mse: 13.7633\n",
            "Epoch 19/1000\n",
            "8/8 [==============================] - 0s 13ms/step - loss: 12.1758 - mae: 2.6608 - mse: 12.1758 - val_loss: 13.0480 - val_mae: 2.9338 - val_mse: 13.0480\n",
            "Epoch 20/1000\n",
            "8/8 [==============================] - 0s 14ms/step - loss: 11.6063 - mae: 2.5825 - mse: 11.6063 - val_loss: 12.1178 - val_mae: 2.6956 - val_mse: 12.1178\n",
            "Epoch 21/1000\n",
            "8/8 [==============================] - 0s 11ms/step - loss: 11.0668 - mae: 2.5090 - mse: 11.0668 - val_loss: 11.4546 - val_mae: 2.6402 - val_mse: 11.4546\n",
            "Epoch 22/1000\n",
            "8/8 [==============================] - 0s 15ms/step - loss: 10.4884 - mae: 2.4276 - mse: 10.4884 - val_loss: 11.3214 - val_mae: 2.5928 - val_mse: 11.3214\n",
            "Epoch 23/1000\n",
            "8/8 [==============================] - 0s 16ms/step - loss: 9.8351 - mae: 2.3610 - mse: 9.8351 - val_loss: 10.5387 - val_mae: 2.5308 - val_mse: 10.5387\n",
            "Epoch 24/1000\n",
            "8/8 [==============================] - 0s 17ms/step - loss: 9.4071 - mae: 2.3013 - mse: 9.4071 - val_loss: 10.3547 - val_mae: 2.5413 - val_mse: 10.3547\n",
            "Epoch 25/1000\n",
            "8/8 [==============================] - 0s 18ms/step - loss: 9.1570 - mae: 2.2283 - mse: 9.1570 - val_loss: 10.3432 - val_mae: 2.4398 - val_mse: 10.3432\n",
            "Epoch 26/1000\n",
            "8/8 [==============================] - 0s 14ms/step - loss: 8.7964 - mae: 2.2251 - mse: 8.7964 - val_loss: 9.7889 - val_mae: 2.4393 - val_mse: 9.7889\n",
            "Epoch 27/1000\n",
            "8/8 [==============================] - 0s 17ms/step - loss: 8.6883 - mae: 2.1476 - mse: 8.6883 - val_loss: 9.8083 - val_mae: 2.4036 - val_mse: 9.8083\n",
            "Epoch 28/1000\n",
            "8/8 [==============================] - 0s 13ms/step - loss: 8.4640 - mae: 2.1681 - mse: 8.4640 - val_loss: 9.3861 - val_mae: 2.3989 - val_mse: 9.3861\n",
            "Epoch 29/1000\n",
            "8/8 [==============================] - 0s 16ms/step - loss: 8.1961 - mae: 2.0948 - mse: 8.1961 - val_loss: 9.3126 - val_mae: 2.3862 - val_mse: 9.3126\n",
            "Epoch 30/1000\n",
            "8/8 [==============================] - 0s 16ms/step - loss: 8.1490 - mae: 2.1046 - mse: 8.1490 - val_loss: 9.5390 - val_mae: 2.4492 - val_mse: 9.5390\n",
            "Epoch 31/1000\n",
            "8/8 [==============================] - 0s 14ms/step - loss: 7.9986 - mae: 2.0795 - mse: 7.9986 - val_loss: 9.2362 - val_mae: 2.3225 - val_mse: 9.2362\n",
            "Epoch 32/1000\n",
            "8/8 [==============================] - 0s 12ms/step - loss: 7.8370 - mae: 2.0511 - mse: 7.8370 - val_loss: 9.1811 - val_mae: 2.3150 - val_mse: 9.1811\n",
            "Epoch 33/1000\n",
            "8/8 [==============================] - 0s 17ms/step - loss: 7.7329 - mae: 2.0471 - mse: 7.7329 - val_loss: 9.1985 - val_mae: 2.3275 - val_mse: 9.1985\n",
            "Epoch 34/1000\n",
            "8/8 [==============================] - 0s 13ms/step - loss: 7.6074 - mae: 2.0342 - mse: 7.6074 - val_loss: 9.2660 - val_mae: 2.3594 - val_mse: 9.2660\n",
            "Epoch 35/1000\n",
            "8/8 [==============================] - 0s 12ms/step - loss: 7.6808 - mae: 2.0235 - mse: 7.6808 - val_loss: 9.1895 - val_mae: 2.3351 - val_mse: 9.1895\n",
            "Epoch 36/1000\n",
            "8/8 [==============================] - 0s 13ms/step - loss: 7.2458 - mae: 1.9715 - mse: 7.2458 - val_loss: 9.2048 - val_mae: 2.3426 - val_mse: 9.2048\n",
            "Epoch 37/1000\n",
            "8/8 [==============================] - 0s 14ms/step - loss: 7.4413 - mae: 2.0151 - mse: 7.4413 - val_loss: 9.0261 - val_mae: 2.3351 - val_mse: 9.0261\n",
            "Epoch 38/1000\n",
            "8/8 [==============================] - 0s 12ms/step - loss: 7.2078 - mae: 1.9714 - mse: 7.2078 - val_loss: 9.1525 - val_mae: 2.3253 - val_mse: 9.1525\n",
            "Epoch 39/1000\n",
            "8/8 [==============================] - 0s 12ms/step - loss: 7.2093 - mae: 1.9648 - mse: 7.2093 - val_loss: 9.2510 - val_mae: 2.4181 - val_mse: 9.2510\n",
            "Epoch 40/1000\n",
            "8/8 [==============================] - 0s 14ms/step - loss: 7.0370 - mae: 1.9326 - mse: 7.0370 - val_loss: 8.9866 - val_mae: 2.3660 - val_mse: 8.9866\n",
            "Epoch 41/1000\n",
            "8/8 [==============================] - 0s 15ms/step - loss: 7.0203 - mae: 1.9040 - mse: 7.0203 - val_loss: 9.1484 - val_mae: 2.3113 - val_mse: 9.1484\n",
            "Epoch 42/1000\n",
            "8/8 [==============================] - 0s 16ms/step - loss: 6.8640 - mae: 1.9264 - mse: 6.8640 - val_loss: 8.9705 - val_mae: 2.3278 - val_mse: 8.9705\n",
            "Epoch 43/1000\n",
            "8/8 [==============================] - 0s 12ms/step - loss: 6.7432 - mae: 1.8768 - mse: 6.7432 - val_loss: 8.7667 - val_mae: 2.3186 - val_mse: 8.7667\n",
            "Epoch 44/1000\n",
            "8/8 [==============================] - 0s 11ms/step - loss: 6.9395 - mae: 1.9290 - mse: 6.9395 - val_loss: 9.2823 - val_mae: 2.3307 - val_mse: 9.2823\n",
            "Epoch 45/1000\n",
            "8/8 [==============================] - 0s 14ms/step - loss: 6.7290 - mae: 1.8969 - mse: 6.7290 - val_loss: 9.2431 - val_mae: 2.4162 - val_mse: 9.2431\n",
            "Epoch 46/1000\n",
            "8/8 [==============================] - 0s 18ms/step - loss: 6.7176 - mae: 1.8687 - mse: 6.7176 - val_loss: 9.0129 - val_mae: 2.3695 - val_mse: 9.0129\n",
            "Epoch 47/1000\n",
            "8/8 [==============================] - 0s 14ms/step - loss: 6.6427 - mae: 1.8668 - mse: 6.6427 - val_loss: 8.8906 - val_mae: 2.3588 - val_mse: 8.8906\n",
            "Epoch 48/1000\n",
            "8/8 [==============================] - 0s 12ms/step - loss: 6.7399 - mae: 1.8752 - mse: 6.7399 - val_loss: 9.0767 - val_mae: 2.4000 - val_mse: 9.0767\n",
            "Epoch 49/1000\n",
            "8/8 [==============================] - 0s 11ms/step - loss: 6.4673 - mae: 1.8050 - mse: 6.4673 - val_loss: 8.9023 - val_mae: 2.2841 - val_mse: 8.9023\n",
            "Epoch 50/1000\n",
            "8/8 [==============================] - 0s 13ms/step - loss: 6.4682 - mae: 1.8141 - mse: 6.4682 - val_loss: 9.2280 - val_mae: 2.2869 - val_mse: 9.2280\n",
            "Epoch 51/1000\n",
            "8/8 [==============================] - 0s 13ms/step - loss: 6.4747 - mae: 1.8515 - mse: 6.4747 - val_loss: 9.0267 - val_mae: 2.3434 - val_mse: 9.0267\n",
            "Epoch 52/1000\n",
            "8/8 [==============================] - 0s 13ms/step - loss: 6.3930 - mae: 1.8135 - mse: 6.3930 - val_loss: 8.9611 - val_mae: 2.3278 - val_mse: 8.9611\n",
            "Epoch 53/1000\n",
            "8/8 [==============================] - 0s 17ms/step - loss: 6.2771 - mae: 1.7830 - mse: 6.2771 - val_loss: 8.8382 - val_mae: 2.2834 - val_mse: 8.8382\n"
          ]
        }
      ]
    },
    {
      "cell_type": "code",
      "source": [
        "plot_history(history_he)"
      ],
      "metadata": {
        "colab": {
          "base_uri": "https://localhost:8080/",
          "height": 549
        },
        "id": "TJ15TGfaL4FI",
        "outputId": "3a2044a0-789e-4a66-df6c-de9290a333c6"
      },
      "execution_count": null,
      "outputs": [
        {
          "output_type": "display_data",
          "data": {
            "image/png": "[encoded data removed]",
            "text/plain": [
              "<Figure size 432x288 with 1 Axes>"
            ]
          },
          "metadata": {
            "needs_background": "light"
          }
        },
        {
          "output_type": "display_data",
          "data": {
            "image/png": "[encoded data removed]",
            "text/plain": [
              "<Figure size 432x288 with 1 Axes>"
            ]
          },
          "metadata": {
            "needs_background": "light"
          }
        }
      ]
    },
    {
      "cell_type": "markdown",
      "source": [
        "**Pregunta 6. Experimente utilizando dropout (Probar con valores pequeños en el parámetro de rate). Imprima, interprete y compare sus learning curves y predicciones respecto al ejemplo base.**"
      ],
      "metadata": {
        "id": "2LE_MvcK-md3"
      }
    },
    {
      "cell_type": "code",
      "source": [
        "model_dropout = keras.Sequential([\n",
        "  layers.Dense(64, activation='relu', kernel_initializer = 'he_uniform', input_shape=[len(train_dataset.keys())]),\n",
        "  layers.Dropout(0.2),\n",
        "  layers.Dense(64, activation='relu', kernel_initializer = 'he_uniform'),\n",
        "  layers.Dense(1)\n",
        "])\n",
        "\n",
        "optimizer = tf.keras.optimizers.RMSprop(0.001)\n",
        "\n",
        "model_dropout.compile(loss='mse',\n",
        "              optimizer=optimizer,\n",
        "              metrics=['mae', 'mse'])\n",
        "\n",
        "model_dropout.summary()\n",
        "\n",
        "early_stop = keras.callbacks.EarlyStopping(monitor='val_loss', patience=10)\n",
        "history_dropout = model_dropout.fit(\n",
        "  normed_train_data, train_labels,\n",
        "  epochs=EPOCHS, validation_split = 0.2, \n",
        "  verbose=1,\n",
        "  callbacks=[early_stop]\n",
        ")"
      ],
      "metadata": {
        "id": "0WnggpOq-pXl",
        "colab": {
          "base_uri": "https://localhost:8080/"
        },
        "outputId": "0eca82c8-341a-46c9-8865-bccada1bf08e"
      },
      "execution_count": null,
      "outputs": [
        {
          "output_type": "stream",
          "name": "stdout",
          "text": [
            "Model: \"sequential_7\"\n",
            "_________________________________________________________________\n",
            " Layer (type)                Output Shape              Param #   \n",
            "=================================================================\n",
            " dense_21 (Dense)            (None, 64)                640       \n",
            "                                                                 \n",
            " dropout_1 (Dropout)         (None, 64)                0         \n",
            "                                                                 \n",
            " dense_22 (Dense)            (None, 64)                4160      \n",
            "                                                                 \n",
            " dense_23 (Dense)            (None, 1)                 65        \n",
            "                                                                 \n",
            "=================================================================\n",
            "Total params: 4,865\n",
            "Trainable params: 4,865\n",
            "Non-trainable params: 0\n",
            "_________________________________________________________________\n",
            "Epoch 1/1000\n",
            "8/8 [==============================] - 1s 34ms/step - loss: 519.8116 - mae: 21.4099 - mse: 519.8116 - val_loss: 458.2909 - val_mae: 19.8441 - val_mse: 458.2909\n",
            "Epoch 2/1000\n",
            "8/8 [==============================] - 0s 8ms/step - loss: 418.9453 - mae: 18.8892 - mse: 418.9453 - val_loss: 364.7907 - val_mae: 17.2979 - val_mse: 364.7907\n",
            "Epoch 3/1000\n",
            "8/8 [==============================] - 0s 9ms/step - loss: 335.5298 - mae: 16.6098 - mse: 335.5298 - val_loss: 286.4038 - val_mae: 14.9211 - val_mse: 286.4038\n",
            "Epoch 4/1000\n",
            "8/8 [==============================] - 0s 8ms/step - loss: 269.8734 - mae: 14.5713 - mse: 269.8734 - val_loss: 217.4818 - val_mae: 12.7788 - val_mse: 217.4818\n",
            "Epoch 5/1000\n",
            "8/8 [==============================] - 0s 8ms/step - loss: 202.5602 - mae: 12.5264 - mse: 202.5602 - val_loss: 160.6896 - val_mae: 10.9691 - val_mse: 160.6896\n",
            "Epoch 6/1000\n",
            "8/8 [==============================] - 0s 9ms/step - loss: 150.3573 - mae: 10.5569 - mse: 150.3573 - val_loss: 115.4924 - val_mae: 9.3110 - val_mse: 115.4924\n",
            "Epoch 7/1000\n",
            "8/8 [==============================] - 0s 8ms/step - loss: 109.3204 - mae: 8.8263 - mse: 109.3204 - val_loss: 81.9040 - val_mae: 8.0476 - val_mse: 81.9040\n",
            "Epoch 8/1000\n",
            "8/8 [==============================] - 0s 8ms/step - loss: 76.4013 - mae: 7.2195 - mse: 76.4013 - val_loss: 60.7256 - val_mae: 6.8740 - val_mse: 60.7256\n",
            "Epoch 9/1000\n",
            "8/8 [==============================] - 0s 8ms/step - loss: 58.0766 - mae: 6.1718 - mse: 58.0766 - val_loss: 48.4620 - val_mae: 5.8520 - val_mse: 48.4620\n",
            "Epoch 10/1000\n",
            "8/8 [==============================] - 0s 10ms/step - loss: 38.8728 - mae: 5.0715 - mse: 38.8728 - val_loss: 42.9303 - val_mae: 5.3049 - val_mse: 42.9303\n",
            "Epoch 11/1000\n",
            "8/8 [==============================] - 0s 8ms/step - loss: 34.2803 - mae: 4.6849 - mse: 34.2803 - val_loss: 38.2643 - val_mae: 4.7789 - val_mse: 38.2643\n",
            "Epoch 12/1000\n",
            "8/8 [==============================] - 0s 15ms/step - loss: 31.3942 - mae: 4.3132 - mse: 31.3942 - val_loss: 33.6657 - val_mae: 4.3104 - val_mse: 33.6657\n",
            "Epoch 13/1000\n",
            "8/8 [==============================] - 0s 17ms/step - loss: 28.4931 - mae: 4.2240 - mse: 28.4931 - val_loss: 29.9314 - val_mae: 3.9591 - val_mse: 29.9314\n",
            "Epoch 14/1000\n",
            "8/8 [==============================] - 0s 15ms/step - loss: 26.2476 - mae: 4.0246 - mse: 26.2476 - val_loss: 26.4031 - val_mae: 3.7634 - val_mse: 26.4031\n",
            "Epoch 15/1000\n",
            "8/8 [==============================] - 0s 16ms/step - loss: 27.1158 - mae: 4.0460 - mse: 27.1158 - val_loss: 24.8166 - val_mae: 3.5411 - val_mse: 24.8166\n",
            "Epoch 16/1000\n",
            "8/8 [==============================] - 0s 15ms/step - loss: 23.6121 - mae: 3.8715 - mse: 23.6121 - val_loss: 22.5288 - val_mae: 3.3652 - val_mse: 22.5288\n",
            "Epoch 17/1000\n",
            "8/8 [==============================] - 0s 14ms/step - loss: 19.4524 - mae: 3.4599 - mse: 19.4524 - val_loss: 19.8997 - val_mae: 3.2633 - val_mse: 19.8997\n",
            "Epoch 18/1000\n",
            "8/8 [==============================] - 0s 14ms/step - loss: 25.6584 - mae: 3.8497 - mse: 25.6584 - val_loss: 19.7066 - val_mae: 3.1236 - val_mse: 19.7066\n",
            "Epoch 19/1000\n",
            "8/8 [==============================] - 0s 13ms/step - loss: 18.6409 - mae: 3.4046 - mse: 18.6409 - val_loss: 17.2386 - val_mae: 3.0828 - val_mse: 17.2386\n",
            "Epoch 20/1000\n",
            "8/8 [==============================] - 0s 13ms/step - loss: 22.8702 - mae: 3.7238 - mse: 22.8702 - val_loss: 16.3839 - val_mae: 3.0076 - val_mse: 16.3839\n",
            "Epoch 21/1000\n",
            "8/8 [==============================] - 0s 14ms/step - loss: 17.0513 - mae: 3.1344 - mse: 17.0513 - val_loss: 15.6138 - val_mae: 3.0028 - val_mse: 15.6138\n",
            "Epoch 22/1000\n",
            "8/8 [==============================] - 0s 13ms/step - loss: 19.9783 - mae: 3.3879 - mse: 19.9783 - val_loss: 14.2081 - val_mae: 3.0040 - val_mse: 14.2081\n",
            "Epoch 23/1000\n",
            "8/8 [==============================] - 0s 20ms/step - loss: 16.3131 - mae: 3.1821 - mse: 16.3131 - val_loss: 12.7999 - val_mae: 2.8362 - val_mse: 12.7999\n",
            "Epoch 24/1000\n",
            "8/8 [==============================] - 0s 14ms/step - loss: 18.7205 - mae: 3.3537 - mse: 18.7205 - val_loss: 12.7761 - val_mae: 2.7229 - val_mse: 12.7761\n",
            "Epoch 25/1000\n",
            "8/8 [==============================] - 0s 16ms/step - loss: 18.4529 - mae: 3.2119 - mse: 18.4529 - val_loss: 12.0822 - val_mae: 2.6445 - val_mse: 12.0822\n",
            "Epoch 26/1000\n",
            "8/8 [==============================] - 0s 17ms/step - loss: 18.6061 - mae: 3.2435 - mse: 18.6061 - val_loss: 11.7283 - val_mae: 2.7136 - val_mse: 11.7283\n",
            "Epoch 27/1000\n",
            "8/8 [==============================] - 0s 15ms/step - loss: 17.6028 - mae: 3.2044 - mse: 17.6028 - val_loss: 11.4697 - val_mae: 2.6720 - val_mse: 11.4697\n",
            "Epoch 28/1000\n",
            "8/8 [==============================] - 0s 14ms/step - loss: 16.9871 - mae: 3.1547 - mse: 16.9871 - val_loss: 11.4200 - val_mae: 2.6263 - val_mse: 11.4200\n",
            "Epoch 29/1000\n",
            "8/8 [==============================] - 0s 14ms/step - loss: 14.2599 - mae: 2.8696 - mse: 14.2599 - val_loss: 11.1624 - val_mae: 2.6823 - val_mse: 11.1624\n",
            "Epoch 30/1000\n",
            "8/8 [==============================] - 0s 14ms/step - loss: 15.3858 - mae: 3.0373 - mse: 15.3858 - val_loss: 11.3170 - val_mae: 2.5263 - val_mse: 11.3170\n",
            "Epoch 31/1000\n",
            "8/8 [==============================] - 0s 18ms/step - loss: 15.3178 - mae: 3.0588 - mse: 15.3178 - val_loss: 10.3789 - val_mae: 2.5674 - val_mse: 10.3789\n",
            "Epoch 32/1000\n",
            "8/8 [==============================] - 0s 15ms/step - loss: 15.4223 - mae: 3.0039 - mse: 15.4223 - val_loss: 10.7032 - val_mae: 2.6638 - val_mse: 10.7032\n",
            "Epoch 33/1000\n",
            "8/8 [==============================] - 0s 16ms/step - loss: 15.0509 - mae: 2.9901 - mse: 15.0509 - val_loss: 9.9499 - val_mae: 2.4931 - val_mse: 9.9499\n",
            "Epoch 34/1000\n",
            "8/8 [==============================] - 0s 17ms/step - loss: 14.7448 - mae: 2.9426 - mse: 14.7448 - val_loss: 10.1441 - val_mae: 2.4613 - val_mse: 10.1441\n",
            "Epoch 35/1000\n",
            "8/8 [==============================] - 0s 14ms/step - loss: 16.2609 - mae: 3.1994 - mse: 16.2609 - val_loss: 9.9659 - val_mae: 2.4299 - val_mse: 9.9659\n",
            "Epoch 36/1000\n",
            "8/8 [==============================] - 0s 18ms/step - loss: 14.9348 - mae: 3.0054 - mse: 14.9348 - val_loss: 10.1005 - val_mae: 2.4135 - val_mse: 10.1005\n",
            "Epoch 37/1000\n",
            "8/8 [==============================] - 0s 18ms/step - loss: 15.5009 - mae: 2.9270 - mse: 15.5009 - val_loss: 9.8878 - val_mae: 2.4442 - val_mse: 9.8878\n",
            "Epoch 38/1000\n",
            "8/8 [==============================] - 0s 18ms/step - loss: 15.9204 - mae: 2.8990 - mse: 15.9204 - val_loss: 10.1509 - val_mae: 2.6214 - val_mse: 10.1509\n",
            "Epoch 39/1000\n",
            "8/8 [==============================] - 0s 11ms/step - loss: 15.6361 - mae: 3.0767 - mse: 15.6361 - val_loss: 10.3290 - val_mae: 2.6301 - val_mse: 10.3290\n",
            "Epoch 40/1000\n",
            "8/8 [==============================] - 0s 8ms/step - loss: 13.6621 - mae: 2.7272 - mse: 13.6621 - val_loss: 9.4253 - val_mae: 2.4273 - val_mse: 9.4253\n",
            "Epoch 41/1000\n",
            "8/8 [==============================] - 0s 9ms/step - loss: 17.2622 - mae: 3.1488 - mse: 17.2622 - val_loss: 9.6194 - val_mae: 2.4672 - val_mse: 9.6194\n",
            "Epoch 42/1000\n",
            "8/8 [==============================] - 0s 8ms/step - loss: 13.3508 - mae: 2.8009 - mse: 13.3508 - val_loss: 9.5767 - val_mae: 2.4047 - val_mse: 9.5767\n",
            "Epoch 43/1000\n",
            "8/8 [==============================] - 0s 8ms/step - loss: 13.0488 - mae: 2.7509 - mse: 13.0488 - val_loss: 9.5188 - val_mae: 2.4246 - val_mse: 9.5188\n",
            "Epoch 44/1000\n",
            "8/8 [==============================] - 0s 8ms/step - loss: 15.5530 - mae: 3.0059 - mse: 15.5530 - val_loss: 9.4390 - val_mae: 2.3850 - val_mse: 9.4390\n",
            "Epoch 45/1000\n",
            "8/8 [==============================] - 0s 11ms/step - loss: 14.4675 - mae: 2.8690 - mse: 14.4675 - val_loss: 10.1215 - val_mae: 2.2785 - val_mse: 10.1215\n",
            "Epoch 46/1000\n",
            "8/8 [==============================] - 0s 8ms/step - loss: 14.0669 - mae: 2.8634 - mse: 14.0669 - val_loss: 8.9629 - val_mae: 2.3358 - val_mse: 8.9629\n",
            "Epoch 47/1000\n",
            "8/8 [==============================] - 0s 13ms/step - loss: 13.6816 - mae: 2.7117 - mse: 13.6816 - val_loss: 9.2794 - val_mae: 2.3914 - val_mse: 9.2794\n",
            "Epoch 48/1000\n",
            "8/8 [==============================] - 0s 8ms/step - loss: 12.0991 - mae: 2.7441 - mse: 12.0991 - val_loss: 9.0376 - val_mae: 2.3473 - val_mse: 9.0376\n",
            "Epoch 49/1000\n",
            "8/8 [==============================] - 0s 8ms/step - loss: 12.6869 - mae: 2.7509 - mse: 12.6869 - val_loss: 9.4223 - val_mae: 2.4086 - val_mse: 9.4223\n",
            "Epoch 50/1000\n",
            "8/8 [==============================] - 0s 9ms/step - loss: 13.5632 - mae: 2.7877 - mse: 13.5632 - val_loss: 9.2470 - val_mae: 2.3753 - val_mse: 9.2470\n",
            "Epoch 51/1000\n",
            "8/8 [==============================] - 0s 10ms/step - loss: 13.9516 - mae: 2.9228 - mse: 13.9516 - val_loss: 9.3868 - val_mae: 2.5136 - val_mse: 9.3868\n",
            "Epoch 52/1000\n",
            "8/8 [==============================] - 0s 9ms/step - loss: 15.5753 - mae: 2.9627 - mse: 15.5753 - val_loss: 9.1964 - val_mae: 2.3384 - val_mse: 9.1964\n",
            "Epoch 53/1000\n",
            "8/8 [==============================] - 0s 14ms/step - loss: 14.6599 - mae: 2.8538 - mse: 14.6599 - val_loss: 9.4695 - val_mae: 2.4273 - val_mse: 9.4695\n",
            "Epoch 54/1000\n",
            "8/8 [==============================] - 0s 12ms/step - loss: 12.9389 - mae: 2.6860 - mse: 12.9389 - val_loss: 9.5861 - val_mae: 2.4433 - val_mse: 9.5861\n",
            "Epoch 55/1000\n",
            "8/8 [==============================] - 0s 13ms/step - loss: 13.0111 - mae: 2.7676 - mse: 13.0111 - val_loss: 9.5417 - val_mae: 2.3283 - val_mse: 9.5417\n",
            "Epoch 56/1000\n",
            "8/8 [==============================] - 0s 13ms/step - loss: 12.4983 - mae: 2.5934 - mse: 12.4983 - val_loss: 9.2155 - val_mae: 2.3020 - val_mse: 9.2155\n"
          ]
        }
      ]
    },
    {
      "cell_type": "code",
      "source": [
        "plot_history(history_dropout)"
      ],
      "metadata": {
        "colab": {
          "base_uri": "https://localhost:8080/",
          "height": 549
        },
        "id": "ngbiiz9DLzgN",
        "outputId": "3f9fabc2-1e34-49a1-987e-8cfbcefed4b8"
      },
      "execution_count": null,
      "outputs": [
        {
          "output_type": "display_data",
          "data": {
            "image/png": "[encoded data removed]",
            "text/plain": [
              "<Figure size 432x288 with 1 Axes>"
            ]
          },
          "metadata": {
            "needs_background": "light"
          }
        },
        {
          "output_type": "display_data",
          "data": {
            "image/png": "[encoded data removed]",
            "text/plain": [
              "<Figure size 432x288 with 1 Axes>"
            ]
          },
          "metadata": {
            "needs_background": "light"
          }
        }
      ]
    },
    {
      "cell_type": "markdown",
      "source": [
        "**Pregunta 7. Experimente utilizando regularización sobre los pesos (sea l1 o l2). Imprima, interprete y compare sus learning curves y predicciones respecto al ejemplo base.**"
      ],
      "metadata": {
        "id": "Gt3H25SV-yYh"
      }
    },
    {
      "cell_type": "code",
      "source": [
        "from keras import regularizers"
      ],
      "metadata": {
        "id": "t0gx1uLy-7ey"
      },
      "execution_count": null,
      "outputs": []
    },
    {
      "cell_type": "code",
      "source": [
        "l2_r = regularizers.L2(l2 = 0.01)\n",
        "model_l2 = keras.Sequential([\n",
        "  layers.Dense(64, activation='relu', kernel_initializer = 'he_uniform', kernel_regularizer = l2_r, input_shape=[len(train_dataset.keys())]),\n",
        "  layers.Dense(64, activation='relu', kernel_initializer = 'he_uniform'),\n",
        "  layers.Dense(1)\n",
        "])\n",
        "\n",
        "optimizer = tf.keras.optimizers.RMSprop(0.001)\n",
        "\n",
        "model_l2.compile(loss='mse',\n",
        "              optimizer=optimizer,\n",
        "              metrics=['mae', 'mse'])\n",
        "\n",
        "model_l2.summary()\n",
        "\n",
        "early_stop = keras.callbacks.EarlyStopping(monitor='val_loss', patience=10)\n",
        "history_l2 = model_l2.fit(\n",
        "  normed_train_data, train_labels,\n",
        "  epochs=EPOCHS, validation_split = 0.2, \n",
        "  verbose=1,\n",
        "  callbacks=[early_stop]\n",
        ")"
      ],
      "metadata": {
        "colab": {
          "base_uri": "https://localhost:8080/"
        },
        "id": "1WxxR4j8K_3T",
        "outputId": "d0b6b41e-062b-4c5f-edc4-a326de429242"
      },
      "execution_count": null,
      "outputs": [
        {
          "output_type": "stream",
          "name": "stdout",
          "text": [
            "Model: \"sequential_8\"\n",
            "_________________________________________________________________\n",
            " Layer (type)                Output Shape              Param #   \n",
            "=================================================================\n",
            " dense_24 (Dense)            (None, 64)                640       \n",
            "                                                                 \n",
            " dense_25 (Dense)            (None, 64)                4160      \n",
            "                                                                 \n",
            " dense_26 (Dense)            (None, 1)                 65        \n",
            "                                                                 \n",
            "=================================================================\n",
            "Total params: 4,865\n",
            "Trainable params: 4,865\n",
            "Non-trainable params: 0\n",
            "_________________________________________________________________\n",
            "Epoch 1/1000\n",
            "8/8 [==============================] - 2s 61ms/step - loss: 569.6261 - mae: 22.4215 - mse: 568.3246 - val_loss: 512.8658 - val_mae: 21.0808 - val_mse: 511.5605\n",
            "Epoch 2/1000\n",
            "8/8 [==============================] - 0s 14ms/step - loss: 464.7586 - mae: 19.9961 - mse: 463.4493 - val_loss: 422.8371 - val_mae: 18.8321 - val_mse: 421.5220\n",
            "Epoch 3/1000\n",
            "8/8 [==============================] - 0s 14ms/step - loss: 385.0531 - mae: 17.9385 - mse: 383.7332 - val_loss: 340.6990 - val_mae: 16.5444 - val_mse: 339.3721\n",
            "Epoch 4/1000\n",
            "8/8 [==============================] - 0s 14ms/step - loss: 311.7527 - mae: 15.7945 - mse: 310.4203 - val_loss: 267.1520 - val_mae: 14.2775 - val_mse: 265.8124\n",
            "Epoch 5/1000\n",
            "8/8 [==============================] - 0s 16ms/step - loss: 245.2998 - mae: 13.7251 - mse: 243.9548 - val_loss: 203.9318 - val_mae: 12.1597 - val_mse: 202.5794\n",
            "Epoch 6/1000\n",
            "8/8 [==============================] - 0s 19ms/step - loss: 187.9476 - mae: 11.7169 - mse: 186.5901 - val_loss: 153.3492 - val_mae: 10.3134 - val_mse: 151.9853\n",
            "Epoch 7/1000\n",
            "8/8 [==============================] - 0s 16ms/step - loss: 141.2702 - mae: 9.8403 - mse: 139.9014 - val_loss: 114.5137 - val_mae: 8.8846 - val_mse: 113.1394\n",
            "Epoch 8/1000\n",
            "8/8 [==============================] - 0s 15ms/step - loss: 104.4738 - mae: 8.1741 - mse: 103.0961 - val_loss: 86.2488 - val_mae: 7.6784 - val_mse: 84.8652\n",
            "Epoch 9/1000\n",
            "8/8 [==============================] - 0s 16ms/step - loss: 77.8091 - mae: 6.7984 - mse: 76.4226 - val_loss: 69.9846 - val_mae: 6.6758 - val_mse: 68.5945\n",
            "Epoch 10/1000\n",
            "8/8 [==============================] - 0s 14ms/step - loss: 60.4387 - mae: 5.9335 - mse: 59.0469 - val_loss: 60.7051 - val_mae: 6.0274 - val_mse: 59.3104\n",
            "Epoch 11/1000\n",
            "8/8 [==============================] - 0s 12ms/step - loss: 49.2174 - mae: 5.3882 - mse: 47.8216 - val_loss: 54.0874 - val_mae: 5.6175 - val_mse: 52.6909\n",
            "Epoch 12/1000\n",
            "8/8 [==============================] - 0s 13ms/step - loss: 40.6703 - mae: 4.8713 - mse: 39.2736 - val_loss: 48.4070 - val_mae: 5.2623 - val_mse: 47.0084\n",
            "Epoch 13/1000\n",
            "8/8 [==============================] - 0s 12ms/step - loss: 33.2579 - mae: 4.3563 - mse: 31.8600 - val_loss: 43.6717 - val_mae: 4.9432 - val_mse: 42.2715\n",
            "Epoch 14/1000\n",
            "8/8 [==============================] - 0s 9ms/step - loss: 27.7790 - mae: 4.0212 - mse: 26.3791 - val_loss: 35.9667 - val_mae: 4.4844 - val_mse: 34.5679\n",
            "Epoch 15/1000\n",
            "8/8 [==============================] - 0s 8ms/step - loss: 23.2758 - mae: 3.5808 - mse: 21.8764 - val_loss: 31.8530 - val_mae: 4.1724 - val_mse: 30.4535\n",
            "Epoch 16/1000\n",
            "8/8 [==============================] - 0s 9ms/step - loss: 20.0196 - mae: 3.3292 - mse: 18.6196 - val_loss: 28.0599 - val_mae: 3.8215 - val_mse: 26.6598\n",
            "Epoch 17/1000\n",
            "8/8 [==============================] - 0s 24ms/step - loss: 17.3857 - mae: 3.0548 - mse: 15.9850 - val_loss: 24.8145 - val_mae: 3.6171 - val_mse: 23.4146\n",
            "Epoch 18/1000\n",
            "8/8 [==============================] - 0s 15ms/step - loss: 15.6850 - mae: 2.8825 - mse: 14.2841 - val_loss: 22.3858 - val_mae: 3.4608 - val_mse: 20.9856\n",
            "Epoch 19/1000\n",
            "8/8 [==============================] - 0s 15ms/step - loss: 14.4320 - mae: 2.7493 - mse: 13.0317 - val_loss: 22.5085 - val_mae: 3.3093 - val_mse: 21.1053\n",
            "Epoch 20/1000\n",
            "8/8 [==============================] - 0s 25ms/step - loss: 13.7423 - mae: 2.6099 - mse: 12.3402 - val_loss: 18.9438 - val_mae: 3.1339 - val_mse: 17.5439\n",
            "Epoch 21/1000\n",
            "8/8 [==============================] - 0s 17ms/step - loss: 12.8324 - mae: 2.4850 - mse: 11.4317 - val_loss: 17.8701 - val_mae: 2.9544 - val_mse: 16.4697\n",
            "Epoch 22/1000\n",
            "8/8 [==============================] - 0s 22ms/step - loss: 12.3538 - mae: 2.4117 - mse: 10.9534 - val_loss: 17.1438 - val_mae: 3.0044 - val_mse: 15.7444\n",
            "Epoch 23/1000\n",
            "8/8 [==============================] - 0s 18ms/step - loss: 11.8444 - mae: 2.3643 - mse: 10.4448 - val_loss: 16.3293 - val_mae: 2.8352 - val_mse: 14.9297\n",
            "Epoch 24/1000\n",
            "8/8 [==============================] - 0s 19ms/step - loss: 11.3531 - mae: 2.3055 - mse: 9.9539 - val_loss: 15.2458 - val_mae: 2.7538 - val_mse: 13.8475\n",
            "Epoch 25/1000\n",
            "8/8 [==============================] - 0s 16ms/step - loss: 10.8183 - mae: 2.2477 - mse: 9.4199 - val_loss: 14.8051 - val_mae: 2.7101 - val_mse: 13.4078\n",
            "Epoch 26/1000\n",
            "8/8 [==============================] - 0s 20ms/step - loss: 10.5928 - mae: 2.2154 - mse: 9.1956 - val_loss: 14.6025 - val_mae: 2.6801 - val_mse: 13.2052\n",
            "Epoch 27/1000\n",
            "8/8 [==============================] - 0s 19ms/step - loss: 10.2976 - mae: 2.1696 - mse: 8.9008 - val_loss: 13.9360 - val_mae: 2.6365 - val_mse: 12.5405\n",
            "Epoch 28/1000\n",
            "8/8 [==============================] - 0s 19ms/step - loss: 9.9162 - mae: 2.1064 - mse: 8.5203 - val_loss: 13.5116 - val_mae: 2.5877 - val_mse: 12.1169\n",
            "Epoch 29/1000\n",
            "8/8 [==============================] - 0s 17ms/step - loss: 9.7459 - mae: 2.1049 - mse: 8.3514 - val_loss: 13.2558 - val_mae: 2.5233 - val_mse: 11.8616\n",
            "Epoch 30/1000\n",
            "8/8 [==============================] - 0s 19ms/step - loss: 9.8121 - mae: 2.0919 - mse: 8.4185 - val_loss: 13.1502 - val_mae: 2.5130 - val_mse: 11.7571\n",
            "Epoch 31/1000\n",
            "8/8 [==============================] - 0s 17ms/step - loss: 9.4414 - mae: 2.0722 - mse: 8.0487 - val_loss: 12.7133 - val_mae: 2.5381 - val_mse: 11.3219\n",
            "Epoch 32/1000\n",
            "8/8 [==============================] - 0s 17ms/step - loss: 9.2355 - mae: 2.0134 - mse: 7.8446 - val_loss: 13.9289 - val_mae: 2.5444 - val_mse: 12.5360\n",
            "Epoch 33/1000\n",
            "8/8 [==============================] - 0s 21ms/step - loss: 9.3693 - mae: 2.0386 - mse: 7.9789 - val_loss: 12.9137 - val_mae: 2.4421 - val_mse: 11.5229\n",
            "Epoch 34/1000\n",
            "8/8 [==============================] - 0s 23ms/step - loss: 9.1444 - mae: 1.9973 - mse: 7.7553 - val_loss: 12.6148 - val_mae: 2.4270 - val_mse: 11.2254\n",
            "Epoch 35/1000\n",
            "8/8 [==============================] - 0s 17ms/step - loss: 8.8354 - mae: 2.0006 - mse: 7.4473 - val_loss: 12.3451 - val_mae: 2.4836 - val_mse: 10.9578\n",
            "Epoch 36/1000\n",
            "8/8 [==============================] - 0s 23ms/step - loss: 8.8538 - mae: 1.9545 - mse: 7.4671 - val_loss: 11.9593 - val_mae: 2.4436 - val_mse: 10.5735\n",
            "Epoch 37/1000\n",
            "8/8 [==============================] - 0s 17ms/step - loss: 8.8550 - mae: 1.9542 - mse: 7.4697 - val_loss: 11.9980 - val_mae: 2.4632 - val_mse: 10.6138\n",
            "Epoch 38/1000\n",
            "8/8 [==============================] - 0s 17ms/step - loss: 8.6242 - mae: 1.9148 - mse: 7.2405 - val_loss: 11.9454 - val_mae: 2.3754 - val_mse: 10.5617\n",
            "Epoch 39/1000\n",
            "8/8 [==============================] - 0s 17ms/step - loss: 8.6536 - mae: 1.9259 - mse: 7.2711 - val_loss: 11.5141 - val_mae: 2.3813 - val_mse: 10.1323\n",
            "Epoch 40/1000\n",
            "8/8 [==============================] - 0s 22ms/step - loss: 8.6038 - mae: 1.9033 - mse: 7.2227 - val_loss: 11.5251 - val_mae: 2.4948 - val_mse: 10.1458\n",
            "Epoch 41/1000\n",
            "8/8 [==============================] - 0s 18ms/step - loss: 8.6443 - mae: 1.9530 - mse: 7.2647 - val_loss: 11.6987 - val_mae: 2.3888 - val_mse: 10.3192\n",
            "Epoch 42/1000\n",
            "8/8 [==============================] - 0s 19ms/step - loss: 8.4943 - mae: 1.9360 - mse: 7.1157 - val_loss: 11.4716 - val_mae: 2.4457 - val_mse: 10.0945\n",
            "Epoch 43/1000\n",
            "8/8 [==============================] - 0s 23ms/step - loss: 8.4157 - mae: 1.9194 - mse: 7.0385 - val_loss: 11.2666 - val_mae: 2.4179 - val_mse: 9.8908\n",
            "Epoch 44/1000\n",
            "8/8 [==============================] - 0s 21ms/step - loss: 8.6425 - mae: 1.9348 - mse: 7.2669 - val_loss: 11.1687 - val_mae: 2.3570 - val_mse: 9.7934\n",
            "Epoch 45/1000\n",
            "8/8 [==============================] - 0s 20ms/step - loss: 8.2214 - mae: 1.8902 - mse: 6.8468 - val_loss: 11.4567 - val_mae: 2.3240 - val_mse: 10.0818\n",
            "Epoch 46/1000\n",
            "8/8 [==============================] - 0s 21ms/step - loss: 8.4764 - mae: 1.9005 - mse: 7.1027 - val_loss: 11.0054 - val_mae: 2.3984 - val_mse: 9.6335\n",
            "Epoch 47/1000\n",
            "8/8 [==============================] - 0s 23ms/step - loss: 8.1512 - mae: 1.8392 - mse: 6.7797 - val_loss: 11.7056 - val_mae: 2.3045 - val_mse: 10.3329\n",
            "Epoch 48/1000\n",
            "8/8 [==============================] - 0s 21ms/step - loss: 8.1241 - mae: 1.8641 - mse: 6.7531 - val_loss: 11.0512 - val_mae: 2.2972 - val_mse: 9.6809\n",
            "Epoch 49/1000\n",
            "8/8 [==============================] - 0s 23ms/step - loss: 8.1229 - mae: 1.8524 - mse: 6.7537 - val_loss: 10.9900 - val_mae: 2.3001 - val_mse: 9.6209\n",
            "Epoch 50/1000\n",
            "8/8 [==============================] - 0s 17ms/step - loss: 8.0372 - mae: 1.8392 - mse: 6.6685 - val_loss: 10.8044 - val_mae: 2.3792 - val_mse: 9.4376\n",
            "Epoch 51/1000\n",
            "8/8 [==============================] - 0s 14ms/step - loss: 7.9575 - mae: 1.8424 - mse: 6.5906 - val_loss: 10.7483 - val_mae: 2.3471 - val_mse: 9.3824\n",
            "Epoch 52/1000\n",
            "8/8 [==============================] - 0s 14ms/step - loss: 7.9090 - mae: 1.8142 - mse: 6.5434 - val_loss: 10.7641 - val_mae: 2.2932 - val_mse: 9.3991\n",
            "Epoch 53/1000\n",
            "8/8 [==============================] - 0s 16ms/step - loss: 7.7455 - mae: 1.7846 - mse: 6.3811 - val_loss: 10.8431 - val_mae: 2.2813 - val_mse: 9.4790\n",
            "Epoch 54/1000\n",
            "8/8 [==============================] - 0s 16ms/step - loss: 7.8859 - mae: 1.8320 - mse: 6.5226 - val_loss: 10.8990 - val_mae: 2.3677 - val_mse: 9.5372\n",
            "Epoch 55/1000\n",
            "8/8 [==============================] - 0s 8ms/step - loss: 7.8146 - mae: 1.7718 - mse: 6.4532 - val_loss: 10.9707 - val_mae: 2.2292 - val_mse: 9.6087\n",
            "Epoch 56/1000\n",
            "8/8 [==============================] - 0s 8ms/step - loss: 8.0124 - mae: 1.8514 - mse: 6.6518 - val_loss: 10.7914 - val_mae: 2.2825 - val_mse: 9.4312\n",
            "Epoch 57/1000\n",
            "8/8 [==============================] - 0s 9ms/step - loss: 7.6517 - mae: 1.7864 - mse: 6.2923 - val_loss: 10.7574 - val_mae: 2.3943 - val_mse: 9.3993\n",
            "Epoch 58/1000\n",
            "8/8 [==============================] - 0s 9ms/step - loss: 7.6257 - mae: 1.7855 - mse: 6.2677 - val_loss: 10.7073 - val_mae: 2.2809 - val_mse: 9.3496\n",
            "Epoch 59/1000\n",
            "8/8 [==============================] - 0s 9ms/step - loss: 7.5867 - mae: 1.7689 - mse: 6.2298 - val_loss: 10.6011 - val_mae: 2.2933 - val_mse: 9.2448\n",
            "Epoch 60/1000\n",
            "8/8 [==============================] - 0s 8ms/step - loss: 7.7896 - mae: 1.7936 - mse: 6.4341 - val_loss: 10.5567 - val_mae: 2.2693 - val_mse: 9.2015\n",
            "Epoch 61/1000\n",
            "8/8 [==============================] - 0s 8ms/step - loss: 7.4071 - mae: 1.7547 - mse: 6.0525 - val_loss: 10.6092 - val_mae: 2.4038 - val_mse: 9.2563\n",
            "Epoch 62/1000\n",
            "8/8 [==============================] - 0s 9ms/step - loss: 7.5977 - mae: 1.7729 - mse: 6.2447 - val_loss: 10.7951 - val_mae: 2.2451 - val_mse: 9.4420\n",
            "Epoch 63/1000\n",
            "8/8 [==============================] - 0s 8ms/step - loss: 7.7543 - mae: 1.7875 - mse: 6.4021 - val_loss: 10.4642 - val_mae: 2.2928 - val_mse: 9.1130\n",
            "Epoch 64/1000\n",
            "8/8 [==============================] - 0s 8ms/step - loss: 7.4579 - mae: 1.7627 - mse: 6.1068 - val_loss: 10.9231 - val_mae: 2.4773 - val_mse: 9.5746\n",
            "Epoch 65/1000\n",
            "8/8 [==============================] - 0s 8ms/step - loss: 7.4261 - mae: 1.7171 - mse: 6.0769 - val_loss: 10.5414 - val_mae: 2.3050 - val_mse: 9.1925\n",
            "Epoch 66/1000\n",
            "8/8 [==============================] - 0s 8ms/step - loss: 7.4577 - mae: 1.7458 - mse: 6.1093 - val_loss: 10.4648 - val_mae: 2.3376 - val_mse: 9.1174\n",
            "Epoch 67/1000\n",
            "8/8 [==============================] - 0s 8ms/step - loss: 7.4419 - mae: 1.7211 - mse: 6.0946 - val_loss: 10.4235 - val_mae: 2.2882 - val_mse: 9.0769\n",
            "Epoch 68/1000\n",
            "8/8 [==============================] - 0s 8ms/step - loss: 7.3705 - mae: 1.7321 - mse: 6.0248 - val_loss: 10.4834 - val_mae: 2.2549 - val_mse: 9.1373\n",
            "Epoch 69/1000\n",
            "8/8 [==============================] - 0s 8ms/step - loss: 7.4247 - mae: 1.7594 - mse: 6.0797 - val_loss: 10.3290 - val_mae: 2.2944 - val_mse: 8.9850\n",
            "Epoch 70/1000\n",
            "8/8 [==============================] - 0s 8ms/step - loss: 7.3129 - mae: 1.6989 - mse: 5.9696 - val_loss: 10.5849 - val_mae: 2.2410 - val_mse: 9.2409\n",
            "Epoch 71/1000\n",
            "8/8 [==============================] - 0s 8ms/step - loss: 7.1888 - mae: 1.7161 - mse: 5.8460 - val_loss: 10.7487 - val_mae: 2.4456 - val_mse: 9.4079\n",
            "Epoch 72/1000\n",
            "8/8 [==============================] - 0s 10ms/step - loss: 7.2156 - mae: 1.7133 - mse: 5.8743 - val_loss: 10.3909 - val_mae: 2.2791 - val_mse: 9.0497\n",
            "Epoch 73/1000\n",
            "8/8 [==============================] - 0s 8ms/step - loss: 7.0861 - mae: 1.7075 - mse: 5.7454 - val_loss: 10.5305 - val_mae: 2.4029 - val_mse: 9.1915\n",
            "Epoch 74/1000\n",
            "8/8 [==============================] - 0s 8ms/step - loss: 7.2048 - mae: 1.6971 - mse: 5.8658 - val_loss: 10.6166 - val_mae: 2.2098 - val_mse: 9.2770\n",
            "Epoch 75/1000\n",
            "8/8 [==============================] - 0s 8ms/step - loss: 7.1557 - mae: 1.7052 - mse: 5.8176 - val_loss: 10.5898 - val_mae: 2.2429 - val_mse: 9.2517\n",
            "Epoch 76/1000\n",
            "8/8 [==============================] - 0s 8ms/step - loss: 6.9945 - mae: 1.6851 - mse: 5.6575 - val_loss: 10.2862 - val_mae: 2.2560 - val_mse: 8.9499\n",
            "Epoch 77/1000\n",
            "8/8 [==============================] - 0s 10ms/step - loss: 7.1463 - mae: 1.6706 - mse: 5.8106 - val_loss: 10.4176 - val_mae: 2.2109 - val_mse: 9.0819\n",
            "Epoch 78/1000\n",
            "8/8 [==============================] - 0s 8ms/step - loss: 7.1179 - mae: 1.6931 - mse: 5.7833 - val_loss: 10.1425 - val_mae: 2.3489 - val_mse: 8.8096\n",
            "Epoch 79/1000\n",
            "8/8 [==============================] - 0s 8ms/step - loss: 7.0520 - mae: 1.6838 - mse: 5.7190 - val_loss: 10.2057 - val_mae: 2.3478 - val_mse: 8.8736\n",
            "Epoch 80/1000\n",
            "8/8 [==============================] - 0s 8ms/step - loss: 6.9644 - mae: 1.6562 - mse: 5.6322 - val_loss: 10.3899 - val_mae: 2.3692 - val_mse: 9.0594\n",
            "Epoch 81/1000\n",
            "8/8 [==============================] - 0s 8ms/step - loss: 6.8726 - mae: 1.6840 - mse: 5.5415 - val_loss: 11.0646 - val_mae: 2.5311 - val_mse: 9.7364\n",
            "Epoch 82/1000\n",
            "8/8 [==============================] - 0s 9ms/step - loss: 7.3453 - mae: 1.6918 - mse: 6.0156 - val_loss: 10.1518 - val_mae: 2.3544 - val_mse: 8.8236\n",
            "Epoch 83/1000\n",
            "8/8 [==============================] - 0s 8ms/step - loss: 7.0920 - mae: 1.6667 - mse: 5.7636 - val_loss: 10.2362 - val_mae: 2.2820 - val_mse: 8.9080\n",
            "Epoch 84/1000\n",
            "8/8 [==============================] - 0s 9ms/step - loss: 6.8671 - mae: 1.6540 - mse: 5.5395 - val_loss: 10.1755 - val_mae: 2.2222 - val_mse: 8.8478\n",
            "Epoch 85/1000\n",
            "8/8 [==============================] - 0s 8ms/step - loss: 6.8965 - mae: 1.6596 - mse: 5.5695 - val_loss: 10.3082 - val_mae: 2.3490 - val_mse: 8.9824\n",
            "Epoch 86/1000\n",
            "8/8 [==============================] - 0s 9ms/step - loss: 6.7886 - mae: 1.6194 - mse: 5.4627 - val_loss: 10.1555 - val_mae: 2.3317 - val_mse: 8.8309\n",
            "Epoch 87/1000\n",
            "8/8 [==============================] - 0s 8ms/step - loss: 6.7455 - mae: 1.6216 - mse: 5.4209 - val_loss: 10.0925 - val_mae: 2.3253 - val_mse: 8.7689\n",
            "Epoch 88/1000\n",
            "8/8 [==============================] - 0s 8ms/step - loss: 7.0068 - mae: 1.6632 - mse: 5.6828 - val_loss: 10.0327 - val_mae: 2.2661 - val_mse: 8.7097\n",
            "Epoch 89/1000\n",
            "8/8 [==============================] - 0s 9ms/step - loss: 6.8265 - mae: 1.6109 - mse: 5.5038 - val_loss: 10.2949 - val_mae: 2.3700 - val_mse: 8.9738\n",
            "Epoch 90/1000\n",
            "8/8 [==============================] - 0s 8ms/step - loss: 6.8392 - mae: 1.6348 - mse: 5.5178 - val_loss: 10.0713 - val_mae: 2.3500 - val_mse: 8.7513\n",
            "Epoch 91/1000\n",
            "8/8 [==============================] - 0s 9ms/step - loss: 6.7061 - mae: 1.6026 - mse: 5.3862 - val_loss: 10.5902 - val_mae: 2.2510 - val_mse: 9.2695\n",
            "Epoch 92/1000\n",
            "8/8 [==============================] - 0s 8ms/step - loss: 6.9183 - mae: 1.6533 - mse: 5.5990 - val_loss: 9.9253 - val_mae: 2.2923 - val_mse: 8.6068\n",
            "Epoch 93/1000\n",
            "8/8 [==============================] - 0s 8ms/step - loss: 6.6995 - mae: 1.6052 - mse: 5.3815 - val_loss: 10.2802 - val_mae: 2.2289 - val_mse: 8.9616\n",
            "Epoch 94/1000\n",
            "8/8 [==============================] - 0s 8ms/step - loss: 6.7567 - mae: 1.6636 - mse: 5.4393 - val_loss: 9.8964 - val_mae: 2.2713 - val_mse: 8.5799\n",
            "Epoch 95/1000\n",
            "8/8 [==============================] - 0s 8ms/step - loss: 6.6453 - mae: 1.6004 - mse: 5.3291 - val_loss: 10.2104 - val_mae: 2.3914 - val_mse: 8.8963\n",
            "Epoch 96/1000\n",
            "8/8 [==============================] - 0s 8ms/step - loss: 6.7623 - mae: 1.6127 - mse: 5.4477 - val_loss: 10.1328 - val_mae: 2.2451 - val_mse: 8.8183\n",
            "Epoch 97/1000\n",
            "8/8 [==============================] - 0s 9ms/step - loss: 6.7587 - mae: 1.6228 - mse: 5.4450 - val_loss: 10.2618 - val_mae: 2.3570 - val_mse: 8.9487\n",
            "Epoch 98/1000\n",
            "8/8 [==============================] - 0s 8ms/step - loss: 6.6078 - mae: 1.6158 - mse: 5.2944 - val_loss: 9.9557 - val_mae: 2.3410 - val_mse: 8.6442\n",
            "Epoch 99/1000\n",
            "8/8 [==============================] - 0s 8ms/step - loss: 6.9435 - mae: 1.6477 - mse: 5.6318 - val_loss: 9.9674 - val_mae: 2.2641 - val_mse: 8.6554\n",
            "Epoch 100/1000\n",
            "8/8 [==============================] - 0s 9ms/step - loss: 6.5313 - mae: 1.5855 - mse: 5.2197 - val_loss: 10.1681 - val_mae: 2.3602 - val_mse: 8.8580\n",
            "Epoch 101/1000\n",
            "8/8 [==============================] - 0s 11ms/step - loss: 6.7363 - mae: 1.6123 - mse: 5.4259 - val_loss: 10.1892 - val_mae: 2.3692 - val_mse: 8.8805\n",
            "Epoch 102/1000\n",
            "8/8 [==============================] - 0s 8ms/step - loss: 6.7003 - mae: 1.6130 - mse: 5.3912 - val_loss: 10.2327 - val_mae: 2.3517 - val_mse: 8.9247\n",
            "Epoch 103/1000\n",
            "8/8 [==============================] - 0s 9ms/step - loss: 6.5789 - mae: 1.5829 - mse: 5.2708 - val_loss: 10.1389 - val_mae: 2.3592 - val_mse: 8.8321\n",
            "Epoch 104/1000\n",
            "8/8 [==============================] - 0s 8ms/step - loss: 6.5680 - mae: 1.5843 - mse: 5.2613 - val_loss: 10.2654 - val_mae: 2.2379 - val_mse: 8.9581\n"
          ]
        }
      ]
    },
    {
      "cell_type": "code",
      "source": [
        "plot_history(history_l2)"
      ],
      "metadata": {
        "colab": {
          "base_uri": "https://localhost:8080/",
          "height": 549
        },
        "id": "iPfG0m_BL7Jw",
        "outputId": "0c087316-8ac8-40ab-99c1-fa264b555994"
      },
      "execution_count": null,
      "outputs": [
        {
          "output_type": "display_data",
          "data": {
            "image/png": "[encoded data removed]",
            "text/plain": [
              "<Figure size 432x288 with 1 Axes>"
            ]
          },
          "metadata": {
            "needs_background": "light"
          }
        },
        {
          "output_type": "display_data",
          "data": {
            "image/png": "[encoded data removed]",
            "text/plain": [
              "<Figure size 432x288 with 1 Axes>"
            ]
          },
          "metadata": {
            "needs_background": "light"
          }
        }
      ]
    },
    {
      "cell_type": "markdown",
      "source": [
        "**Pregunta 8. Experimente combinando 2 conceptos tocados en clase. Imprima, interprete y compare sus learning curves y predicciones respecto al ejemplo base.**"
      ],
      "metadata": {
        "id": "0yDJUmtm_GgU"
      }
    },
    {
      "cell_type": "code",
      "source": [
        "l2_r = regularizers.L2(l2 = 0.01)\n",
        "model_mix = keras.Sequential([\n",
        "  layers.Dense(64, activation='relu', kernel_initializer = 'he_uniform', kernel_regularizer = l2_r, input_shape=[len(train_dataset.keys())]),\n",
        "  layers.Dropout(0.2),\n",
        "  layers.Dense(64, activation='relu', kernel_initializer = 'he_uniform'),\n",
        "  layers.Dense(1)\n",
        "])\n",
        "\n",
        "optimizer = tf.keras.optimizers.RMSprop(0.001)\n",
        "\n",
        "model_mix.compile(loss='mse',\n",
        "              optimizer=optimizer,\n",
        "              metrics=['mae', 'mse'])\n",
        "\n",
        "model_mix.summary()\n",
        "\n",
        "early_stop = keras.callbacks.EarlyStopping(monitor='val_loss', patience=10)\n",
        "history_mix = model_mix.fit(\n",
        "  normed_train_data, train_labels,\n",
        "  epochs=EPOCHS, validation_split = 0.2, \n",
        "  verbose=1,\n",
        "  callbacks=[early_stop]\n",
        ")"
      ],
      "metadata": {
        "id": "otRO6y38_Q7m",
        "colab": {
          "base_uri": "https://localhost:8080/"
        },
        "outputId": "4d3393c1-bb1b-42bf-db08-30ab35953100"
      },
      "execution_count": null,
      "outputs": [
        {
          "output_type": "stream",
          "name": "stdout",
          "text": [
            "Model: \"sequential_9\"\n",
            "_________________________________________________________________\n",
            " Layer (type)                Output Shape              Param #   \n",
            "=================================================================\n",
            " dense_27 (Dense)            (None, 64)                640       \n",
            "                                                                 \n",
            " dropout_2 (Dropout)         (None, 64)                0         \n",
            "                                                                 \n",
            " dense_28 (Dense)            (None, 64)                4160      \n",
            "                                                                 \n",
            " dense_29 (Dense)            (None, 1)                 65        \n",
            "                                                                 \n",
            "=================================================================\n",
            "Total params: 4,865\n",
            "Trainable params: 4,865\n",
            "Non-trainable params: 0\n",
            "_________________________________________________________________\n",
            "Epoch 1/1000\n",
            "8/8 [==============================] - 1s 36ms/step - loss: 593.0433 - mae: 23.1757 - mse: 591.8044 - val_loss: 536.6788 - val_mae: 21.8767 - val_mse: 535.4382\n",
            "Epoch 2/1000\n",
            "8/8 [==============================] - 0s 8ms/step - loss: 492.8276 - mae: 20.8582 - mse: 491.5838 - val_loss: 457.2759 - val_mae: 19.9270 - val_mse: 456.0271\n",
            "Epoch 3/1000\n",
            "8/8 [==============================] - 0s 11ms/step - loss: 425.0577 - mae: 19.1196 - mse: 423.8042 - val_loss: 386.9038 - val_mae: 18.0366 - val_mse: 385.6438\n",
            "Epoch 4/1000\n",
            "8/8 [==============================] - 0s 9ms/step - loss: 359.3437 - mae: 17.2960 - mse: 358.0779 - val_loss: 320.5227 - val_mae: 16.0580 - val_mse: 319.2491\n",
            "Epoch 5/1000\n",
            "8/8 [==============================] - 0s 8ms/step - loss: 298.1549 - mae: 15.4883 - mse: 296.8753 - val_loss: 259.1237 - val_mae: 14.0599 - val_mse: 257.8356\n",
            "Epoch 6/1000\n",
            "8/8 [==============================] - 0s 10ms/step - loss: 239.2690 - mae: 13.5707 - mse: 237.9745 - val_loss: 202.5864 - val_mae: 12.1485 - val_mse: 201.2832\n",
            "Epoch 7/1000\n",
            "8/8 [==============================] - 0s 9ms/step - loss: 192.9493 - mae: 11.8560 - mse: 191.6400 - val_loss: 153.9802 - val_mae: 10.3604 - val_mse: 152.6633\n",
            "Epoch 8/1000\n",
            "8/8 [==============================] - 0s 8ms/step - loss: 145.0673 - mae: 10.1578 - mse: 143.7451 - val_loss: 113.2313 - val_mae: 8.8913 - val_mse: 111.9020\n",
            "Epoch 9/1000\n",
            "8/8 [==============================] - 0s 8ms/step - loss: 108.3297 - mae: 8.5911 - mse: 106.9957 - val_loss: 83.0325 - val_mae: 7.7015 - val_mse: 81.6921\n",
            "Epoch 10/1000\n",
            "8/8 [==============================] - 0s 9ms/step - loss: 78.7985 - mae: 7.0448 - mse: 77.4543 - val_loss: 63.3559 - val_mae: 6.6815 - val_mse: 62.0068\n",
            "Epoch 11/1000\n",
            "8/8 [==============================] - 0s 8ms/step - loss: 56.3049 - mae: 5.7962 - mse: 54.9519 - val_loss: 51.4571 - val_mae: 5.8117 - val_mse: 50.1009\n",
            "Epoch 12/1000\n",
            "8/8 [==============================] - 0s 8ms/step - loss: 49.5787 - mae: 5.3823 - mse: 48.2203 - val_loss: 43.7435 - val_mae: 5.2031 - val_mse: 42.3819\n",
            "Epoch 13/1000\n",
            "8/8 [==============================] - 0s 8ms/step - loss: 33.8753 - mae: 4.4956 - mse: 32.5135 - val_loss: 38.3904 - val_mae: 4.7100 - val_mse: 37.0260\n",
            "Epoch 14/1000\n",
            "8/8 [==============================] - 0s 8ms/step - loss: 31.7887 - mae: 4.3295 - mse: 30.4239 - val_loss: 33.0379 - val_mae: 4.2432 - val_mse: 31.6733\n",
            "Epoch 15/1000\n",
            "8/8 [==============================] - 0s 9ms/step - loss: 25.4763 - mae: 3.7827 - mse: 24.1111 - val_loss: 28.6815 - val_mae: 3.9344 - val_mse: 27.3165\n",
            "Epoch 16/1000\n",
            "8/8 [==============================] - 0s 8ms/step - loss: 25.1200 - mae: 3.7145 - mse: 23.7543 - val_loss: 25.7462 - val_mae: 3.7114 - val_mse: 24.3808\n",
            "Epoch 17/1000\n",
            "8/8 [==============================] - 0s 8ms/step - loss: 22.0713 - mae: 3.5304 - mse: 20.7045 - val_loss: 23.5055 - val_mae: 3.5190 - val_mse: 22.1400\n",
            "Epoch 18/1000\n",
            "8/8 [==============================] - 0s 10ms/step - loss: 19.1845 - mae: 3.3264 - mse: 17.8190 - val_loss: 21.2233 - val_mae: 3.4810 - val_mse: 19.8591\n",
            "Epoch 19/1000\n",
            "8/8 [==============================] - 0s 8ms/step - loss: 18.3557 - mae: 3.1864 - mse: 16.9908 - val_loss: 19.7241 - val_mae: 3.3370 - val_mse: 18.3602\n",
            "Epoch 20/1000\n",
            "8/8 [==============================] - 0s 9ms/step - loss: 18.1937 - mae: 3.0891 - mse: 16.8296 - val_loss: 19.0666 - val_mae: 3.2251 - val_mse: 17.7019\n",
            "Epoch 21/1000\n",
            "8/8 [==============================] - 0s 9ms/step - loss: 19.7519 - mae: 3.3363 - mse: 18.3872 - val_loss: 18.3318 - val_mae: 3.0819 - val_mse: 16.9654\n",
            "Epoch 22/1000\n",
            "8/8 [==============================] - 0s 8ms/step - loss: 19.9726 - mae: 3.2340 - mse: 18.6069 - val_loss: 17.4338 - val_mae: 3.0272 - val_mse: 16.0691\n",
            "Epoch 23/1000\n",
            "8/8 [==============================] - 0s 8ms/step - loss: 19.3898 - mae: 3.0925 - mse: 18.0247 - val_loss: 17.7355 - val_mae: 2.9805 - val_mse: 16.3691\n",
            "Epoch 24/1000\n",
            "8/8 [==============================] - 0s 9ms/step - loss: 17.4607 - mae: 3.0995 - mse: 16.0962 - val_loss: 17.2541 - val_mae: 2.9589 - val_mse: 15.8899\n",
            "Epoch 25/1000\n",
            "8/8 [==============================] - 0s 9ms/step - loss: 17.3838 - mae: 3.1089 - mse: 16.0202 - val_loss: 15.4976 - val_mae: 2.9088 - val_mse: 14.1358\n",
            "Epoch 26/1000\n",
            "8/8 [==============================] - 0s 8ms/step - loss: 17.1185 - mae: 3.1323 - mse: 15.7575 - val_loss: 15.6052 - val_mae: 2.8973 - val_mse: 14.2436\n",
            "Epoch 27/1000\n",
            "8/8 [==============================] - 0s 8ms/step - loss: 17.3854 - mae: 3.1195 - mse: 16.0258 - val_loss: 15.1383 - val_mae: 2.9115 - val_mse: 13.7784\n",
            "Epoch 28/1000\n",
            "8/8 [==============================] - 0s 8ms/step - loss: 13.8629 - mae: 2.6714 - mse: 12.5029 - val_loss: 14.9646 - val_mae: 2.8391 - val_mse: 13.6051\n",
            "Epoch 29/1000\n",
            "8/8 [==============================] - 0s 8ms/step - loss: 18.9584 - mae: 3.1354 - mse: 17.5998 - val_loss: 14.8169 - val_mae: 2.9052 - val_mse: 13.4602\n",
            "Epoch 30/1000\n",
            "8/8 [==============================] - 0s 8ms/step - loss: 16.6701 - mae: 2.9062 - mse: 15.3126 - val_loss: 14.4409 - val_mae: 2.9043 - val_mse: 13.0864\n",
            "Epoch 31/1000\n",
            "8/8 [==============================] - 0s 8ms/step - loss: 15.5071 - mae: 2.9114 - mse: 14.1517 - val_loss: 14.2116 - val_mae: 2.8091 - val_mse: 12.8559\n",
            "Epoch 32/1000\n",
            "8/8 [==============================] - 0s 10ms/step - loss: 16.8757 - mae: 3.0550 - mse: 15.5207 - val_loss: 13.6594 - val_mae: 2.7348 - val_mse: 12.3051\n",
            "Epoch 33/1000\n",
            "8/8 [==============================] - 0s 8ms/step - loss: 15.5789 - mae: 3.0018 - mse: 14.2251 - val_loss: 15.2467 - val_mae: 2.7806 - val_mse: 13.8900\n",
            "Epoch 34/1000\n",
            "8/8 [==============================] - 0s 8ms/step - loss: 15.6350 - mae: 2.9033 - mse: 14.2819 - val_loss: 14.0618 - val_mae: 2.7356 - val_mse: 12.7082\n",
            "Epoch 35/1000\n",
            "8/8 [==============================] - 0s 9ms/step - loss: 14.5846 - mae: 2.8093 - mse: 13.2325 - val_loss: 13.8018 - val_mae: 2.7499 - val_mse: 12.4499\n",
            "Epoch 36/1000\n",
            "8/8 [==============================] - 0s 8ms/step - loss: 15.1811 - mae: 2.9440 - mse: 13.8299 - val_loss: 13.2321 - val_mae: 2.6687 - val_mse: 11.8808\n",
            "Epoch 37/1000\n",
            "8/8 [==============================] - 0s 8ms/step - loss: 16.9636 - mae: 2.9285 - mse: 15.6126 - val_loss: 13.1186 - val_mae: 2.6923 - val_mse: 11.7699\n",
            "Epoch 38/1000\n",
            "8/8 [==============================] - 0s 8ms/step - loss: 15.8448 - mae: 2.8278 - mse: 14.4967 - val_loss: 12.9567 - val_mae: 2.6523 - val_mse: 11.6080\n",
            "Epoch 39/1000\n",
            "8/8 [==============================] - 0s 8ms/step - loss: 15.8238 - mae: 2.9227 - mse: 14.4766 - val_loss: 13.0375 - val_mae: 2.6345 - val_mse: 11.6890\n",
            "Epoch 40/1000\n",
            "8/8 [==============================] - 0s 9ms/step - loss: 13.6751 - mae: 2.6557 - mse: 12.3292 - val_loss: 12.8069 - val_mae: 2.5983 - val_mse: 11.4599\n",
            "Epoch 41/1000\n",
            "8/8 [==============================] - 0s 8ms/step - loss: 16.2101 - mae: 2.9202 - mse: 14.8642 - val_loss: 12.8215 - val_mae: 2.6101 - val_mse: 11.4759\n",
            "Epoch 42/1000\n",
            "8/8 [==============================] - 0s 8ms/step - loss: 16.9472 - mae: 3.0259 - mse: 15.6032 - val_loss: 12.6267 - val_mae: 2.6216 - val_mse: 11.2834\n",
            "Epoch 43/1000\n",
            "8/8 [==============================] - 0s 8ms/step - loss: 14.6870 - mae: 2.8672 - mse: 13.3437 - val_loss: 12.6554 - val_mae: 2.6533 - val_mse: 11.3137\n",
            "Epoch 44/1000\n",
            "8/8 [==============================] - 0s 8ms/step - loss: 15.7785 - mae: 2.8588 - mse: 14.4368 - val_loss: 13.1563 - val_mae: 2.6053 - val_mse: 11.8136\n",
            "Epoch 45/1000\n",
            "8/8 [==============================] - 0s 9ms/step - loss: 12.2267 - mae: 2.5389 - mse: 10.8850 - val_loss: 13.1194 - val_mae: 2.6562 - val_mse: 11.7785\n",
            "Epoch 46/1000\n",
            "8/8 [==============================] - 0s 9ms/step - loss: 15.2175 - mae: 2.8066 - mse: 13.8769 - val_loss: 12.6052 - val_mae: 2.6509 - val_mse: 11.2666\n",
            "Epoch 47/1000\n",
            "8/8 [==============================] - 0s 8ms/step - loss: 16.2533 - mae: 2.9209 - mse: 14.9146 - val_loss: 12.2456 - val_mae: 2.5883 - val_mse: 10.9075\n",
            "Epoch 48/1000\n",
            "8/8 [==============================] - 0s 9ms/step - loss: 16.0597 - mae: 2.8541 - mse: 14.7225 - val_loss: 12.3370 - val_mae: 2.6308 - val_mse: 11.0006\n",
            "Epoch 49/1000\n",
            "8/8 [==============================] - 0s 8ms/step - loss: 14.8247 - mae: 2.8001 - mse: 13.4877 - val_loss: 12.6565 - val_mae: 2.7367 - val_mse: 11.3228\n",
            "Epoch 50/1000\n",
            "8/8 [==============================] - 0s 8ms/step - loss: 17.6629 - mae: 3.0256 - mse: 16.3282 - val_loss: 12.5320 - val_mae: 2.6705 - val_mse: 11.1979\n",
            "Epoch 51/1000\n",
            "8/8 [==============================] - 0s 9ms/step - loss: 13.5034 - mae: 2.6589 - mse: 12.1692 - val_loss: 12.6252 - val_mae: 2.6665 - val_mse: 11.2922\n",
            "Epoch 52/1000\n",
            "8/8 [==============================] - 0s 8ms/step - loss: 15.1788 - mae: 2.8055 - mse: 13.8453 - val_loss: 12.6740 - val_mae: 2.6109 - val_mse: 11.3407\n",
            "Epoch 53/1000\n",
            "8/8 [==============================] - 0s 10ms/step - loss: 14.7694 - mae: 2.7269 - mse: 13.4360 - val_loss: 12.3388 - val_mae: 2.6199 - val_mse: 11.0075\n",
            "Epoch 54/1000\n",
            "8/8 [==============================] - 0s 8ms/step - loss: 15.0223 - mae: 2.6874 - mse: 13.6916 - val_loss: 12.4365 - val_mae: 2.5457 - val_mse: 11.1047\n",
            "Epoch 55/1000\n",
            "8/8 [==============================] - 0s 9ms/step - loss: 14.2427 - mae: 2.6712 - mse: 12.9122 - val_loss: 12.2482 - val_mae: 2.5278 - val_mse: 10.9183\n",
            "Epoch 56/1000\n",
            "8/8 [==============================] - 0s 8ms/step - loss: 14.7548 - mae: 2.6928 - mse: 13.4265 - val_loss: 12.2175 - val_mae: 2.5074 - val_mse: 10.8882\n",
            "Epoch 57/1000\n",
            "8/8 [==============================] - 0s 8ms/step - loss: 13.4839 - mae: 2.6299 - mse: 12.1563 - val_loss: 12.2248 - val_mae: 2.6084 - val_mse: 10.8984\n",
            "Epoch 58/1000\n",
            "8/8 [==============================] - 0s 9ms/step - loss: 16.2920 - mae: 2.8944 - mse: 14.9655 - val_loss: 11.9648 - val_mae: 2.4670 - val_mse: 10.6376\n",
            "Epoch 59/1000\n",
            "8/8 [==============================] - 0s 8ms/step - loss: 15.4292 - mae: 2.8332 - mse: 14.1032 - val_loss: 12.0589 - val_mae: 2.4885 - val_mse: 10.7326\n",
            "Epoch 60/1000\n",
            "8/8 [==============================] - 0s 10ms/step - loss: 13.8763 - mae: 2.6154 - mse: 12.5515 - val_loss: 11.6115 - val_mae: 2.5223 - val_mse: 10.2881\n",
            "Epoch 61/1000\n",
            "8/8 [==============================] - 0s 8ms/step - loss: 14.9039 - mae: 2.7300 - mse: 13.5813 - val_loss: 11.5132 - val_mae: 2.4842 - val_mse: 10.1905\n",
            "Epoch 62/1000\n",
            "8/8 [==============================] - 0s 9ms/step - loss: 15.3190 - mae: 2.7652 - mse: 13.9967 - val_loss: 11.6417 - val_mae: 2.5691 - val_mse: 10.3213\n",
            "Epoch 63/1000\n",
            "8/8 [==============================] - 0s 9ms/step - loss: 13.2252 - mae: 2.6400 - mse: 11.9048 - val_loss: 11.6544 - val_mae: 2.5616 - val_mse: 10.3343\n",
            "Epoch 64/1000\n",
            "8/8 [==============================] - 0s 8ms/step - loss: 14.0188 - mae: 2.6410 - mse: 12.6985 - val_loss: 11.7019 - val_mae: 2.4935 - val_mse: 10.3818\n",
            "Epoch 65/1000\n",
            "8/8 [==============================] - 0s 8ms/step - loss: 13.7027 - mae: 2.6404 - mse: 12.3830 - val_loss: 11.7489 - val_mae: 2.5573 - val_mse: 10.4312\n",
            "Epoch 66/1000\n",
            "8/8 [==============================] - 0s 8ms/step - loss: 13.1478 - mae: 2.5941 - mse: 11.8293 - val_loss: 11.7967 - val_mae: 2.5578 - val_mse: 10.4800\n",
            "Epoch 67/1000\n",
            "8/8 [==============================] - 0s 8ms/step - loss: 13.7913 - mae: 2.7040 - mse: 12.4749 - val_loss: 11.9599 - val_mae: 2.6365 - val_mse: 10.6460\n",
            "Epoch 68/1000\n",
            "8/8 [==============================] - 0s 8ms/step - loss: 13.6676 - mae: 2.5724 - mse: 12.3532 - val_loss: 11.6923 - val_mae: 2.5626 - val_mse: 10.3784\n",
            "Epoch 69/1000\n",
            "8/8 [==============================] - 0s 8ms/step - loss: 13.1996 - mae: 2.6937 - mse: 11.8853 - val_loss: 11.8966 - val_mae: 2.4734 - val_mse: 10.5820\n",
            "Epoch 70/1000\n",
            "8/8 [==============================] - 0s 8ms/step - loss: 13.6221 - mae: 2.6153 - mse: 12.3088 - val_loss: 11.4704 - val_mae: 2.4936 - val_mse: 10.1582\n",
            "Epoch 71/1000\n",
            "8/8 [==============================] - 0s 10ms/step - loss: 12.2217 - mae: 2.5289 - mse: 10.9090 - val_loss: 12.2133 - val_mae: 2.6229 - val_mse: 10.9038\n",
            "Epoch 72/1000\n",
            "8/8 [==============================] - 0s 8ms/step - loss: 13.0624 - mae: 2.5428 - mse: 11.7514 - val_loss: 11.7756 - val_mae: 2.4497 - val_mse: 10.4641\n",
            "Epoch 73/1000\n",
            "8/8 [==============================] - 0s 10ms/step - loss: 12.5598 - mae: 2.5050 - mse: 11.2501 - val_loss: 11.8255 - val_mae: 2.6038 - val_mse: 10.5176\n",
            "Epoch 74/1000\n",
            "8/8 [==============================] - 0s 8ms/step - loss: 14.9638 - mae: 2.6982 - mse: 13.6552 - val_loss: 11.7791 - val_mae: 2.4994 - val_mse: 10.4705\n",
            "Epoch 75/1000\n",
            "8/8 [==============================] - 0s 8ms/step - loss: 14.9626 - mae: 2.6594 - mse: 13.6544 - val_loss: 11.8138 - val_mae: 2.5795 - val_mse: 10.5083\n",
            "Epoch 76/1000\n",
            "8/8 [==============================] - 0s 8ms/step - loss: 11.8623 - mae: 2.4176 - mse: 10.5568 - val_loss: 11.7922 - val_mae: 2.4773 - val_mse: 10.4864\n",
            "Epoch 77/1000\n",
            "8/8 [==============================] - 0s 7ms/step - loss: 14.6428 - mae: 2.7356 - mse: 13.3376 - val_loss: 11.5693 - val_mae: 2.5030 - val_mse: 10.2655\n",
            "Epoch 78/1000\n",
            "8/8 [==============================] - 0s 8ms/step - loss: 14.4529 - mae: 2.6328 - mse: 13.1494 - val_loss: 11.6373 - val_mae: 2.5202 - val_mse: 10.3343\n",
            "Epoch 79/1000\n",
            "8/8 [==============================] - 0s 9ms/step - loss: 12.4513 - mae: 2.6094 - mse: 11.1481 - val_loss: 11.8421 - val_mae: 2.5575 - val_mse: 10.5410\n",
            "Epoch 80/1000\n",
            "8/8 [==============================] - 0s 8ms/step - loss: 10.7167 - mae: 2.3179 - mse: 9.4152 - val_loss: 11.5897 - val_mae: 2.4833 - val_mse: 10.2884\n"
          ]
        }
      ]
    },
    {
      "cell_type": "code",
      "source": [
        "plot_history(history_mix)"
      ],
      "metadata": {
        "id": "ux5THU-sMdiQ",
        "outputId": "7c875efb-9b79-40cd-fe3e-06d6814a5847",
        "colab": {
          "base_uri": "https://localhost:8080/",
          "height": 549
        }
      },
      "execution_count": null,
      "outputs": [
        {
          "output_type": "display_data",
          "data": {
            "image/png": "[encoded data removed]",
            "text/plain": [
              "<Figure size 432x288 with 1 Axes>"
            ]
          },
          "metadata": {
            "needs_background": "light"
          }
        },
        {
          "output_type": "display_data",
          "data": {
            "image/png": "[encoded data removed]",
            "text/plain": [
              "<Figure size 432x288 with 1 Axes>"
            ]
          },
          "metadata": {
            "needs_background": "light"
          }
        }
      ]
    }
  ]
}