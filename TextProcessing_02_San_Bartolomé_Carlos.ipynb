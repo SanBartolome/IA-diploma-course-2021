{
  "nbformat": 4,
  "nbformat_minor": 0,
  "metadata": {
    "colab": {
      "name": "TextProcessing_02_San_Bartolomé_Carlos.ipynb",
      "provenance": [],
      "authorship_tag": "ABX9TyNnZ3ivFWP2ARFvF8RAXbbz",
      "include_colab_link": true
    },
    "kernelspec": {
      "name": "python3",
      "display_name": "Python 3"
    },
    "language_info": {
      "name": "python"
    }
  },
  "cells": [
    {
      "cell_type": "markdown",
      "metadata": {
        "id": "view-in-github",
        "colab_type": "text"
      },
      "source": [
        "<a href=\"https://colab.research.google.com/github/SanBartolome/IA-diploma-course-2021/blob/main/TextProcessing_02_San_Bartolom%C3%A9_Carlos.ipynb\" target=\"_parent\"><img src=\"https://colab.research.google.com/assets/colab-badge.svg\" alt=\"Open In Colab\"/></a>"
      ]
    },
    {
      "cell_type": "code",
      "source": [
        "!wget -N https://raw.githubusercontent.com/derekgreene/topic-model-tutorial/master/data/articles.txt\n",
        "# Artículo proporcionado por derekgreene"
      ],
      "metadata": {
        "colab": {
          "base_uri": "https://localhost:8080/"
        },
        "id": "RzE9Q67aTVA9",
        "outputId": "9d3ef41b-e86c-45ab-9d46-524337cb6574"
      },
      "execution_count": 31,
      "outputs": [
        {
          "output_type": "stream",
          "name": "stdout",
          "text": [
            "--2021-12-10 21:46:17--  https://raw.githubusercontent.com/derekgreene/topic-model-tutorial/master/data/articles.txt\n",
            "Resolving raw.githubusercontent.com (raw.githubusercontent.com)... 185.199.110.133, 185.199.111.133, 185.199.108.133, ...\n",
            "Connecting to raw.githubusercontent.com (raw.githubusercontent.com)|185.199.110.133|:443... connected.\n",
            "HTTP request sent, awaiting response... 200 OK\n",
            "Length: 25337978 (24M) [text/plain]\n",
            "Saving to: ‘articles.txt’\n",
            "\n",
            "articles.txt        100%[===================>]  24.16M   119MB/s    in 0.2s    \n",
            "\n",
            "Last-modified header missing -- time-stamps turned off.\n",
            "2021-12-10 21:46:19 (119 MB/s) - ‘articles.txt’ saved [25337978/25337978]\n",
            "\n"
          ]
        }
      ]
    },
    {
      "cell_type": "code",
      "source": [
        "import nltk\n",
        "nltk.download('punkt')\n",
        "from gensim.models import Word2Vec\n",
        "from nltk import word_tokenize, FreqDist"
      ],
      "metadata": {
        "colab": {
          "base_uri": "https://localhost:8080/"
        },
        "id": "UQSyCWv7PgcB",
        "outputId": "b5bd3d32-1cd3-4d89-9990-b2182cb76d10"
      },
      "execution_count": 13,
      "outputs": [
        {
          "output_type": "stream",
          "name": "stdout",
          "text": [
            "[nltk_data] Downloading package punkt to /root/nltk_data...\n",
            "[nltk_data]   Unzipping tokenizers/punkt.zip.\n"
          ]
        }
      ]
    },
    {
      "cell_type": "code",
      "source": [
        "article = open('articles.txt')\n",
        "corpus = article.read().splitlines()"
      ],
      "metadata": {
        "id": "l6rsKvLUUWH1"
      },
      "execution_count": 40,
      "outputs": []
    },
    {
      "cell_type": "code",
      "source": [
        "sentences = [word_tokenize(doc) for doc in corpus]"
      ],
      "metadata": {
        "id": "QZ72r8esPigg"
      },
      "execution_count": 41,
      "outputs": []
    },
    {
      "cell_type": "code",
      "source": [
        "model = Word2Vec(sentences, size=100, window=5, sg=1)"
      ],
      "metadata": {
        "id": "IBmg5TaKP9hK"
      },
      "execution_count": 42,
      "outputs": []
    },
    {
      "cell_type": "code",
      "source": [
        "print(model.wv.similarity('Trump', 'Republican'))"
      ],
      "metadata": {
        "colab": {
          "base_uri": "https://localhost:8080/"
        },
        "id": "usk59oLmQS__",
        "outputId": "13864da4-f4c6-465e-939e-6fb939514cd8"
      },
      "execution_count": 45,
      "outputs": [
        {
          "output_type": "stream",
          "name": "stdout",
          "text": [
            "0.73449725\n"
          ]
        }
      ]
    },
    {
      "cell_type": "code",
      "source": [
        "print(model.wv.similarity('Clinton', 'Democratic'))"
      ],
      "metadata": {
        "colab": {
          "base_uri": "https://localhost:8080/"
        },
        "id": "oeS80ZRGQEqZ",
        "outputId": "4f6f1307-8850-47ca-c077-a5827b633453"
      },
      "execution_count": 46,
      "outputs": [
        {
          "output_type": "stream",
          "name": "stdout",
          "text": [
            "0.75079894\n"
          ]
        }
      ]
    },
    {
      "cell_type": "code",
      "source": [
        "print(model.wv.most_similar('Twitter'))"
      ],
      "metadata": {
        "colab": {
          "base_uri": "https://localhost:8080/"
        },
        "id": "KxpCkMnTWy5D",
        "outputId": "fa93b180-ce2e-4895-93ed-5078b8050760"
      },
      "execution_count": 47,
      "outputs": [
        {
          "output_type": "stream",
          "name": "stdout",
          "text": [
            "[('Facebook', 0.8277884721755981), ('Instagram', 0.7921221256256104), ('Snapchat', 0.7388781309127808), ('hashtag', 0.7334056496620178), ('Tumblr', 0.7029637098312378), ('trending', 0.7001076936721802), ('WhatsApp', 0.6969373226165771), ('posts', 0.6938527822494507), ('4chan', 0.6877297163009644), ('Reddit', 0.6733663082122803)]\n"
          ]
        }
      ]
    },
    {
      "cell_type": "code",
      "source": [
        "print(model.wv.similarity('Trump', 'Obama'))"
      ],
      "metadata": {
        "colab": {
          "base_uri": "https://localhost:8080/"
        },
        "id": "F8i6HXCwW4cS",
        "outputId": "4606072a-1385-4c21-8bab-56b9ec59e782"
      },
      "execution_count": 48,
      "outputs": [
        {
          "output_type": "stream",
          "name": "stdout",
          "text": [
            "0.6975037\n"
          ]
        }
      ]
    },
    {
      "cell_type": "code",
      "source": [
        "print(model.wv.similarity('Clinton', 'Obama'))"
      ],
      "metadata": {
        "colab": {
          "base_uri": "https://localhost:8080/"
        },
        "id": "C6xul69RXGpF",
        "outputId": "16ca9ec3-70ce-44c8-b09c-0f68cb1a7b26"
      },
      "execution_count": 49,
      "outputs": [
        {
          "output_type": "stream",
          "name": "stdout",
          "text": [
            "0.6902868\n"
          ]
        }
      ]
    },
    {
      "cell_type": "code",
      "source": [
        "print(model.wv.similarity('Trump', 'California'))"
      ],
      "metadata": {
        "colab": {
          "base_uri": "https://localhost:8080/"
        },
        "id": "Mtg6MlV3XSO_",
        "outputId": "08a0809f-7e5c-4f44-fc72-1b5e2fd6b3a6"
      },
      "execution_count": 52,
      "outputs": [
        {
          "output_type": "stream",
          "name": "stdout",
          "text": [
            "0.49062186\n"
          ]
        }
      ]
    },
    {
      "cell_type": "code",
      "source": [
        "print(model.wv.similarity('Clinton', 'California'))"
      ],
      "metadata": {
        "colab": {
          "base_uri": "https://localhost:8080/"
        },
        "id": "25cw9rPwXev6",
        "outputId": "8b6166a3-96c1-4d97-cc9d-d5a13107cf9f"
      },
      "execution_count": 53,
      "outputs": [
        {
          "output_type": "stream",
          "name": "stdout",
          "text": [
            "0.5480974\n"
          ]
        }
      ]
    },
    {
      "cell_type": "code",
      "source": [
        "print(model.wv.similarity('Trump', 'Texas'))"
      ],
      "metadata": {
        "colab": {
          "base_uri": "https://localhost:8080/"
        },
        "id": "wInOGShYX5eU",
        "outputId": "2e921176-4b51-49d4-a332-590336012c9c"
      },
      "execution_count": 56,
      "outputs": [
        {
          "output_type": "stream",
          "name": "stdout",
          "text": [
            "0.5213215\n"
          ]
        }
      ]
    },
    {
      "cell_type": "code",
      "source": [
        "print(model.wv.similarity('Clinton', 'Texas'))"
      ],
      "metadata": {
        "colab": {
          "base_uri": "https://localhost:8080/"
        },
        "id": "WGsdFzhjX7dl",
        "outputId": "40f75867-44da-4e26-b25e-51f415eec414"
      },
      "execution_count": 57,
      "outputs": [
        {
          "output_type": "stream",
          "name": "stdout",
          "text": [
            "0.4954446\n"
          ]
        }
      ]
    },
    {
      "cell_type": "code",
      "source": [
        "print(model.wv.most_similar('epidemic'))"
      ],
      "metadata": {
        "colab": {
          "base_uri": "https://localhost:8080/"
        },
        "id": "IJqvOHrzYdfO",
        "outputId": "947576d4-a75f-4d6b-f7a4-72cf27ed3d5c"
      },
      "execution_count": 58,
      "outputs": [
        {
          "output_type": "stream",
          "name": "stdout",
          "text": [
            "[('outbreak', 0.7832999229431152), ('cholera', 0.7795973420143127), ('atomic', 0.7674603462219238), ('Ebola', 0.7669457197189331), ('detention', 0.753983736038208), ('incarceration', 0.753179669380188), ('opioid', 0.7524803876876831), ('virus', 0.7500605583190918), ('fatalities', 0.7449460029602051), ('Aids', 0.7440925240516663)]\n"
          ]
        }
      ]
    }
  ]
}