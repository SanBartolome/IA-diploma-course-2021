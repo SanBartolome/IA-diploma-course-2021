{
  "nbformat": 4,
  "nbformat_minor": 0,
  "metadata": {
    "anaconda-cloud": {},
    "kernelspec": {
      "display_name": "Python 3",
      "language": "python",
      "name": "python3"
    },
    "language_info": {
      "codemirror_mode": {
        "name": "ipython",
        "version": 3
      },
      "file_extension": ".py",
      "mimetype": "text/x-python",
      "name": "python",
      "nbconvert_exporter": "python",
      "pygments_lexer": "ipython3",
      "version": "3.6.1"
    },
    "colab": {
      "name": "NaiveBayes.ipynb",
      "provenance": [],
      "collapsed_sections": [
        "WA9lSKZoFRtv",
        "M3EMus0RFRuQ",
        "2-Vw7R9mFRuV",
        "kjAIgmuCF83c",
        "xVHbIvmlFRul",
        "dq6YAOxSghg8",
        "ebHPk8CIgwjy",
        "L_LSc436gzxK",
        "OKl_fjD_iv-H"
      ],
      "include_colab_link": true
    }
  },
  "cells": [
    {
      "cell_type": "markdown",
      "metadata": {
        "id": "view-in-github",
        "colab_type": "text"
      },
      "source": [
        "<a href=\"https://colab.research.google.com/github/SanBartolome/IA-diploma-course-2021/blob/main/NaiveBayes.ipynb\" target=\"_parent\"><img src=\"https://colab.research.google.com/assets/colab-badge.svg\" alt=\"Open In Colab\"/></a>"
      ]
    },
    {
      "cell_type": "markdown",
      "metadata": {
        "id": "sc6DAXsLSpHZ"
      },
      "source": [
        "# Clasificador Naive Bayes\n",
        "El objetivo del notebook es experimentar con el clasificador Naive Bayes en sus diferentes implementaciones. Se utilizarán los clasificadores gausiano para clasificación multiclase en el conjunto iris, multinomial para clasificación binaria de mensajes de texto y bernoulli para clasificación multiclase de animales."
      ]
    },
    {
      "cell_type": "markdown",
      "metadata": {
        "id": "O-JgWVm9P_VD"
      },
      "source": [
        "## Iris Dataset"
      ]
    },
    {
      "cell_type": "code",
      "metadata": {
        "id": "pgNXQeazL4Xb"
      },
      "source": [
        "import pandas as pd\n",
        "import numpy as np\n",
        "import matplotlib.pyplot as plt\n",
        "from matplotlib.colors import ListedColormap\n",
        "import matplotlib.patches as mpatches\n",
        "import seaborn as sns\n",
        " \n",
        "from sklearn.model_selection import train_test_split\n",
        "from sklearn.preprocessing import MinMaxScaler\n",
        "from sklearn.metrics import classification_report\n",
        "from sklearn.metrics import confusion_matrix\n",
        "from sklearn.naive_bayes import GaussianNB\n",
        "\n",
        "%matplotlib inline\n",
        "plt.rcParams['figure.figsize'] = (16, 9)\n",
        "plt.style.use('ggplot')\n",
        "\n",
        "from sklearn import datasets"
      ],
      "execution_count": 1,
      "outputs": []
    },
    {
      "cell_type": "markdown",
      "metadata": {
        "id": "JHTr5Pg8QL5z"
      },
      "source": [
        "Función de utilizad para visualizar matriz de confusión."
      ]
    },
    {
      "cell_type": "code",
      "metadata": {
        "id": "ng_Cg0kZQLK0"
      },
      "source": [
        "def print_confusion_matrix(confusion_matrix, class_names, figsize = (10,7), fontsize=14):\n",
        "    \"\"\"Prints a confusion matrix, as returned by sklearn.metrics.confusion_matrix, as a heatmap.\n",
        "    \n",
        "    Arguments\n",
        "    ---------\n",
        "    confusion_matrix: numpy.ndarray\n",
        "        The numpy.ndarray object returned from a call to sklearn.metrics.confusion_matrix. \n",
        "        Similarly constructed ndarrays can also be used.\n",
        "    class_names: list\n",
        "        An ordered list of class names, in the order they index the given confusion matrix.\n",
        "    figsize: tuple\n",
        "        A 2-long tuple, the first value determining the horizontal size of the ouputted figure,\n",
        "        the second determining the vertical size. Defaults to (10,7).\n",
        "    fontsize: int\n",
        "        Font size for axes labels. Defaults to 14.\n",
        "        \n",
        "    Returns\n",
        "    -------\n",
        "    matplotlib.figure.Figure\n",
        "        The resulting confusion matrix figure\n",
        "        \n",
        "    Reference\n",
        "    -------\n",
        "    https://gist.github.com/shaypal5/94c53d765083101efc0240d776a23823\n",
        "    \n",
        "    \"\"\"\n",
        "    df_cm = pd.DataFrame(\n",
        "        confusion_matrix, index=class_names, columns=class_names, \n",
        "    )\n",
        "    fig = plt.figure(figsize=figsize)\n",
        "    try:\n",
        "        heatmap = sns.heatmap(df_cm, annot=True, fmt=\"d\")\n",
        "    except ValueError:\n",
        "        raise ValueError(\"Confusion matrix values must be integers.\")\n",
        "    heatmap.yaxis.set_ticklabels(heatmap.yaxis.get_ticklabels(), rotation=0, ha='right', fontsize=fontsize)\n",
        "    heatmap.xaxis.set_ticklabels(heatmap.xaxis.get_ticklabels(), rotation=45, ha='right', fontsize=fontsize)\n",
        "    plt.ylabel('True label')\n",
        "    plt.xlabel('Predicted label')\n",
        "    print(fig)"
      ],
      "execution_count": 2,
      "outputs": []
    },
    {
      "cell_type": "markdown",
      "metadata": {
        "id": "2iLiClhnPsy2"
      },
      "source": [
        "### Carga del dataset y exploración"
      ]
    },
    {
      "cell_type": "code",
      "metadata": {
        "id": "2qiol9N3N0GA",
        "colab": {
          "base_uri": "https://localhost:8080/",
          "height": 206
        },
        "outputId": "a371ebe8-2e10-4780-c4a0-c713214b8928"
      },
      "source": [
        "iris = datasets.load_iris()\n",
        "iris_df = pd.DataFrame(data= np.c_[iris['data'], iris['target']],\n",
        "                     columns= iris['feature_names'] + ['target'])\n",
        "iris_df.head()"
      ],
      "execution_count": 3,
      "outputs": [
        {
          "output_type": "execute_result",
          "data": {
            "text/html": [
              "<div>\n",
              "<style scoped>\n",
              "    .dataframe tbody tr th:only-of-type {\n",
              "        vertical-align: middle;\n",
              "    }\n",
              "\n",
              "    .dataframe tbody tr th {\n",
              "        vertical-align: top;\n",
              "    }\n",
              "\n",
              "    .dataframe thead th {\n",
              "        text-align: right;\n",
              "    }\n",
              "</style>\n",
              "<table border=\"1\" class=\"dataframe\">\n",
              "  <thead>\n",
              "    <tr style=\"text-align: right;\">\n",
              "      <th></th>\n",
              "      <th>sepal length (cm)</th>\n",
              "      <th>sepal width (cm)</th>\n",
              "      <th>petal length (cm)</th>\n",
              "      <th>petal width (cm)</th>\n",
              "      <th>target</th>\n",
              "    </tr>\n",
              "  </thead>\n",
              "  <tbody>\n",
              "    <tr>\n",
              "      <th>0</th>\n",
              "      <td>5.1</td>\n",
              "      <td>3.5</td>\n",
              "      <td>1.4</td>\n",
              "      <td>0.2</td>\n",
              "      <td>0.0</td>\n",
              "    </tr>\n",
              "    <tr>\n",
              "      <th>1</th>\n",
              "      <td>4.9</td>\n",
              "      <td>3.0</td>\n",
              "      <td>1.4</td>\n",
              "      <td>0.2</td>\n",
              "      <td>0.0</td>\n",
              "    </tr>\n",
              "    <tr>\n",
              "      <th>2</th>\n",
              "      <td>4.7</td>\n",
              "      <td>3.2</td>\n",
              "      <td>1.3</td>\n",
              "      <td>0.2</td>\n",
              "      <td>0.0</td>\n",
              "    </tr>\n",
              "    <tr>\n",
              "      <th>3</th>\n",
              "      <td>4.6</td>\n",
              "      <td>3.1</td>\n",
              "      <td>1.5</td>\n",
              "      <td>0.2</td>\n",
              "      <td>0.0</td>\n",
              "    </tr>\n",
              "    <tr>\n",
              "      <th>4</th>\n",
              "      <td>5.0</td>\n",
              "      <td>3.6</td>\n",
              "      <td>1.4</td>\n",
              "      <td>0.2</td>\n",
              "      <td>0.0</td>\n",
              "    </tr>\n",
              "  </tbody>\n",
              "</table>\n",
              "</div>"
            ],
            "text/plain": [
              "   sepal length (cm)  sepal width (cm)  ...  petal width (cm)  target\n",
              "0                5.1               3.5  ...               0.2     0.0\n",
              "1                4.9               3.0  ...               0.2     0.0\n",
              "2                4.7               3.2  ...               0.2     0.0\n",
              "3                4.6               3.1  ...               0.2     0.0\n",
              "4                5.0               3.6  ...               0.2     0.0\n",
              "\n",
              "[5 rows x 5 columns]"
            ]
          },
          "metadata": {},
          "execution_count": 3
        }
      ]
    },
    {
      "cell_type": "code",
      "metadata": {
        "id": "ncGL7zs4Mvwe",
        "colab": {
          "base_uri": "https://localhost:8080/",
          "height": 300
        },
        "outputId": "311e1981-1bcb-415f-f05e-d897b2a70745"
      },
      "source": [
        "iris_df.describe()"
      ],
      "execution_count": 4,
      "outputs": [
        {
          "output_type": "execute_result",
          "data": {
            "text/html": [
              "<div>\n",
              "<style scoped>\n",
              "    .dataframe tbody tr th:only-of-type {\n",
              "        vertical-align: middle;\n",
              "    }\n",
              "\n",
              "    .dataframe tbody tr th {\n",
              "        vertical-align: top;\n",
              "    }\n",
              "\n",
              "    .dataframe thead th {\n",
              "        text-align: right;\n",
              "    }\n",
              "</style>\n",
              "<table border=\"1\" class=\"dataframe\">\n",
              "  <thead>\n",
              "    <tr style=\"text-align: right;\">\n",
              "      <th></th>\n",
              "      <th>sepal length (cm)</th>\n",
              "      <th>sepal width (cm)</th>\n",
              "      <th>petal length (cm)</th>\n",
              "      <th>petal width (cm)</th>\n",
              "      <th>target</th>\n",
              "    </tr>\n",
              "  </thead>\n",
              "  <tbody>\n",
              "    <tr>\n",
              "      <th>count</th>\n",
              "      <td>150.000000</td>\n",
              "      <td>150.000000</td>\n",
              "      <td>150.000000</td>\n",
              "      <td>150.000000</td>\n",
              "      <td>150.000000</td>\n",
              "    </tr>\n",
              "    <tr>\n",
              "      <th>mean</th>\n",
              "      <td>5.843333</td>\n",
              "      <td>3.057333</td>\n",
              "      <td>3.758000</td>\n",
              "      <td>1.199333</td>\n",
              "      <td>1.000000</td>\n",
              "    </tr>\n",
              "    <tr>\n",
              "      <th>std</th>\n",
              "      <td>0.828066</td>\n",
              "      <td>0.435866</td>\n",
              "      <td>1.765298</td>\n",
              "      <td>0.762238</td>\n",
              "      <td>0.819232</td>\n",
              "    </tr>\n",
              "    <tr>\n",
              "      <th>min</th>\n",
              "      <td>4.300000</td>\n",
              "      <td>2.000000</td>\n",
              "      <td>1.000000</td>\n",
              "      <td>0.100000</td>\n",
              "      <td>0.000000</td>\n",
              "    </tr>\n",
              "    <tr>\n",
              "      <th>25%</th>\n",
              "      <td>5.100000</td>\n",
              "      <td>2.800000</td>\n",
              "      <td>1.600000</td>\n",
              "      <td>0.300000</td>\n",
              "      <td>0.000000</td>\n",
              "    </tr>\n",
              "    <tr>\n",
              "      <th>50%</th>\n",
              "      <td>5.800000</td>\n",
              "      <td>3.000000</td>\n",
              "      <td>4.350000</td>\n",
              "      <td>1.300000</td>\n",
              "      <td>1.000000</td>\n",
              "    </tr>\n",
              "    <tr>\n",
              "      <th>75%</th>\n",
              "      <td>6.400000</td>\n",
              "      <td>3.300000</td>\n",
              "      <td>5.100000</td>\n",
              "      <td>1.800000</td>\n",
              "      <td>2.000000</td>\n",
              "    </tr>\n",
              "    <tr>\n",
              "      <th>max</th>\n",
              "      <td>7.900000</td>\n",
              "      <td>4.400000</td>\n",
              "      <td>6.900000</td>\n",
              "      <td>2.500000</td>\n",
              "      <td>2.000000</td>\n",
              "    </tr>\n",
              "  </tbody>\n",
              "</table>\n",
              "</div>"
            ],
            "text/plain": [
              "       sepal length (cm)  sepal width (cm)  ...  petal width (cm)      target\n",
              "count         150.000000        150.000000  ...        150.000000  150.000000\n",
              "mean            5.843333          3.057333  ...          1.199333    1.000000\n",
              "std             0.828066          0.435866  ...          0.762238    0.819232\n",
              "min             4.300000          2.000000  ...          0.100000    0.000000\n",
              "25%             5.100000          2.800000  ...          0.300000    0.000000\n",
              "50%             5.800000          3.000000  ...          1.300000    1.000000\n",
              "75%             6.400000          3.300000  ...          1.800000    2.000000\n",
              "max             7.900000          4.400000  ...          2.500000    2.000000\n",
              "\n",
              "[8 rows x 5 columns]"
            ]
          },
          "metadata": {},
          "execution_count": 4
        }
      ]
    },
    {
      "cell_type": "code",
      "metadata": {
        "id": "CHo0xjfvNGIt",
        "colab": {
          "base_uri": "https://localhost:8080/",
          "height": 282
        },
        "outputId": "23bfaf2c-dee0-48b5-d49e-768c39971061"
      },
      "source": [
        "iris_df.hist()\n",
        "plt.show()"
      ],
      "execution_count": 5,
      "outputs": [
        {
          "output_type": "display_data",
          "data": {
            "image/png": "[encoded data removed]",
            "text/plain": [
              "<Figure size 432x288 with 6 Axes>"
            ]
          },
          "metadata": {
            "needs_background": "light"
          }
        }
      ]
    },
    {
      "cell_type": "markdown",
      "metadata": {
        "id": "fA-KVPKxPunR"
      },
      "source": [
        "### Separación en cojuntos de entrenamiento y validación, normalización"
      ]
    },
    {
      "cell_type": "code",
      "metadata": {
        "id": "wKhFJ_qwNcuz"
      },
      "source": [
        "X = iris_df[iris['feature_names']].values\n",
        "y = iris_df['target'].values\n",
        " \n",
        "X_train, X_test, y_train, y_test = train_test_split(X, y, random_state=0)\n",
        "scaler = MinMaxScaler()\n",
        "X_train = scaler.fit_transform(X_train)\n",
        "X_test = scaler.transform(X_test)"
      ],
      "execution_count": 6,
      "outputs": []
    },
    {
      "cell_type": "markdown",
      "metadata": {
        "id": "9MGkNC7fPzBf"
      },
      "source": [
        "### Entrenamiento y evaluación de un clasificador gausiano"
      ]
    },
    {
      "cell_type": "code",
      "metadata": {
        "id": "z2YiJsghOLFC",
        "colab": {
          "base_uri": "https://localhost:8080/"
        },
        "outputId": "ab4c4938-8f1c-4ea7-fe6f-f2ee96366b27"
      },
      "source": [
        "gnb = GaussianNB()\n",
        "model = gnb.fit(X_train, y_train)\n",
        "print('Accuracy of GaussianNB classifier on training set: {:.2f}'\n",
        "     .format(gnb.score(X_train, y_train)))\n",
        "print('Accuracy of GaussianNB classifier on test set: {:.2f}'\n",
        "     .format(gnb.score(X_test, y_test)))"
      ],
      "execution_count": 7,
      "outputs": [
        {
          "output_type": "stream",
          "name": "stdout",
          "text": [
            "Accuracy of GaussianNB classifier on training set: 0.95\n",
            "Accuracy of GaussianNB classifier on test set: 1.00\n"
          ]
        }
      ]
    },
    {
      "cell_type": "markdown",
      "metadata": {
        "id": "pQ3lDXOJn3h1"
      },
      "source": [
        "Matriz de confusión en el conjunto de validación."
      ]
    },
    {
      "cell_type": "code",
      "metadata": {
        "id": "48yU3iMxOn3W",
        "colab": {
          "base_uri": "https://localhost:8080/",
          "height": 515
        },
        "outputId": "ff56c4d0-45c2-40d8-9913-5c6042802280"
      },
      "source": [
        "pred = gnb.predict(X_test)\n",
        "print_confusion_matrix(confusion_matrix(y_test, pred),[\"Setosa\",\"Versicolor\",\"Virginica\"])"
      ],
      "execution_count": 8,
      "outputs": [
        {
          "output_type": "stream",
          "name": "stdout",
          "text": [
            "Figure(720x504)\n"
          ]
        },
        {
          "output_type": "display_data",
          "data": {
            "image/png": "[encoded data removed]",
            "text/plain": [
              "<Figure size 720x504 with 2 Axes>"
            ]
          },
          "metadata": {
            "needs_background": "light"
          }
        }
      ]
    },
    {
      "cell_type": "code",
      "metadata": {
        "id": "jHyU5lntn8qb",
        "colab": {
          "base_uri": "https://localhost:8080/"
        },
        "outputId": "12eebf12-59ca-4fbb-a54a-66ea6350e2aa"
      },
      "source": [
        "print(classification_report(y_test, pred))"
      ],
      "execution_count": 9,
      "outputs": [
        {
          "output_type": "stream",
          "name": "stdout",
          "text": [
            "              precision    recall  f1-score   support\n",
            "\n",
            "         0.0       1.00      1.00      1.00        13\n",
            "         1.0       1.00      1.00      1.00        16\n",
            "         2.0       1.00      1.00      1.00         9\n",
            "\n",
            "    accuracy                           1.00        38\n",
            "   macro avg       1.00      1.00      1.00        38\n",
            "weighted avg       1.00      1.00      1.00        38\n",
            "\n"
          ]
        }
      ]
    },
    {
      "cell_type": "markdown",
      "metadata": {
        "id": "ZjS30DlBnz8-"
      },
      "source": [
        "Matriz de confusión en el conjunto de entrenamiento."
      ]
    },
    {
      "cell_type": "code",
      "metadata": {
        "id": "iCVe0NbIqaN7",
        "colab": {
          "base_uri": "https://localhost:8080/",
          "height": 511
        },
        "outputId": "af940a85-0121-4b6c-983d-90630706152f"
      },
      "source": [
        "pred_t = gnb.predict(X_train)\n",
        "print_confusion_matrix(confusion_matrix(y_train, pred_t),[\"Setosa\",\"Versicolor\",\"Virginica\"])"
      ],
      "execution_count": 10,
      "outputs": [
        {
          "output_type": "stream",
          "name": "stdout",
          "text": [
            "Figure(720x504)\n"
          ]
        },
        {
          "output_type": "display_data",
          "data": {
            "image/png": "[encoded data removed]",
            "text/plain": [
              "<Figure size 720x504 with 2 Axes>"
            ]
          },
          "metadata": {
            "needs_background": "light"
          }
        }
      ]
    },
    {
      "cell_type": "code",
      "metadata": {
        "id": "5MqG6b79qwNE",
        "colab": {
          "base_uri": "https://localhost:8080/"
        },
        "outputId": "3e3f5dcf-9485-42ff-877b-26ecc1d61b2b"
      },
      "source": [
        "print(classification_report(y_train, pred_t))"
      ],
      "execution_count": 11,
      "outputs": [
        {
          "output_type": "stream",
          "name": "stdout",
          "text": [
            "              precision    recall  f1-score   support\n",
            "\n",
            "         0.0       1.00      1.00      1.00        37\n",
            "         1.0       0.91      0.91      0.91        34\n",
            "         2.0       0.93      0.93      0.93        41\n",
            "\n",
            "    accuracy                           0.95       112\n",
            "   macro avg       0.95      0.95      0.95       112\n",
            "weighted avg       0.95      0.95      0.95       112\n",
            "\n"
          ]
        }
      ]
    },
    {
      "cell_type": "markdown",
      "metadata": {
        "id": "l5IUDLodFRtp"
      },
      "source": [
        "## Automated SMS spam filtering\n",
        "\n",
        "Adaptado del notebook de Radim Rehurek presentado en la charla \"Data Science with Python\" \n",
        "University of Economics in Prague, Diciembre 2014. \n",
        "Enlace: https://radimrehurek.com/data_science_python/"
      ]
    },
    {
      "cell_type": "code",
      "metadata": {
        "id": "vpHGnp4KFRtq"
      },
      "source": [
        "%matplotlib inline\n",
        "import matplotlib.pyplot as plt\n",
        "import csv\n",
        "import pandas as pd\n",
        "import sklearn\n",
        "import numpy as np\n",
        "import seaborn as sns\n",
        "from sklearn.metrics import classification_report, accuracy_score, confusion_matrix\n",
        "from sklearn.feature_extraction.text import TfidfVectorizer\n",
        "from sklearn.naive_bayes import MultinomialNB"
      ],
      "execution_count": 12,
      "outputs": []
    },
    {
      "cell_type": "markdown",
      "metadata": {
        "id": "WA9lSKZoFRtv"
      },
      "source": [
        "### Step 1: Load data, look around"
      ]
    },
    {
      "cell_type": "markdown",
      "metadata": {
        "id": "TnuOkdWaFRtw"
      },
      "source": [
        "Skipping the *real* first step (fleshing out specs, finding out what is it we want to be doing -- often highly non-trivial in practice!), let's download the dataset we'll be using in this demo. Go to https://archive.ics.uci.edu/ml/datasets/SMS+Spam+Collection and download the zip file. Unzip it under `data` subdirectory. You should see a file called `SMSSpamCollection`, about 0.5MB in size:"
      ]
    },
    {
      "cell_type": "markdown",
      "metadata": {
        "id": "NG5mqyH0FRtx"
      },
      "source": [
        "```bash\n",
        "$ ls -l data\n",
        "total 1352\n",
        "-rw-r--r--@ 1 kofola  staff  477907 Mar 15  2011 SMSSpamCollection\n",
        "-rw-r--r--@ 1 kofola  staff    5868 Apr 18  2011 readme\n",
        "-rw-r-----@ 1 kofola  staff  203415 Dec  1 15:30 smsspamcollection.zip\n",
        "```"
      ]
    },
    {
      "cell_type": "code",
      "metadata": {
        "id": "qjHrS1obAejI",
        "colab": {
          "base_uri": "https://localhost:8080/"
        },
        "outputId": "9e6bd42a-ed36-4682-dcc7-d70c303f7fd9"
      },
      "source": [
        "!wget https://archive.ics.uci.edu/ml/machine-learning-databases/00228/smsspamcollection.zip\n",
        "!unzip smsspamcollection.zip\n",
        "!ls"
      ],
      "execution_count": 13,
      "outputs": [
        {
          "output_type": "stream",
          "name": "stdout",
          "text": [
            "--2021-10-05 21:14:04--  https://archive.ics.uci.edu/ml/machine-learning-databases/00228/smsspamcollection.zip\n",
            "Resolving archive.ics.uci.edu (archive.ics.uci.edu)... 128.195.10.252\n",
            "Connecting to archive.ics.uci.edu (archive.ics.uci.edu)|128.195.10.252|:443... connected.\n",
            "HTTP request sent, awaiting response... 200 OK\n",
            "Length: 203415 (199K) [application/x-httpd-php]\n",
            "Saving to: ‘smsspamcollection.zip’\n",
            "\n",
            "smsspamcollection.z 100%[===================>] 198.65K   385KB/s    in 0.5s    \n",
            "\n",
            "2021-10-05 21:14:05 (385 KB/s) - ‘smsspamcollection.zip’ saved [203415/203415]\n",
            "\n",
            "Archive:  smsspamcollection.zip\n",
            "  inflating: SMSSpamCollection       \n",
            "  inflating: readme                  \n",
            "readme\tsample_data  SMSSpamCollection\tsmsspamcollection.zip\n"
          ]
        }
      ]
    },
    {
      "cell_type": "markdown",
      "metadata": {
        "id": "Ktpu-C8iFRtx"
      },
      "source": [
        "This file contains **a collection of more than 5 thousand SMS phone messages** (see the `readme` file for more info):"
      ]
    },
    {
      "cell_type": "code",
      "metadata": {
        "id": "Z698-hsQFRty",
        "colab": {
          "base_uri": "https://localhost:8080/"
        },
        "outputId": "f9588ce4-5e01-4dbb-ab51-e0f99356949c"
      },
      "source": [
        "messages = [line.rstrip() for line in open('SMSSpamCollection')]\n",
        "len(messages)"
      ],
      "execution_count": 14,
      "outputs": [
        {
          "output_type": "execute_result",
          "data": {
            "text/plain": [
              "5574"
            ]
          },
          "metadata": {},
          "execution_count": 14
        }
      ]
    },
    {
      "cell_type": "markdown",
      "metadata": {
        "id": "BxsqxXJQFRt0"
      },
      "source": [
        "A collection of texts is also sometimes called \"corpus\". Let's print the first ten messages in this SMS corpus:"
      ]
    },
    {
      "cell_type": "code",
      "metadata": {
        "id": "RdCKE4QsFRt1",
        "colab": {
          "base_uri": "https://localhost:8080/"
        },
        "outputId": "5f1a403d-6db1-4eed-af27-092b6231b6d9"
      },
      "source": [
        "for message_no, message in enumerate(messages[:10]):\n",
        "    print (message_no, message)"
      ],
      "execution_count": 15,
      "outputs": [
        {
          "output_type": "stream",
          "name": "stdout",
          "text": [
            "0 ham\tGo until jurong point, crazy.. Available only in bugis n great world la e buffet... Cine there got amore wat...\n",
            "1 ham\tOk lar... Joking wif u oni...\n",
            "2 spam\tFree entry in 2 a wkly comp to win FA Cup final tkts 21st May 2005. Text FA to 87121 to receive entry question(std txt rate)T&C's apply 08452810075over18's\n",
            "3 ham\tU dun say so early hor... U c already then say...\n",
            "4 ham\tNah I don't think he goes to usf, he lives around here though\n",
            "5 spam\tFreeMsg Hey there darling it's been 3 week's now and no word back! I'd like some fun you up for it still? Tb ok! XxX std chgs to send, £1.50 to rcv\n",
            "6 ham\tEven my brother is not like to speak with me. They treat me like aids patent.\n",
            "7 ham\tAs per your request 'Melle Melle (Oru Minnaminunginte Nurungu Vettam)' has been set as your callertune for all Callers. Press *9 to copy your friends Callertune\n",
            "8 spam\tWINNER!! As a valued network customer you have been selected to receivea £900 prize reward! To claim call 09061701461. Claim code KL341. Valid 12 hours only.\n",
            "9 spam\tHad your mobile 11 months or more? U R entitled to Update to the latest colour mobiles with camera for Free! Call The Mobile Update Co FREE on 08002986030\n"
          ]
        }
      ]
    },
    {
      "cell_type": "markdown",
      "metadata": {
        "id": "xH15u_XsFRt3"
      },
      "source": [
        "We see that this is a [TSV](http://en.wikipedia.org/wiki/Tab-separated_values) (\"tab separated values\") file, where the first column is a label saying whether the given message is a normal message \"ham\" or \"spam\". The second column is the message itself.\n",
        "\n",
        "This corpus will be our labeled training set. Using these ham/spam examples, we'll **train a machine learning model to learn to discriminate between ham/spam automatically**. Then, with a trained model, we'll be able to **classify arbitrary unlabeled messages** as ham or spam."
      ]
    },
    {
      "cell_type": "markdown",
      "metadata": {
        "id": "fCt9UHZ7FRt4"
      },
      "source": [
        "[![](http://radimrehurek.com/data_science_python/plot_ML_flow_chart_11.png)](http://www.astroml.org/sklearn_tutorial/general_concepts.html#supervised-learning-model-fit-x-y)"
      ]
    },
    {
      "cell_type": "markdown",
      "metadata": {
        "id": "_KfUNG6xFRt4"
      },
      "source": [
        "Instead of parsing TSV (or CSV, or Excel...) files by hand, we can use Python's `pandas` library to do the work for us:"
      ]
    },
    {
      "cell_type": "code",
      "metadata": {
        "id": "sHEYcjWcFRt5",
        "colab": {
          "base_uri": "https://localhost:8080/",
          "height": 206
        },
        "outputId": "b4f115c9-6300-4aac-fdfd-1c8f99cfcf2c"
      },
      "source": [
        "messages = pd.read_csv('SMSSpamCollection', sep='\\t', quoting=csv.QUOTE_NONE,\n",
        "                           names=[\"label\", \"message\"])\n",
        "messages.head()"
      ],
      "execution_count": 16,
      "outputs": [
        {
          "output_type": "execute_result",
          "data": {
            "text/html": [
              "<div>\n",
              "<style scoped>\n",
              "    .dataframe tbody tr th:only-of-type {\n",
              "        vertical-align: middle;\n",
              "    }\n",
              "\n",
              "    .dataframe tbody tr th {\n",
              "        vertical-align: top;\n",
              "    }\n",
              "\n",
              "    .dataframe thead th {\n",
              "        text-align: right;\n",
              "    }\n",
              "</style>\n",
              "<table border=\"1\" class=\"dataframe\">\n",
              "  <thead>\n",
              "    <tr style=\"text-align: right;\">\n",
              "      <th></th>\n",
              "      <th>label</th>\n",
              "      <th>message</th>\n",
              "    </tr>\n",
              "  </thead>\n",
              "  <tbody>\n",
              "    <tr>\n",
              "      <th>0</th>\n",
              "      <td>ham</td>\n",
              "      <td>Go until jurong point, crazy.. Available only ...</td>\n",
              "    </tr>\n",
              "    <tr>\n",
              "      <th>1</th>\n",
              "      <td>ham</td>\n",
              "      <td>Ok lar... Joking wif u oni...</td>\n",
              "    </tr>\n",
              "    <tr>\n",
              "      <th>2</th>\n",
              "      <td>spam</td>\n",
              "      <td>Free entry in 2 a wkly comp to win FA Cup fina...</td>\n",
              "    </tr>\n",
              "    <tr>\n",
              "      <th>3</th>\n",
              "      <td>ham</td>\n",
              "      <td>U dun say so early hor... U c already then say...</td>\n",
              "    </tr>\n",
              "    <tr>\n",
              "      <th>4</th>\n",
              "      <td>ham</td>\n",
              "      <td>Nah I don't think he goes to usf, he lives aro...</td>\n",
              "    </tr>\n",
              "  </tbody>\n",
              "</table>\n",
              "</div>"
            ],
            "text/plain": [
              "  label                                            message\n",
              "0   ham  Go until jurong point, crazy.. Available only ...\n",
              "1   ham                      Ok lar... Joking wif u oni...\n",
              "2  spam  Free entry in 2 a wkly comp to win FA Cup fina...\n",
              "3   ham  U dun say so early hor... U c already then say...\n",
              "4   ham  Nah I don't think he goes to usf, he lives aro..."
            ]
          },
          "metadata": {},
          "execution_count": 16
        }
      ]
    },
    {
      "cell_type": "markdown",
      "metadata": {
        "id": "4l-zArxgFRt9"
      },
      "source": [
        "With `pandas`, we can also view aggregate statistics easily:"
      ]
    },
    {
      "cell_type": "code",
      "metadata": {
        "id": "NqqVdJ6MFRt-",
        "colab": {
          "base_uri": "https://localhost:8080/",
          "height": 175
        },
        "outputId": "218b468a-d3fd-4ec3-d4d4-ba28769c6e86"
      },
      "source": [
        "messages.groupby('label').describe().T"
      ],
      "execution_count": 17,
      "outputs": [
        {
          "output_type": "execute_result",
          "data": {
            "text/html": [
              "<div>\n",
              "<style scoped>\n",
              "    .dataframe tbody tr th:only-of-type {\n",
              "        vertical-align: middle;\n",
              "    }\n",
              "\n",
              "    .dataframe tbody tr th {\n",
              "        vertical-align: top;\n",
              "    }\n",
              "\n",
              "    .dataframe thead th {\n",
              "        text-align: right;\n",
              "    }\n",
              "</style>\n",
              "<table border=\"1\" class=\"dataframe\">\n",
              "  <thead>\n",
              "    <tr style=\"text-align: right;\">\n",
              "      <th></th>\n",
              "      <th>label</th>\n",
              "      <th>ham</th>\n",
              "      <th>spam</th>\n",
              "    </tr>\n",
              "  </thead>\n",
              "  <tbody>\n",
              "    <tr>\n",
              "      <th rowspan=\"4\" valign=\"top\">message</th>\n",
              "      <th>count</th>\n",
              "      <td>4827</td>\n",
              "      <td>747</td>\n",
              "    </tr>\n",
              "    <tr>\n",
              "      <th>unique</th>\n",
              "      <td>4518</td>\n",
              "      <td>653</td>\n",
              "    </tr>\n",
              "    <tr>\n",
              "      <th>top</th>\n",
              "      <td>Sorry, I'll call later</td>\n",
              "      <td>Please call our customer service representativ...</td>\n",
              "    </tr>\n",
              "    <tr>\n",
              "      <th>freq</th>\n",
              "      <td>30</td>\n",
              "      <td>4</td>\n",
              "    </tr>\n",
              "  </tbody>\n",
              "</table>\n",
              "</div>"
            ],
            "text/plain": [
              "label                              ham                                               spam\n",
              "message count                     4827                                                747\n",
              "        unique                    4518                                                653\n",
              "        top     Sorry, I'll call later  Please call our customer service representativ...\n",
              "        freq                        30                                                  4"
            ]
          },
          "metadata": {},
          "execution_count": 17
        }
      ]
    },
    {
      "cell_type": "markdown",
      "metadata": {
        "id": "mAm8EcpQFRuA"
      },
      "source": [
        "How long are the messages?"
      ]
    },
    {
      "cell_type": "code",
      "metadata": {
        "id": "X4hNmRprFRuB",
        "colab": {
          "base_uri": "https://localhost:8080/",
          "height": 206
        },
        "outputId": "612102d9-51d6-45e6-ceeb-ab3d36d69189"
      },
      "source": [
        "messages['length'] = messages['message'].map(lambda text: len(text))\n",
        "messages.head()"
      ],
      "execution_count": 18,
      "outputs": [
        {
          "output_type": "execute_result",
          "data": {
            "text/html": [
              "<div>\n",
              "<style scoped>\n",
              "    .dataframe tbody tr th:only-of-type {\n",
              "        vertical-align: middle;\n",
              "    }\n",
              "\n",
              "    .dataframe tbody tr th {\n",
              "        vertical-align: top;\n",
              "    }\n",
              "\n",
              "    .dataframe thead th {\n",
              "        text-align: right;\n",
              "    }\n",
              "</style>\n",
              "<table border=\"1\" class=\"dataframe\">\n",
              "  <thead>\n",
              "    <tr style=\"text-align: right;\">\n",
              "      <th></th>\n",
              "      <th>label</th>\n",
              "      <th>message</th>\n",
              "      <th>length</th>\n",
              "    </tr>\n",
              "  </thead>\n",
              "  <tbody>\n",
              "    <tr>\n",
              "      <th>0</th>\n",
              "      <td>ham</td>\n",
              "      <td>Go until jurong point, crazy.. Available only ...</td>\n",
              "      <td>111</td>\n",
              "    </tr>\n",
              "    <tr>\n",
              "      <th>1</th>\n",
              "      <td>ham</td>\n",
              "      <td>Ok lar... Joking wif u oni...</td>\n",
              "      <td>29</td>\n",
              "    </tr>\n",
              "    <tr>\n",
              "      <th>2</th>\n",
              "      <td>spam</td>\n",
              "      <td>Free entry in 2 a wkly comp to win FA Cup fina...</td>\n",
              "      <td>155</td>\n",
              "    </tr>\n",
              "    <tr>\n",
              "      <th>3</th>\n",
              "      <td>ham</td>\n",
              "      <td>U dun say so early hor... U c already then say...</td>\n",
              "      <td>49</td>\n",
              "    </tr>\n",
              "    <tr>\n",
              "      <th>4</th>\n",
              "      <td>ham</td>\n",
              "      <td>Nah I don't think he goes to usf, he lives aro...</td>\n",
              "      <td>61</td>\n",
              "    </tr>\n",
              "  </tbody>\n",
              "</table>\n",
              "</div>"
            ],
            "text/plain": [
              "  label                                            message  length\n",
              "0   ham  Go until jurong point, crazy.. Available only ...     111\n",
              "1   ham                      Ok lar... Joking wif u oni...      29\n",
              "2  spam  Free entry in 2 a wkly comp to win FA Cup fina...     155\n",
              "3   ham  U dun say so early hor... U c already then say...      49\n",
              "4   ham  Nah I don't think he goes to usf, he lives aro...      61"
            ]
          },
          "metadata": {},
          "execution_count": 18
        }
      ]
    },
    {
      "cell_type": "code",
      "metadata": {
        "id": "sLECdpO5FRuD",
        "colab": {
          "base_uri": "https://localhost:8080/",
          "height": 265
        },
        "outputId": "a307fc36-35cf-487c-8797-bbc2ed7a55e4"
      },
      "source": [
        "messages.length.plot(bins=20, kind='hist');"
      ],
      "execution_count": 19,
      "outputs": [
        {
          "output_type": "display_data",
          "data": {
            "image/png": "[encoded data removed]",
            "text/plain": [
              "<Figure size 432x288 with 1 Axes>"
            ]
          },
          "metadata": {
            "needs_background": "light"
          }
        }
      ]
    },
    {
      "cell_type": "code",
      "metadata": {
        "id": "2BoTT3byFRuG",
        "colab": {
          "base_uri": "https://localhost:8080/"
        },
        "outputId": "36d52fbf-f6b8-44fe-de92-7cba6ee901a2"
      },
      "source": [
        "messages.length.describe()"
      ],
      "execution_count": 20,
      "outputs": [
        {
          "output_type": "execute_result",
          "data": {
            "text/plain": [
              "count    5574.000000\n",
              "mean       80.478292\n",
              "std        59.848302\n",
              "min         2.000000\n",
              "25%        36.000000\n",
              "50%        62.000000\n",
              "75%       122.000000\n",
              "max       910.000000\n",
              "Name: length, dtype: float64"
            ]
          },
          "metadata": {},
          "execution_count": 20
        }
      ]
    },
    {
      "cell_type": "markdown",
      "metadata": {
        "id": "9kTVeCgOFRuI"
      },
      "source": [
        "What is that super long message?"
      ]
    },
    {
      "cell_type": "code",
      "metadata": {
        "id": "hpSPZLgHFRuJ",
        "colab": {
          "base_uri": "https://localhost:8080/"
        },
        "outputId": "2e83e985-7b9f-4b60-8406-8e9f643e6d2c"
      },
      "source": [
        "print (list(messages.message[messages.length > 900]))"
      ],
      "execution_count": 21,
      "outputs": [
        {
          "output_type": "stream",
          "name": "stdout",
          "text": [
            "[\"For me the love should start with attraction.i should feel that I need her every time around me.she should be the first thing which comes in my thoughts.I would start the day and end it with her.she should be there every time I dream.love will be then when my every breath has her name.my life should happen around her.my life will be named to her.I would cry for her.will give all my happiness and take all her sorrows.I will be ready to fight with anyone for her.I will be in love when I will be doing the craziest things for her.love will be when I don't have to proove anyone that my girl is the most beautiful lady on the whole planet.I will always be singing praises for her.love will be when I start up making chicken curry and end up makiing sambar.life will be the most beautiful then.will get every morning and thank god for the day because she is with me.I would like to say a lot..will tell later..\"]\n"
          ]
        }
      ]
    },
    {
      "cell_type": "code",
      "metadata": {
        "id": "BF0gG_6xFRuL",
        "colab": {
          "base_uri": "https://localhost:8080/"
        },
        "outputId": "7985dd1e-6665-452d-8d00-2ab23ddef209"
      },
      "source": [
        "print (list(messages[messages.length > 900].index))"
      ],
      "execution_count": 22,
      "outputs": [
        {
          "output_type": "stream",
          "name": "stdout",
          "text": [
            "[1085]\n"
          ]
        }
      ]
    },
    {
      "cell_type": "markdown",
      "metadata": {
        "id": "DiYjH8ytFRuN"
      },
      "source": [
        "Is there any difference in message length between spam and ham?"
      ]
    },
    {
      "cell_type": "code",
      "metadata": {
        "id": "fALEpwBFFRuN",
        "colab": {
          "base_uri": "https://localhost:8080/",
          "height": 290
        },
        "outputId": "960657e5-12b1-4ce0-f3ff-addb9fefa5c5"
      },
      "source": [
        "messages.hist(column='length', by='label', bins=50, figsize=(12,4));"
      ],
      "execution_count": 23,
      "outputs": [
        {
          "output_type": "display_data",
          "data": {
            "image/png": "[encoded data removed]",
            "text/plain": [
              "<Figure size 864x288 with 2 Axes>"
            ]
          },
          "metadata": {
            "needs_background": "light"
          }
        }
      ]
    },
    {
      "cell_type": "markdown",
      "metadata": {
        "id": "ZHtWGmZxFRuP"
      },
      "source": [
        "Good fun, but how do we make computer understand the plain text messages themselves? Or can it under such malformed gibberish at all?"
      ]
    },
    {
      "cell_type": "markdown",
      "metadata": {
        "id": "M3EMus0RFRuQ"
      },
      "source": [
        "### Step 2: Data to vectors"
      ]
    },
    {
      "cell_type": "markdown",
      "metadata": {
        "id": "UX56EDmSFRuR"
      },
      "source": [
        "Now we'll convert each message, represented as a list of tokens (lemmas) above, into a vector that machine learning models can understand.\n",
        "\n",
        "Doing that requires essentially three steps, in the bag-of-words model:\n",
        "\n",
        "1. counting how many times does a word occur in each message (term frequency)\n",
        "2. weighting the counts, so that frequent tokens get lower weight (inverse document frequency)\n",
        "3. normalizing the vectors to unit length, to abstract from the original text length (L2 norm)"
      ]
    },
    {
      "cell_type": "markdown",
      "metadata": {
        "id": "NX989NTGFRuR"
      },
      "source": [
        "Each vector has as many dimensions as there are unique words in the SMS corpus.\n",
        "\n",
        "To transform the entire bag-of-words corpus into TF-IDF corpus at once:"
      ]
    },
    {
      "cell_type": "code",
      "metadata": {
        "id": "ahGJDvP8FRuS",
        "colab": {
          "base_uri": "https://localhost:8080/"
        },
        "outputId": "da4f82db-765f-4c1c-d7cb-b463d78c4ce6"
      },
      "source": [
        "vectorizer = TfidfVectorizer()\n",
        "sms_tfidf = vectorizer.fit_transform(messages['message'].values)\n",
        "\n",
        "print(sms_tfidf.shape)"
      ],
      "execution_count": 24,
      "outputs": [
        {
          "output_type": "stream",
          "name": "stdout",
          "text": [
            "(5574, 8713)\n"
          ]
        }
      ]
    },
    {
      "cell_type": "markdown",
      "metadata": {
        "id": "2-Vw7R9mFRuV"
      },
      "source": [
        "### Step 3: Training a model, detecting spam"
      ]
    },
    {
      "cell_type": "markdown",
      "metadata": {
        "id": "wXi5uINAFRuV"
      },
      "source": [
        "With messages represented as vectors, we can finally train our spam/ham classifier. This part is pretty straightforward, and there are many libraries that realize the training algorithms.\n",
        "The library sklearn.naive_bayes includes implementations of:\n",
        "- GaussianNB\n",
        "- MultinomialNB \n",
        "- BernoulliNB"
      ]
    },
    {
      "cell_type": "markdown",
      "metadata": {
        "id": "kjAIgmuCF83c"
      },
      "source": [
        "#### **Pregunta 1:** ¿Qué modelo se debería usar y por qué?"
      ]
    },
    {
      "cell_type": "code",
      "metadata": {
        "id": "3Nj2KZJUFRuW"
      },
      "source": [
        "classifier = MultinomialNB()\n",
        "#El clasificador multinomial Naive Bayes es adecuado para la clasificación con características discretas\n",
        "#(por ejemplo, recuento de palabras para la clasificación de texto).\n",
        "targets = messages['label'].values\n",
        "clf = classifier.fit(sms_tfidf, targets)"
      ],
      "execution_count": 25,
      "outputs": []
    },
    {
      "cell_type": "markdown",
      "metadata": {
        "id": "fcO_mIorFRuZ"
      },
      "source": [
        "Let's try classifying our single random message:"
      ]
    },
    {
      "cell_type": "code",
      "metadata": {
        "id": "UbMFnI_sFRua",
        "colab": {
          "base_uri": "https://localhost:8080/"
        },
        "outputId": "87864f92-b804-4fce-de16-0598763de662"
      },
      "source": [
        "examples = ['Free entry in 3 a wkly comp', 'Hello my friend']\n",
        "example_vector = vectorizer.transform(examples)\n",
        "predictions = classifier.predict(example_vector)\n",
        "\n",
        "print(predictions)"
      ],
      "execution_count": 26,
      "outputs": [
        {
          "output_type": "stream",
          "name": "stdout",
          "text": [
            "['spam' 'ham']\n"
          ]
        }
      ]
    },
    {
      "cell_type": "markdown",
      "metadata": {
        "id": "AavbuHV2FRug"
      },
      "source": [
        "Hooray! You can try it with your own texts, too.\n",
        "\n",
        "A natural question is to ask, how many messages do we classify correctly overall?"
      ]
    },
    {
      "cell_type": "code",
      "metadata": {
        "id": "UsLF_g9-FRuh",
        "colab": {
          "base_uri": "https://localhost:8080/"
        },
        "outputId": "54e1a8eb-6794-4a24-fbb3-5480c7c85ed4"
      },
      "source": [
        "all_predictions = clf.predict(sms_tfidf)\n",
        "accuracy = accuracy_score(messages['label'], all_predictions)\n",
        "cm = confusion_matrix(messages['label'], all_predictions)\n",
        "statistics = classification_report(messages['label'], all_predictions)\n",
        "\n",
        "print('Accuracy: %.4f\\n' % accuracy)\n",
        "print(statistics)"
      ],
      "execution_count": 27,
      "outputs": [
        {
          "output_type": "stream",
          "name": "stdout",
          "text": [
            "Accuracy: 0.9761\n",
            "\n",
            "              precision    recall  f1-score   support\n",
            "\n",
            "         ham       0.97      1.00      0.99      4827\n",
            "        spam       1.00      0.82      0.90       747\n",
            "\n",
            "    accuracy                           0.98      5574\n",
            "   macro avg       0.99      0.91      0.94      5574\n",
            "weighted avg       0.98      0.98      0.98      5574\n",
            "\n"
          ]
        }
      ]
    },
    {
      "cell_type": "code",
      "metadata": {
        "id": "4ZScGvARHWkC",
        "colab": {
          "base_uri": "https://localhost:8080/",
          "height": 491
        },
        "outputId": "bfa60f56-cdb5-488f-8afb-af18a76662cc"
      },
      "source": [
        "print_confusion_matrix(cm,[\"ham\", \"spam\"])"
      ],
      "execution_count": 28,
      "outputs": [
        {
          "output_type": "stream",
          "name": "stdout",
          "text": [
            "Figure(720x504)\n"
          ]
        },
        {
          "output_type": "display_data",
          "data": {
            "image/png": "[encoded data removed]",
            "text/plain": [
              "<Figure size 720x504 with 2 Axes>"
            ]
          },
          "metadata": {
            "needs_background": "light"
          }
        }
      ]
    },
    {
      "cell_type": "markdown",
      "metadata": {
        "id": "xVHbIvmlFRul"
      },
      "source": [
        "By default, MultinomialNB uses the Additive Laplace smoothing (alpha = 1). Change the classifier to work with Lidstone smoothing. \n",
        "\n",
        "####  **Pregunta 2:** ¿A qué se debe la diferencia entre los resultados al cambiar el parámetro de suavizado?"
      ]
    },
    {
      "cell_type": "code",
      "metadata": {
        "id": "BYLyt59QFRun",
        "colab": {
          "base_uri": "https://localhost:8080/"
        },
        "outputId": "bbd5b0c8-75f9-46cf-b9b3-0e8c00584e9c"
      },
      "source": [
        "classifier = MultinomialNB(alpha=0.01)\n",
        "targets = messages['label'].values\n",
        "clf = classifier.fit(sms_tfidf, targets)\n",
        "\n",
        "all_predictions = clf.predict(sms_tfidf)\n",
        "accuracy = accuracy_score(messages['label'], all_predictions)\n",
        "cm = confusion_matrix(messages['label'], all_predictions)\n",
        "statistics = classification_report(messages['label'], all_predictions)\n",
        "\n",
        "print('Accuracy: %.4f\\n' % accuracy)\n",
        "print(statistics)"
      ],
      "execution_count": 45,
      "outputs": [
        {
          "output_type": "stream",
          "name": "stdout",
          "text": [
            "Accuracy: 0.9991\n",
            "\n",
            "              precision    recall  f1-score   support\n",
            "\n",
            "         ham       1.00      1.00      1.00      4827\n",
            "        spam       1.00      0.99      1.00       747\n",
            "\n",
            "    accuracy                           1.00      5574\n",
            "   macro avg       1.00      1.00      1.00      5574\n",
            "weighted avg       1.00      1.00      1.00      5574\n",
            "\n"
          ]
        }
      ]
    },
    {
      "cell_type": "code",
      "metadata": {
        "id": "URbncewLI9Xu",
        "colab": {
          "base_uri": "https://localhost:8080/",
          "height": 491
        },
        "outputId": "74630877-b841-4f10-87d7-3fcd814a8841"
      },
      "source": [
        "print_confusion_matrix(cm,[\"ham\", \"spam\"])"
      ],
      "execution_count": 30,
      "outputs": [
        {
          "output_type": "stream",
          "name": "stdout",
          "text": [
            "Figure(720x504)\n"
          ]
        },
        {
          "output_type": "display_data",
          "data": {
            "image/png": "[encoded data removed]",
            "text/plain": [
              "<Figure size 720x504 with 2 Axes>"
            ]
          },
          "metadata": {
            "needs_background": "light"
          }
        }
      ]
    },
    {
      "cell_type": "code",
      "metadata": {
        "id": "uOc4vVd0WHVl"
      },
      "source": [
        "#Debido a que se usa el suavizado de Laplace para evitar las probabilidades en 0\n",
        "#es más óptimo que el valor se acerque más a 0 sin ser 0, como 0.001 o 0.00001"
      ],
      "execution_count": null,
      "outputs": []
    },
    {
      "cell_type": "markdown",
      "metadata": {
        "id": "pGY8mno9kRyC"
      },
      "source": [
        "## Zoo Animal Classification"
      ]
    },
    {
      "cell_type": "markdown",
      "metadata": {
        "id": "2A6nG2WtrAVa"
      },
      "source": [
        "Trabajaremos con los datos de clasificación de animales de Zoológico de Kaggle (https://www.kaggle.com/uciml/zoo-animal-classification).\n"
      ]
    },
    {
      "cell_type": "code",
      "metadata": {
        "id": "Zw_TGTSOHU7L"
      },
      "source": [
        "import pandas as pd\n",
        "from sklearn.model_selection import train_test_split\n",
        "from sklearn.naive_bayes import BernoulliNB"
      ],
      "execution_count": 31,
      "outputs": []
    },
    {
      "cell_type": "markdown",
      "metadata": {
        "id": "dq6YAOxSghg8"
      },
      "source": [
        "### Carga del dataset y exploración\n",
        "\n",
        "Descargamos los archivos con el dataset y la descripción de las clases."
      ]
    },
    {
      "cell_type": "code",
      "metadata": {
        "id": "ppwHz08lhSB8",
        "colab": {
          "base_uri": "https://localhost:8080/"
        },
        "outputId": "3d8c8e34-fb08-4945-969f-ae3c2f696cae"
      },
      "source": [
        "!wget 'https://drive.google.com/uc?export=download&id=1U2fTfqJL0Scs861k-CzVwbiIGlLq57lQ' -O zoo.csv\n",
        "!wget 'https://drive.google.com/uc?export=download&id=1iRiQwdOTlAB6mlcT32wA3Lca41cRWYgy' -O class.csv"
      ],
      "execution_count": 32,
      "outputs": [
        {
          "output_type": "stream",
          "name": "stdout",
          "text": [
            "--2021-10-05 21:14:08--  https://drive.google.com/uc?export=download&id=1U2fTfqJL0Scs861k-CzVwbiIGlLq57lQ\n",
            "Resolving drive.google.com (drive.google.com)... 64.233.187.101, 64.233.187.102, 64.233.187.113, ...\n",
            "Connecting to drive.google.com (drive.google.com)|64.233.187.101|:443... connected.\n",
            "HTTP request sent, awaiting response... 302 Moved Temporarily\n",
            "Location: https://doc-00-3c-docs.googleusercontent.com/docs/securesc/ha0ro937gcuc7l7deffksulhg5h7mbp1/63g150r41unit4gsus4mr6pllk65jfsp/1633468425000/13307417494834192396/*/1U2fTfqJL0Scs861k-CzVwbiIGlLq57lQ?e=download [following]\n",
            "Warning: wildcards not supported in HTTP.\n",
            "--2021-10-05 21:14:09--  https://doc-00-3c-docs.googleusercontent.com/docs/securesc/ha0ro937gcuc7l7deffksulhg5h7mbp1/63g150r41unit4gsus4mr6pllk65jfsp/1633468425000/13307417494834192396/*/1U2fTfqJL0Scs861k-CzVwbiIGlLq57lQ?e=download\n",
            "Resolving doc-00-3c-docs.googleusercontent.com (doc-00-3c-docs.googleusercontent.com)... 74.125.204.132, 2404:6800:4008:c04::84\n",
            "Connecting to doc-00-3c-docs.googleusercontent.com (doc-00-3c-docs.googleusercontent.com)|74.125.204.132|:443... connected.\n",
            "HTTP request sent, awaiting response... 200 OK\n",
            "Length: 4368 (4.3K) [text/csv]\n",
            "Saving to: ‘zoo.csv’\n",
            "\n",
            "zoo.csv             100%[===================>]   4.27K  --.-KB/s    in 0s      \n",
            "\n",
            "2021-10-05 21:14:09 (46.2 MB/s) - ‘zoo.csv’ saved [4368/4368]\n",
            "\n",
            "--2021-10-05 21:14:09--  https://drive.google.com/uc?export=download&id=1iRiQwdOTlAB6mlcT32wA3Lca41cRWYgy\n",
            "Resolving drive.google.com (drive.google.com)... 64.233.187.101, 64.233.187.102, 64.233.187.113, ...\n",
            "Connecting to drive.google.com (drive.google.com)|64.233.187.101|:443... connected.\n",
            "HTTP request sent, awaiting response... 302 Moved Temporarily\n",
            "Location: https://doc-04-3c-docs.googleusercontent.com/docs/securesc/ha0ro937gcuc7l7deffksulhg5h7mbp1/vgprhikdcaqk7sg960k39vbkoc67vpg6/1633468425000/13307417494834192396/*/1iRiQwdOTlAB6mlcT32wA3Lca41cRWYgy?e=download [following]\n",
            "Warning: wildcards not supported in HTTP.\n",
            "--2021-10-05 21:14:09--  https://doc-04-3c-docs.googleusercontent.com/docs/securesc/ha0ro937gcuc7l7deffksulhg5h7mbp1/vgprhikdcaqk7sg960k39vbkoc67vpg6/1633468425000/13307417494834192396/*/1iRiQwdOTlAB6mlcT32wA3Lca41cRWYgy?e=download\n",
            "Resolving doc-04-3c-docs.googleusercontent.com (doc-04-3c-docs.googleusercontent.com)... 74.125.204.132, 2404:6800:4008:c04::84\n",
            "Connecting to doc-04-3c-docs.googleusercontent.com (doc-04-3c-docs.googleusercontent.com)|74.125.204.132|:443... connected.\n",
            "HTTP request sent, awaiting response... 200 OK\n",
            "Length: 963 [text/csv]\n",
            "Saving to: ‘class.csv’\n",
            "\n",
            "class.csv           100%[===================>]     963  --.-KB/s    in 0s      \n",
            "\n",
            "2021-10-05 21:14:10 (30.8 MB/s) - ‘class.csv’ saved [963/963]\n",
            "\n"
          ]
        }
      ]
    },
    {
      "cell_type": "code",
      "metadata": {
        "id": "oDZRoss5jKB8",
        "colab": {
          "base_uri": "https://localhost:8080/",
          "height": 257
        },
        "outputId": "ded00537-ce41-4ba7-9be9-5bda1970bdc6"
      },
      "source": [
        "data = pd.read_csv(\"zoo.csv\")\n",
        "data.head(6)"
      ],
      "execution_count": 33,
      "outputs": [
        {
          "output_type": "execute_result",
          "data": {
            "text/html": [
              "<div>\n",
              "<style scoped>\n",
              "    .dataframe tbody tr th:only-of-type {\n",
              "        vertical-align: middle;\n",
              "    }\n",
              "\n",
              "    .dataframe tbody tr th {\n",
              "        vertical-align: top;\n",
              "    }\n",
              "\n",
              "    .dataframe thead th {\n",
              "        text-align: right;\n",
              "    }\n",
              "</style>\n",
              "<table border=\"1\" class=\"dataframe\">\n",
              "  <thead>\n",
              "    <tr style=\"text-align: right;\">\n",
              "      <th></th>\n",
              "      <th>animal_name</th>\n",
              "      <th>hair</th>\n",
              "      <th>feathers</th>\n",
              "      <th>eggs</th>\n",
              "      <th>milk</th>\n",
              "      <th>airborne</th>\n",
              "      <th>aquatic</th>\n",
              "      <th>predator</th>\n",
              "      <th>toothed</th>\n",
              "      <th>backbone</th>\n",
              "      <th>breathes</th>\n",
              "      <th>venomous</th>\n",
              "      <th>fins</th>\n",
              "      <th>legs</th>\n",
              "      <th>tail</th>\n",
              "      <th>domestic</th>\n",
              "      <th>catsize</th>\n",
              "      <th>class_type</th>\n",
              "    </tr>\n",
              "  </thead>\n",
              "  <tbody>\n",
              "    <tr>\n",
              "      <th>0</th>\n",
              "      <td>aardvark</td>\n",
              "      <td>1</td>\n",
              "      <td>0</td>\n",
              "      <td>0</td>\n",
              "      <td>1</td>\n",
              "      <td>0</td>\n",
              "      <td>0</td>\n",
              "      <td>1</td>\n",
              "      <td>1</td>\n",
              "      <td>1</td>\n",
              "      <td>1</td>\n",
              "      <td>0</td>\n",
              "      <td>0</td>\n",
              "      <td>4</td>\n",
              "      <td>0</td>\n",
              "      <td>0</td>\n",
              "      <td>1</td>\n",
              "      <td>1</td>\n",
              "    </tr>\n",
              "    <tr>\n",
              "      <th>1</th>\n",
              "      <td>antelope</td>\n",
              "      <td>1</td>\n",
              "      <td>0</td>\n",
              "      <td>0</td>\n",
              "      <td>1</td>\n",
              "      <td>0</td>\n",
              "      <td>0</td>\n",
              "      <td>0</td>\n",
              "      <td>1</td>\n",
              "      <td>1</td>\n",
              "      <td>1</td>\n",
              "      <td>0</td>\n",
              "      <td>0</td>\n",
              "      <td>4</td>\n",
              "      <td>1</td>\n",
              "      <td>0</td>\n",
              "      <td>1</td>\n",
              "      <td>1</td>\n",
              "    </tr>\n",
              "    <tr>\n",
              "      <th>2</th>\n",
              "      <td>bass</td>\n",
              "      <td>0</td>\n",
              "      <td>0</td>\n",
              "      <td>1</td>\n",
              "      <td>0</td>\n",
              "      <td>0</td>\n",
              "      <td>1</td>\n",
              "      <td>1</td>\n",
              "      <td>1</td>\n",
              "      <td>1</td>\n",
              "      <td>0</td>\n",
              "      <td>0</td>\n",
              "      <td>1</td>\n",
              "      <td>0</td>\n",
              "      <td>1</td>\n",
              "      <td>0</td>\n",
              "      <td>0</td>\n",
              "      <td>4</td>\n",
              "    </tr>\n",
              "    <tr>\n",
              "      <th>3</th>\n",
              "      <td>bear</td>\n",
              "      <td>1</td>\n",
              "      <td>0</td>\n",
              "      <td>0</td>\n",
              "      <td>1</td>\n",
              "      <td>0</td>\n",
              "      <td>0</td>\n",
              "      <td>1</td>\n",
              "      <td>1</td>\n",
              "      <td>1</td>\n",
              "      <td>1</td>\n",
              "      <td>0</td>\n",
              "      <td>0</td>\n",
              "      <td>4</td>\n",
              "      <td>0</td>\n",
              "      <td>0</td>\n",
              "      <td>1</td>\n",
              "      <td>1</td>\n",
              "    </tr>\n",
              "    <tr>\n",
              "      <th>4</th>\n",
              "      <td>boar</td>\n",
              "      <td>1</td>\n",
              "      <td>0</td>\n",
              "      <td>0</td>\n",
              "      <td>1</td>\n",
              "      <td>0</td>\n",
              "      <td>0</td>\n",
              "      <td>1</td>\n",
              "      <td>1</td>\n",
              "      <td>1</td>\n",
              "      <td>1</td>\n",
              "      <td>0</td>\n",
              "      <td>0</td>\n",
              "      <td>4</td>\n",
              "      <td>1</td>\n",
              "      <td>0</td>\n",
              "      <td>1</td>\n",
              "      <td>1</td>\n",
              "    </tr>\n",
              "    <tr>\n",
              "      <th>5</th>\n",
              "      <td>buffalo</td>\n",
              "      <td>1</td>\n",
              "      <td>0</td>\n",
              "      <td>0</td>\n",
              "      <td>1</td>\n",
              "      <td>0</td>\n",
              "      <td>0</td>\n",
              "      <td>0</td>\n",
              "      <td>1</td>\n",
              "      <td>1</td>\n",
              "      <td>1</td>\n",
              "      <td>0</td>\n",
              "      <td>0</td>\n",
              "      <td>4</td>\n",
              "      <td>1</td>\n",
              "      <td>0</td>\n",
              "      <td>1</td>\n",
              "      <td>1</td>\n",
              "    </tr>\n",
              "  </tbody>\n",
              "</table>\n",
              "</div>"
            ],
            "text/plain": [
              "  animal_name  hair  feathers  eggs  ...  tail  domestic  catsize  class_type\n",
              "0    aardvark     1         0     0  ...     0         0        1           1\n",
              "1    antelope     1         0     0  ...     1         0        1           1\n",
              "2        bass     0         0     1  ...     1         0        0           4\n",
              "3        bear     1         0     0  ...     0         0        1           1\n",
              "4        boar     1         0     0  ...     1         0        1           1\n",
              "5     buffalo     1         0     0  ...     1         0        1           1\n",
              "\n",
              "[6 rows x 18 columns]"
            ]
          },
          "metadata": {},
          "execution_count": 33
        }
      ]
    },
    {
      "cell_type": "code",
      "metadata": {
        "id": "b5FFyO_nh6a4",
        "colab": {
          "base_uri": "https://localhost:8080/",
          "height": 269
        },
        "outputId": "109ca03f-ccbc-41ea-8a48-26e47ab50b8f"
      },
      "source": [
        "classdata = pd.read_csv(\"class.csv\")\n",
        "classdata"
      ],
      "execution_count": 34,
      "outputs": [
        {
          "output_type": "execute_result",
          "data": {
            "text/html": [
              "<div>\n",
              "<style scoped>\n",
              "    .dataframe tbody tr th:only-of-type {\n",
              "        vertical-align: middle;\n",
              "    }\n",
              "\n",
              "    .dataframe tbody tr th {\n",
              "        vertical-align: top;\n",
              "    }\n",
              "\n",
              "    .dataframe thead th {\n",
              "        text-align: right;\n",
              "    }\n",
              "</style>\n",
              "<table border=\"1\" class=\"dataframe\">\n",
              "  <thead>\n",
              "    <tr style=\"text-align: right;\">\n",
              "      <th></th>\n",
              "      <th>Class_Number</th>\n",
              "      <th>Number_Of_Animal_Species_In_Class</th>\n",
              "      <th>Class_Type</th>\n",
              "      <th>Animal_Names</th>\n",
              "    </tr>\n",
              "  </thead>\n",
              "  <tbody>\n",
              "    <tr>\n",
              "      <th>0</th>\n",
              "      <td>1</td>\n",
              "      <td>41</td>\n",
              "      <td>Mammal</td>\n",
              "      <td>aardvark, antelope, bear, boar, buffalo, calf,...</td>\n",
              "    </tr>\n",
              "    <tr>\n",
              "      <th>1</th>\n",
              "      <td>2</td>\n",
              "      <td>20</td>\n",
              "      <td>Bird</td>\n",
              "      <td>chicken, crow, dove, duck, flamingo, gull, haw...</td>\n",
              "    </tr>\n",
              "    <tr>\n",
              "      <th>2</th>\n",
              "      <td>3</td>\n",
              "      <td>5</td>\n",
              "      <td>Reptile</td>\n",
              "      <td>pitviper, seasnake, slowworm, tortoise, tuatara</td>\n",
              "    </tr>\n",
              "    <tr>\n",
              "      <th>3</th>\n",
              "      <td>4</td>\n",
              "      <td>13</td>\n",
              "      <td>Fish</td>\n",
              "      <td>bass, carp, catfish, chub, dogfish, haddock, h...</td>\n",
              "    </tr>\n",
              "    <tr>\n",
              "      <th>4</th>\n",
              "      <td>5</td>\n",
              "      <td>4</td>\n",
              "      <td>Amphibian</td>\n",
              "      <td>frog, frog, newt, toad</td>\n",
              "    </tr>\n",
              "    <tr>\n",
              "      <th>5</th>\n",
              "      <td>6</td>\n",
              "      <td>8</td>\n",
              "      <td>Bug</td>\n",
              "      <td>flea, gnat, honeybee, housefly, ladybird, moth...</td>\n",
              "    </tr>\n",
              "    <tr>\n",
              "      <th>6</th>\n",
              "      <td>7</td>\n",
              "      <td>10</td>\n",
              "      <td>Invertebrate</td>\n",
              "      <td>clam, crab, crayfish, lobster, octopus, scorpi...</td>\n",
              "    </tr>\n",
              "  </tbody>\n",
              "</table>\n",
              "</div>"
            ],
            "text/plain": [
              "   Class_Number  ...                                       Animal_Names\n",
              "0             1  ...  aardvark, antelope, bear, boar, buffalo, calf,...\n",
              "1             2  ...  chicken, crow, dove, duck, flamingo, gull, haw...\n",
              "2             3  ...    pitviper, seasnake, slowworm, tortoise, tuatara\n",
              "3             4  ...  bass, carp, catfish, chub, dogfish, haddock, h...\n",
              "4             5  ...                             frog, frog, newt, toad\n",
              "5             6  ...  flea, gnat, honeybee, housefly, ladybird, moth...\n",
              "6             7  ...  clam, crab, crayfish, lobster, octopus, scorpi...\n",
              "\n",
              "[7 rows x 4 columns]"
            ]
          },
          "metadata": {},
          "execution_count": 34
        }
      ]
    },
    {
      "cell_type": "markdown",
      "metadata": {
        "id": "H85MPpCPr0Tj"
      },
      "source": [
        "Descripción del conjunto de datos."
      ]
    },
    {
      "cell_type": "code",
      "metadata": {
        "id": "XIX2F5TxnbFo",
        "colab": {
          "base_uri": "https://localhost:8080/",
          "height": 582
        },
        "outputId": "4b8d3c39-fdbb-4fde-f6d8-4b2bd4b5dd8d"
      },
      "source": [
        "data.describe().T"
      ],
      "execution_count": 35,
      "outputs": [
        {
          "output_type": "execute_result",
          "data": {
            "text/html": [
              "<div>\n",
              "<style scoped>\n",
              "    .dataframe tbody tr th:only-of-type {\n",
              "        vertical-align: middle;\n",
              "    }\n",
              "\n",
              "    .dataframe tbody tr th {\n",
              "        vertical-align: top;\n",
              "    }\n",
              "\n",
              "    .dataframe thead th {\n",
              "        text-align: right;\n",
              "    }\n",
              "</style>\n",
              "<table border=\"1\" class=\"dataframe\">\n",
              "  <thead>\n",
              "    <tr style=\"text-align: right;\">\n",
              "      <th></th>\n",
              "      <th>count</th>\n",
              "      <th>mean</th>\n",
              "      <th>std</th>\n",
              "      <th>min</th>\n",
              "      <th>25%</th>\n",
              "      <th>50%</th>\n",
              "      <th>75%</th>\n",
              "      <th>max</th>\n",
              "    </tr>\n",
              "  </thead>\n",
              "  <tbody>\n",
              "    <tr>\n",
              "      <th>hair</th>\n",
              "      <td>101.0</td>\n",
              "      <td>0.425743</td>\n",
              "      <td>0.496921</td>\n",
              "      <td>0.0</td>\n",
              "      <td>0.0</td>\n",
              "      <td>0.0</td>\n",
              "      <td>1.0</td>\n",
              "      <td>1.0</td>\n",
              "    </tr>\n",
              "    <tr>\n",
              "      <th>feathers</th>\n",
              "      <td>101.0</td>\n",
              "      <td>0.198020</td>\n",
              "      <td>0.400495</td>\n",
              "      <td>0.0</td>\n",
              "      <td>0.0</td>\n",
              "      <td>0.0</td>\n",
              "      <td>0.0</td>\n",
              "      <td>1.0</td>\n",
              "    </tr>\n",
              "    <tr>\n",
              "      <th>eggs</th>\n",
              "      <td>101.0</td>\n",
              "      <td>0.584158</td>\n",
              "      <td>0.495325</td>\n",
              "      <td>0.0</td>\n",
              "      <td>0.0</td>\n",
              "      <td>1.0</td>\n",
              "      <td>1.0</td>\n",
              "      <td>1.0</td>\n",
              "    </tr>\n",
              "    <tr>\n",
              "      <th>milk</th>\n",
              "      <td>101.0</td>\n",
              "      <td>0.405941</td>\n",
              "      <td>0.493522</td>\n",
              "      <td>0.0</td>\n",
              "      <td>0.0</td>\n",
              "      <td>0.0</td>\n",
              "      <td>1.0</td>\n",
              "      <td>1.0</td>\n",
              "    </tr>\n",
              "    <tr>\n",
              "      <th>airborne</th>\n",
              "      <td>101.0</td>\n",
              "      <td>0.237624</td>\n",
              "      <td>0.427750</td>\n",
              "      <td>0.0</td>\n",
              "      <td>0.0</td>\n",
              "      <td>0.0</td>\n",
              "      <td>0.0</td>\n",
              "      <td>1.0</td>\n",
              "    </tr>\n",
              "    <tr>\n",
              "      <th>aquatic</th>\n",
              "      <td>101.0</td>\n",
              "      <td>0.356436</td>\n",
              "      <td>0.481335</td>\n",
              "      <td>0.0</td>\n",
              "      <td>0.0</td>\n",
              "      <td>0.0</td>\n",
              "      <td>1.0</td>\n",
              "      <td>1.0</td>\n",
              "    </tr>\n",
              "    <tr>\n",
              "      <th>predator</th>\n",
              "      <td>101.0</td>\n",
              "      <td>0.554455</td>\n",
              "      <td>0.499505</td>\n",
              "      <td>0.0</td>\n",
              "      <td>0.0</td>\n",
              "      <td>1.0</td>\n",
              "      <td>1.0</td>\n",
              "      <td>1.0</td>\n",
              "    </tr>\n",
              "    <tr>\n",
              "      <th>toothed</th>\n",
              "      <td>101.0</td>\n",
              "      <td>0.603960</td>\n",
              "      <td>0.491512</td>\n",
              "      <td>0.0</td>\n",
              "      <td>0.0</td>\n",
              "      <td>1.0</td>\n",
              "      <td>1.0</td>\n",
              "      <td>1.0</td>\n",
              "    </tr>\n",
              "    <tr>\n",
              "      <th>backbone</th>\n",
              "      <td>101.0</td>\n",
              "      <td>0.821782</td>\n",
              "      <td>0.384605</td>\n",
              "      <td>0.0</td>\n",
              "      <td>1.0</td>\n",
              "      <td>1.0</td>\n",
              "      <td>1.0</td>\n",
              "      <td>1.0</td>\n",
              "    </tr>\n",
              "    <tr>\n",
              "      <th>breathes</th>\n",
              "      <td>101.0</td>\n",
              "      <td>0.792079</td>\n",
              "      <td>0.407844</td>\n",
              "      <td>0.0</td>\n",
              "      <td>1.0</td>\n",
              "      <td>1.0</td>\n",
              "      <td>1.0</td>\n",
              "      <td>1.0</td>\n",
              "    </tr>\n",
              "    <tr>\n",
              "      <th>venomous</th>\n",
              "      <td>101.0</td>\n",
              "      <td>0.079208</td>\n",
              "      <td>0.271410</td>\n",
              "      <td>0.0</td>\n",
              "      <td>0.0</td>\n",
              "      <td>0.0</td>\n",
              "      <td>0.0</td>\n",
              "      <td>1.0</td>\n",
              "    </tr>\n",
              "    <tr>\n",
              "      <th>fins</th>\n",
              "      <td>101.0</td>\n",
              "      <td>0.168317</td>\n",
              "      <td>0.376013</td>\n",
              "      <td>0.0</td>\n",
              "      <td>0.0</td>\n",
              "      <td>0.0</td>\n",
              "      <td>0.0</td>\n",
              "      <td>1.0</td>\n",
              "    </tr>\n",
              "    <tr>\n",
              "      <th>legs</th>\n",
              "      <td>101.0</td>\n",
              "      <td>2.841584</td>\n",
              "      <td>2.033385</td>\n",
              "      <td>0.0</td>\n",
              "      <td>2.0</td>\n",
              "      <td>4.0</td>\n",
              "      <td>4.0</td>\n",
              "      <td>8.0</td>\n",
              "    </tr>\n",
              "    <tr>\n",
              "      <th>tail</th>\n",
              "      <td>101.0</td>\n",
              "      <td>0.742574</td>\n",
              "      <td>0.439397</td>\n",
              "      <td>0.0</td>\n",
              "      <td>0.0</td>\n",
              "      <td>1.0</td>\n",
              "      <td>1.0</td>\n",
              "      <td>1.0</td>\n",
              "    </tr>\n",
              "    <tr>\n",
              "      <th>domestic</th>\n",
              "      <td>101.0</td>\n",
              "      <td>0.128713</td>\n",
              "      <td>0.336552</td>\n",
              "      <td>0.0</td>\n",
              "      <td>0.0</td>\n",
              "      <td>0.0</td>\n",
              "      <td>0.0</td>\n",
              "      <td>1.0</td>\n",
              "    </tr>\n",
              "    <tr>\n",
              "      <th>catsize</th>\n",
              "      <td>101.0</td>\n",
              "      <td>0.435644</td>\n",
              "      <td>0.498314</td>\n",
              "      <td>0.0</td>\n",
              "      <td>0.0</td>\n",
              "      <td>0.0</td>\n",
              "      <td>1.0</td>\n",
              "      <td>1.0</td>\n",
              "    </tr>\n",
              "    <tr>\n",
              "      <th>class_type</th>\n",
              "      <td>101.0</td>\n",
              "      <td>2.831683</td>\n",
              "      <td>2.102709</td>\n",
              "      <td>1.0</td>\n",
              "      <td>1.0</td>\n",
              "      <td>2.0</td>\n",
              "      <td>4.0</td>\n",
              "      <td>7.0</td>\n",
              "    </tr>\n",
              "  </tbody>\n",
              "</table>\n",
              "</div>"
            ],
            "text/plain": [
              "            count      mean       std  min  25%  50%  75%  max\n",
              "hair        101.0  0.425743  0.496921  0.0  0.0  0.0  1.0  1.0\n",
              "feathers    101.0  0.198020  0.400495  0.0  0.0  0.0  0.0  1.0\n",
              "eggs        101.0  0.584158  0.495325  0.0  0.0  1.0  1.0  1.0\n",
              "milk        101.0  0.405941  0.493522  0.0  0.0  0.0  1.0  1.0\n",
              "airborne    101.0  0.237624  0.427750  0.0  0.0  0.0  0.0  1.0\n",
              "aquatic     101.0  0.356436  0.481335  0.0  0.0  0.0  1.0  1.0\n",
              "predator    101.0  0.554455  0.499505  0.0  0.0  1.0  1.0  1.0\n",
              "toothed     101.0  0.603960  0.491512  0.0  0.0  1.0  1.0  1.0\n",
              "backbone    101.0  0.821782  0.384605  0.0  1.0  1.0  1.0  1.0\n",
              "breathes    101.0  0.792079  0.407844  0.0  1.0  1.0  1.0  1.0\n",
              "venomous    101.0  0.079208  0.271410  0.0  0.0  0.0  0.0  1.0\n",
              "fins        101.0  0.168317  0.376013  0.0  0.0  0.0  0.0  1.0\n",
              "legs        101.0  2.841584  2.033385  0.0  2.0  4.0  4.0  8.0\n",
              "tail        101.0  0.742574  0.439397  0.0  0.0  1.0  1.0  1.0\n",
              "domestic    101.0  0.128713  0.336552  0.0  0.0  0.0  0.0  1.0\n",
              "catsize     101.0  0.435644  0.498314  0.0  0.0  0.0  1.0  1.0\n",
              "class_type  101.0  2.831683  2.102709  1.0  1.0  2.0  4.0  7.0"
            ]
          },
          "metadata": {},
          "execution_count": 35
        }
      ]
    },
    {
      "cell_type": "code",
      "metadata": {
        "id": "hbT2iBtQ1Xct",
        "colab": {
          "base_uri": "https://localhost:8080/",
          "height": 283
        },
        "outputId": "50887489-2018-4d7f-800c-41244d5faafe"
      },
      "source": [
        "data.class_type.hist()"
      ],
      "execution_count": 36,
      "outputs": [
        {
          "output_type": "execute_result",
          "data": {
            "text/plain": [
              "<matplotlib.axes._subplots.AxesSubplot at 0x7fc6df0b4650>"
            ]
          },
          "metadata": {},
          "execution_count": 36
        },
        {
          "output_type": "display_data",
          "data": {
            "image/png": "[encoded data removed]",
            "text/plain": [
              "<Figure size 432x288 with 1 Axes>"
            ]
          },
          "metadata": {
            "needs_background": "light"
          }
        }
      ]
    },
    {
      "cell_type": "markdown",
      "metadata": {
        "id": "ebHPk8CIgwjy"
      },
      "source": [
        "### Preprocesamiento de datos"
      ]
    },
    {
      "cell_type": "markdown",
      "metadata": {
        "id": "-lQ4IPLhsE2Z"
      },
      "source": [
        "Separamos las características de las clases."
      ]
    },
    {
      "cell_type": "code",
      "metadata": {
        "id": "5ehx2dh2ktC0"
      },
      "source": [
        "def preprocess(data, class_col):\n",
        "    X = data.iloc[:, 1:class_col]  # Descartamos la última columna, correspondiente a la clase y la primera correspondiente al nombre del animal\n",
        "    y = data.iloc[:, class_col]  # Separamos en y la clase\n",
        "    return X, y"
      ],
      "execution_count": 37,
      "outputs": []
    },
    {
      "cell_type": "code",
      "metadata": {
        "id": "y7HkzoUUjsOH",
        "colab": {
          "base_uri": "https://localhost:8080/",
          "height": 226
        },
        "outputId": "d170f0da-b0d2-4450-a508-0c36b6f39b16"
      },
      "source": [
        "data.head()"
      ],
      "execution_count": 38,
      "outputs": [
        {
          "output_type": "execute_result",
          "data": {
            "text/html": [
              "<div>\n",
              "<style scoped>\n",
              "    .dataframe tbody tr th:only-of-type {\n",
              "        vertical-align: middle;\n",
              "    }\n",
              "\n",
              "    .dataframe tbody tr th {\n",
              "        vertical-align: top;\n",
              "    }\n",
              "\n",
              "    .dataframe thead th {\n",
              "        text-align: right;\n",
              "    }\n",
              "</style>\n",
              "<table border=\"1\" class=\"dataframe\">\n",
              "  <thead>\n",
              "    <tr style=\"text-align: right;\">\n",
              "      <th></th>\n",
              "      <th>animal_name</th>\n",
              "      <th>hair</th>\n",
              "      <th>feathers</th>\n",
              "      <th>eggs</th>\n",
              "      <th>milk</th>\n",
              "      <th>airborne</th>\n",
              "      <th>aquatic</th>\n",
              "      <th>predator</th>\n",
              "      <th>toothed</th>\n",
              "      <th>backbone</th>\n",
              "      <th>breathes</th>\n",
              "      <th>venomous</th>\n",
              "      <th>fins</th>\n",
              "      <th>legs</th>\n",
              "      <th>tail</th>\n",
              "      <th>domestic</th>\n",
              "      <th>catsize</th>\n",
              "      <th>class_type</th>\n",
              "    </tr>\n",
              "  </thead>\n",
              "  <tbody>\n",
              "    <tr>\n",
              "      <th>0</th>\n",
              "      <td>aardvark</td>\n",
              "      <td>1</td>\n",
              "      <td>0</td>\n",
              "      <td>0</td>\n",
              "      <td>1</td>\n",
              "      <td>0</td>\n",
              "      <td>0</td>\n",
              "      <td>1</td>\n",
              "      <td>1</td>\n",
              "      <td>1</td>\n",
              "      <td>1</td>\n",
              "      <td>0</td>\n",
              "      <td>0</td>\n",
              "      <td>4</td>\n",
              "      <td>0</td>\n",
              "      <td>0</td>\n",
              "      <td>1</td>\n",
              "      <td>1</td>\n",
              "    </tr>\n",
              "    <tr>\n",
              "      <th>1</th>\n",
              "      <td>antelope</td>\n",
              "      <td>1</td>\n",
              "      <td>0</td>\n",
              "      <td>0</td>\n",
              "      <td>1</td>\n",
              "      <td>0</td>\n",
              "      <td>0</td>\n",
              "      <td>0</td>\n",
              "      <td>1</td>\n",
              "      <td>1</td>\n",
              "      <td>1</td>\n",
              "      <td>0</td>\n",
              "      <td>0</td>\n",
              "      <td>4</td>\n",
              "      <td>1</td>\n",
              "      <td>0</td>\n",
              "      <td>1</td>\n",
              "      <td>1</td>\n",
              "    </tr>\n",
              "    <tr>\n",
              "      <th>2</th>\n",
              "      <td>bass</td>\n",
              "      <td>0</td>\n",
              "      <td>0</td>\n",
              "      <td>1</td>\n",
              "      <td>0</td>\n",
              "      <td>0</td>\n",
              "      <td>1</td>\n",
              "      <td>1</td>\n",
              "      <td>1</td>\n",
              "      <td>1</td>\n",
              "      <td>0</td>\n",
              "      <td>0</td>\n",
              "      <td>1</td>\n",
              "      <td>0</td>\n",
              "      <td>1</td>\n",
              "      <td>0</td>\n",
              "      <td>0</td>\n",
              "      <td>4</td>\n",
              "    </tr>\n",
              "    <tr>\n",
              "      <th>3</th>\n",
              "      <td>bear</td>\n",
              "      <td>1</td>\n",
              "      <td>0</td>\n",
              "      <td>0</td>\n",
              "      <td>1</td>\n",
              "      <td>0</td>\n",
              "      <td>0</td>\n",
              "      <td>1</td>\n",
              "      <td>1</td>\n",
              "      <td>1</td>\n",
              "      <td>1</td>\n",
              "      <td>0</td>\n",
              "      <td>0</td>\n",
              "      <td>4</td>\n",
              "      <td>0</td>\n",
              "      <td>0</td>\n",
              "      <td>1</td>\n",
              "      <td>1</td>\n",
              "    </tr>\n",
              "    <tr>\n",
              "      <th>4</th>\n",
              "      <td>boar</td>\n",
              "      <td>1</td>\n",
              "      <td>0</td>\n",
              "      <td>0</td>\n",
              "      <td>1</td>\n",
              "      <td>0</td>\n",
              "      <td>0</td>\n",
              "      <td>1</td>\n",
              "      <td>1</td>\n",
              "      <td>1</td>\n",
              "      <td>1</td>\n",
              "      <td>0</td>\n",
              "      <td>0</td>\n",
              "      <td>4</td>\n",
              "      <td>1</td>\n",
              "      <td>0</td>\n",
              "      <td>1</td>\n",
              "      <td>1</td>\n",
              "    </tr>\n",
              "  </tbody>\n",
              "</table>\n",
              "</div>"
            ],
            "text/plain": [
              "  animal_name  hair  feathers  eggs  ...  tail  domestic  catsize  class_type\n",
              "0    aardvark     1         0     0  ...     0         0        1           1\n",
              "1    antelope     1         0     0  ...     1         0        1           1\n",
              "2        bass     0         0     1  ...     1         0        0           4\n",
              "3        bear     1         0     0  ...     0         0        1           1\n",
              "4        boar     1         0     0  ...     1         0        1           1\n",
              "\n",
              "[5 rows x 18 columns]"
            ]
          },
          "metadata": {},
          "execution_count": 38
        }
      ]
    },
    {
      "cell_type": "markdown",
      "metadata": {
        "id": "OeGnwyWpipPM"
      },
      "source": [
        "Vemos que la característica legs no es binaria. Vamos a descartarla para utilizar solo las características binarias. Adicionalmente, descartamos el nombre del animal que no nos da información útil para la clasificación."
      ]
    },
    {
      "cell_type": "code",
      "metadata": {
        "id": "ALa14_mkmdo5",
        "colab": {
          "base_uri": "https://localhost:8080/",
          "height": 226
        },
        "outputId": "13b5d720-306e-4bd3-976e-6c03661343f9"
      },
      "source": [
        "no_legs_data = data.drop(['legs'],axis=1)\n",
        "no_legs_data.head()"
      ],
      "execution_count": 39,
      "outputs": [
        {
          "output_type": "execute_result",
          "data": {
            "text/html": [
              "<div>\n",
              "<style scoped>\n",
              "    .dataframe tbody tr th:only-of-type {\n",
              "        vertical-align: middle;\n",
              "    }\n",
              "\n",
              "    .dataframe tbody tr th {\n",
              "        vertical-align: top;\n",
              "    }\n",
              "\n",
              "    .dataframe thead th {\n",
              "        text-align: right;\n",
              "    }\n",
              "</style>\n",
              "<table border=\"1\" class=\"dataframe\">\n",
              "  <thead>\n",
              "    <tr style=\"text-align: right;\">\n",
              "      <th></th>\n",
              "      <th>animal_name</th>\n",
              "      <th>hair</th>\n",
              "      <th>feathers</th>\n",
              "      <th>eggs</th>\n",
              "      <th>milk</th>\n",
              "      <th>airborne</th>\n",
              "      <th>aquatic</th>\n",
              "      <th>predator</th>\n",
              "      <th>toothed</th>\n",
              "      <th>backbone</th>\n",
              "      <th>breathes</th>\n",
              "      <th>venomous</th>\n",
              "      <th>fins</th>\n",
              "      <th>tail</th>\n",
              "      <th>domestic</th>\n",
              "      <th>catsize</th>\n",
              "      <th>class_type</th>\n",
              "    </tr>\n",
              "  </thead>\n",
              "  <tbody>\n",
              "    <tr>\n",
              "      <th>0</th>\n",
              "      <td>aardvark</td>\n",
              "      <td>1</td>\n",
              "      <td>0</td>\n",
              "      <td>0</td>\n",
              "      <td>1</td>\n",
              "      <td>0</td>\n",
              "      <td>0</td>\n",
              "      <td>1</td>\n",
              "      <td>1</td>\n",
              "      <td>1</td>\n",
              "      <td>1</td>\n",
              "      <td>0</td>\n",
              "      <td>0</td>\n",
              "      <td>0</td>\n",
              "      <td>0</td>\n",
              "      <td>1</td>\n",
              "      <td>1</td>\n",
              "    </tr>\n",
              "    <tr>\n",
              "      <th>1</th>\n",
              "      <td>antelope</td>\n",
              "      <td>1</td>\n",
              "      <td>0</td>\n",
              "      <td>0</td>\n",
              "      <td>1</td>\n",
              "      <td>0</td>\n",
              "      <td>0</td>\n",
              "      <td>0</td>\n",
              "      <td>1</td>\n",
              "      <td>1</td>\n",
              "      <td>1</td>\n",
              "      <td>0</td>\n",
              "      <td>0</td>\n",
              "      <td>1</td>\n",
              "      <td>0</td>\n",
              "      <td>1</td>\n",
              "      <td>1</td>\n",
              "    </tr>\n",
              "    <tr>\n",
              "      <th>2</th>\n",
              "      <td>bass</td>\n",
              "      <td>0</td>\n",
              "      <td>0</td>\n",
              "      <td>1</td>\n",
              "      <td>0</td>\n",
              "      <td>0</td>\n",
              "      <td>1</td>\n",
              "      <td>1</td>\n",
              "      <td>1</td>\n",
              "      <td>1</td>\n",
              "      <td>0</td>\n",
              "      <td>0</td>\n",
              "      <td>1</td>\n",
              "      <td>1</td>\n",
              "      <td>0</td>\n",
              "      <td>0</td>\n",
              "      <td>4</td>\n",
              "    </tr>\n",
              "    <tr>\n",
              "      <th>3</th>\n",
              "      <td>bear</td>\n",
              "      <td>1</td>\n",
              "      <td>0</td>\n",
              "      <td>0</td>\n",
              "      <td>1</td>\n",
              "      <td>0</td>\n",
              "      <td>0</td>\n",
              "      <td>1</td>\n",
              "      <td>1</td>\n",
              "      <td>1</td>\n",
              "      <td>1</td>\n",
              "      <td>0</td>\n",
              "      <td>0</td>\n",
              "      <td>0</td>\n",
              "      <td>0</td>\n",
              "      <td>1</td>\n",
              "      <td>1</td>\n",
              "    </tr>\n",
              "    <tr>\n",
              "      <th>4</th>\n",
              "      <td>boar</td>\n",
              "      <td>1</td>\n",
              "      <td>0</td>\n",
              "      <td>0</td>\n",
              "      <td>1</td>\n",
              "      <td>0</td>\n",
              "      <td>0</td>\n",
              "      <td>1</td>\n",
              "      <td>1</td>\n",
              "      <td>1</td>\n",
              "      <td>1</td>\n",
              "      <td>0</td>\n",
              "      <td>0</td>\n",
              "      <td>1</td>\n",
              "      <td>0</td>\n",
              "      <td>1</td>\n",
              "      <td>1</td>\n",
              "    </tr>\n",
              "  </tbody>\n",
              "</table>\n",
              "</div>"
            ],
            "text/plain": [
              "  animal_name  hair  feathers  eggs  ...  tail  domestic  catsize  class_type\n",
              "0    aardvark     1         0     0  ...     0         0        1           1\n",
              "1    antelope     1         0     0  ...     1         0        1           1\n",
              "2        bass     0         0     1  ...     1         0        0           4\n",
              "3        bear     1         0     0  ...     0         0        1           1\n",
              "4        boar     1         0     0  ...     1         0        1           1\n",
              "\n",
              "[5 rows x 17 columns]"
            ]
          },
          "metadata": {},
          "execution_count": 39
        }
      ]
    },
    {
      "cell_type": "code",
      "metadata": {
        "id": "kFg9_yZ0jzeO",
        "colab": {
          "base_uri": "https://localhost:8080/",
          "height": 206
        },
        "outputId": "271624c3-abec-43ee-82b8-4614d4f2fc75"
      },
      "source": [
        "X, y = preprocess(no_legs_data, 16)\n",
        "X.head()"
      ],
      "execution_count": 58,
      "outputs": [
        {
          "output_type": "execute_result",
          "data": {
            "text/html": [
              "<div>\n",
              "<style scoped>\n",
              "    .dataframe tbody tr th:only-of-type {\n",
              "        vertical-align: middle;\n",
              "    }\n",
              "\n",
              "    .dataframe tbody tr th {\n",
              "        vertical-align: top;\n",
              "    }\n",
              "\n",
              "    .dataframe thead th {\n",
              "        text-align: right;\n",
              "    }\n",
              "</style>\n",
              "<table border=\"1\" class=\"dataframe\">\n",
              "  <thead>\n",
              "    <tr style=\"text-align: right;\">\n",
              "      <th></th>\n",
              "      <th>hair</th>\n",
              "      <th>feathers</th>\n",
              "      <th>eggs</th>\n",
              "      <th>milk</th>\n",
              "      <th>airborne</th>\n",
              "      <th>aquatic</th>\n",
              "      <th>predator</th>\n",
              "      <th>toothed</th>\n",
              "      <th>backbone</th>\n",
              "      <th>breathes</th>\n",
              "      <th>venomous</th>\n",
              "      <th>fins</th>\n",
              "      <th>tail</th>\n",
              "      <th>domestic</th>\n",
              "      <th>catsize</th>\n",
              "    </tr>\n",
              "  </thead>\n",
              "  <tbody>\n",
              "    <tr>\n",
              "      <th>0</th>\n",
              "      <td>1</td>\n",
              "      <td>0</td>\n",
              "      <td>0</td>\n",
              "      <td>1</td>\n",
              "      <td>0</td>\n",
              "      <td>0</td>\n",
              "      <td>1</td>\n",
              "      <td>1</td>\n",
              "      <td>1</td>\n",
              "      <td>1</td>\n",
              "      <td>0</td>\n",
              "      <td>0</td>\n",
              "      <td>0</td>\n",
              "      <td>0</td>\n",
              "      <td>1</td>\n",
              "    </tr>\n",
              "    <tr>\n",
              "      <th>1</th>\n",
              "      <td>1</td>\n",
              "      <td>0</td>\n",
              "      <td>0</td>\n",
              "      <td>1</td>\n",
              "      <td>0</td>\n",
              "      <td>0</td>\n",
              "      <td>0</td>\n",
              "      <td>1</td>\n",
              "      <td>1</td>\n",
              "      <td>1</td>\n",
              "      <td>0</td>\n",
              "      <td>0</td>\n",
              "      <td>1</td>\n",
              "      <td>0</td>\n",
              "      <td>1</td>\n",
              "    </tr>\n",
              "    <tr>\n",
              "      <th>2</th>\n",
              "      <td>0</td>\n",
              "      <td>0</td>\n",
              "      <td>1</td>\n",
              "      <td>0</td>\n",
              "      <td>0</td>\n",
              "      <td>1</td>\n",
              "      <td>1</td>\n",
              "      <td>1</td>\n",
              "      <td>1</td>\n",
              "      <td>0</td>\n",
              "      <td>0</td>\n",
              "      <td>1</td>\n",
              "      <td>1</td>\n",
              "      <td>0</td>\n",
              "      <td>0</td>\n",
              "    </tr>\n",
              "    <tr>\n",
              "      <th>3</th>\n",
              "      <td>1</td>\n",
              "      <td>0</td>\n",
              "      <td>0</td>\n",
              "      <td>1</td>\n",
              "      <td>0</td>\n",
              "      <td>0</td>\n",
              "      <td>1</td>\n",
              "      <td>1</td>\n",
              "      <td>1</td>\n",
              "      <td>1</td>\n",
              "      <td>0</td>\n",
              "      <td>0</td>\n",
              "      <td>0</td>\n",
              "      <td>0</td>\n",
              "      <td>1</td>\n",
              "    </tr>\n",
              "    <tr>\n",
              "      <th>4</th>\n",
              "      <td>1</td>\n",
              "      <td>0</td>\n",
              "      <td>0</td>\n",
              "      <td>1</td>\n",
              "      <td>0</td>\n",
              "      <td>0</td>\n",
              "      <td>1</td>\n",
              "      <td>1</td>\n",
              "      <td>1</td>\n",
              "      <td>1</td>\n",
              "      <td>0</td>\n",
              "      <td>0</td>\n",
              "      <td>1</td>\n",
              "      <td>0</td>\n",
              "      <td>1</td>\n",
              "    </tr>\n",
              "  </tbody>\n",
              "</table>\n",
              "</div>"
            ],
            "text/plain": [
              "   hair  feathers  eggs  milk  ...  fins  tail  domestic  catsize\n",
              "0     1         0     0     1  ...     0     0         0        1\n",
              "1     1         0     0     1  ...     0     1         0        1\n",
              "2     0         0     1     0  ...     1     1         0        0\n",
              "3     1         0     0     1  ...     0     0         0        1\n",
              "4     1         0     0     1  ...     0     1         0        1\n",
              "\n",
              "[5 rows x 15 columns]"
            ]
          },
          "metadata": {},
          "execution_count": 58
        }
      ]
    },
    {
      "cell_type": "markdown",
      "metadata": {
        "id": "3UUKkNFJsBJb"
      },
      "source": [
        "Separamos los conjuntos en entrenamiento y validación."
      ]
    },
    {
      "cell_type": "code",
      "metadata": {
        "id": "cGrIeb7JlNMy"
      },
      "source": [
        "X_train, X_test, y_train, y_test = train_test_split(X, y, random_state=0)"
      ],
      "execution_count": 41,
      "outputs": []
    },
    {
      "cell_type": "markdown",
      "metadata": {
        "id": "L_LSc436gzxK"
      },
      "source": [
        "### Entrenamiento y evaluación del clasificador bernoulli."
      ]
    },
    {
      "cell_type": "markdown",
      "metadata": {
        "id": "gDzKuorXsLw-"
      },
      "source": [
        "Realizamos el entrenamiento. "
      ]
    },
    {
      "cell_type": "code",
      "metadata": {
        "id": "fqK4C-UYk4Xa",
        "colab": {
          "base_uri": "https://localhost:8080/"
        },
        "outputId": "dccbeae2-ac4b-4096-f716-3f41a26098e9"
      },
      "source": [
        "bnb = BernoulliNB() \n",
        "model = bnb.fit(X_train, y_train)\n",
        "print('Accuracy of BernoulliNB classifier on training set: {:.2f}'\n",
        "     .format(bnb.score(X_train, y_train)))\n",
        "print('Accuracy of BernoulliNB classifier on test set: {:.2f}'\n",
        "     .format(bnb.score(X_test, y_test)))"
      ],
      "execution_count": 42,
      "outputs": [
        {
          "output_type": "stream",
          "name": "stdout",
          "text": [
            "Accuracy of BernoulliNB classifier on training set: 0.97\n",
            "Accuracy of BernoulliNB classifier on test set: 0.96\n"
          ]
        }
      ]
    },
    {
      "cell_type": "markdown",
      "metadata": {
        "id": "OKl_fjD_iv-H"
      },
      "source": [
        "### **Pregunta 3:** Naive Bayes\n",
        "\n",
        "Hemos descartado la característica legs que contiene información valiosa sobre los animales. Es posible usar el clasificador bernoulli naive bayes incluyendo esta característica y seleccionando un umbral de binarización adecuado. Realice las modificaciones al modelo bnb definido previamente para trabajar con la clase legs. Mantenga el random_state=0 al realizar la partición en entrenamiento y validación.\n",
        "\n",
        "¿Qué efecto tiene el parámetro binarize sobre la característica legs?"
      ]
    },
    {
      "cell_type": "code",
      "metadata": {
        "colab": {
          "base_uri": "https://localhost:8080/"
        },
        "id": "mpgNfv63XBxq",
        "outputId": "ed7d9abc-7d73-4704-9454-0d76a522f8eb"
      },
      "source": [
        "data.legs.unique()"
      ],
      "execution_count": 64,
      "outputs": [
        {
          "output_type": "execute_result",
          "data": {
            "text/plain": [
              "array([4, 0, 2, 6, 8, 5])"
            ]
          },
          "metadata": {},
          "execution_count": 64
        }
      ]
    },
    {
      "cell_type": "code",
      "metadata": {
        "colab": {
          "base_uri": "https://localhost:8080/",
          "height": 226
        },
        "id": "Jx_QlBPNaEzD",
        "outputId": "5827b733-bda8-443c-b532-0b07e99c5d50"
      },
      "source": [
        "class_type = data['class_type']\n",
        "legs_data = pd.get_dummies(data, columns = [\"legs\"])\n",
        "legs_data.drop(['class_type'], axis=1, inplace=True)\n",
        "legs_data['class_type'] = class_type\n",
        "legs_data.head()"
      ],
      "execution_count": 67,
      "outputs": [
        {
          "output_type": "execute_result",
          "data": {
            "text/html": [
              "<div>\n",
              "<style scoped>\n",
              "    .dataframe tbody tr th:only-of-type {\n",
              "        vertical-align: middle;\n",
              "    }\n",
              "\n",
              "    .dataframe tbody tr th {\n",
              "        vertical-align: top;\n",
              "    }\n",
              "\n",
              "    .dataframe thead th {\n",
              "        text-align: right;\n",
              "    }\n",
              "</style>\n",
              "<table border=\"1\" class=\"dataframe\">\n",
              "  <thead>\n",
              "    <tr style=\"text-align: right;\">\n",
              "      <th></th>\n",
              "      <th>animal_name</th>\n",
              "      <th>hair</th>\n",
              "      <th>feathers</th>\n",
              "      <th>eggs</th>\n",
              "      <th>milk</th>\n",
              "      <th>airborne</th>\n",
              "      <th>aquatic</th>\n",
              "      <th>predator</th>\n",
              "      <th>toothed</th>\n",
              "      <th>backbone</th>\n",
              "      <th>breathes</th>\n",
              "      <th>venomous</th>\n",
              "      <th>fins</th>\n",
              "      <th>tail</th>\n",
              "      <th>domestic</th>\n",
              "      <th>catsize</th>\n",
              "      <th>legs_0</th>\n",
              "      <th>legs_2</th>\n",
              "      <th>legs_4</th>\n",
              "      <th>legs_5</th>\n",
              "      <th>legs_6</th>\n",
              "      <th>legs_8</th>\n",
              "      <th>class_type</th>\n",
              "    </tr>\n",
              "  </thead>\n",
              "  <tbody>\n",
              "    <tr>\n",
              "      <th>0</th>\n",
              "      <td>aardvark</td>\n",
              "      <td>1</td>\n",
              "      <td>0</td>\n",
              "      <td>0</td>\n",
              "      <td>1</td>\n",
              "      <td>0</td>\n",
              "      <td>0</td>\n",
              "      <td>1</td>\n",
              "      <td>1</td>\n",
              "      <td>1</td>\n",
              "      <td>1</td>\n",
              "      <td>0</td>\n",
              "      <td>0</td>\n",
              "      <td>0</td>\n",
              "      <td>0</td>\n",
              "      <td>1</td>\n",
              "      <td>0</td>\n",
              "      <td>0</td>\n",
              "      <td>1</td>\n",
              "      <td>0</td>\n",
              "      <td>0</td>\n",
              "      <td>0</td>\n",
              "      <td>1</td>\n",
              "    </tr>\n",
              "    <tr>\n",
              "      <th>1</th>\n",
              "      <td>antelope</td>\n",
              "      <td>1</td>\n",
              "      <td>0</td>\n",
              "      <td>0</td>\n",
              "      <td>1</td>\n",
              "      <td>0</td>\n",
              "      <td>0</td>\n",
              "      <td>0</td>\n",
              "      <td>1</td>\n",
              "      <td>1</td>\n",
              "      <td>1</td>\n",
              "      <td>0</td>\n",
              "      <td>0</td>\n",
              "      <td>1</td>\n",
              "      <td>0</td>\n",
              "      <td>1</td>\n",
              "      <td>0</td>\n",
              "      <td>0</td>\n",
              "      <td>1</td>\n",
              "      <td>0</td>\n",
              "      <td>0</td>\n",
              "      <td>0</td>\n",
              "      <td>1</td>\n",
              "    </tr>\n",
              "    <tr>\n",
              "      <th>2</th>\n",
              "      <td>bass</td>\n",
              "      <td>0</td>\n",
              "      <td>0</td>\n",
              "      <td>1</td>\n",
              "      <td>0</td>\n",
              "      <td>0</td>\n",
              "      <td>1</td>\n",
              "      <td>1</td>\n",
              "      <td>1</td>\n",
              "      <td>1</td>\n",
              "      <td>0</td>\n",
              "      <td>0</td>\n",
              "      <td>1</td>\n",
              "      <td>1</td>\n",
              "      <td>0</td>\n",
              "      <td>0</td>\n",
              "      <td>1</td>\n",
              "      <td>0</td>\n",
              "      <td>0</td>\n",
              "      <td>0</td>\n",
              "      <td>0</td>\n",
              "      <td>0</td>\n",
              "      <td>4</td>\n",
              "    </tr>\n",
              "    <tr>\n",
              "      <th>3</th>\n",
              "      <td>bear</td>\n",
              "      <td>1</td>\n",
              "      <td>0</td>\n",
              "      <td>0</td>\n",
              "      <td>1</td>\n",
              "      <td>0</td>\n",
              "      <td>0</td>\n",
              "      <td>1</td>\n",
              "      <td>1</td>\n",
              "      <td>1</td>\n",
              "      <td>1</td>\n",
              "      <td>0</td>\n",
              "      <td>0</td>\n",
              "      <td>0</td>\n",
              "      <td>0</td>\n",
              "      <td>1</td>\n",
              "      <td>0</td>\n",
              "      <td>0</td>\n",
              "      <td>1</td>\n",
              "      <td>0</td>\n",
              "      <td>0</td>\n",
              "      <td>0</td>\n",
              "      <td>1</td>\n",
              "    </tr>\n",
              "    <tr>\n",
              "      <th>4</th>\n",
              "      <td>boar</td>\n",
              "      <td>1</td>\n",
              "      <td>0</td>\n",
              "      <td>0</td>\n",
              "      <td>1</td>\n",
              "      <td>0</td>\n",
              "      <td>0</td>\n",
              "      <td>1</td>\n",
              "      <td>1</td>\n",
              "      <td>1</td>\n",
              "      <td>1</td>\n",
              "      <td>0</td>\n",
              "      <td>0</td>\n",
              "      <td>1</td>\n",
              "      <td>0</td>\n",
              "      <td>1</td>\n",
              "      <td>0</td>\n",
              "      <td>0</td>\n",
              "      <td>1</td>\n",
              "      <td>0</td>\n",
              "      <td>0</td>\n",
              "      <td>0</td>\n",
              "      <td>1</td>\n",
              "    </tr>\n",
              "  </tbody>\n",
              "</table>\n",
              "</div>"
            ],
            "text/plain": [
              "  animal_name  hair  feathers  eggs  ...  legs_5  legs_6  legs_8  class_type\n",
              "0    aardvark     1         0     0  ...       0       0       0           1\n",
              "1    antelope     1         0     0  ...       0       0       0           1\n",
              "2        bass     0         0     1  ...       0       0       0           4\n",
              "3        bear     1         0     0  ...       0       0       0           1\n",
              "4        boar     1         0     0  ...       0       0       0           1\n",
              "\n",
              "[5 rows x 23 columns]"
            ]
          },
          "metadata": {},
          "execution_count": 67
        }
      ]
    },
    {
      "cell_type": "code",
      "metadata": {
        "colab": {
          "base_uri": "https://localhost:8080/",
          "height": 226
        },
        "id": "u6vyQ-yocKui",
        "outputId": "523da5f9-e8a3-4117-f992-61812dd624b8"
      },
      "source": [
        "X, y = preprocess(legs_data, 22)\n",
        "X.head()"
      ],
      "execution_count": 69,
      "outputs": [
        {
          "output_type": "execute_result",
          "data": {
            "text/html": [
              "<div>\n",
              "<style scoped>\n",
              "    .dataframe tbody tr th:only-of-type {\n",
              "        vertical-align: middle;\n",
              "    }\n",
              "\n",
              "    .dataframe tbody tr th {\n",
              "        vertical-align: top;\n",
              "    }\n",
              "\n",
              "    .dataframe thead th {\n",
              "        text-align: right;\n",
              "    }\n",
              "</style>\n",
              "<table border=\"1\" class=\"dataframe\">\n",
              "  <thead>\n",
              "    <tr style=\"text-align: right;\">\n",
              "      <th></th>\n",
              "      <th>hair</th>\n",
              "      <th>feathers</th>\n",
              "      <th>eggs</th>\n",
              "      <th>milk</th>\n",
              "      <th>airborne</th>\n",
              "      <th>aquatic</th>\n",
              "      <th>predator</th>\n",
              "      <th>toothed</th>\n",
              "      <th>backbone</th>\n",
              "      <th>breathes</th>\n",
              "      <th>venomous</th>\n",
              "      <th>fins</th>\n",
              "      <th>tail</th>\n",
              "      <th>domestic</th>\n",
              "      <th>catsize</th>\n",
              "      <th>legs_0</th>\n",
              "      <th>legs_2</th>\n",
              "      <th>legs_4</th>\n",
              "      <th>legs_5</th>\n",
              "      <th>legs_6</th>\n",
              "      <th>legs_8</th>\n",
              "    </tr>\n",
              "  </thead>\n",
              "  <tbody>\n",
              "    <tr>\n",
              "      <th>0</th>\n",
              "      <td>1</td>\n",
              "      <td>0</td>\n",
              "      <td>0</td>\n",
              "      <td>1</td>\n",
              "      <td>0</td>\n",
              "      <td>0</td>\n",
              "      <td>1</td>\n",
              "      <td>1</td>\n",
              "      <td>1</td>\n",
              "      <td>1</td>\n",
              "      <td>0</td>\n",
              "      <td>0</td>\n",
              "      <td>0</td>\n",
              "      <td>0</td>\n",
              "      <td>1</td>\n",
              "      <td>0</td>\n",
              "      <td>0</td>\n",
              "      <td>1</td>\n",
              "      <td>0</td>\n",
              "      <td>0</td>\n",
              "      <td>0</td>\n",
              "    </tr>\n",
              "    <tr>\n",
              "      <th>1</th>\n",
              "      <td>1</td>\n",
              "      <td>0</td>\n",
              "      <td>0</td>\n",
              "      <td>1</td>\n",
              "      <td>0</td>\n",
              "      <td>0</td>\n",
              "      <td>0</td>\n",
              "      <td>1</td>\n",
              "      <td>1</td>\n",
              "      <td>1</td>\n",
              "      <td>0</td>\n",
              "      <td>0</td>\n",
              "      <td>1</td>\n",
              "      <td>0</td>\n",
              "      <td>1</td>\n",
              "      <td>0</td>\n",
              "      <td>0</td>\n",
              "      <td>1</td>\n",
              "      <td>0</td>\n",
              "      <td>0</td>\n",
              "      <td>0</td>\n",
              "    </tr>\n",
              "    <tr>\n",
              "      <th>2</th>\n",
              "      <td>0</td>\n",
              "      <td>0</td>\n",
              "      <td>1</td>\n",
              "      <td>0</td>\n",
              "      <td>0</td>\n",
              "      <td>1</td>\n",
              "      <td>1</td>\n",
              "      <td>1</td>\n",
              "      <td>1</td>\n",
              "      <td>0</td>\n",
              "      <td>0</td>\n",
              "      <td>1</td>\n",
              "      <td>1</td>\n",
              "      <td>0</td>\n",
              "      <td>0</td>\n",
              "      <td>1</td>\n",
              "      <td>0</td>\n",
              "      <td>0</td>\n",
              "      <td>0</td>\n",
              "      <td>0</td>\n",
              "      <td>0</td>\n",
              "    </tr>\n",
              "    <tr>\n",
              "      <th>3</th>\n",
              "      <td>1</td>\n",
              "      <td>0</td>\n",
              "      <td>0</td>\n",
              "      <td>1</td>\n",
              "      <td>0</td>\n",
              "      <td>0</td>\n",
              "      <td>1</td>\n",
              "      <td>1</td>\n",
              "      <td>1</td>\n",
              "      <td>1</td>\n",
              "      <td>0</td>\n",
              "      <td>0</td>\n",
              "      <td>0</td>\n",
              "      <td>0</td>\n",
              "      <td>1</td>\n",
              "      <td>0</td>\n",
              "      <td>0</td>\n",
              "      <td>1</td>\n",
              "      <td>0</td>\n",
              "      <td>0</td>\n",
              "      <td>0</td>\n",
              "    </tr>\n",
              "    <tr>\n",
              "      <th>4</th>\n",
              "      <td>1</td>\n",
              "      <td>0</td>\n",
              "      <td>0</td>\n",
              "      <td>1</td>\n",
              "      <td>0</td>\n",
              "      <td>0</td>\n",
              "      <td>1</td>\n",
              "      <td>1</td>\n",
              "      <td>1</td>\n",
              "      <td>1</td>\n",
              "      <td>0</td>\n",
              "      <td>0</td>\n",
              "      <td>1</td>\n",
              "      <td>0</td>\n",
              "      <td>1</td>\n",
              "      <td>0</td>\n",
              "      <td>0</td>\n",
              "      <td>1</td>\n",
              "      <td>0</td>\n",
              "      <td>0</td>\n",
              "      <td>0</td>\n",
              "    </tr>\n",
              "  </tbody>\n",
              "</table>\n",
              "</div>"
            ],
            "text/plain": [
              "   hair  feathers  eggs  milk  airborne  ...  legs_2  legs_4  legs_5  legs_6  legs_8\n",
              "0     1         0     0     1         0  ...       0       1       0       0       0\n",
              "1     1         0     0     1         0  ...       0       1       0       0       0\n",
              "2     0         0     1     0         0  ...       0       0       0       0       0\n",
              "3     1         0     0     1         0  ...       0       1       0       0       0\n",
              "4     1         0     0     1         0  ...       0       1       0       0       0\n",
              "\n",
              "[5 rows x 21 columns]"
            ]
          },
          "metadata": {},
          "execution_count": 69
        }
      ]
    },
    {
      "cell_type": "code",
      "metadata": {
        "colab": {
          "base_uri": "https://localhost:8080/"
        },
        "id": "EeE17uv2gJ-V",
        "outputId": "4c1ebc6f-a6f2-46ee-8b18-e66872dab270"
      },
      "source": [
        "X_train, X_test, y_train, y_test = train_test_split(X, y, random_state=0)\n",
        "bnb = BernoulliNB() \n",
        "model = bnb.fit(X_train, y_train)\n",
        "print('Accuracy of BernoulliNB classifier on training set: {:.2f}'\n",
        "     .format(bnb.score(X_train, y_train)))\n",
        "print('Accuracy of BernoulliNB classifier on test set: {:.2f}'\n",
        "     .format(bnb.score(X_test, y_test)))"
      ],
      "execution_count": 70,
      "outputs": [
        {
          "output_type": "stream",
          "name": "stdout",
          "text": [
            "Accuracy of BernoulliNB classifier on training set: 0.96\n",
            "Accuracy of BernoulliNB classifier on test set: 1.00\n"
          ]
        }
      ]
    }
  ]
}