{
  "nbformat": 4,
  "nbformat_minor": 0,
  "metadata": {
    "colab": {
      "name": "Lista de Ejercicios de Programación #1.ipynb",
      "provenance": [],
      "authorship_tag": "ABX9TyMGh3UWIgL584VOvQyI1Yxz",
      "include_colab_link": true
    },
    "kernelspec": {
      "name": "python3",
      "display_name": "Python 3"
    },
    "language_info": {
      "name": "python"
    }
  },
  "cells": [
    {
      "cell_type": "markdown",
      "metadata": {
        "id": "view-in-github",
        "colab_type": "text"
      },
      "source": [
        "<a href=\"https://colab.research.google.com/github/SanBartolome/IA-diploma-course-2021/blob/main/Lista_de_Ejercicios_de_Programaci%C3%B3n_1.ipynb\" target=\"_parent\"><img src=\"https://colab.research.google.com/assets/colab-badge.svg\" alt=\"Open In Colab\"/></a>"
      ]
    },
    {
      "cell_type": "code",
      "metadata": {
        "colab": {
          "base_uri": "https://localhost:8080/"
        },
        "id": "V-fE3peWoXCu",
        "outputId": "a4381613-d103-4600-baaa-bd61bda58bc1"
      },
      "source": [
        "%%writefile hello_world.py\n",
        "print(\"Hello World\")"
      ],
      "execution_count": 1,
      "outputs": [
        {
          "output_type": "stream",
          "name": "stdout",
          "text": [
            "Writing hello_world.py\n"
          ]
        }
      ]
    },
    {
      "cell_type": "code",
      "metadata": {
        "colab": {
          "base_uri": "https://localhost:8080/"
        },
        "id": "tkD7xuTHpAXm",
        "outputId": "97083a36-976c-4e11-e072-adfbd87a69df"
      },
      "source": [
        "%%writefile pregunta1.py\n",
        "a = int(input())\n",
        "b = int(input())\n",
        "for i in range(a, b + 1):\n",
        "  print(i)"
      ],
      "execution_count": 9,
      "outputs": [
        {
          "output_type": "stream",
          "name": "stdout",
          "text": [
            "Overwriting pregunta1.py\n"
          ]
        }
      ]
    },
    {
      "cell_type": "code",
      "metadata": {
        "colab": {
          "base_uri": "https://localhost:8080/"
        },
        "id": "1ud2qh9FtLCp",
        "outputId": "26e09124-c5d2-4bab-d01f-5d010fcb05e2"
      },
      "source": [
        "%%writefile pregunta2.py\n",
        "a = int(input())\n",
        "b = int(input())\n",
        "print(max(a, b))"
      ],
      "execution_count": 12,
      "outputs": [
        {
          "output_type": "stream",
          "name": "stdout",
          "text": [
            "Overwriting pregunta2.py\n"
          ]
        }
      ]
    },
    {
      "cell_type": "code",
      "metadata": {
        "colab": {
          "base_uri": "https://localhost:8080/"
        },
        "id": "qcRHd6WouzmR",
        "outputId": "2e1a652c-4ccd-4b29-e6a8-060441800050"
      },
      "source": [
        "%%writefile pregunta3.py\n",
        "a = int(input())\n",
        "total = a\n",
        "while (a - 1) > 0:\n",
        "  total = total * (a - 1)\n",
        "  a -= 1\n",
        "print(total)"
      ],
      "execution_count": 21,
      "outputs": [
        {
          "output_type": "stream",
          "name": "stdout",
          "text": [
            "Writing pregunta3.py\n"
          ]
        }
      ]
    },
    {
      "cell_type": "code",
      "metadata": {
        "colab": {
          "base_uri": "https://localhost:8080/"
        },
        "id": "BI1xwkejy-9e",
        "outputId": "90466d3b-be3c-4c29-e5f1-47318cf8d03c"
      },
      "source": [
        "%%writefile pregunta4.py\n",
        "a = int(input())\n",
        "if (a % 2 == 0):\n",
        "  print('par')\n",
        "else:\n",
        "  print('impar')"
      ],
      "execution_count": 28,
      "outputs": [
        {
          "output_type": "stream",
          "name": "stdout",
          "text": [
            "Writing pregunta4.py\n"
          ]
        }
      ]
    },
    {
      "cell_type": "code",
      "metadata": {
        "colab": {
          "base_uri": "https://localhost:8080/"
        },
        "id": "vspWiXwp0Lrw",
        "outputId": "362e0e54-e0aa-4ccb-9996-0bf55636cdbc"
      },
      "source": [
        "%%writefile pregunta5.py\n",
        "def isPrime(n):\n",
        "  i = 2\n",
        "  while n > i:\n",
        "    if (n % i == 0):\n",
        "      return 'no primo'\n",
        "      break\n",
        "    else:\n",
        "      i += 1\n",
        "  return 'primo'\n",
        "\n",
        "a = int(input())\n",
        "print(isPrime(a))"
      ],
      "execution_count": 43,
      "outputs": [
        {
          "output_type": "stream",
          "name": "stdout",
          "text": [
            "Overwriting pregunta5.py\n"
          ]
        }
      ]
    },
    {
      "cell_type": "code",
      "metadata": {
        "colab": {
          "base_uri": "https://localhost:8080/"
        },
        "id": "eNRkWk_t3MUP",
        "outputId": "d74b7d34-7ff3-49ef-b8ab-16ef3eb2c2a2"
      },
      "source": [
        "%%writefile pregunta6.py\n",
        "a = int(input())\n",
        "c = []\n",
        "i = 0\n",
        "while a > i:\n",
        "  b = int(input())\n",
        "  c.append(b)\n",
        "  i += 1\n",
        "print(max(c))"
      ],
      "execution_count": 51,
      "outputs": [
        {
          "output_type": "stream",
          "name": "stdout",
          "text": [
            "2\n",
            "3\n",
            "5\n",
            "5\n"
          ]
        }
      ]
    },
    {
      "cell_type": "code",
      "metadata": {
        "colab": {
          "base_uri": "https://localhost:8080/"
        },
        "id": "04K41URE5KCj",
        "outputId": "20ed8083-cebe-4920-fd26-8ea1c2e45030"
      },
      "source": [
        "%%writefile pregunta7.py\n",
        "year = int(input())\n",
        "if (year % 4 == 0):\n",
        "  if (year > 1582 and year % 100 == 0 and year % 400 != 0):\n",
        "    print('no bisiesto')\n",
        "  else:\n",
        "    print('bisiesto')\n",
        "else:\n",
        "  print('no bisiesto')\n"
      ],
      "execution_count": 67,
      "outputs": [
        {
          "output_type": "stream",
          "name": "stdout",
          "text": [
            "Overwriting pregunta7.py\n"
          ]
        }
      ]
    },
    {
      "cell_type": "code",
      "metadata": {
        "colab": {
          "base_uri": "https://localhost:8080/"
        },
        "id": "-zfJXDaq847C",
        "outputId": "11291bd3-f489-4603-b43e-e6e8fb3299e2"
      },
      "source": [
        "%%writefile pregunta8.py\n",
        "height = float(input())\n",
        "weight = int(input())\n",
        "age = int(input())\n",
        "imc = weight / (height**2)\n",
        "if (age < 45):\n",
        "  if (imc < 22.0):\n",
        "    print('riesgo bajo')\n",
        "  else:\n",
        "    print('riesgo medio')\n",
        "else:\n",
        "  if (imc < 22.0):\n",
        "    print('riesgo medio')\n",
        "  else:\n",
        "    print('riesgo alto')"
      ],
      "execution_count": 71,
      "outputs": [
        {
          "output_type": "stream",
          "name": "stdout",
          "text": [
            "Writing pregunta8.py\n"
          ]
        }
      ]
    },
    {
      "cell_type": "code",
      "metadata": {
        "colab": {
          "base_uri": "https://localhost:8080/"
        },
        "id": "qgr5gmEf-d2L",
        "outputId": "c18ba1be-6e80-41e7-f95c-afaf2adf6867"
      },
      "source": [
        "%%writefile pregunta9.py\n",
        "a = int(input())\n",
        "for y in range(a):\n",
        "  for x in range(a):\n",
        "    if (x < (a - 1)):\n",
        "      if (y == 0 or y == (a - 1) or x == 0 or x == (a - 1)):\n",
        "        print(\"*\", end = \"\")\n",
        "      else:\n",
        "        print(\" \", end = \"\")\n",
        "    else:\n",
        "      print(\"*\")"
      ],
      "execution_count": 81,
      "outputs": [
        {
          "output_type": "stream",
          "name": "stdout",
          "text": [
            "Writing pregunta9.py\n"
          ]
        }
      ]
    },
    {
      "cell_type": "code",
      "metadata": {
        "colab": {
          "base_uri": "https://localhost:8080/"
        },
        "id": "Kao89Cb8A2tR",
        "outputId": "f872bcd6-b5ed-4ff3-b9bd-89691be4d8ec"
      },
      "source": [
        "%%writefile pregunta10.py\n",
        "a = int(input())\n",
        "y = 1\n",
        "while y <= a:\n",
        "  for x in range(y):\n",
        "    if (x < (y-1)):\n",
        "      print(\"*\", end = \"\")\n",
        "    else:\n",
        "      print(\"*\")\n",
        "  y += 1"
      ],
      "execution_count": 92,
      "outputs": [
        {
          "output_type": "stream",
          "name": "stdout",
          "text": [
            "Writing pregunta10.py\n"
          ]
        }
      ]
    }
  ]
}