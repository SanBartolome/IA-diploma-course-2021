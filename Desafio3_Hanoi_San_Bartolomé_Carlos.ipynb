{
  "nbformat": 4,
  "nbformat_minor": 0,
  "metadata": {
    "colab": {
      "name": "Desafio3_Hanoi_San_Bartolomé_Carlos.ipynb",
      "provenance": [],
      "collapsed_sections": [
        "U38hN9yHKqIP",
        "fIocqccGq4hH",
        "iRkaAWxNq4hU",
        "-z1VHl3Pq4hY",
        "3X71Ma4cq4hd",
        "aJNeW471q4hi",
        "dHsTKHrwq4hr",
        "kZBF7yBsq4hw"
      ],
      "toc_visible": true,
      "include_colab_link": true
    },
    "kernelspec": {
      "name": "python3",
      "display_name": "Python 3"
    }
  },
  "cells": [
    {
      "cell_type": "markdown",
      "metadata": {
        "id": "view-in-github",
        "colab_type": "text"
      },
      "source": [
        "<a href=\"https://colab.research.google.com/github/SanBartolome/IA-diploma-course-2021/blob/main/Desafio3_Hanoi_San_Bartolom%C3%A9_Carlos.ipynb\" target=\"_parent\"><img src=\"https://colab.research.google.com/assets/colab-badge.svg\" alt=\"Open In Colab\"/></a>"
      ]
    },
    {
      "cell_type": "markdown",
      "metadata": {
        "id": "Uf_ZpLggQn9n"
      },
      "source": [
        "# Diplomatura de Especialización en Desarrollo de Aplicaciones con Inteligencia Artificial - Inteligencia Artificial para Juegos (Game IA) - Sesión 3 - Tarea\n",
        "\n",
        "\n",
        "<img src='https://escuela.pucp.edu.pe/gobierno/wp-content/uploads/2015/04/logo-pucp-full-color-300x88.png' width=200px>\n",
        "\n",
        "\n",
        "Dr. Edwin Villanueva, Ing. Daniel Saromo"
      ]
    },
    {
      "cell_type": "markdown",
      "metadata": {
        "id": "QbrDk0krJQFC"
      },
      "source": [
        "<font color='orange'>Entorno de las Torres de Hanoi con heurísticas</font>"
      ]
    },
    {
      "cell_type": "markdown",
      "metadata": {
        "id": "9hwLIOh-9PH3"
      },
      "source": [
        "<img src='data:image/jpeg;base64,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' width=400px>\n"
      ]
    },
    {
      "cell_type": "markdown",
      "metadata": {
        "id": "aDAtmKbQpqrl"
      },
      "source": [
        "Completar con su código los campos requeridos y subir su notebook solucionado a la plataforma PAIDEIA. El formato del nombre del notebook es: `Desafio3_Hanoi_APELLIDOPATERNO_NOMBRE.ipynb`.\n",
        "\n",
        "Es responsabilidad del alumno verificar que el archivo que subió es el correcto. Respetar los lineamientos de la entrega de archivo, ya que influirá en su calificación. La fecha límite de entrega del presente desafío se encuentra en PAIDEIA. No se aceptarán entregas luego de haberse publicado el solucionario."
      ]
    },
    {
      "cell_type": "markdown",
      "metadata": {
        "id": "U38hN9yHKqIP"
      },
      "source": [
        "## Clase Hanoi"
      ]
    },
    {
      "cell_type": "code",
      "metadata": {
        "id": "YGzA1ZGpIyCE"
      },
      "source": [
        "class Hanoi:\n",
        "  def __init__(self, n, numCols=3, initialState=None, goalState=None):\n",
        "    self.n = n #Número de discos totales\n",
        "    self.numCols = numCols\n",
        "    if(initialState == None):\n",
        "      self.initialState = [() for i in range(numCols)]\n",
        "      self.initialState[0] = tuple(range(n,0,-1))\n",
        "    else:\n",
        "      self.initialState = initialState\n",
        "\n",
        "    if(goalState == None):\n",
        "      self.goalState = [() for i in range(numCols)]\n",
        "      self.goalState[self.numCols-1] = tuple(range(n,0,-1))\n",
        "    else:\n",
        "      self.goalState = goalState\n",
        "\n",
        "    assert(self.numCols == len(self.initialState)), \"El estado inicial debe tener \"+str(self.numCols)+\" torres!\"\n",
        "    assert(self.numCols == len(self.goalState)),    \"El estado objetivo debe tener \"+str(self.numCols)+\" torres!\"\n",
        "\n",
        "    #Convertimos los estados a tuplas\n",
        "    #como los estados se van a agregar a un set, no pueden ser listas\n",
        "    #no se puede agregar una lista a un set\n",
        "    self.initialState = tuple( self.initialState )\n",
        "    self.goalState = tuple( self.goalState )\n",
        "\n",
        "    #def __str__(self):\n",
        "\n",
        "  def lookTopDiskOfTower(self, hanoiState, numTower):\n",
        "    \"\"\"De una tupla que representa el estado de las torres de hanoi,\n",
        "    retorna el disco que está en la parte superior de una torre no vacía\n",
        "    cuyo índice es numTower\"\"\"\n",
        "    assert type(numTower)==int, \"numTower debe ser un entero\"\n",
        "    assert numTower > -1, \"numTower debe ser positivo\"\n",
        "    assert numTower < self.numCols, \"numTower debe ser menor que la cantidad de torres\"\n",
        "\n",
        "    return hanoiState[numTower][len(hanoiState[numTower])-1]\n",
        "\n",
        "  def toTuple(self, var):\n",
        "    \"\"\"Convierte a tupla una variable y sus elementos\"\"\"\n",
        "    return tuple(tuple(x) for x in var)\n",
        "\n",
        "  def toList(self, var):\n",
        "      \"\"\"Convierte a lista una variable y sus elementos\"\"\"\n",
        "      return list(list(x) for x in var)\n",
        "\n",
        "  def imprimeEstado(self, estado):\n",
        "    \"\"\"Imprime en pantalla el estado de las torres de Hanoi.\"\"\"\n",
        "\n",
        "    estado = self.toList(estado)\n",
        "\n",
        "    torresFull = []\n",
        "    charVarilla = \"|\"\n",
        "    espaciado = \"  \"\n",
        "    torresCadena = \"\"\n",
        "    for torre in estado:\n",
        "      torreDeChars = [str(disco) for disco in torre]\n",
        "      while(len(torreDeChars)<self.n):\n",
        "        torreDeChars.append(charVarilla)\n",
        "      torresFull.append(torreDeChars)\n",
        "\n",
        "    for i in range(self.n):\n",
        "      for torreDeChars in torresFull:\n",
        "        torresCadena+=(espaciado)\n",
        "        torresCadena+=((torreDeChars.pop()))\n",
        "      torresCadena+=(\"\\n\")\n",
        "\n",
        "    print(torresCadena)\n",
        "\n",
        "  def result(self, state, action):\n",
        "    \"\"\"Retorna el estado que resulta de ejecutar la accion dada desde la celda actual.\n",
        "    La accion debe ser alguna de self.actions(state)\"\"\"\n",
        "    #Por comodidad, lo implementé dentro de la clase Hanoi, ya que este código se reutiliza al\n",
        "    #momento de ejecutar las acciones de la solución\n",
        "    i,j = action\n",
        "    newState = toList(state)\n",
        "    disk = newState[i].pop()\n",
        "    newState[j].append(disk)\n",
        "    return toTuple(newState) #convierto en tupla a newState y sus elementos\n",
        "\n",
        "  def ejecutaYmuestra(self, estadoInicial, acciones):\n",
        "    \"\"\"Ejecuta una serie de acciones ingresadas en la lista de tuplas denominada `acciones`, \n",
        "    partiendo de `estadoInicial`.\"\"\"\n",
        "\n",
        "    print(\"Estado Inicial:\")\n",
        "    self.imprimeEstado(estadoInicial)\n",
        "    acciones.reverse()\n",
        "    estadoActual=estadoInicial\n",
        "    while(len(acciones)>0):\n",
        "      accionMovil = acciones.pop()\n",
        "      estadoActual = self.result(estadoActual, accionMovil)\n",
        "      print(\"Acción a ejecutar:\",accionMovil)\n",
        "      print()\n",
        "      print(\"Estado de las torres de Hanoi resultante:\")\n",
        "      self.imprimeEstado(estadoActual)\n",
        "\n",
        "  def __str__(self):\n",
        "    \"\"\"Imprime el estado inicial y el estado objetivo del entorno de Hanoi.\"\"\"\n",
        "    print(\"Estado inicial:\")\n",
        "    self.imprimeEstado(self.initialState)\n",
        "    print(\"Estado objetivo:\")\n",
        "    self.imprimeEstado(self.goalState)\n",
        "    return \"Se imprimieron el estado inicial y el estado objetivo del entorno de Hanoi.\""
      ],
      "execution_count": null,
      "outputs": []
    },
    {
      "cell_type": "markdown",
      "metadata": {
        "id": "nbeh8EsJIty9"
      },
      "source": [
        "## Algoritmos de Búsqueda"
      ]
    },
    {
      "cell_type": "markdown",
      "metadata": {
        "id": "fIocqccGq4hH"
      },
      "source": [
        "### Clase <b>SearchProblem</b>\n",
        "\n",
        "Esta es una clase abstracta para definir problemas de busqueda. Se debe hacer subclases que implementen los metodos de las acciones, resultados, test de objetivo y el costo de camino. Entonces se puede instanciar las subclases y resolverlos con varias funciones de busqueda."
      ]
    },
    {
      "cell_type": "code",
      "metadata": {
        "id": "Ix26qwRnq4hK"
      },
      "source": [
        "class SearchProblem(object):\n",
        "    def __init__(self, initial, goal=None):\n",
        "        \"\"\"Este constructor especifica el estado inicial y posiblemente el estado(s) objetivo(s),\n",
        "        La subclase puede añadir mas argumentos.\"\"\"\n",
        "        self.initial = initial\n",
        "        self.goal = goal\n",
        "\n",
        "    def actions(self, state):\n",
        "        \"\"\"Retorna las acciones que pueden ser ejecutadas en el estado dado.\n",
        "        El resultado es tipicamente una lista.\"\"\"\n",
        "        raise NotImplementedError\n",
        "\n",
        "    def result(self, state, action):\n",
        "        \"\"\"Retorna el estado que resulta de ejecutar la accion dada en el estado state.\n",
        "        La accion debe ser alguna de self.actions(state).\"\"\"\n",
        "        raise NotImplementedError\n",
        "\n",
        "    def goal_test(self, state):\n",
        "        \"\"\"Retorna True si el estado pasado satisface el objetivo.\"\"\"\n",
        "        raise NotImplementedError\n",
        "\n",
        "    def path_cost(self, c, state1, action, state2):\n",
        "        \"\"\"Retorna el costo del camino de state2 viniendo de state1 con \n",
        "        la accion action, asumiendo un costo c para llegar hasta state1. \n",
        "        El metodo por defecto cuesta 1 para cada paso en el camino.\"\"\"\n",
        "        return c + 1"
      ],
      "execution_count": null,
      "outputs": []
    },
    {
      "cell_type": "markdown",
      "metadata": {
        "id": "iRkaAWxNq4hU"
      },
      "source": [
        "### Clase <b>Node</b>\n",
        "\n",
        "Estructura de datos para almacenar la informacion de un nodo en un <b>arbol de busqueda</b>. Contiene información del nodo padre y el estado que representa el nodo. Tambien incluye la accion que nos llevo al presente nodo y el costo total del camino desde el nodo raiz hasta este nodo."
      ]
    },
    {
      "cell_type": "code",
      "metadata": {
        "id": "u4iDAiKtq4hV"
      },
      "source": [
        "class Node:\n",
        "    def __init__(self, state, parent=None, action=None, path_cost=0):\n",
        "        \"Crea un nodo de arbol de busqueda, derivado del nodo parent y accion action\"\n",
        "        self.state = state\n",
        "        self.parent = parent\n",
        "        self.action = action\n",
        "        self.path_cost = path_cost\n",
        "        self.depth = 0\n",
        "        if parent:\n",
        "            self.depth = parent.depth + 1\n",
        "\n",
        "    def expand(self, problem):\n",
        "        \"Devuelve los nodos alcanzables en un paso a partir de este nodo.\"\n",
        "        return [self.child_node(problem, action)\n",
        "                for action in problem.actions(self.state)]\n",
        "\n",
        "    def child_node(self, problem, action):\n",
        "        next = problem.result(self.state, action)\n",
        "        return Node(next, self, action,\n",
        "                    problem.path_cost(self.path_cost, self.state, action, next))\n",
        "\n",
        "    def solution(self):\n",
        "        \"Retorna la secuencia de acciones para ir de la raiz a este nodo.\"\n",
        "        return [node.action for node in self.path()[1:]]\n",
        "\n",
        "    def path(self):\n",
        "        \"Retorna una lista de nodos formando un camino de la raiz a este nodo.\"\n",
        "        node, path_back = self, []\n",
        "        while node:\n",
        "            path_back.append(node)\n",
        "            node = node.parent\n",
        "        return list(reversed(path_back))\n",
        "    \n",
        "    def __lt__(self, node):\n",
        "        return self.state < node.state\n",
        "    \n",
        "    def __eq__(self, other): \n",
        "        \"Este metodo se ejecuta cuando se compara nodos. Devuelve True cuando los estados son iguales\"\n",
        "        return isinstance(other, Node) and self.state == other.state\n",
        "    \n",
        "    def __repr__(self):\n",
        "        return \"<Node {}>\".format(self.state)\n",
        "    \n",
        "    def __hash__(self):\n",
        "        return hash(self.state)"
      ],
      "execution_count": null,
      "outputs": []
    },
    {
      "cell_type": "markdown",
      "metadata": {
        "id": "-z1VHl3Pq4hY"
      },
      "source": [
        "### <b> Frontera tipo cola FIFO (first-in first out) para BFS</b> "
      ]
    },
    {
      "cell_type": "code",
      "metadata": {
        "id": "YANBIXmXq4hZ"
      },
      "source": [
        "from collections import deque\n",
        "\n",
        "class FIFOQueue(deque):\n",
        "    \"\"\"Una cola First-In-First-Out\"\"\"\n",
        "    def pop(self):\n",
        "        return self.popleft()"
      ],
      "execution_count": null,
      "outputs": []
    },
    {
      "cell_type": "markdown",
      "metadata": {
        "id": "3X71Ma4cq4hd"
      },
      "source": [
        "### <b> Frontera tipo cola de prioridad ordenada por una funcion de costo (para best_first_graph_search y A*)</b> "
      ]
    },
    {
      "cell_type": "code",
      "metadata": {
        "id": "CKRFAmUEq4hf"
      },
      "source": [
        "import heapq\n",
        "class FrontierPQ:\n",
        "    \"Una Frontera ordenada por una funcion de costo (Priority Queue)\"\n",
        "    \n",
        "    def __init__(self, initial, costfn=lambda node: node.path_cost):\n",
        "        \"Inicializa la Frontera con un nodo inicial y una funcion de costo especificada (por defecto es el costo de camino).\"\n",
        "        self.heap   = []\n",
        "        self.states = {}\n",
        "        self.costfn = costfn\n",
        "        self.add(initial)\n",
        "    \n",
        "    def add(self, node):\n",
        "        \"Agrega un nodo a la frontera.\"\n",
        "        cost = self.costfn(node)\n",
        "        heapq.heappush(self.heap, (cost, node))\n",
        "        self.states[node.state] = node\n",
        "        \n",
        "    def pop(self):\n",
        "        \"Remueve y retorna el nodo con minimo costo.\"\n",
        "        (cost, node) = heapq.heappop(self.heap)\n",
        "        self.states.pop(node.state, None) # remove state\n",
        "        return node\n",
        "    \n",
        "    def replace(self, node):\n",
        "        \"node reemplaza al nodo de la Fontera que tiene el mismo estado que node.\"\n",
        "        if node.state not in self:\n",
        "            raise ValueError('{} no tiene nada que reemplazar'.format(node.state))\n",
        "        for (i, (cost, old_node)) in enumerate(self.heap):\n",
        "            if old_node.state == node.state:\n",
        "                self.heap[i] = (self.costfn(node), node)\n",
        "                heapq._siftdown(self.heap, 0, i)\n",
        "                return\n",
        "\n",
        "    def __contains__(self, state): return state in self.states\n",
        "    \n",
        "    def __len__(self): return len(self.heap)"
      ],
      "execution_count": null,
      "outputs": []
    },
    {
      "cell_type": "markdown",
      "metadata": {
        "id": "aJNeW471q4hi"
      },
      "source": [
        "### <b>Algoritmo general de búsqueda con memoria de nodos expandidos (Graph Search)</b>\n",
        "\n",
        "Algoritmo de general de busqueda ciega con memoria de estados visitados. El argumento frontier debe ser una cola vacia. Si la frontera es tipo FIFO hace busqueda en amplitud (BFS), si la frontera es una pila hará busqueda en profundidad (DFS)"
      ]
    },
    {
      "cell_type": "code",
      "metadata": {
        "id": "1O8dyg_zq4hk"
      },
      "source": [
        "def graph_search(problem, frontier):\n",
        "    frontier.append(Node(problem.initial))\n",
        "    explored = set()     # memoria de estados visitados\n",
        "    visited_nodes = []   # almacena nodos visitados durante la busqueda\n",
        "    while frontier:\n",
        "        node = frontier.pop()\n",
        "        visited_nodes.append(node)\n",
        "        if problem.goal_test(node.state):\n",
        "            return node, visited_nodes\n",
        "        explored.add(node.state)\n",
        "        \n",
        "        frontier.extend(child for child in node.expand(problem)\n",
        "                        if child.state not in explored and\n",
        "                        child not in frontier)\n",
        "    return None"
      ],
      "execution_count": null,
      "outputs": []
    },
    {
      "cell_type": "markdown",
      "metadata": {
        "id": "dHsTKHrwq4hr"
      },
      "source": [
        "### <b> Algoritmo Best-First-Graph-Search </b> \n",
        "Algoritmo general de busqueda con información. La frontera es una cola de prioridad ordenada por la funcion de evaluacion f "
      ]
    },
    {
      "cell_type": "code",
      "metadata": {
        "id": "cDMuSarYq4hs"
      },
      "source": [
        "def best_first_graph_search(problem, f):\n",
        "    \"\"\"Busca el objetivo expandiendo el nodo de la frontera con el menor valor de la funcion f. Memoriza estados visitados\n",
        "    Antes de llamar a este algoritmo hay que especificar La funcion f(node). Si f es node.depth tenemos Busqueda en Amplitud; \n",
        "    si f es node.path_cost tenemos Busqueda  de Costo Uniforme. Si f es una heurística tenemos Busqueda Voraz;\n",
        "    Si f es node.path_cost + heuristica(node) tenemos A* \"\"\"\n",
        "\n",
        "    frontier = FrontierPQ( Node(problem.initial), f )  # frontera tipo cola de prioridad ordenada por f\n",
        "    explored = set()     # memoria de estados visitados\n",
        "    visited_nodes = []   # almacena nodos visitados durante la busqueda\n",
        "    while frontier:\n",
        "        node = frontier.pop()\n",
        "        visited_nodes.append(node)        \n",
        "        if problem.goal_test(node.state):\n",
        "            return node, visited_nodes\n",
        "        explored.add(node.state)\n",
        "        for action in problem.actions(node.state):\n",
        "            child = node.child_node(problem, action)\n",
        "            if child.state not in explored and child.state not in frontier:\n",
        "                frontier.add(child)\n",
        "            elif child.state in frontier:\n",
        "                incumbent = frontier.states[child.state] \n",
        "                if f(child) < f(incumbent):\n",
        "                    frontier.replace(child)"
      ],
      "execution_count": null,
      "outputs": []
    },
    {
      "cell_type": "markdown",
      "metadata": {
        "id": "kZBF7yBsq4hw"
      },
      "source": [
        "### <b> Algoritmo A* </b> \n",
        "A* es un caso especial de best_first_graph_search con f = path_cost + heuristic"
      ]
    },
    {
      "cell_type": "code",
      "metadata": {
        "id": "H_zckGu3q4hz"
      },
      "source": [
        "def astar_search(problem, heuristic):\n",
        "    f = lambda node: node.path_cost + heuristic(node, problem)\n",
        "    return best_first_graph_search(problem, f)\n",
        "\n",
        "def nullheuristic(node, problem):   \n",
        "    return 0"
      ],
      "execution_count": null,
      "outputs": []
    },
    {
      "cell_type": "markdown",
      "metadata": {
        "id": "E7TdaAGRq4h2"
      },
      "source": [
        "### <b> Heurísticas para A* </b> \n",
        "Se debe implementar las heurísticas abajo para A* "
      ]
    },
    {
      "cell_type": "code",
      "metadata": {
        "id": "zctH5YwaX7rE"
      },
      "source": [
        "def h1(node, problem):\n",
        "  \"\"\"Cantidad de discos de node.state que están fuera de su torre destino indicada en el\n",
        "    estado objetivo (problem.goal). Además, se considera que un disco SÍ está fuera de su lugar\n",
        "    si es que no está en su posición correcta dentro de la torre destino.\"\"\"\n",
        "  return h1_explicit(node.state, problem.goal)\n",
        "  \n",
        "def h1_explicit(aa,bb):\n",
        "  \"\"\"Para los estados `aa` y `bb`, calcula la cantidad de discos de `aa` que están fuera de\n",
        "  su torre destino indicada en `bb`. Cada estado ingresado es una tupla de tuplas.\n",
        "  Por ejemplo:\n",
        "  Para `aa = ((4,3,2,1),(),())` y `bb = ((),(),(4,3,2,1))`, se tiene que `h1_explicit(aa,bb)=4`.\"\"\"\n",
        "  \n",
        "  #### COMPLETAR CÓDIGO\n",
        "\n",
        "  count = 0\n",
        "  i = 0\n",
        "  for torre in aa:\n",
        "    for disco in torre:\n",
        "      if(type(bb[i]) == tuple):\n",
        "        if(bb[i].count(disco) == 0):\n",
        "          count += 1\n",
        "        elif(bb[i].index(disco) != aa[i].index(disco)):\n",
        "          count += 1\n",
        "      elif(bb[i] != disco):\n",
        "        count += 1\n",
        "    i += 1\n",
        "\n",
        "  return count"
      ],
      "execution_count": null,
      "outputs": []
    },
    {
      "cell_type": "markdown",
      "metadata": {
        "id": "I2dEOLRlyQO9"
      },
      "source": [
        "#### Verificación visual de la heurística h1"
      ]
    },
    {
      "cell_type": "markdown",
      "metadata": {
        "id": "H7SVc1jLyVXc"
      },
      "source": [
        "Las siguientes líneas permiten la verificación de la heurística que se tiene que implementar. Sin embargo, la implementación de la función `h1_explicit` debe ser general, ya que al momento de la revisión del notebook, se va a probar con otras parejas de estados Hanoi inicial y destino. Estos estados pueden tener diferente cantidad de torres (mayor a 2), y diferente cantidad de discos por torre. Sin embargo, en los estados a probarse, los discos de cada torre estarán en orden decreciente empezando desde abajo."
      ]
    },
    {
      "cell_type": "code",
      "metadata": {
        "id": "ShrRp7Iho087",
        "colab": {
          "base_uri": "https://localhost:8080/"
        },
        "outputId": "c7295815-1b51-49e8-b4f9-521b288daff8"
      },
      "source": [
        "print(Hanoi(4, initialState=((4,3,2,1),(),()), goalState=((),(),(4,3,2,1))))"
      ],
      "execution_count": null,
      "outputs": [
        {
          "output_type": "stream",
          "name": "stdout",
          "text": [
            "Estado inicial:\n",
            "  1  |  |\n",
            "  2  |  |\n",
            "  3  |  |\n",
            "  4  |  |\n",
            "\n",
            "Estado objetivo:\n",
            "  |  |  1\n",
            "  |  |  2\n",
            "  |  |  3\n",
            "  |  |  4\n",
            "\n",
            "Se imprimieron el estado inicial y el estado objetivo del entorno de Hanoi.\n"
          ]
        }
      ]
    },
    {
      "cell_type": "code",
      "metadata": {
        "colab": {
          "base_uri": "https://localhost:8080/"
        },
        "id": "ptjQ8nAaJALa",
        "outputId": "ab9a3ce8-6242-44fe-ddcd-3ab34c87ed6d"
      },
      "source": [
        "h1_explicit( ((4,3,2,1),(),()) , ((),(),(4,3,2,1)) )"
      ],
      "execution_count": null,
      "outputs": [
        {
          "output_type": "execute_result",
          "data": {
            "text/plain": [
              "4"
            ]
          },
          "metadata": {},
          "execution_count": 54
        }
      ]
    },
    {
      "cell_type": "code",
      "metadata": {
        "id": "k8EWKlm7X_Hr"
      },
      "source": [
        "assert 4==h1_explicit( ((4,3,2,1),(),()) , ((),(),(4,3,2,1)) ), \"Hay 4 discos fuera de su torre destino. Corregir `h1_explicit`.\""
      ],
      "execution_count": null,
      "outputs": []
    },
    {
      "cell_type": "markdown",
      "metadata": {
        "id": "1BALtzklqh1Y"
      },
      "source": [
        "-------------------"
      ]
    },
    {
      "cell_type": "code",
      "metadata": {
        "id": "BALAflsZpIsS",
        "colab": {
          "base_uri": "https://localhost:8080/"
        },
        "outputId": "e8a3ae70-424f-445f-b4f0-8c465002c0c0"
      },
      "source": [
        "print(Hanoi(4, initialState=((4,2),(3,),(1,)), goalState=((4,3,2),(1,),())))"
      ],
      "execution_count": null,
      "outputs": [
        {
          "output_type": "stream",
          "name": "stdout",
          "text": [
            "Estado inicial:\n",
            "  |  |  |\n",
            "  |  |  |\n",
            "  2  |  |\n",
            "  4  3  1\n",
            "\n",
            "Estado objetivo:\n",
            "  |  |  |\n",
            "  2  |  |\n",
            "  3  |  |\n",
            "  4  1  |\n",
            "\n",
            "Se imprimieron el estado inicial y el estado objetivo del entorno de Hanoi.\n"
          ]
        }
      ]
    },
    {
      "cell_type": "code",
      "metadata": {
        "colab": {
          "base_uri": "https://localhost:8080/"
        },
        "id": "7E5xOZzsJWiX",
        "outputId": "7002f452-5107-4ac9-b568-511867cea4bc"
      },
      "source": [
        "h1_explicit( ((4,2),(3,),(1,)) , ((4,3,2),(1,),()) )"
      ],
      "execution_count": null,
      "outputs": [
        {
          "output_type": "execute_result",
          "data": {
            "text/plain": [
              "3"
            ]
          },
          "metadata": {},
          "execution_count": 59
        }
      ]
    },
    {
      "cell_type": "code",
      "metadata": {
        "id": "B4eF8g5LyVXg"
      },
      "source": [
        "assert 3==h1_explicit( ((4,2),(3,),(1,)) , ((4,3,2),(1,),()) ), \"Hay 3 discos fuera de su torre destino. Corregir `h1_explicit`.\""
      ],
      "execution_count": null,
      "outputs": []
    },
    {
      "cell_type": "markdown",
      "metadata": {
        "id": "W45lATc7qtiy"
      },
      "source": [
        "--------------"
      ]
    },
    {
      "cell_type": "code",
      "metadata": {
        "id": "YWXw1PPzpI6C",
        "colab": {
          "base_uri": "https://localhost:8080/"
        },
        "outputId": "54710571-1859-40e5-cacc-734c2fed0607"
      },
      "source": [
        "print(Hanoi(4, initialState=((4,2,1),(3,),()), goalState=((4,3,2,1),(),())))"
      ],
      "execution_count": null,
      "outputs": [
        {
          "output_type": "stream",
          "name": "stdout",
          "text": [
            "Estado inicial:\n",
            "  |  |  |\n",
            "  1  |  |\n",
            "  2  |  |\n",
            "  4  3  |\n",
            "\n",
            "Estado objetivo:\n",
            "  1  |  |\n",
            "  2  |  |\n",
            "  3  |  |\n",
            "  4  |  |\n",
            "\n",
            "Se imprimieron el estado inicial y el estado objetivo del entorno de Hanoi.\n"
          ]
        }
      ]
    },
    {
      "cell_type": "code",
      "metadata": {
        "id": "z_yuyraRyVXi"
      },
      "source": [
        "assert 3==h1_explicit( ((4,2,1),(3,),()) , ((4,3,2,1),(),()) ), \"Hay 3 disco  fuera de su torre destino. Corregir `h1_explicit`.\""
      ],
      "execution_count": null,
      "outputs": []
    },
    {
      "cell_type": "markdown",
      "metadata": {
        "id": "YqFqb1AJrSPp"
      },
      "source": [
        "--------------"
      ]
    },
    {
      "cell_type": "code",
      "metadata": {
        "id": "eRckkondpI9p",
        "colab": {
          "base_uri": "https://localhost:8080/"
        },
        "outputId": "cb9bcec1-3b14-45ab-9f33-d6d1c1e85f5b"
      },
      "source": [
        "print(Hanoi(4, initialState=((4,2),(3,1),()), goalState=((4,3,2),(1,),())))"
      ],
      "execution_count": null,
      "outputs": [
        {
          "output_type": "stream",
          "name": "stdout",
          "text": [
            "Estado inicial:\n",
            "  |  |  |\n",
            "  |  |  |\n",
            "  2  1  |\n",
            "  4  3  |\n",
            "\n",
            "Estado objetivo:\n",
            "  |  |  |\n",
            "  2  |  |\n",
            "  3  |  |\n",
            "  4  1  |\n",
            "\n",
            "Se imprimieron el estado inicial y el estado objetivo del entorno de Hanoi.\n"
          ]
        }
      ]
    },
    {
      "cell_type": "code",
      "metadata": {
        "id": "IQKmLP7IyVXk"
      },
      "source": [
        "assert 3==h1_explicit( ((4,2),(3,1),()) , ((4,3,2),(1,),()) ), \"Hay 3 disco  fuera de su torre destino. Corregir `h1_explicit`.\""
      ],
      "execution_count": null,
      "outputs": []
    },
    {
      "cell_type": "markdown",
      "metadata": {
        "id": "dF0ECKpkwT7n"
      },
      "source": [
        "--------------"
      ]
    },
    {
      "cell_type": "code",
      "metadata": {
        "id": "qnvBTzPzpJAz",
        "colab": {
          "base_uri": "https://localhost:8080/"
        },
        "outputId": "d1e6d468-cf82-4305-ccab-b27bcbadf59e"
      },
      "source": [
        "print(Hanoi(5, initialState=((5,4,3,1),(),(2,)), goalState=((5,1),(3,),(4,2))))"
      ],
      "execution_count": null,
      "outputs": [
        {
          "output_type": "stream",
          "name": "stdout",
          "text": [
            "Estado inicial:\n",
            "  |  |  |\n",
            "  1  |  |\n",
            "  3  |  |\n",
            "  4  |  |\n",
            "  5  |  2\n",
            "\n",
            "Estado objetivo:\n",
            "  |  |  |\n",
            "  |  |  |\n",
            "  |  |  |\n",
            "  1  |  2\n",
            "  5  3  4\n",
            "\n",
            "Se imprimieron el estado inicial y el estado objetivo del entorno de Hanoi.\n"
          ]
        }
      ]
    },
    {
      "cell_type": "code",
      "metadata": {
        "id": "rYWUmVO3yVXl"
      },
      "source": [
        "assert 4==h1_explicit( ((5,4,3,1),(),(2,)) , ((5,1),(3,),(4,2)) ), \"Hay 4 discos  fuera de su torre destino. Corregir `h1_explicit`.\""
      ],
      "execution_count": null,
      "outputs": []
    },
    {
      "cell_type": "markdown",
      "metadata": {
        "id": "irwKNdSprdbs"
      },
      "source": [
        "--------------"
      ]
    },
    {
      "cell_type": "code",
      "metadata": {
        "id": "TWnr82Gjrfmf",
        "colab": {
          "base_uri": "https://localhost:8080/"
        },
        "outputId": "890508d1-ae24-4fb1-9da9-65c57ebfa5aa"
      },
      "source": [
        "print(Hanoi(4, initialState=((),(2,1),(4,3)), goalState=((),(),(4,3,2,1))))"
      ],
      "execution_count": null,
      "outputs": [
        {
          "output_type": "stream",
          "name": "stdout",
          "text": [
            "Estado inicial:\n",
            "  |  |  |\n",
            "  |  |  |\n",
            "  |  1  3\n",
            "  |  2  4\n",
            "\n",
            "Estado objetivo:\n",
            "  |  |  1\n",
            "  |  |  2\n",
            "  |  |  3\n",
            "  |  |  4\n",
            "\n",
            "Se imprimieron el estado inicial y el estado objetivo del entorno de Hanoi.\n"
          ]
        }
      ]
    },
    {
      "cell_type": "code",
      "metadata": {
        "id": "EXZFysv0Yb6b"
      },
      "source": [
        "assert 2==h1_explicit( ((),(2,1),(4,3)) , ((),(),(4,3,2,1)) ), \"Hay 2 discos fuera de su torre destino. Corregir `h1_explicit`.\""
      ],
      "execution_count": null,
      "outputs": []
    },
    {
      "cell_type": "markdown",
      "metadata": {
        "id": "Y14Q-9ZZw-rn"
      },
      "source": [
        "--------------"
      ]
    },
    {
      "cell_type": "code",
      "metadata": {
        "id": "skCAkQxcw-rn",
        "colab": {
          "base_uri": "https://localhost:8080/"
        },
        "outputId": "efcc0296-fe9e-4824-e378-21a2e0979db5"
      },
      "source": [
        "print(Hanoi(6, initialState=((),(6,5,3,1),(2,4)), goalState=((5,3,1),(4,2),(6,))))"
      ],
      "execution_count": null,
      "outputs": [
        {
          "output_type": "stream",
          "name": "stdout",
          "text": [
            "Estado inicial:\n",
            "  |  |  |\n",
            "  |  |  |\n",
            "  |  1  |\n",
            "  |  3  |\n",
            "  |  5  4\n",
            "  |  6  2\n",
            "\n",
            "Estado objetivo:\n",
            "  |  |  |\n",
            "  |  |  |\n",
            "  |  |  |\n",
            "  1  |  |\n",
            "  3  2  |\n",
            "  5  4  6\n",
            "\n",
            "Se imprimieron el estado inicial y el estado objetivo del entorno de Hanoi.\n"
          ]
        }
      ]
    },
    {
      "cell_type": "code",
      "metadata": {
        "id": "28SjQnyOw-ro"
      },
      "source": [
        "assert 6==h1_explicit( ((),(6,5,3,1),(2,4)) , ((5,3,1),(4,2),(6,)) ), \"Hay 6 discos fuera de su torre destino. Corregir `h1_explicit`.\""
      ],
      "execution_count": null,
      "outputs": []
    },
    {
      "cell_type": "markdown",
      "metadata": {
        "id": "Hc-3PPtwKwdB"
      },
      "source": [
        "## Clases para el entorno Hanoi"
      ]
    },
    {
      "cell_type": "markdown",
      "metadata": {
        "id": "JcMTkTJ2q4hQ"
      },
      "source": [
        "###  <b> Clase HanoiSearchProblem </b>  \n",
        "Esta es una subclase de SearchProblem que implementa concretamente el problema de busqueda en laberinto. El constructor recibe el laberinto en un objeto maze. Cada estado es codificado como una tupla (row,col) representando la posicion de una celda del grid. El estado inicial es la celda de inicio y el único estado objetivo es la celda de salida.\n",
        "Se necesita completar Actions (acciones legales para un estado dado) y result (que hacen las acciones)."
      ]
    },
    {
      "cell_type": "code",
      "metadata": {
        "id": "a1eqv_yiKVZP"
      },
      "source": [
        "def toTuple(var):\n",
        "    \"\"\"Convierte a tupla una variable y sus elementos\"\"\"\n",
        "    return tuple(tuple(x) for x in var)\n",
        "\n",
        "def toList(var):\n",
        "    \"\"\"Convierte a lista una variable y sus elementos\"\"\"\n",
        "    return list(list(x) for x in var)\n",
        "    \n",
        "class HanoiSearchProblem(SearchProblem):\n",
        "    def __init__(self, hanoi):\n",
        "      self.hanoi = hanoi\n",
        "      self.initial = toTuple( hanoi.initialState )\n",
        "      self.goal = toTuple( hanoi.goalState )\n",
        "      self.numNodesExpanded = 0\n",
        "      self.expandedNodeSet = {}\n",
        "\n",
        "    def isValidState(self,state):\n",
        "        \"\"\" Retorna true si el estado dado corresponde a una configuración de hanoi valida \"\"\"\n",
        "        raise NotImplementedError\n",
        "\n",
        "    def actions(self, state):\n",
        "        \"\"\"Retorna una lista con las acciones legales desde el estado actual. Cada acción es\n",
        "        una tupla de tamaño 2, donde el primer elemento es el índice de la torre de donde se\n",
        "        sacará un disco, y el segundo elemento es el índice de la torre a donde se desea\n",
        "        llevar dicho disco \"\"\"\n",
        "        state = toTuple( state )\n",
        "        towers_from = [i for i in range(self.hanoi.numCols) if (len(state[i])!=0)]\n",
        "        acciones = []\n",
        "        for j in range(self.hanoi.numCols):\n",
        "          for i in towers_from: #para cada una de las torres origen...\n",
        "            if j != i: #no se puede llevar un disco hacia la misma torre origen\n",
        "              if(len(state[j])==0): #si la torre destino está vacía\n",
        "                acciones.append((i,j))\n",
        "              elif(self.hanoi.lookTopDiskOfTower(state,i)<self.hanoi.lookTopDiskOfTower(state,j)):\n",
        "                acciones.append((i,j))\n",
        "        return acciones\n",
        "\n",
        "    def result(self, state, action):\n",
        "        \"\"\"Retorna el estado que resulta de ejecutar la accion dada desde la celda actual.\n",
        "        La accion debe ser alguna de self.actions(state)\"\"\"\n",
        "        #Por comodidad, lo implementé dentro de la clase Hanoi, ya que este código se reutiliza al\n",
        "        #momento de ejecutar las acciones de la solución\n",
        "\n",
        "        return self.hanoi.result(state, action)\n",
        "        \n",
        "    def goal_test(self, state):\n",
        "        \"\"\"Retorna True si state es self.goal\"\"\"\n",
        "        return (self.goal == state)"
      ],
      "execution_count": null,
      "outputs": []
    },
    {
      "cell_type": "markdown",
      "metadata": {
        "id": "xhQdPpzSq4h-"
      },
      "source": [
        "## <b> Experimentación con los algoritmos de Busqueda: Hanoi 4 + h1</b> \n"
      ]
    },
    {
      "cell_type": "code",
      "metadata": {
        "id": "O2aMuaFCq4h-",
        "colab": {
          "base_uri": "https://localhost:8080/"
        },
        "outputId": "ab41067e-7129-4485-eafd-2598b999709b"
      },
      "source": [
        "\"\"\" Instancia el problema de busqueda en el entorno de las torres de Hanoi \"\"\"\n",
        "hanoi = Hanoi(4)\n",
        "print(hanoi)\n",
        "p = HanoiSearchProblem(hanoi)"
      ],
      "execution_count": null,
      "outputs": [
        {
          "output_type": "stream",
          "name": "stdout",
          "text": [
            "Estado inicial:\n",
            "  1  |  |\n",
            "  2  |  |\n",
            "  3  |  |\n",
            "  4  |  |\n",
            "\n",
            "Estado objetivo:\n",
            "  |  |  1\n",
            "  |  |  2\n",
            "  |  |  3\n",
            "  |  |  4\n",
            "\n",
            "Se imprimieron el estado inicial y el estado objetivo del entorno de Hanoi.\n"
          ]
        }
      ]
    },
    {
      "cell_type": "markdown",
      "metadata": {
        "id": "Lj1TWlnHq4iA"
      },
      "source": [
        "### busqueda en amplitud (BFS)"
      ]
    },
    {
      "cell_type": "code",
      "metadata": {
        "scrolled": true,
        "id": "3YfrEB4eq4iB",
        "colab": {
          "base_uri": "https://localhost:8080/"
        },
        "outputId": "9723d0ba-af6f-4d29-acaf-43b8eb410357"
      },
      "source": [
        "nsol, visited_nodes = graph_search(p, FIFOQueue())\n",
        "print('Solucion BFS:',nsol.solution())\n",
        "print('Nodos visitados =',len(visited_nodes))\n",
        "print('Costo Solucion =',nsol.path_cost)"
      ],
      "execution_count": null,
      "outputs": [
        {
          "output_type": "stream",
          "name": "stdout",
          "text": [
            "Solucion BFS: [(0, 1), (0, 2), (1, 2), (0, 1), (2, 0), (2, 1), (0, 1), (0, 2), (1, 2), (1, 0), (2, 0), (1, 2), (0, 1), (0, 2), (1, 2)]\n",
            "Nodos visitados = 71\n",
            "Costo Solucion = 15\n"
          ]
        }
      ]
    },
    {
      "cell_type": "markdown",
      "metadata": {
        "id": "rf4SUSu1q4iE"
      },
      "source": [
        "### busqueda en profundidad (DFS)"
      ]
    },
    {
      "cell_type": "code",
      "metadata": {
        "id": "4lBotx47q4iF",
        "colab": {
          "base_uri": "https://localhost:8080/"
        },
        "outputId": "68c36121-40b1-41be-d141-5effdf42ede0"
      },
      "source": [
        "nsol, visited_nodes = graph_search(p, [])\n",
        "print('Solucion DFS:',nsol.solution())\n",
        "print('Nodos visitados =',len(visited_nodes))\n",
        "print('Costo Solucion =',nsol.path_cost)"
      ],
      "execution_count": null,
      "outputs": [
        {
          "output_type": "stream",
          "name": "stdout",
          "text": [
            "Solucion DFS: [(0, 2), (0, 1), (2, 1), (0, 2), (1, 2), (1, 0), (2, 1), (0, 2), (1, 2), (0, 1), (2, 1), (2, 0), (1, 2), (0, 1), (2, 1), (2, 0), (1, 2), (1, 0), (2, 0), (1, 2), (0, 2), (0, 1), (2, 1), (0, 2), (1, 2), (1, 0), (2, 1), (0, 2), (1, 2)]\n",
            "Nodos visitados = 43\n",
            "Costo Solucion = 29\n"
          ]
        }
      ]
    },
    {
      "cell_type": "markdown",
      "metadata": {
        "id": "56MmR9hcq4iL"
      },
      "source": [
        "### busqueda A* con heurística nula (UCS)"
      ]
    },
    {
      "cell_type": "code",
      "metadata": {
        "id": "-39iMmdYq4iM",
        "colab": {
          "base_uri": "https://localhost:8080/"
        },
        "outputId": "18b7eeae-70ee-438b-c5ce-c931aea9c767"
      },
      "source": [
        "nsol, visited_nodes = astar_search(p, nullheuristic)\n",
        "print('Solucion A* y heuristica nula (UCS):',nsol.solution())\n",
        "print('Nodos visitados =',len(visited_nodes))\n",
        "print('Costo Solucion =',nsol.path_cost)"
      ],
      "execution_count": null,
      "outputs": [
        {
          "output_type": "stream",
          "name": "stdout",
          "text": [
            "Solucion A* y heuristica nula (UCS): [(0, 1), (0, 2), (1, 2), (0, 1), (2, 0), (2, 1), (0, 1), (0, 2), (1, 2), (1, 0), (2, 0), (1, 2), (0, 1), (0, 2), (1, 2)]\n",
            "Nodos visitados = 66\n",
            "Costo Solucion = 15\n"
          ]
        }
      ]
    },
    {
      "cell_type": "markdown",
      "metadata": {
        "id": "3tECNkm7q4iP"
      },
      "source": [
        "### busqueda A* con heurística h1"
      ]
    },
    {
      "cell_type": "code",
      "metadata": {
        "id": "m9kHI8cZq4iQ",
        "colab": {
          "base_uri": "https://localhost:8080/"
        },
        "outputId": "dc885d8c-89ee-4651-c3c7-bf630d32e7f1"
      },
      "source": [
        "nsol, visited_nodes = astar_search(p, h1)\n",
        "print('Solucion A* y heuristica h1:',nsol.solution())\n",
        "print('Nodos visitados =',len(visited_nodes))\n",
        "print('Costo Solucion =',nsol.path_cost)"
      ],
      "execution_count": null,
      "outputs": [
        {
          "output_type": "stream",
          "name": "stdout",
          "text": [
            "Solucion A* y heuristica h1: [(0, 1), (0, 2), (1, 2), (0, 1), (2, 0), (2, 1), (0, 1), (0, 2), (1, 2), (1, 0), (2, 0), (1, 2), (0, 1), (0, 2), (1, 2)]\n",
            "Nodos visitados = 48\n",
            "Costo Solucion = 15\n"
          ]
        }
      ]
    },
    {
      "cell_type": "markdown",
      "metadata": {
        "id": "nqf5F66V2ptv"
      },
      "source": [
        "## <b> Experimentación con los algoritmos de Busqueda: Hanoi 5 con initial y goal states manuales + h1</b> \n"
      ]
    },
    {
      "cell_type": "code",
      "metadata": {
        "id": "VVmEfnte2pt4",
        "colab": {
          "base_uri": "https://localhost:8080/"
        },
        "outputId": "94652069-6c3f-4b02-a139-90f299d86c67"
      },
      "source": [
        "\"\"\" Instancia el problema de busqueda en el entorno de las torres de Hanoi \"\"\"\n",
        "hanoi = Hanoi(5, initialState=((4,2),(1,),(5,3)), goalState=((3,2),(4,),(5,1)))\n",
        "print(hanoi)\n",
        "p = HanoiSearchProblem(hanoi)"
      ],
      "execution_count": null,
      "outputs": [
        {
          "output_type": "stream",
          "name": "stdout",
          "text": [
            "Estado inicial:\n",
            "  |  |  |\n",
            "  |  |  |\n",
            "  |  |  |\n",
            "  2  |  3\n",
            "  4  1  5\n",
            "\n",
            "Estado objetivo:\n",
            "  |  |  |\n",
            "  |  |  |\n",
            "  |  |  |\n",
            "  2  |  1\n",
            "  3  4  5\n",
            "\n",
            "Se imprimieron el estado inicial y el estado objetivo del entorno de Hanoi.\n"
          ]
        }
      ]
    },
    {
      "cell_type": "markdown",
      "metadata": {
        "id": "j2CT8nUc2puA"
      },
      "source": [
        "### busqueda en amplitud (BFS)"
      ]
    },
    {
      "cell_type": "code",
      "metadata": {
        "scrolled": true,
        "id": "Z1SsPiaV2puB",
        "colab": {
          "base_uri": "https://localhost:8080/"
        },
        "outputId": "bc4c533f-0355-4c53-ee55-7ac0108295ae"
      },
      "source": [
        "nsol, visited_nodes = graph_search(p, FIFOQueue())\n",
        "print('Solucion BFS:',nsol.solution())\n",
        "print('Nodos visitados =',len(visited_nodes))\n",
        "print('Costo Solucion =',nsol.path_cost)"
      ],
      "execution_count": null,
      "outputs": [
        {
          "output_type": "stream",
          "name": "stdout",
          "text": [
            "Solucion BFS: [(0, 2), (1, 2), (0, 1), (2, 0), (2, 1), (0, 1), (2, 0), (1, 2), (1, 0)]\n",
            "Nodos visitados = 54\n",
            "Costo Solucion = 9\n"
          ]
        }
      ]
    },
    {
      "cell_type": "markdown",
      "metadata": {
        "id": "ZR0r_RWk2puH"
      },
      "source": [
        "### busqueda en profundidad (DFS)"
      ]
    },
    {
      "cell_type": "code",
      "metadata": {
        "id": "unTDhcXh2puJ",
        "colab": {
          "base_uri": "https://localhost:8080/"
        },
        "outputId": "4fb2cd8f-0322-4a37-f825-6ed1994f4c5d"
      },
      "source": [
        "nsol, visited_nodes = graph_search(p, [])\n",
        "print('Solucion DFS:',nsol.solution())\n",
        "print('Nodos visitados =',len(visited_nodes))\n",
        "print('Costo Solucion =',nsol.path_cost)"
      ],
      "execution_count": null,
      "outputs": [
        {
          "output_type": "stream",
          "name": "stdout",
          "text": [
            "Solucion DFS: [(1, 2), (0, 1), (2, 1), (2, 0), (1, 2), (1, 0), (2, 1), (0, 2), (1, 2), (0, 1), (2, 1), (2, 0), (1, 2), (0, 1), (2, 1), (0, 2), (1, 2), (1, 0), (2, 1), (0, 2), (1, 2), (1, 0), (2, 1), (2, 0), (1, 0), (2, 1), (0, 2)]\n",
            "Nodos visitados = 41\n",
            "Costo Solucion = 27\n"
          ]
        }
      ]
    },
    {
      "cell_type": "code",
      "metadata": {
        "id": "XdrlXZPO-mS9",
        "colab": {
          "base_uri": "https://localhost:8080/"
        },
        "outputId": "2638c5e7-5d4d-41b4-ee49-1c8ba2e328a5"
      },
      "source": [
        "hanoi.ejecutaYmuestra(hanoi.initialState, nsol.solution())"
      ],
      "execution_count": null,
      "outputs": [
        {
          "output_type": "stream",
          "name": "stdout",
          "text": [
            "Estado Inicial:\n",
            "  |  |  |\n",
            "  |  |  |\n",
            "  |  |  |\n",
            "  2  |  3\n",
            "  4  1  5\n",
            "\n",
            "Acción a ejecutar: (1, 2)\n",
            "\n",
            "Estado de las torres de Hanoi resultante:\n",
            "  |  |  |\n",
            "  |  |  |\n",
            "  |  |  1\n",
            "  2  |  3\n",
            "  4  |  5\n",
            "\n",
            "Acción a ejecutar: (0, 1)\n",
            "\n",
            "Estado de las torres de Hanoi resultante:\n",
            "  |  |  |\n",
            "  |  |  |\n",
            "  |  |  1\n",
            "  |  |  3\n",
            "  4  2  5\n",
            "\n",
            "Acción a ejecutar: (2, 1)\n",
            "\n",
            "Estado de las torres de Hanoi resultante:\n",
            "  |  |  |\n",
            "  |  |  |\n",
            "  |  |  |\n",
            "  |  1  3\n",
            "  4  2  5\n",
            "\n",
            "Acción a ejecutar: (2, 0)\n",
            "\n",
            "Estado de las torres de Hanoi resultante:\n",
            "  |  |  |\n",
            "  |  |  |\n",
            "  |  |  |\n",
            "  3  1  |\n",
            "  4  2  5\n",
            "\n",
            "Acción a ejecutar: (1, 2)\n",
            "\n",
            "Estado de las torres de Hanoi resultante:\n",
            "  |  |  |\n",
            "  |  |  |\n",
            "  |  |  |\n",
            "  3  |  1\n",
            "  4  2  5\n",
            "\n",
            "Acción a ejecutar: (1, 0)\n",
            "\n",
            "Estado de las torres de Hanoi resultante:\n",
            "  |  |  |\n",
            "  |  |  |\n",
            "  2  |  |\n",
            "  3  |  1\n",
            "  4  |  5\n",
            "\n",
            "Acción a ejecutar: (2, 1)\n",
            "\n",
            "Estado de las torres de Hanoi resultante:\n",
            "  |  |  |\n",
            "  |  |  |\n",
            "  2  |  |\n",
            "  3  |  |\n",
            "  4  1  5\n",
            "\n",
            "Acción a ejecutar: (0, 2)\n",
            "\n",
            "Estado de las torres de Hanoi resultante:\n",
            "  |  |  |\n",
            "  |  |  |\n",
            "  |  |  |\n",
            "  3  |  2\n",
            "  4  1  5\n",
            "\n",
            "Acción a ejecutar: (1, 2)\n",
            "\n",
            "Estado de las torres de Hanoi resultante:\n",
            "  |  |  |\n",
            "  |  |  |\n",
            "  |  |  1\n",
            "  3  |  2\n",
            "  4  |  5\n",
            "\n",
            "Acción a ejecutar: (0, 1)\n",
            "\n",
            "Estado de las torres de Hanoi resultante:\n",
            "  |  |  |\n",
            "  |  |  |\n",
            "  |  |  1\n",
            "  |  |  2\n",
            "  4  3  5\n",
            "\n",
            "Acción a ejecutar: (2, 1)\n",
            "\n",
            "Estado de las torres de Hanoi resultante:\n",
            "  |  |  |\n",
            "  |  |  |\n",
            "  |  |  |\n",
            "  |  1  2\n",
            "  4  3  5\n",
            "\n",
            "Acción a ejecutar: (2, 0)\n",
            "\n",
            "Estado de las torres de Hanoi resultante:\n",
            "  |  |  |\n",
            "  |  |  |\n",
            "  |  |  |\n",
            "  2  1  |\n",
            "  4  3  5\n",
            "\n",
            "Acción a ejecutar: (1, 2)\n",
            "\n",
            "Estado de las torres de Hanoi resultante:\n",
            "  |  |  |\n",
            "  |  |  |\n",
            "  |  |  |\n",
            "  2  |  1\n",
            "  4  3  5\n",
            "\n",
            "Acción a ejecutar: (0, 1)\n",
            "\n",
            "Estado de las torres de Hanoi resultante:\n",
            "  |  |  |\n",
            "  |  |  |\n",
            "  |  |  |\n",
            "  |  2  1\n",
            "  4  3  5\n",
            "\n",
            "Acción a ejecutar: (2, 1)\n",
            "\n",
            "Estado de las torres de Hanoi resultante:\n",
            "  |  |  |\n",
            "  |  |  |\n",
            "  |  1  |\n",
            "  |  2  |\n",
            "  4  3  5\n",
            "\n",
            "Acción a ejecutar: (0, 2)\n",
            "\n",
            "Estado de las torres de Hanoi resultante:\n",
            "  |  |  |\n",
            "  |  |  |\n",
            "  |  1  |\n",
            "  |  2  4\n",
            "  |  3  5\n",
            "\n",
            "Acción a ejecutar: (1, 2)\n",
            "\n",
            "Estado de las torres de Hanoi resultante:\n",
            "  |  |  |\n",
            "  |  |  |\n",
            "  |  |  1\n",
            "  |  2  4\n",
            "  |  3  5\n",
            "\n",
            "Acción a ejecutar: (1, 0)\n",
            "\n",
            "Estado de las torres de Hanoi resultante:\n",
            "  |  |  |\n",
            "  |  |  |\n",
            "  |  |  1\n",
            "  |  |  4\n",
            "  2  3  5\n",
            "\n",
            "Acción a ejecutar: (2, 1)\n",
            "\n",
            "Estado de las torres de Hanoi resultante:\n",
            "  |  |  |\n",
            "  |  |  |\n",
            "  |  |  |\n",
            "  |  1  4\n",
            "  2  3  5\n",
            "\n",
            "Acción a ejecutar: (0, 2)\n",
            "\n",
            "Estado de las torres de Hanoi resultante:\n",
            "  |  |  |\n",
            "  |  |  |\n",
            "  |  |  2\n",
            "  |  1  4\n",
            "  |  3  5\n",
            "\n",
            "Acción a ejecutar: (1, 2)\n",
            "\n",
            "Estado de las torres de Hanoi resultante:\n",
            "  |  |  |\n",
            "  |  |  1\n",
            "  |  |  2\n",
            "  |  |  4\n",
            "  |  3  5\n",
            "\n",
            "Acción a ejecutar: (1, 0)\n",
            "\n",
            "Estado de las torres de Hanoi resultante:\n",
            "  |  |  |\n",
            "  |  |  1\n",
            "  |  |  2\n",
            "  |  |  4\n",
            "  3  |  5\n",
            "\n",
            "Acción a ejecutar: (2, 1)\n",
            "\n",
            "Estado de las torres de Hanoi resultante:\n",
            "  |  |  |\n",
            "  |  |  |\n",
            "  |  |  2\n",
            "  |  |  4\n",
            "  3  1  5\n",
            "\n",
            "Acción a ejecutar: (2, 0)\n",
            "\n",
            "Estado de las torres de Hanoi resultante:\n",
            "  |  |  |\n",
            "  |  |  |\n",
            "  |  |  |\n",
            "  2  |  4\n",
            "  3  1  5\n",
            "\n",
            "Acción a ejecutar: (1, 0)\n",
            "\n",
            "Estado de las torres de Hanoi resultante:\n",
            "  |  |  |\n",
            "  |  |  |\n",
            "  1  |  |\n",
            "  2  |  4\n",
            "  3  |  5\n",
            "\n",
            "Acción a ejecutar: (2, 1)\n",
            "\n",
            "Estado de las torres de Hanoi resultante:\n",
            "  |  |  |\n",
            "  |  |  |\n",
            "  1  |  |\n",
            "  2  |  |\n",
            "  3  4  5\n",
            "\n",
            "Acción a ejecutar: (0, 2)\n",
            "\n",
            "Estado de las torres de Hanoi resultante:\n",
            "  |  |  |\n",
            "  |  |  |\n",
            "  |  |  |\n",
            "  2  |  1\n",
            "  3  4  5\n",
            "\n"
          ]
        }
      ]
    },
    {
      "cell_type": "markdown",
      "metadata": {
        "id": "hEQ_NZRc2puN"
      },
      "source": [
        "### busqueda A* con heurística nula (UCS)"
      ]
    },
    {
      "cell_type": "code",
      "metadata": {
        "id": "TWU35Im02puO",
        "colab": {
          "base_uri": "https://localhost:8080/"
        },
        "outputId": "e810d98f-0097-4e61-d3b4-5fb1e2ec2820"
      },
      "source": [
        "nsol, visited_nodes = astar_search(p, nullheuristic)\n",
        "print('Solucion A* y heuristica nula (UCS):',nsol.solution())\n",
        "print('Nodos visitados =',len(visited_nodes))\n",
        "print('Costo Solucion =',nsol.path_cost)"
      ],
      "execution_count": null,
      "outputs": [
        {
          "output_type": "stream",
          "name": "stdout",
          "text": [
            "Solucion A* y heuristica nula (UCS): [(0, 2), (1, 2), (0, 1), (2, 0), (2, 1), (0, 1), (2, 0), (1, 2), (1, 0)]\n",
            "Nodos visitados = 56\n",
            "Costo Solucion = 9\n"
          ]
        }
      ]
    },
    {
      "cell_type": "markdown",
      "metadata": {
        "id": "ZiO-CCGz2puR"
      },
      "source": [
        "### busqueda A* con heurística h1"
      ]
    },
    {
      "cell_type": "code",
      "metadata": {
        "id": "pM65hMWw2puS",
        "colab": {
          "base_uri": "https://localhost:8080/"
        },
        "outputId": "9abf734e-804f-416e-dfb9-6e10696fbf67"
      },
      "source": [
        "nsol, visited_nodes = astar_search(p, h1)\n",
        "print('Solucion A* y heuristica h1:',nsol.solution())\n",
        "print('Nodos visitados =',len(visited_nodes))\n",
        "print('Costo Solucion =',nsol.path_cost)"
      ],
      "execution_count": null,
      "outputs": [
        {
          "output_type": "stream",
          "name": "stdout",
          "text": [
            "Solucion A* y heuristica h1: [(0, 2), (1, 2), (0, 1), (2, 0), (2, 1), (0, 1), (2, 0), (1, 2), (1, 0)]\n",
            "Nodos visitados = 28\n",
            "Costo Solucion = 9\n"
          ]
        }
      ]
    },
    {
      "cell_type": "code",
      "metadata": {
        "id": "kGBqxpMM-iKn",
        "colab": {
          "base_uri": "https://localhost:8080/"
        },
        "outputId": "355fb116-da75-4031-a237-4b5e3d6231ce"
      },
      "source": [
        "hanoi.ejecutaYmuestra(hanoi.initialState, nsol.solution())"
      ],
      "execution_count": null,
      "outputs": [
        {
          "output_type": "stream",
          "name": "stdout",
          "text": [
            "Estado Inicial:\n",
            "  |  |  |\n",
            "  |  |  |\n",
            "  |  |  |\n",
            "  2  |  3\n",
            "  4  1  5\n",
            "\n",
            "Acción a ejecutar: (0, 2)\n",
            "\n",
            "Estado de las torres de Hanoi resultante:\n",
            "  |  |  |\n",
            "  |  |  |\n",
            "  |  |  2\n",
            "  |  |  3\n",
            "  4  1  5\n",
            "\n",
            "Acción a ejecutar: (1, 2)\n",
            "\n",
            "Estado de las torres de Hanoi resultante:\n",
            "  |  |  |\n",
            "  |  |  1\n",
            "  |  |  2\n",
            "  |  |  3\n",
            "  4  |  5\n",
            "\n",
            "Acción a ejecutar: (0, 1)\n",
            "\n",
            "Estado de las torres de Hanoi resultante:\n",
            "  |  |  |\n",
            "  |  |  1\n",
            "  |  |  2\n",
            "  |  |  3\n",
            "  |  4  5\n",
            "\n",
            "Acción a ejecutar: (2, 0)\n",
            "\n",
            "Estado de las torres de Hanoi resultante:\n",
            "  |  |  |\n",
            "  |  |  |\n",
            "  |  |  2\n",
            "  |  |  3\n",
            "  1  4  5\n",
            "\n",
            "Acción a ejecutar: (2, 1)\n",
            "\n",
            "Estado de las torres de Hanoi resultante:\n",
            "  |  |  |\n",
            "  |  |  |\n",
            "  |  |  |\n",
            "  |  2  3\n",
            "  1  4  5\n",
            "\n",
            "Acción a ejecutar: (0, 1)\n",
            "\n",
            "Estado de las torres de Hanoi resultante:\n",
            "  |  |  |\n",
            "  |  |  |\n",
            "  |  1  |\n",
            "  |  2  3\n",
            "  |  4  5\n",
            "\n",
            "Acción a ejecutar: (2, 0)\n",
            "\n",
            "Estado de las torres de Hanoi resultante:\n",
            "  |  |  |\n",
            "  |  |  |\n",
            "  |  1  |\n",
            "  |  2  |\n",
            "  3  4  5\n",
            "\n",
            "Acción a ejecutar: (1, 2)\n",
            "\n",
            "Estado de las torres de Hanoi resultante:\n",
            "  |  |  |\n",
            "  |  |  |\n",
            "  |  |  |\n",
            "  |  2  1\n",
            "  3  4  5\n",
            "\n",
            "Acción a ejecutar: (1, 0)\n",
            "\n",
            "Estado de las torres de Hanoi resultante:\n",
            "  |  |  |\n",
            "  |  |  |\n",
            "  |  |  |\n",
            "  2  |  1\n",
            "  3  4  5\n",
            "\n"
          ]
        }
      ]
    },
    {
      "cell_type": "markdown",
      "metadata": {
        "id": "P1elKgiAQAq7"
      },
      "source": [
        "## Desafío de la semana: Entorno `Hanoi` (3 puntos en total)"
      ]
    },
    {
      "cell_type": "markdown",
      "metadata": {
        "id": "CD6USZW0VudD"
      },
      "source": [
        "- Heurística `h1` : Número de piezas fuera de su torre destino, sin importar que dichas fichas no se encuentren en la posición dentro de la torre en la que deberían estar. Implementar la función de la heurística `h1` (1 punto).\n"
      ]
    },
    {
      "cell_type": "markdown",
      "metadata": {
        "id": "ox0ZJ_2G_cW_"
      },
      "source": [
        "En otras palabras, para la heurística h1: un disco que sí está en su lugar, se encuentra en su torre destino, sin importar la posición vertical dentro de dicha torre destino."
      ]
    },
    {
      "cell_type": "markdown",
      "metadata": {
        "id": "fgQiZPMd8lqE"
      },
      "source": [
        "Veamos un ejemplo:"
      ]
    },
    {
      "cell_type": "code",
      "metadata": {
        "id": "weORPcNt8mxh"
      },
      "source": [
        "assert 3==h1_explicit( ((4,2),(3,),(1,)) , ((4,3,2),(1,),()) ), \"Hay 3 discos fuera de su torre destino. Corregir `h1_explicit`.\""
      ],
      "execution_count": null,
      "outputs": []
    },
    {
      "cell_type": "markdown",
      "metadata": {
        "id": "bEcwBvWU8nXC"
      },
      "source": [
        "Aquí, el disco 3 que inicialmente está en la segunda torre, debe colocarse en la primera torre. Además, el disco 1 que inicialmente está en la tercera torre, debe colocarse en la segunda torre. Por ello, solo hay 2 discos fuera de su torre destino.\n",
        "\n",
        "Notar que el disco 2 se encuentra inicialmente en la posición 2 y en realidad debería estar en la posición 3 (contando desde la base de la torre), pero la heurística `h1` no la considera fuera de su lugar, ya que sí está en la torre en la que debería estar."
      ]
    },
    {
      "cell_type": "markdown",
      "metadata": {
        "id": "sF6wTRw9boDu"
      },
      "source": [
        "Estas son las reglas del problema de las torres de Hanoi.\n",
        "\n",
        "1. Sólo se puede mover un disco a la vez.\n",
        "2. Para mover un disco, los demás deben estar en postes.\n",
        "3. Un disco no puede estar sobre uno más pequeño que sí mismo.\n",
        "4. Sólo se puede desplazar el disco que se encuentra arriba de cada poste.\n",
        "5. Un disco sólo puede moverse hacia la cima de otra torre.\n",
        "\n"
      ]
    },
    {
      "cell_type": "markdown",
      "metadata": {
        "id": "SHDIIbxMdZRQ"
      },
      "source": [
        "\n",
        "- ¿Cuáles son las reglas que se apagan para conseguir un problema relajado con esa heurística `h1`? Justificar (0.5 puntos). Considerar que para las configuraciones de destino, los discos dentro de las torres **siempre** van a tener tamaños (en nuestro caso, representados con los valores numéricos asignados a los discos) en orden decreciente empezando desde abajo."
      ]
    },
    {
      "cell_type": "markdown",
      "metadata": {
        "id": "_VEX5KkcrKqt"
      },
      "source": [
        "Apagaría las reglas 4 y 5, con esto se consideraría los discos que están fuera de lugar. Por la consideración aún debe quedar la regla 3 y las reglas 1 y 2 van ligadas y requeridas para no terminar todo en un solo nodo."
      ]
    },
    {
      "cell_type": "markdown",
      "metadata": {
        "id": "ZfKWRiGwgaZa"
      },
      "source": [
        "- Complete la siguiente tabla, **mostrando** los resultados de las ejecuciones (1 punto):"
      ]
    },
    {
      "cell_type": "markdown",
      "metadata": {
        "id": "YEiRaDbrGrTc"
      },
      "source": [
        "\n",
        "\n",
        "| Entorno `Hanoi(3)` | BFS | DFS | UCS | A* con `h1` |\n",
        "| :------- | :------: | -----: | -----: | -----: |\n",
        "| Costo del camino  | 7      | 9   | 7  | 7   |\n",
        "| Nodos visitados   | 25     | 10 | 20 | 15 |"
      ]
    },
    {
      "cell_type": "markdown",
      "metadata": {
        "id": "gllcZzPVGqDB"
      },
      "source": [
        "\n",
        "\n",
        "| Entorno `Hanoi(4)` | BFS | DFS | UCS | A* con `h1` |\n",
        "| :------- | :------: | -----: | -----: | -----: |\n",
        "| Costo del camino  | 15      | 29   | 15  | 15   |\n",
        "| Nodos visitados   | 71     | 43 | 66 | 48 |"
      ]
    },
    {
      "cell_type": "markdown",
      "metadata": {
        "id": "eLWTFKSIGtHg"
      },
      "source": [
        "\n",
        "\n",
        "| Entorno `Hanoi(5)` | BFS | DFS | UCS | A* con `h1` |\n",
        "| :------- | :------: | -----: | -----: | -----: |\n",
        "| Costo del camino  | 31      | 81   | 31  | 31   |\n",
        "| Nodos visitados   | 233     | 82 | 212 | 161 |"
      ]
    },
    {
      "cell_type": "code",
      "metadata": {
        "id": "jGxtaajjwzay",
        "colab": {
          "base_uri": "https://localhost:8080/"
        },
        "outputId": "e6dba111-5943-4768-86f8-665757d2691f"
      },
      "source": [
        "hanoi = Hanoi(3)\n",
        "p = HanoiSearchProblem(hanoi)\n",
        "\n",
        "print('BFS')\n",
        "nsol, visited_nodes = graph_search(p, FIFOQueue())\n",
        "print('Costo Solucion =',nsol.path_cost)\n",
        "print('Nodos visitados =',len(visited_nodes))\n",
        "\n",
        "print('DFS')\n",
        "nsol, visited_nodes = graph_search(p, [])\n",
        "print('Costo Solucion =',nsol.path_cost)\n",
        "print('Nodos visitados =',len(visited_nodes))\n",
        "\n",
        "print('UCS')\n",
        "nsol, visited_nodes = astar_search(p, nullheuristic)\n",
        "print('Costo Solucion =',nsol.path_cost)\n",
        "print('Nodos visitados =',len(visited_nodes))\n",
        "\n",
        "print('A* con h1')\n",
        "nsol, visited_nodes = astar_search(p, h1)\n",
        "print('Costo Solucion =',nsol.path_cost)\n",
        "print('Nodos visitados =',len(visited_nodes))"
      ],
      "execution_count": null,
      "outputs": [
        {
          "output_type": "stream",
          "name": "stdout",
          "text": [
            "BFS\n",
            "Costo Solucion = 7\n",
            "Nodos visitados = 25\n",
            "DFS\n",
            "Costo Solucion = 9\n",
            "Nodos visitados = 10\n",
            "UCS\n",
            "Costo Solucion = 7\n",
            "Nodos visitados = 20\n",
            "A* con h1\n",
            "Costo Solucion = 7\n",
            "Nodos visitados = 15\n"
          ]
        }
      ]
    },
    {
      "cell_type": "code",
      "metadata": {
        "colab": {
          "base_uri": "https://localhost:8080/"
        },
        "id": "ERaW0KcvL-mS",
        "outputId": "80f41236-a4ae-4bae-ce8e-a1eba67afcee"
      },
      "source": [
        "hanoi = Hanoi(4)\n",
        "p = HanoiSearchProblem(hanoi)\n",
        "\n",
        "print('BFS')\n",
        "nsol, visited_nodes = graph_search(p, FIFOQueue())\n",
        "print('Costo Solucion =',nsol.path_cost)\n",
        "print('Nodos visitados =',len(visited_nodes))\n",
        "\n",
        "print('DFS')\n",
        "nsol, visited_nodes = graph_search(p, [])\n",
        "print('Costo Solucion =',nsol.path_cost)\n",
        "print('Nodos visitados =',len(visited_nodes))\n",
        "\n",
        "print('UCS')\n",
        "nsol, visited_nodes = astar_search(p, nullheuristic)\n",
        "print('Costo Solucion =',nsol.path_cost)\n",
        "print('Nodos visitados =',len(visited_nodes))\n",
        "\n",
        "print('A* con h1')\n",
        "nsol, visited_nodes = astar_search(p, h1)\n",
        "print('Costo Solucion =',nsol.path_cost)\n",
        "print('Nodos visitados =',len(visited_nodes))"
      ],
      "execution_count": null,
      "outputs": [
        {
          "output_type": "stream",
          "name": "stdout",
          "text": [
            "BFS\n",
            "Costo Solucion = 15\n",
            "Nodos visitados = 71\n",
            "DFS\n",
            "Costo Solucion = 29\n",
            "Nodos visitados = 43\n",
            "UCS\n",
            "Costo Solucion = 15\n",
            "Nodos visitados = 66\n",
            "A* con h1\n",
            "Costo Solucion = 15\n",
            "Nodos visitados = 48\n"
          ]
        }
      ]
    },
    {
      "cell_type": "code",
      "metadata": {
        "colab": {
          "base_uri": "https://localhost:8080/"
        },
        "id": "hs_ete9GL_ib",
        "outputId": "07359092-ceab-425a-cd12-ab65ba04b4d6"
      },
      "source": [
        "hanoi = Hanoi(5)\n",
        "p = HanoiSearchProblem(hanoi)\n",
        "\n",
        "print('BFS')\n",
        "nsol, visited_nodes = graph_search(p, FIFOQueue())\n",
        "print('Costo Solucion =',nsol.path_cost)\n",
        "print('Nodos visitados =',len(visited_nodes))\n",
        "\n",
        "print('DFS')\n",
        "nsol, visited_nodes = graph_search(p, [])\n",
        "print('Costo Solucion =',nsol.path_cost)\n",
        "print('Nodos visitados =',len(visited_nodes))\n",
        "\n",
        "print('UCS')\n",
        "nsol, visited_nodes = astar_search(p, nullheuristic)\n",
        "print('Costo Solucion =',nsol.path_cost)\n",
        "print('Nodos visitados =',len(visited_nodes))\n",
        "\n",
        "print('A* con h1')\n",
        "nsol, visited_nodes = astar_search(p, h1)\n",
        "print('Costo Solucion =',nsol.path_cost)\n",
        "print('Nodos visitados =',len(visited_nodes))"
      ],
      "execution_count": null,
      "outputs": [
        {
          "output_type": "stream",
          "name": "stdout",
          "text": [
            "BFS\n",
            "Costo Solucion = 31\n",
            "Nodos visitados = 233\n",
            "DFS\n",
            "Costo Solucion = 81\n",
            "Nodos visitados = 82\n",
            "UCS\n",
            "Costo Solucion = 31\n",
            "Nodos visitados = 212\n",
            "A* con h1\n",
            "Costo Solucion = 31\n",
            "Nodos visitados = 161\n"
          ]
        }
      ]
    },
    {
      "cell_type": "markdown",
      "metadata": {
        "id": "Al3B8VW5bq9h"
      },
      "source": [
        "- Al usar la función implementada en una búsqueda A*, se generan mejores resultados que usando UCS? Por qué? Responder usando la teoría vista en clase, comentando acerca de la optimalidad del camino encontrado y la cantidad de nodos explorados para encontrar dicha solución. Asumir que la heurística `h1` es consistente. Contrastar con los resultados experimentales obtenidos para `Hanoi(3)`, `Hanoi(4)`, y `Hanoi(5)` (0.5 puntos)."
      ]
    },
    {
      "cell_type": "markdown",
      "metadata": {
        "id": "X5XB8bQ6MlX0"
      },
      "source": [
        "Usando heurísticas se genera mejores resultados ya que se genera menos nodos al expandir los nodos más cerca al objetivo mientras que UCS se expande al nodo con el costo de ruta más bajo, que puede no ser la ruta más óptima"
      ]
    }
  ]
}