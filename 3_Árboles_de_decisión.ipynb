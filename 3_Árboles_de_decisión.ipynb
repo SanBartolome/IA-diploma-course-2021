{
  "nbformat": 4,
  "nbformat_minor": 0,
  "metadata": {
    "kernelspec": {
      "display_name": "Python 3",
      "language": "python",
      "name": "python3"
    },
    "language_info": {
      "codemirror_mode": {
        "name": "ipython",
        "version": 3
      },
      "file_extension": ".py",
      "mimetype": "text/x-python",
      "name": "python",
      "nbconvert_exporter": "python",
      "pygments_lexer": "ipython3",
      "version": "3.7.3"
    },
    "toc": {
      "base_numbering": 1,
      "nav_menu": {},
      "number_sections": true,
      "sideBar": true,
      "skip_h1_title": false,
      "title_cell": "Table of Contents",
      "title_sidebar": "Contents",
      "toc_cell": false,
      "toc_position": {},
      "toc_section_display": true,
      "toc_window_display": false
    },
    "colab": {
      "name": "3. Árboles_de_decisión.ipynb",
      "provenance": [],
      "collapsed_sections": [],
      "include_colab_link": true
    }
  },
  "cells": [
    {
      "cell_type": "markdown",
      "metadata": {
        "id": "view-in-github",
        "colab_type": "text"
      },
      "source": [
        "<a href=\"https://colab.research.google.com/github/SanBartolome/IA-diploma-course-2021/blob/main/3_%C3%81rboles_de_decisi%C3%B3n.ipynb\" target=\"_parent\"><img src=\"https://colab.research.google.com/assets/colab-badge.svg\" alt=\"Open In Colab\"/></a>"
      ]
    },
    {
      "cell_type": "markdown",
      "metadata": {
        "id": "toyV9txaDUDC"
      },
      "source": [
        "# Clase 2: Árboles de decisión"
      ]
    },
    {
      "cell_type": "markdown",
      "metadata": {
        "id": "2VuwElMTDUDI"
      },
      "source": [
        "**Algunos hotkeys útiles en jupyter:**\n",
        "\n",
        "* **control+enter**: correr celda.\n",
        "* **enter**: editar celda.\n",
        "* **escape**: salir del modo edición.\n",
        "* **control+s**: guardar notebook.\n",
        "\n",
        "**Fuera del modo edición se pueden utilizar los siguientes hotkeys:**\n",
        "* **a**: agregar celda arriba.\n",
        "* **b**: agregar celda abajo.\n",
        "* **x**: borrar celda.\n",
        "* **z**: deshacer borrar celda.\n",
        "* **y**: setear celda en modo python (código).\n",
        "* **m**: setear celda en modo markdown (texto).\n",
        "* **o**: mostrar/ocultar resultado.\n",
        "\n",
        "**Líbrerias:**\n",
        "\n",
        "* **Jupyter notebook**: Entorno de trabajo [(cheat sheet)](https://s3.amazonaws.com/assets.datacamp.com/blog_assets/Jupyter_Notebook_Cheat_Sheet.pdf)\n",
        "* **Numpy**: librería de funciones matemáticas de alto nivel para operar con vectores y matrices [(cheat sheet)](https://s3.amazonaws.com/assets.datacamp.com/blog_assets/Numpy_Python_Cheat_Sheet.pdf)\n",
        "* **Pandas**: librería destinada al análisis de datos, permiten trabajar con datos estructurados de forma muy eficiente [(cheat sheet)](https://github.com/pandas-dev/pandas/blob/master/doc/cheatsheet/Pandas_Cheat_Sheet.pdf)\n",
        "* **Matplotlib**: librería para la generación de gráficos [(cheat sheet)](https://s3.amazonaws.com/assets.datacamp.com/blog_assets/Python_Matplotlib_Cheat_Sheet.pdf)\n",
        "* **Seaborn**: librería para la generación de gráficos de alto nivel, por debajo usa Matplotlib [(ejemplos)](https://seaborn.pydata.org/examples/index.html)\n",
        "\n",
        "Los cheatsheets son un resumen de las principales funciones de las librerías, pueden encontrar los enlaces a la documentación oficial en la pestaña \"Help\" en este notebook."
      ]
    },
    {
      "cell_type": "code",
      "metadata": {
        "id": "tXU_znWDDUDK"
      },
      "source": [
        "import utils, pickle\n",
        "import numpy as np\n",
        "import pandas as pd\n",
        "import seaborn as sns\n",
        "import matplotlib.pyplot as plt\n",
        "%matplotlib inline"
      ],
      "execution_count": 1,
      "outputs": []
    },
    {
      "cell_type": "markdown",
      "metadata": {
        "id": "B08Lcn8IDUDP"
      },
      "source": [
        "\\* La linea **%matplotlib inline**, nos permite visualizar los graficos generados dentro de este notebook."
      ]
    },
    {
      "cell_type": "markdown",
      "metadata": {
        "id": "HhIaaAMjDUDQ"
      },
      "source": [
        "# Arboles de decision"
      ]
    },
    {
      "cell_type": "markdown",
      "metadata": {
        "id": "18kyJ0qODUDS"
      },
      "source": [
        "## Leer / formatear data"
      ]
    },
    {
      "cell_type": "code",
      "metadata": {
        "scrolled": true,
        "id": "kZ4kMGcSDUDT",
        "colab": {
          "base_uri": "https://localhost:8080/",
          "height": 554
        },
        "outputId": "f7257cbd-1c30-4863-9304-6aeb4d7debef"
      },
      "source": [
        "# Usamos pandas para cargar el archivo csv:\n",
        "df = pd.read_csv('data/animals.csv')\n",
        "df"
      ],
      "execution_count": 2,
      "outputs": [
        {
          "output_type": "execute_result",
          "data": {
            "text/html": [
              "<div>\n",
              "<style scoped>\n",
              "    .dataframe tbody tr th:only-of-type {\n",
              "        vertical-align: middle;\n",
              "    }\n",
              "\n",
              "    .dataframe tbody tr th {\n",
              "        vertical-align: top;\n",
              "    }\n",
              "\n",
              "    .dataframe thead th {\n",
              "        text-align: right;\n",
              "    }\n",
              "</style>\n",
              "<table border=\"1\" class=\"dataframe\">\n",
              "  <thead>\n",
              "    <tr style=\"text-align: right;\">\n",
              "      <th></th>\n",
              "      <th>Name</th>\n",
              "      <th>Body Temperature</th>\n",
              "      <th>Skin Cover</th>\n",
              "      <th>Gives Birth</th>\n",
              "      <th>Aquatic Creature</th>\n",
              "      <th>Aerial Creature</th>\n",
              "      <th>Has Legs</th>\n",
              "      <th>Hibernates</th>\n",
              "      <th>Class Label</th>\n",
              "    </tr>\n",
              "  </thead>\n",
              "  <tbody>\n",
              "    <tr>\n",
              "      <th>0</th>\n",
              "      <td>human</td>\n",
              "      <td>warm-blooded</td>\n",
              "      <td>hair</td>\n",
              "      <td>yes</td>\n",
              "      <td>no</td>\n",
              "      <td>no</td>\n",
              "      <td>yes</td>\n",
              "      <td>no</td>\n",
              "      <td>mammal</td>\n",
              "    </tr>\n",
              "    <tr>\n",
              "      <th>1</th>\n",
              "      <td>python</td>\n",
              "      <td>cold-blooded</td>\n",
              "      <td>scales</td>\n",
              "      <td>no</td>\n",
              "      <td>no</td>\n",
              "      <td>no</td>\n",
              "      <td>no</td>\n",
              "      <td>yes</td>\n",
              "      <td>reptile</td>\n",
              "    </tr>\n",
              "    <tr>\n",
              "      <th>2</th>\n",
              "      <td>salmon</td>\n",
              "      <td>cold-blooded</td>\n",
              "      <td>scales</td>\n",
              "      <td>no</td>\n",
              "      <td>yes</td>\n",
              "      <td>no</td>\n",
              "      <td>no</td>\n",
              "      <td>no</td>\n",
              "      <td>fish</td>\n",
              "    </tr>\n",
              "    <tr>\n",
              "      <th>3</th>\n",
              "      <td>whale</td>\n",
              "      <td>warm-blooded</td>\n",
              "      <td>hair</td>\n",
              "      <td>yes</td>\n",
              "      <td>yes</td>\n",
              "      <td>no</td>\n",
              "      <td>no</td>\n",
              "      <td>no</td>\n",
              "      <td>mammal</td>\n",
              "    </tr>\n",
              "    <tr>\n",
              "      <th>4</th>\n",
              "      <td>frog</td>\n",
              "      <td>cold-blooded</td>\n",
              "      <td>none</td>\n",
              "      <td>no</td>\n",
              "      <td>semi</td>\n",
              "      <td>no</td>\n",
              "      <td>yes</td>\n",
              "      <td>yes</td>\n",
              "      <td>amphibian</td>\n",
              "    </tr>\n",
              "    <tr>\n",
              "      <th>5</th>\n",
              "      <td>Komodo dragon</td>\n",
              "      <td>cold-blooded</td>\n",
              "      <td>scales</td>\n",
              "      <td>no</td>\n",
              "      <td>no</td>\n",
              "      <td>no</td>\n",
              "      <td>yes</td>\n",
              "      <td>no</td>\n",
              "      <td>reptile</td>\n",
              "    </tr>\n",
              "    <tr>\n",
              "      <th>6</th>\n",
              "      <td>bat</td>\n",
              "      <td>warm-blooded</td>\n",
              "      <td>hair</td>\n",
              "      <td>yes</td>\n",
              "      <td>no</td>\n",
              "      <td>yes</td>\n",
              "      <td>yes</td>\n",
              "      <td>yes</td>\n",
              "      <td>mammal</td>\n",
              "    </tr>\n",
              "    <tr>\n",
              "      <th>7</th>\n",
              "      <td>pigeon</td>\n",
              "      <td>warm-blooded</td>\n",
              "      <td>feathers</td>\n",
              "      <td>no</td>\n",
              "      <td>no</td>\n",
              "      <td>yes</td>\n",
              "      <td>yes</td>\n",
              "      <td>no</td>\n",
              "      <td>bird</td>\n",
              "    </tr>\n",
              "    <tr>\n",
              "      <th>8</th>\n",
              "      <td>cat</td>\n",
              "      <td>warm-blooded</td>\n",
              "      <td>fur</td>\n",
              "      <td>yes</td>\n",
              "      <td>no</td>\n",
              "      <td>no</td>\n",
              "      <td>yes</td>\n",
              "      <td>no</td>\n",
              "      <td>mammal</td>\n",
              "    </tr>\n",
              "    <tr>\n",
              "      <th>9</th>\n",
              "      <td>leopard shark</td>\n",
              "      <td>cold-blooded</td>\n",
              "      <td>scales</td>\n",
              "      <td>yes</td>\n",
              "      <td>yes</td>\n",
              "      <td>no</td>\n",
              "      <td>no</td>\n",
              "      <td>no</td>\n",
              "      <td>fish</td>\n",
              "    </tr>\n",
              "    <tr>\n",
              "      <th>10</th>\n",
              "      <td>turtle</td>\n",
              "      <td>cold-blooded</td>\n",
              "      <td>scales</td>\n",
              "      <td>no</td>\n",
              "      <td>semi</td>\n",
              "      <td>no</td>\n",
              "      <td>yes</td>\n",
              "      <td>no</td>\n",
              "      <td>reptile</td>\n",
              "    </tr>\n",
              "    <tr>\n",
              "      <th>11</th>\n",
              "      <td>penguin</td>\n",
              "      <td>warm-blooded</td>\n",
              "      <td>feathers</td>\n",
              "      <td>no</td>\n",
              "      <td>semi</td>\n",
              "      <td>no</td>\n",
              "      <td>yes</td>\n",
              "      <td>no</td>\n",
              "      <td>bird</td>\n",
              "    </tr>\n",
              "    <tr>\n",
              "      <th>12</th>\n",
              "      <td>porcupine</td>\n",
              "      <td>warm-blooded</td>\n",
              "      <td>quills</td>\n",
              "      <td>yes</td>\n",
              "      <td>no</td>\n",
              "      <td>no</td>\n",
              "      <td>yes</td>\n",
              "      <td>yes</td>\n",
              "      <td>mammal</td>\n",
              "    </tr>\n",
              "    <tr>\n",
              "      <th>13</th>\n",
              "      <td>eel</td>\n",
              "      <td>cold-blooded</td>\n",
              "      <td>scales</td>\n",
              "      <td>no</td>\n",
              "      <td>yes</td>\n",
              "      <td>no</td>\n",
              "      <td>no</td>\n",
              "      <td>no</td>\n",
              "      <td>fish</td>\n",
              "    </tr>\n",
              "    <tr>\n",
              "      <th>14</th>\n",
              "      <td>salamander</td>\n",
              "      <td>cold-blooded</td>\n",
              "      <td>none</td>\n",
              "      <td>no</td>\n",
              "      <td>semi</td>\n",
              "      <td>no</td>\n",
              "      <td>yes</td>\n",
              "      <td>yes</td>\n",
              "      <td>amphibian</td>\n",
              "    </tr>\n",
              "  </tbody>\n",
              "</table>\n",
              "</div>"
            ],
            "text/plain": [
              "             Name Body Temperature Skin Cover  ... Has Legs Hibernates Class Label\n",
              "0           human     warm-blooded       hair  ...      yes         no      mammal\n",
              "1          python     cold-blooded     scales  ...       no        yes     reptile\n",
              "2          salmon     cold-blooded     scales  ...       no         no        fish\n",
              "3           whale     warm-blooded       hair  ...       no         no      mammal\n",
              "4            frog     cold-blooded       none  ...      yes        yes   amphibian\n",
              "5   Komodo dragon     cold-blooded     scales  ...      yes         no     reptile\n",
              "6             bat     warm-blooded       hair  ...      yes        yes      mammal\n",
              "7          pigeon     warm-blooded   feathers  ...      yes         no        bird\n",
              "8             cat     warm-blooded        fur  ...      yes         no      mammal\n",
              "9   leopard shark     cold-blooded     scales  ...       no         no        fish\n",
              "10         turtle     cold-blooded     scales  ...      yes         no     reptile\n",
              "11        penguin     warm-blooded   feathers  ...      yes         no        bird\n",
              "12      porcupine     warm-blooded     quills  ...      yes        yes      mammal\n",
              "13            eel     cold-blooded     scales  ...       no         no        fish\n",
              "14     salamander     cold-blooded       none  ...      yes        yes   amphibian\n",
              "\n",
              "[15 rows x 9 columns]"
            ]
          },
          "metadata": {},
          "execution_count": 2
        }
      ]
    },
    {
      "cell_type": "code",
      "metadata": {
        "id": "u9nlI2woDUDb",
        "colab": {
          "base_uri": "https://localhost:8080/"
        },
        "outputId": "b14005c7-99ae-47e4-bd38-55e61f006f05"
      },
      "source": [
        "# Tamaño del dataframe\n",
        "df.shape"
      ],
      "execution_count": 3,
      "outputs": [
        {
          "output_type": "execute_result",
          "data": {
            "text/plain": [
              "(15, 9)"
            ]
          },
          "metadata": {},
          "execution_count": 3
        }
      ]
    },
    {
      "cell_type": "code",
      "metadata": {
        "id": "CLJu-27mDUDf",
        "colab": {
          "base_uri": "https://localhost:8080/",
          "height": 341
        },
        "outputId": "66debd3a-a082-4768-8c01-39a26e9070ed"
      },
      "source": [
        "# Separamos las variables independientes (x).\n",
        "x = df.drop(['Name', 'Class Label'], axis=1)\n",
        "\n",
        "# Mostramos la matriz transpuesta (x.T), porque nos permite visualizar usando menos espacio en este caso.\n",
        "x.T"
      ],
      "execution_count": 4,
      "outputs": [
        {
          "output_type": "execute_result",
          "data": {
            "text/html": [
              "<div>\n",
              "<style scoped>\n",
              "    .dataframe tbody tr th:only-of-type {\n",
              "        vertical-align: middle;\n",
              "    }\n",
              "\n",
              "    .dataframe tbody tr th {\n",
              "        vertical-align: top;\n",
              "    }\n",
              "\n",
              "    .dataframe thead th {\n",
              "        text-align: right;\n",
              "    }\n",
              "</style>\n",
              "<table border=\"1\" class=\"dataframe\">\n",
              "  <thead>\n",
              "    <tr style=\"text-align: right;\">\n",
              "      <th></th>\n",
              "      <th>0</th>\n",
              "      <th>1</th>\n",
              "      <th>2</th>\n",
              "      <th>3</th>\n",
              "      <th>4</th>\n",
              "      <th>5</th>\n",
              "      <th>6</th>\n",
              "      <th>7</th>\n",
              "      <th>8</th>\n",
              "      <th>9</th>\n",
              "      <th>10</th>\n",
              "      <th>11</th>\n",
              "      <th>12</th>\n",
              "      <th>13</th>\n",
              "      <th>14</th>\n",
              "    </tr>\n",
              "  </thead>\n",
              "  <tbody>\n",
              "    <tr>\n",
              "      <th>Body Temperature</th>\n",
              "      <td>warm-blooded</td>\n",
              "      <td>cold-blooded</td>\n",
              "      <td>cold-blooded</td>\n",
              "      <td>warm-blooded</td>\n",
              "      <td>cold-blooded</td>\n",
              "      <td>cold-blooded</td>\n",
              "      <td>warm-blooded</td>\n",
              "      <td>warm-blooded</td>\n",
              "      <td>warm-blooded</td>\n",
              "      <td>cold-blooded</td>\n",
              "      <td>cold-blooded</td>\n",
              "      <td>warm-blooded</td>\n",
              "      <td>warm-blooded</td>\n",
              "      <td>cold-blooded</td>\n",
              "      <td>cold-blooded</td>\n",
              "    </tr>\n",
              "    <tr>\n",
              "      <th>Skin Cover</th>\n",
              "      <td>hair</td>\n",
              "      <td>scales</td>\n",
              "      <td>scales</td>\n",
              "      <td>hair</td>\n",
              "      <td>none</td>\n",
              "      <td>scales</td>\n",
              "      <td>hair</td>\n",
              "      <td>feathers</td>\n",
              "      <td>fur</td>\n",
              "      <td>scales</td>\n",
              "      <td>scales</td>\n",
              "      <td>feathers</td>\n",
              "      <td>quills</td>\n",
              "      <td>scales</td>\n",
              "      <td>none</td>\n",
              "    </tr>\n",
              "    <tr>\n",
              "      <th>Gives Birth</th>\n",
              "      <td>yes</td>\n",
              "      <td>no</td>\n",
              "      <td>no</td>\n",
              "      <td>yes</td>\n",
              "      <td>no</td>\n",
              "      <td>no</td>\n",
              "      <td>yes</td>\n",
              "      <td>no</td>\n",
              "      <td>yes</td>\n",
              "      <td>yes</td>\n",
              "      <td>no</td>\n",
              "      <td>no</td>\n",
              "      <td>yes</td>\n",
              "      <td>no</td>\n",
              "      <td>no</td>\n",
              "    </tr>\n",
              "    <tr>\n",
              "      <th>Aquatic Creature</th>\n",
              "      <td>no</td>\n",
              "      <td>no</td>\n",
              "      <td>yes</td>\n",
              "      <td>yes</td>\n",
              "      <td>semi</td>\n",
              "      <td>no</td>\n",
              "      <td>no</td>\n",
              "      <td>no</td>\n",
              "      <td>no</td>\n",
              "      <td>yes</td>\n",
              "      <td>semi</td>\n",
              "      <td>semi</td>\n",
              "      <td>no</td>\n",
              "      <td>yes</td>\n",
              "      <td>semi</td>\n",
              "    </tr>\n",
              "    <tr>\n",
              "      <th>Aerial Creature</th>\n",
              "      <td>no</td>\n",
              "      <td>no</td>\n",
              "      <td>no</td>\n",
              "      <td>no</td>\n",
              "      <td>no</td>\n",
              "      <td>no</td>\n",
              "      <td>yes</td>\n",
              "      <td>yes</td>\n",
              "      <td>no</td>\n",
              "      <td>no</td>\n",
              "      <td>no</td>\n",
              "      <td>no</td>\n",
              "      <td>no</td>\n",
              "      <td>no</td>\n",
              "      <td>no</td>\n",
              "    </tr>\n",
              "    <tr>\n",
              "      <th>Has Legs</th>\n",
              "      <td>yes</td>\n",
              "      <td>no</td>\n",
              "      <td>no</td>\n",
              "      <td>no</td>\n",
              "      <td>yes</td>\n",
              "      <td>yes</td>\n",
              "      <td>yes</td>\n",
              "      <td>yes</td>\n",
              "      <td>yes</td>\n",
              "      <td>no</td>\n",
              "      <td>yes</td>\n",
              "      <td>yes</td>\n",
              "      <td>yes</td>\n",
              "      <td>no</td>\n",
              "      <td>yes</td>\n",
              "    </tr>\n",
              "    <tr>\n",
              "      <th>Hibernates</th>\n",
              "      <td>no</td>\n",
              "      <td>yes</td>\n",
              "      <td>no</td>\n",
              "      <td>no</td>\n",
              "      <td>yes</td>\n",
              "      <td>no</td>\n",
              "      <td>yes</td>\n",
              "      <td>no</td>\n",
              "      <td>no</td>\n",
              "      <td>no</td>\n",
              "      <td>no</td>\n",
              "      <td>no</td>\n",
              "      <td>yes</td>\n",
              "      <td>no</td>\n",
              "      <td>yes</td>\n",
              "    </tr>\n",
              "  </tbody>\n",
              "</table>\n",
              "</div>"
            ],
            "text/plain": [
              "                            0             1   ...            13            14\n",
              "Body Temperature  warm-blooded  cold-blooded  ...  cold-blooded  cold-blooded\n",
              "Skin Cover                hair        scales  ...        scales          none\n",
              "Gives Birth                yes            no  ...            no            no\n",
              "Aquatic Creature            no            no  ...           yes          semi\n",
              "Aerial Creature             no            no  ...            no            no\n",
              "Has Legs                   yes            no  ...            no           yes\n",
              "Hibernates                  no           yes  ...            no           yes\n",
              "\n",
              "[7 rows x 15 columns]"
            ]
          },
          "metadata": {},
          "execution_count": 4
        }
      ]
    },
    {
      "cell_type": "code",
      "metadata": {
        "id": "2723R1WpDUDk",
        "colab": {
          "base_uri": "https://localhost:8080/"
        },
        "outputId": "a367297e-4fe2-49b7-f833-90ddf030beae"
      },
      "source": [
        "# Separamos las variables dependientes (y).\n",
        "y = df['Class Label']\n",
        "y"
      ],
      "execution_count": 5,
      "outputs": [
        {
          "output_type": "execute_result",
          "data": {
            "text/plain": [
              "0        mammal\n",
              "1       reptile\n",
              "2          fish\n",
              "3        mammal\n",
              "4     amphibian\n",
              "5       reptile\n",
              "6        mammal\n",
              "7          bird\n",
              "8        mammal\n",
              "9          fish\n",
              "10      reptile\n",
              "11         bird\n",
              "12       mammal\n",
              "13         fish\n",
              "14    amphibian\n",
              "Name: Class Label, dtype: object"
            ]
          },
          "metadata": {},
          "execution_count": 5
        }
      ]
    },
    {
      "cell_type": "markdown",
      "metadata": {
        "id": "EveFNn0yDUDs"
      },
      "source": [
        "Dado que necesitamos que la data este en formato númerico, aplicamos el metodo de pandas **pd.get_dummies**, para convertir las variables categóricas en columnas con indicadores binarios:\n",
        "\n",
        "![](images/dummies.png)"
      ]
    },
    {
      "cell_type": "code",
      "metadata": {
        "scrolled": false,
        "id": "d-zL9TEdDUDt",
        "colab": {
          "base_uri": "https://localhost:8080/",
          "height": 645
        },
        "outputId": "81e3486f-4423-44e4-90f4-f6a6f4ed4b4e"
      },
      "source": [
        "x = pd.get_dummies(x)\n",
        "x.T"
      ],
      "execution_count": 6,
      "outputs": [
        {
          "output_type": "execute_result",
          "data": {
            "text/html": [
              "<div>\n",
              "<style scoped>\n",
              "    .dataframe tbody tr th:only-of-type {\n",
              "        vertical-align: middle;\n",
              "    }\n",
              "\n",
              "    .dataframe tbody tr th {\n",
              "        vertical-align: top;\n",
              "    }\n",
              "\n",
              "    .dataframe thead th {\n",
              "        text-align: right;\n",
              "    }\n",
              "</style>\n",
              "<table border=\"1\" class=\"dataframe\">\n",
              "  <thead>\n",
              "    <tr style=\"text-align: right;\">\n",
              "      <th></th>\n",
              "      <th>0</th>\n",
              "      <th>1</th>\n",
              "      <th>2</th>\n",
              "      <th>3</th>\n",
              "      <th>4</th>\n",
              "      <th>5</th>\n",
              "      <th>6</th>\n",
              "      <th>7</th>\n",
              "      <th>8</th>\n",
              "      <th>9</th>\n",
              "      <th>10</th>\n",
              "      <th>11</th>\n",
              "      <th>12</th>\n",
              "      <th>13</th>\n",
              "      <th>14</th>\n",
              "    </tr>\n",
              "  </thead>\n",
              "  <tbody>\n",
              "    <tr>\n",
              "      <th>Body Temperature_cold-blooded</th>\n",
              "      <td>0</td>\n",
              "      <td>1</td>\n",
              "      <td>1</td>\n",
              "      <td>0</td>\n",
              "      <td>1</td>\n",
              "      <td>1</td>\n",
              "      <td>0</td>\n",
              "      <td>0</td>\n",
              "      <td>0</td>\n",
              "      <td>1</td>\n",
              "      <td>1</td>\n",
              "      <td>0</td>\n",
              "      <td>0</td>\n",
              "      <td>1</td>\n",
              "      <td>1</td>\n",
              "    </tr>\n",
              "    <tr>\n",
              "      <th>Body Temperature_warm-blooded</th>\n",
              "      <td>1</td>\n",
              "      <td>0</td>\n",
              "      <td>0</td>\n",
              "      <td>1</td>\n",
              "      <td>0</td>\n",
              "      <td>0</td>\n",
              "      <td>1</td>\n",
              "      <td>1</td>\n",
              "      <td>1</td>\n",
              "      <td>0</td>\n",
              "      <td>0</td>\n",
              "      <td>1</td>\n",
              "      <td>1</td>\n",
              "      <td>0</td>\n",
              "      <td>0</td>\n",
              "    </tr>\n",
              "    <tr>\n",
              "      <th>Skin Cover_feathers</th>\n",
              "      <td>0</td>\n",
              "      <td>0</td>\n",
              "      <td>0</td>\n",
              "      <td>0</td>\n",
              "      <td>0</td>\n",
              "      <td>0</td>\n",
              "      <td>0</td>\n",
              "      <td>1</td>\n",
              "      <td>0</td>\n",
              "      <td>0</td>\n",
              "      <td>0</td>\n",
              "      <td>1</td>\n",
              "      <td>0</td>\n",
              "      <td>0</td>\n",
              "      <td>0</td>\n",
              "    </tr>\n",
              "    <tr>\n",
              "      <th>Skin Cover_fur</th>\n",
              "      <td>0</td>\n",
              "      <td>0</td>\n",
              "      <td>0</td>\n",
              "      <td>0</td>\n",
              "      <td>0</td>\n",
              "      <td>0</td>\n",
              "      <td>0</td>\n",
              "      <td>0</td>\n",
              "      <td>1</td>\n",
              "      <td>0</td>\n",
              "      <td>0</td>\n",
              "      <td>0</td>\n",
              "      <td>0</td>\n",
              "      <td>0</td>\n",
              "      <td>0</td>\n",
              "    </tr>\n",
              "    <tr>\n",
              "      <th>Skin Cover_hair</th>\n",
              "      <td>1</td>\n",
              "      <td>0</td>\n",
              "      <td>0</td>\n",
              "      <td>1</td>\n",
              "      <td>0</td>\n",
              "      <td>0</td>\n",
              "      <td>1</td>\n",
              "      <td>0</td>\n",
              "      <td>0</td>\n",
              "      <td>0</td>\n",
              "      <td>0</td>\n",
              "      <td>0</td>\n",
              "      <td>0</td>\n",
              "      <td>0</td>\n",
              "      <td>0</td>\n",
              "    </tr>\n",
              "    <tr>\n",
              "      <th>Skin Cover_none</th>\n",
              "      <td>0</td>\n",
              "      <td>0</td>\n",
              "      <td>0</td>\n",
              "      <td>0</td>\n",
              "      <td>1</td>\n",
              "      <td>0</td>\n",
              "      <td>0</td>\n",
              "      <td>0</td>\n",
              "      <td>0</td>\n",
              "      <td>0</td>\n",
              "      <td>0</td>\n",
              "      <td>0</td>\n",
              "      <td>0</td>\n",
              "      <td>0</td>\n",
              "      <td>1</td>\n",
              "    </tr>\n",
              "    <tr>\n",
              "      <th>Skin Cover_quills</th>\n",
              "      <td>0</td>\n",
              "      <td>0</td>\n",
              "      <td>0</td>\n",
              "      <td>0</td>\n",
              "      <td>0</td>\n",
              "      <td>0</td>\n",
              "      <td>0</td>\n",
              "      <td>0</td>\n",
              "      <td>0</td>\n",
              "      <td>0</td>\n",
              "      <td>0</td>\n",
              "      <td>0</td>\n",
              "      <td>1</td>\n",
              "      <td>0</td>\n",
              "      <td>0</td>\n",
              "    </tr>\n",
              "    <tr>\n",
              "      <th>Skin Cover_scales</th>\n",
              "      <td>0</td>\n",
              "      <td>1</td>\n",
              "      <td>1</td>\n",
              "      <td>0</td>\n",
              "      <td>0</td>\n",
              "      <td>1</td>\n",
              "      <td>0</td>\n",
              "      <td>0</td>\n",
              "      <td>0</td>\n",
              "      <td>1</td>\n",
              "      <td>1</td>\n",
              "      <td>0</td>\n",
              "      <td>0</td>\n",
              "      <td>1</td>\n",
              "      <td>0</td>\n",
              "    </tr>\n",
              "    <tr>\n",
              "      <th>Gives Birth_no</th>\n",
              "      <td>0</td>\n",
              "      <td>1</td>\n",
              "      <td>1</td>\n",
              "      <td>0</td>\n",
              "      <td>1</td>\n",
              "      <td>1</td>\n",
              "      <td>0</td>\n",
              "      <td>1</td>\n",
              "      <td>0</td>\n",
              "      <td>0</td>\n",
              "      <td>1</td>\n",
              "      <td>1</td>\n",
              "      <td>0</td>\n",
              "      <td>1</td>\n",
              "      <td>1</td>\n",
              "    </tr>\n",
              "    <tr>\n",
              "      <th>Gives Birth_yes</th>\n",
              "      <td>1</td>\n",
              "      <td>0</td>\n",
              "      <td>0</td>\n",
              "      <td>1</td>\n",
              "      <td>0</td>\n",
              "      <td>0</td>\n",
              "      <td>1</td>\n",
              "      <td>0</td>\n",
              "      <td>1</td>\n",
              "      <td>1</td>\n",
              "      <td>0</td>\n",
              "      <td>0</td>\n",
              "      <td>1</td>\n",
              "      <td>0</td>\n",
              "      <td>0</td>\n",
              "    </tr>\n",
              "    <tr>\n",
              "      <th>Aquatic Creature_no</th>\n",
              "      <td>1</td>\n",
              "      <td>1</td>\n",
              "      <td>0</td>\n",
              "      <td>0</td>\n",
              "      <td>0</td>\n",
              "      <td>1</td>\n",
              "      <td>1</td>\n",
              "      <td>1</td>\n",
              "      <td>1</td>\n",
              "      <td>0</td>\n",
              "      <td>0</td>\n",
              "      <td>0</td>\n",
              "      <td>1</td>\n",
              "      <td>0</td>\n",
              "      <td>0</td>\n",
              "    </tr>\n",
              "    <tr>\n",
              "      <th>Aquatic Creature_semi</th>\n",
              "      <td>0</td>\n",
              "      <td>0</td>\n",
              "      <td>0</td>\n",
              "      <td>0</td>\n",
              "      <td>1</td>\n",
              "      <td>0</td>\n",
              "      <td>0</td>\n",
              "      <td>0</td>\n",
              "      <td>0</td>\n",
              "      <td>0</td>\n",
              "      <td>1</td>\n",
              "      <td>1</td>\n",
              "      <td>0</td>\n",
              "      <td>0</td>\n",
              "      <td>1</td>\n",
              "    </tr>\n",
              "    <tr>\n",
              "      <th>Aquatic Creature_yes</th>\n",
              "      <td>0</td>\n",
              "      <td>0</td>\n",
              "      <td>1</td>\n",
              "      <td>1</td>\n",
              "      <td>0</td>\n",
              "      <td>0</td>\n",
              "      <td>0</td>\n",
              "      <td>0</td>\n",
              "      <td>0</td>\n",
              "      <td>1</td>\n",
              "      <td>0</td>\n",
              "      <td>0</td>\n",
              "      <td>0</td>\n",
              "      <td>1</td>\n",
              "      <td>0</td>\n",
              "    </tr>\n",
              "    <tr>\n",
              "      <th>Aerial Creature_no</th>\n",
              "      <td>1</td>\n",
              "      <td>1</td>\n",
              "      <td>1</td>\n",
              "      <td>1</td>\n",
              "      <td>1</td>\n",
              "      <td>1</td>\n",
              "      <td>0</td>\n",
              "      <td>0</td>\n",
              "      <td>1</td>\n",
              "      <td>1</td>\n",
              "      <td>1</td>\n",
              "      <td>1</td>\n",
              "      <td>1</td>\n",
              "      <td>1</td>\n",
              "      <td>1</td>\n",
              "    </tr>\n",
              "    <tr>\n",
              "      <th>Aerial Creature_yes</th>\n",
              "      <td>0</td>\n",
              "      <td>0</td>\n",
              "      <td>0</td>\n",
              "      <td>0</td>\n",
              "      <td>0</td>\n",
              "      <td>0</td>\n",
              "      <td>1</td>\n",
              "      <td>1</td>\n",
              "      <td>0</td>\n",
              "      <td>0</td>\n",
              "      <td>0</td>\n",
              "      <td>0</td>\n",
              "      <td>0</td>\n",
              "      <td>0</td>\n",
              "      <td>0</td>\n",
              "    </tr>\n",
              "    <tr>\n",
              "      <th>Has Legs_no</th>\n",
              "      <td>0</td>\n",
              "      <td>1</td>\n",
              "      <td>1</td>\n",
              "      <td>1</td>\n",
              "      <td>0</td>\n",
              "      <td>0</td>\n",
              "      <td>0</td>\n",
              "      <td>0</td>\n",
              "      <td>0</td>\n",
              "      <td>1</td>\n",
              "      <td>0</td>\n",
              "      <td>0</td>\n",
              "      <td>0</td>\n",
              "      <td>1</td>\n",
              "      <td>0</td>\n",
              "    </tr>\n",
              "    <tr>\n",
              "      <th>Has Legs_yes</th>\n",
              "      <td>1</td>\n",
              "      <td>0</td>\n",
              "      <td>0</td>\n",
              "      <td>0</td>\n",
              "      <td>1</td>\n",
              "      <td>1</td>\n",
              "      <td>1</td>\n",
              "      <td>1</td>\n",
              "      <td>1</td>\n",
              "      <td>0</td>\n",
              "      <td>1</td>\n",
              "      <td>1</td>\n",
              "      <td>1</td>\n",
              "      <td>0</td>\n",
              "      <td>1</td>\n",
              "    </tr>\n",
              "    <tr>\n",
              "      <th>Hibernates_no</th>\n",
              "      <td>1</td>\n",
              "      <td>0</td>\n",
              "      <td>1</td>\n",
              "      <td>1</td>\n",
              "      <td>0</td>\n",
              "      <td>1</td>\n",
              "      <td>0</td>\n",
              "      <td>1</td>\n",
              "      <td>1</td>\n",
              "      <td>1</td>\n",
              "      <td>1</td>\n",
              "      <td>1</td>\n",
              "      <td>0</td>\n",
              "      <td>1</td>\n",
              "      <td>0</td>\n",
              "    </tr>\n",
              "    <tr>\n",
              "      <th>Hibernates_yes</th>\n",
              "      <td>0</td>\n",
              "      <td>1</td>\n",
              "      <td>0</td>\n",
              "      <td>0</td>\n",
              "      <td>1</td>\n",
              "      <td>0</td>\n",
              "      <td>1</td>\n",
              "      <td>0</td>\n",
              "      <td>0</td>\n",
              "      <td>0</td>\n",
              "      <td>0</td>\n",
              "      <td>0</td>\n",
              "      <td>1</td>\n",
              "      <td>0</td>\n",
              "      <td>1</td>\n",
              "    </tr>\n",
              "  </tbody>\n",
              "</table>\n",
              "</div>"
            ],
            "text/plain": [
              "                               0   1   2   3   4   5   ...  9   10  11  12  13  14\n",
              "Body Temperature_cold-blooded   0   1   1   0   1   1  ...   1   1   0   0   1   1\n",
              "Body Temperature_warm-blooded   1   0   0   1   0   0  ...   0   0   1   1   0   0\n",
              "Skin Cover_feathers             0   0   0   0   0   0  ...   0   0   1   0   0   0\n",
              "Skin Cover_fur                  0   0   0   0   0   0  ...   0   0   0   0   0   0\n",
              "Skin Cover_hair                 1   0   0   1   0   0  ...   0   0   0   0   0   0\n",
              "Skin Cover_none                 0   0   0   0   1   0  ...   0   0   0   0   0   1\n",
              "Skin Cover_quills               0   0   0   0   0   0  ...   0   0   0   1   0   0\n",
              "Skin Cover_scales               0   1   1   0   0   1  ...   1   1   0   0   1   0\n",
              "Gives Birth_no                  0   1   1   0   1   1  ...   0   1   1   0   1   1\n",
              "Gives Birth_yes                 1   0   0   1   0   0  ...   1   0   0   1   0   0\n",
              "Aquatic Creature_no             1   1   0   0   0   1  ...   0   0   0   1   0   0\n",
              "Aquatic Creature_semi           0   0   0   0   1   0  ...   0   1   1   0   0   1\n",
              "Aquatic Creature_yes            0   0   1   1   0   0  ...   1   0   0   0   1   0\n",
              "Aerial Creature_no              1   1   1   1   1   1  ...   1   1   1   1   1   1\n",
              "Aerial Creature_yes             0   0   0   0   0   0  ...   0   0   0   0   0   0\n",
              "Has Legs_no                     0   1   1   1   0   0  ...   1   0   0   0   1   0\n",
              "Has Legs_yes                    1   0   0   0   1   1  ...   0   1   1   1   0   1\n",
              "Hibernates_no                   1   0   1   1   0   1  ...   1   1   1   0   1   0\n",
              "Hibernates_yes                  0   1   0   0   1   0  ...   0   0   0   1   0   1\n",
              "\n",
              "[19 rows x 15 columns]"
            ]
          },
          "metadata": {},
          "execution_count": 6
        }
      ]
    },
    {
      "cell_type": "markdown",
      "metadata": {
        "id": "GWQaSg07DUDx"
      },
      "source": [
        "## Usar scikit-learn para entrenar un árbol de decisión"
      ]
    },
    {
      "cell_type": "markdown",
      "metadata": {
        "id": "qB8qtYkzDUDy"
      },
      "source": [
        "La librería [scikit-learn](http://scikit-learn.org) ofrece un conjunto de utilidades y funciones para aplicar los algoritmos más conocidos de  machine learning. En su [documentación](http://scikit-learn.org/stable/documentation.html) se encuentran tutoriales y guías de usuario bien detalladas.\n",
        "\n",
        "Vamos a crear un modelo de árbol de decisión usando la clase **DecisionTreeClassifier**.\n",
        "\n",
        "Luego usando el método **fit** del modelo, vamos a entrenar el árbol."
      ]
    },
    {
      "cell_type": "code",
      "metadata": {
        "id": "2o1dS6REDUDz",
        "colab": {
          "base_uri": "https://localhost:8080/"
        },
        "outputId": "a3928002-e663-4a0b-bf93-b80a5bba13b0"
      },
      "source": [
        "from sklearn.tree import DecisionTreeClassifier\n",
        "\n",
        "m = DecisionTreeClassifier()\n",
        "m.fit(x, y)"
      ],
      "execution_count": 7,
      "outputs": [
        {
          "output_type": "execute_result",
          "data": {
            "text/plain": [
              "DecisionTreeClassifier(ccp_alpha=0.0, class_weight=None, criterion='gini',\n",
              "                       max_depth=None, max_features=None, max_leaf_nodes=None,\n",
              "                       min_impurity_decrease=0.0, min_impurity_split=None,\n",
              "                       min_samples_leaf=1, min_samples_split=2,\n",
              "                       min_weight_fraction_leaf=0.0, presort='deprecated',\n",
              "                       random_state=None, splitter='best')"
            ]
          },
          "metadata": {},
          "execution_count": 7
        }
      ]
    },
    {
      "cell_type": "code",
      "metadata": {
        "id": "01Eqa_aADUD7",
        "colab": {
          "base_uri": "https://localhost:8080/"
        },
        "outputId": "fecf6a43-c26d-41f1-b681-c46f2e353ef6"
      },
      "source": [
        "# accuracy\n",
        "m.score(x, y)"
      ],
      "execution_count": 8,
      "outputs": [
        {
          "output_type": "execute_result",
          "data": {
            "text/plain": [
              "1.0"
            ]
          },
          "metadata": {},
          "execution_count": 8
        }
      ]
    },
    {
      "cell_type": "markdown",
      "metadata": {
        "id": "0R4bmQt-DUD_"
      },
      "source": [
        "## Visualicemos el árbol"
      ]
    },
    {
      "cell_type": "code",
      "metadata": {
        "id": "D9JiYk-tDUEB",
        "colab": {
          "base_uri": "https://localhost:8080/",
          "height": 539
        },
        "outputId": "f2eb67f4-357d-4d2c-f88c-32ccbe6f5fc9"
      },
      "source": [
        "utils.draw_tree(m, x)"
      ],
      "execution_count": 9,
      "outputs": [
        {
          "output_type": "execute_result",
          "data": {
            "text/plain": [
              "<graphviz.files.Source at 0x7fc11cedac50>"
            ],
            "image/svg+xml": "<?xml version=\"1.0\" encoding=\"UTF-8\" standalone=\"no\"?>\n<!DOCTYPE svg PUBLIC \"-//W3C//DTD SVG 1.1//EN\"\n \"http://www.w3.org/Graphics/SVG/1.1/DTD/svg11.dtd\">\n<!-- Generated by graphviz version 2.40.1 (20161225.0304)\n -->\n<!-- Title: Tree Pages: 1 -->\n<svg width=\"727pt\" height=\"373pt\"\n viewBox=\"0.00 0.00 727.00 373.00\" xmlns=\"http://www.w3.org/2000/svg\" xmlns:xlink=\"http://www.w3.org/1999/xlink\">\n<g id=\"graph0\" class=\"graph\" transform=\"scale(1 1) rotate(0) translate(4 369)\">\n<title>Tree</title>\n<polygon fill=\"#ffffff\" stroke=\"transparent\" points=\"-4,4 -4,-369 723,-369 723,4 -4,4\"/>\n<!-- 0 -->\n<g id=\"node1\" class=\"node\">\n<title>0</title>\n<polygon fill=\"#dedefb\" stroke=\"#000000\" points=\"534,-365 276,-365 276,-297 534,-297 534,-365\"/>\n<text text-anchor=\"middle\" x=\"405\" y=\"-349.8\" font-family=\"Times,serif\" font-size=\"14.00\" fill=\"#000000\">Body Temperature_warm&#45;blooded &lt;= 0.5</text>\n<text text-anchor=\"middle\" x=\"405\" y=\"-334.8\" font-family=\"Times,serif\" font-size=\"14.00\" fill=\"#000000\">gini = 0.773</text>\n<text text-anchor=\"middle\" x=\"405\" y=\"-319.8\" font-family=\"Times,serif\" font-size=\"14.00\" fill=\"#000000\">samples = 15</text>\n<text text-anchor=\"middle\" x=\"405\" y=\"-304.8\" font-family=\"Times,serif\" font-size=\"14.00\" fill=\"#000000\">value = [2, 2, 3, 5, 3]</text>\n</g>\n<!-- 1 -->\n<g id=\"node2\" class=\"node\">\n<title>1</title>\n<polygon fill=\"#ffffff\" stroke=\"#000000\" points=\"404,-261 222,-261 222,-193 404,-193 404,-261\"/>\n<text text-anchor=\"middle\" x=\"313\" y=\"-245.8\" font-family=\"Times,serif\" font-size=\"14.00\" fill=\"#000000\">Aquatic Creature_yes &lt;= 0.5</text>\n<text text-anchor=\"middle\" x=\"313\" y=\"-230.8\" font-family=\"Times,serif\" font-size=\"14.00\" fill=\"#000000\">gini = 0.656</text>\n<text text-anchor=\"middle\" x=\"313\" y=\"-215.8\" font-family=\"Times,serif\" font-size=\"14.00\" fill=\"#000000\">samples = 8</text>\n<text text-anchor=\"middle\" x=\"313\" y=\"-200.8\" font-family=\"Times,serif\" font-size=\"14.00\" fill=\"#000000\">value = [2, 0, 3, 0, 3]</text>\n</g>\n<!-- 0&#45;&gt;1 -->\n<g id=\"edge1\" class=\"edge\">\n<title>0&#45;&gt;1</title>\n<path fill=\"none\" stroke=\"#000000\" d=\"M374.8758,-296.9465C366.9332,-287.968 358.2709,-278.1758 350.011,-268.8385\"/>\n<polygon fill=\"#000000\" stroke=\"#000000\" points=\"352.4392,-266.301 343.1919,-261.13 347.1962,-270.939 352.4392,-266.301\"/>\n<text text-anchor=\"middle\" x=\"341.6642\" y=\"-282.3833\" font-family=\"Times,serif\" font-size=\"14.00\" fill=\"#000000\">True</text>\n</g>\n<!-- 6 -->\n<g id=\"node7\" class=\"node\">\n<title>6</title>\n<polygon fill=\"#8a88ef\" stroke=\"#000000\" points=\"574,-261 422,-261 422,-193 574,-193 574,-261\"/>\n<text text-anchor=\"middle\" x=\"498\" y=\"-245.8\" font-family=\"Times,serif\" font-size=\"14.00\" fill=\"#000000\">Gives Birth_yes &lt;= 0.5</text>\n<text text-anchor=\"middle\" x=\"498\" y=\"-230.8\" font-family=\"Times,serif\" font-size=\"14.00\" fill=\"#000000\">gini = 0.408</text>\n<text text-anchor=\"middle\" x=\"498\" y=\"-215.8\" font-family=\"Times,serif\" font-size=\"14.00\" fill=\"#000000\">samples = 7</text>\n<text text-anchor=\"middle\" x=\"498\" y=\"-200.8\" font-family=\"Times,serif\" font-size=\"14.00\" fill=\"#000000\">value = [0, 2, 0, 5, 0]</text>\n</g>\n<!-- 0&#45;&gt;6 -->\n<g id=\"edge6\" class=\"edge\">\n<title>0&#45;&gt;6</title>\n<path fill=\"none\" stroke=\"#000000\" d=\"M435.4517,-296.9465C443.4806,-287.968 452.237,-278.1758 460.5867,-268.8385\"/>\n<polygon fill=\"#000000\" stroke=\"#000000\" points=\"463.423,-270.9174 467.4799,-261.13 458.205,-266.2512 463.423,-270.9174\"/>\n<text text-anchor=\"middle\" x=\"468.8737\" y=\"-282.3911\" font-family=\"Times,serif\" font-size=\"14.00\" fill=\"#000000\">False</text>\n</g>\n<!-- 2 -->\n<g id=\"node3\" class=\"node\">\n<title>2</title>\n<polygon fill=\"#f6bdea\" stroke=\"#000000\" points=\"231.5,-157 66.5,-157 66.5,-89 231.5,-89 231.5,-157\"/>\n<text text-anchor=\"middle\" x=\"149\" y=\"-141.8\" font-family=\"Times,serif\" font-size=\"14.00\" fill=\"#000000\">Skin Cover_scales &lt;= 0.5</text>\n<text text-anchor=\"middle\" x=\"149\" y=\"-126.8\" font-family=\"Times,serif\" font-size=\"14.00\" fill=\"#000000\">gini = 0.48</text>\n<text text-anchor=\"middle\" x=\"149\" y=\"-111.8\" font-family=\"Times,serif\" font-size=\"14.00\" fill=\"#000000\">samples = 5</text>\n<text text-anchor=\"middle\" x=\"149\" y=\"-96.8\" font-family=\"Times,serif\" font-size=\"14.00\" fill=\"#000000\">value = [2, 0, 0, 0, 3]</text>\n</g>\n<!-- 1&#45;&gt;2 -->\n<g id=\"edge2\" class=\"edge\">\n<title>1&#45;&gt;2</title>\n<path fill=\"none\" stroke=\"#000000\" d=\"M259.3003,-192.9465C244.0091,-183.2497 227.2215,-172.6039 211.4571,-162.6069\"/>\n<polygon fill=\"#000000\" stroke=\"#000000\" points=\"213.1399,-159.5297 202.8204,-157.13 209.3911,-165.4412 213.1399,-159.5297\"/>\n</g>\n<!-- 5 -->\n<g id=\"node6\" class=\"node\">\n<title>5</title>\n<polygon fill=\"#39e5c5\" stroke=\"#000000\" points=\"390,-149.5 250,-149.5 250,-96.5 390,-96.5 390,-149.5\"/>\n<text text-anchor=\"middle\" x=\"320\" y=\"-134.3\" font-family=\"Times,serif\" font-size=\"14.00\" fill=\"#000000\">gini = 0.0</text>\n<text text-anchor=\"middle\" x=\"320\" y=\"-119.3\" font-family=\"Times,serif\" font-size=\"14.00\" fill=\"#000000\">samples = 3</text>\n<text text-anchor=\"middle\" x=\"320\" y=\"-104.3\" font-family=\"Times,serif\" font-size=\"14.00\" fill=\"#000000\">value = [0, 0, 3, 0, 0]</text>\n</g>\n<!-- 1&#45;&gt;5 -->\n<g id=\"edge5\" class=\"edge\">\n<title>1&#45;&gt;5</title>\n<path fill=\"none\" stroke=\"#000000\" d=\"M315.2921,-192.9465C316.0112,-182.2621 316.8079,-170.4254 317.5383,-159.5742\"/>\n<polygon fill=\"#000000\" stroke=\"#000000\" points=\"321.034,-159.7547 318.2135,-149.5422 314.0498,-159.2845 321.034,-159.7547\"/>\n</g>\n<!-- 3 -->\n<g id=\"node4\" class=\"node\">\n<title>3</title>\n<polygon fill=\"#e58139\" stroke=\"#000000\" points=\"140,-53 0,-53 0,0 140,0 140,-53\"/>\n<text text-anchor=\"middle\" x=\"70\" y=\"-37.8\" font-family=\"Times,serif\" font-size=\"14.00\" fill=\"#000000\">gini = 0.0</text>\n<text text-anchor=\"middle\" x=\"70\" y=\"-22.8\" font-family=\"Times,serif\" font-size=\"14.00\" fill=\"#000000\">samples = 2</text>\n<text text-anchor=\"middle\" x=\"70\" y=\"-7.8\" font-family=\"Times,serif\" font-size=\"14.00\" fill=\"#000000\">value = [2, 0, 0, 0, 0]</text>\n</g>\n<!-- 2&#45;&gt;3 -->\n<g id=\"edge3\" class=\"edge\">\n<title>2&#45;&gt;3</title>\n<path fill=\"none\" stroke=\"#000000\" d=\"M121.1476,-88.9777C113.7261,-79.9123 105.7023,-70.111 98.2593,-61.0192\"/>\n<polygon fill=\"#000000\" stroke=\"#000000\" points=\"100.9405,-58.7692 91.8977,-53.2485 95.5241,-63.2034 100.9405,-58.7692\"/>\n</g>\n<!-- 4 -->\n<g id=\"node5\" class=\"node\">\n<title>4</title>\n<polygon fill=\"#e539c0\" stroke=\"#000000\" points=\"298,-53 158,-53 158,0 298,0 298,-53\"/>\n<text text-anchor=\"middle\" x=\"228\" y=\"-37.8\" font-family=\"Times,serif\" font-size=\"14.00\" fill=\"#000000\">gini = 0.0</text>\n<text text-anchor=\"middle\" x=\"228\" y=\"-22.8\" font-family=\"Times,serif\" font-size=\"14.00\" fill=\"#000000\">samples = 3</text>\n<text text-anchor=\"middle\" x=\"228\" y=\"-7.8\" font-family=\"Times,serif\" font-size=\"14.00\" fill=\"#000000\">value = [0, 0, 0, 0, 3]</text>\n</g>\n<!-- 2&#45;&gt;4 -->\n<g id=\"edge4\" class=\"edge\">\n<title>2&#45;&gt;4</title>\n<path fill=\"none\" stroke=\"#000000\" d=\"M176.8524,-88.9777C184.2739,-79.9123 192.2977,-70.111 199.7407,-61.0192\"/>\n<polygon fill=\"#000000\" stroke=\"#000000\" points=\"202.4759,-63.2034 206.1023,-53.2485 197.0595,-58.7692 202.4759,-63.2034\"/>\n</g>\n<!-- 7 -->\n<g id=\"node8\" class=\"node\">\n<title>7</title>\n<polygon fill=\"#7be539\" stroke=\"#000000\" points=\"561,-149.5 421,-149.5 421,-96.5 561,-96.5 561,-149.5\"/>\n<text text-anchor=\"middle\" x=\"491\" y=\"-134.3\" font-family=\"Times,serif\" font-size=\"14.00\" fill=\"#000000\">gini = 0.0</text>\n<text text-anchor=\"middle\" x=\"491\" y=\"-119.3\" font-family=\"Times,serif\" font-size=\"14.00\" fill=\"#000000\">samples = 2</text>\n<text text-anchor=\"middle\" x=\"491\" y=\"-104.3\" font-family=\"Times,serif\" font-size=\"14.00\" fill=\"#000000\">value = [0, 2, 0, 0, 0]</text>\n</g>\n<!-- 6&#45;&gt;7 -->\n<g id=\"edge7\" class=\"edge\">\n<title>6&#45;&gt;7</title>\n<path fill=\"none\" stroke=\"#000000\" d=\"M495.7079,-192.9465C494.9888,-182.2621 494.1921,-170.4254 493.4617,-159.5742\"/>\n<polygon fill=\"#000000\" stroke=\"#000000\" points=\"496.9502,-159.2845 492.7865,-149.5422 489.966,-159.7547 496.9502,-159.2845\"/>\n</g>\n<!-- 8 -->\n<g id=\"node9\" class=\"node\">\n<title>8</title>\n<polygon fill=\"#3c39e5\" stroke=\"#000000\" points=\"719,-149.5 579,-149.5 579,-96.5 719,-96.5 719,-149.5\"/>\n<text text-anchor=\"middle\" x=\"649\" y=\"-134.3\" font-family=\"Times,serif\" font-size=\"14.00\" fill=\"#000000\">gini = 0.0</text>\n<text text-anchor=\"middle\" x=\"649\" y=\"-119.3\" font-family=\"Times,serif\" font-size=\"14.00\" fill=\"#000000\">samples = 5</text>\n<text text-anchor=\"middle\" x=\"649\" y=\"-104.3\" font-family=\"Times,serif\" font-size=\"14.00\" fill=\"#000000\">value = [0, 0, 0, 5, 0]</text>\n</g>\n<!-- 6&#45;&gt;8 -->\n<g id=\"edge8\" class=\"edge\">\n<title>6&#45;&gt;8</title>\n<path fill=\"none\" stroke=\"#000000\" d=\"M547.443,-192.9465C565.0351,-180.8301 584.7785,-167.232 602.147,-155.2696\"/>\n<polygon fill=\"#000000\" stroke=\"#000000\" points=\"604.2125,-158.0969 610.4628,-149.5422 600.2419,-152.332 604.2125,-158.0969\"/>\n</g>\n</g>\n</svg>\n"
          },
          "metadata": {},
          "execution_count": 9
        }
      ]
    },
    {
      "cell_type": "code",
      "metadata": {
        "id": "Gu6tdtPQDUEE",
        "colab": {
          "base_uri": "https://localhost:8080/"
        },
        "outputId": "cddbd5e5-31a0-4371-903c-b34f7ad5c46c"
      },
      "source": [
        "m.classes_"
      ],
      "execution_count": 10,
      "outputs": [
        {
          "output_type": "execute_result",
          "data": {
            "text/plain": [
              "array(['amphibian', 'bird', 'fish', 'mammal', 'reptile'], dtype=object)"
            ]
          },
          "metadata": {},
          "execution_count": 10
        }
      ]
    },
    {
      "cell_type": "markdown",
      "metadata": {
        "id": "q3A7_BRcDUEJ"
      },
      "source": [
        "## Calculemos el gini inicial y de las primeras dos particiones"
      ]
    },
    {
      "cell_type": "code",
      "metadata": {
        "id": "HiSzoUpmDUEL",
        "colab": {
          "base_uri": "https://localhost:8080/"
        },
        "outputId": "ab3061be-4ee0-493d-ba1d-2654eb0976d8"
      },
      "source": [
        "y"
      ],
      "execution_count": 11,
      "outputs": [
        {
          "output_type": "execute_result",
          "data": {
            "text/plain": [
              "0        mammal\n",
              "1       reptile\n",
              "2          fish\n",
              "3        mammal\n",
              "4     amphibian\n",
              "5       reptile\n",
              "6        mammal\n",
              "7          bird\n",
              "8        mammal\n",
              "9          fish\n",
              "10      reptile\n",
              "11         bird\n",
              "12       mammal\n",
              "13         fish\n",
              "14    amphibian\n",
              "Name: Class Label, dtype: object"
            ]
          },
          "metadata": {},
          "execution_count": 11
        }
      ]
    },
    {
      "cell_type": "code",
      "metadata": {
        "id": "sbPdhImeDUEP",
        "colab": {
          "base_uri": "https://localhost:8080/"
        },
        "outputId": "36792782-3477-483e-b751-7c182f761007"
      },
      "source": [
        "y.value_counts()"
      ],
      "execution_count": 12,
      "outputs": [
        {
          "output_type": "execute_result",
          "data": {
            "text/plain": [
              "mammal       5\n",
              "fish         3\n",
              "reptile      3\n",
              "amphibian    2\n",
              "bird         2\n",
              "Name: Class Label, dtype: int64"
            ]
          },
          "metadata": {},
          "execution_count": 12
        }
      ]
    },
    {
      "cell_type": "code",
      "metadata": {
        "id": "aYwWzY0zDUEU",
        "colab": {
          "base_uri": "https://localhost:8080/"
        },
        "outputId": "71a8a574-9359-45cb-9820-9b2607d19dad"
      },
      "source": [
        "# \"len\" devuelve el tamaño de un array, en este caso el número de elementos en \"y\"\n",
        "len(y)"
      ],
      "execution_count": 13,
      "outputs": [
        {
          "output_type": "execute_result",
          "data": {
            "text/plain": [
              "15"
            ]
          },
          "metadata": {},
          "execution_count": 13
        }
      ]
    },
    {
      "cell_type": "markdown",
      "metadata": {
        "id": "w7cs183VDUEZ"
      },
      "source": [
        "$p_i$:"
      ]
    },
    {
      "cell_type": "code",
      "metadata": {
        "id": "-La9XFjQDUEe",
        "colab": {
          "base_uri": "https://localhost:8080/"
        },
        "outputId": "441aa964-9942-4cf2-8f82-79802129435c"
      },
      "source": [
        "y.value_counts() / len(y)"
      ],
      "execution_count": 14,
      "outputs": [
        {
          "output_type": "execute_result",
          "data": {
            "text/plain": [
              "mammal       0.333333\n",
              "fish         0.200000\n",
              "reptile      0.200000\n",
              "amphibian    0.133333\n",
              "bird         0.133333\n",
              "Name: Class Label, dtype: float64"
            ]
          },
          "metadata": {},
          "execution_count": 14
        }
      ]
    },
    {
      "cell_type": "markdown",
      "metadata": {
        "id": "Xs0fdBIhDUEh"
      },
      "source": [
        "$p_i^2$:"
      ]
    },
    {
      "cell_type": "code",
      "metadata": {
        "id": "gOiaDxNRDUEi",
        "colab": {
          "base_uri": "https://localhost:8080/"
        },
        "outputId": "1841a40c-a48e-4384-a79f-407c13fa0874"
      },
      "source": [
        "(y.value_counts() / len(y))**2"
      ],
      "execution_count": 15,
      "outputs": [
        {
          "output_type": "execute_result",
          "data": {
            "text/plain": [
              "mammal       0.111111\n",
              "fish         0.040000\n",
              "reptile      0.040000\n",
              "amphibian    0.017778\n",
              "bird         0.017778\n",
              "Name: Class Label, dtype: float64"
            ]
          },
          "metadata": {},
          "execution_count": 15
        }
      ]
    },
    {
      "cell_type": "markdown",
      "metadata": {
        "id": "NOJK2gThDUEl"
      },
      "source": [
        "$\\sum\\limits_i p_i^2$:"
      ]
    },
    {
      "cell_type": "code",
      "metadata": {
        "id": "wS_mU1akDUEn",
        "colab": {
          "base_uri": "https://localhost:8080/"
        },
        "outputId": "a2972a98-1172-4796-d595-fd3f759afaa9"
      },
      "source": [
        "((y.value_counts() / len(y))**2).sum()"
      ],
      "execution_count": 16,
      "outputs": [
        {
          "output_type": "execute_result",
          "data": {
            "text/plain": [
              "0.22666666666666668"
            ]
          },
          "metadata": {},
          "execution_count": 16
        }
      ]
    },
    {
      "cell_type": "markdown",
      "metadata": {
        "id": "FeWbtEHVDUEu"
      },
      "source": [
        "$I_G (p) = 1 - \\sum\\limits_i p_i^2$:"
      ]
    },
    {
      "cell_type": "code",
      "metadata": {
        "id": "DI1enVJ_DUEv",
        "colab": {
          "base_uri": "https://localhost:8080/"
        },
        "outputId": "cce5d96c-7888-4f2c-e590-9198de271beb"
      },
      "source": [
        "1 - ((y.value_counts() / len(y))**2).sum()"
      ],
      "execution_count": 17,
      "outputs": [
        {
          "output_type": "execute_result",
          "data": {
            "text/plain": [
              "0.7733333333333333"
            ]
          },
          "metadata": {},
          "execution_count": 17
        }
      ]
    },
    {
      "cell_type": "markdown",
      "metadata": {
        "id": "YzKAtKkhDUEz"
      },
      "source": [
        "**Pregunta 1**: La primera regla del árbol es **\"Body Temperature_warm-blooded <= 0.5\"**, esta separa la data en 2 conjuntos (los que cumplen la regla y los que no). Calcular el gini para cada conjuntos."
      ]
    },
    {
      "cell_type": "code",
      "metadata": {
        "id": "kBF_1dK_DUE1",
        "colab": {
          "base_uri": "https://localhost:8080/"
        },
        "outputId": "2f5e0e9e-b2a0-44f8-9bd7-1b05f885feec"
      },
      "source": [
        "mask = x['Body Temperature_warm-blooded'] <= 0.5\n",
        "mask"
      ],
      "execution_count": 18,
      "outputs": [
        {
          "output_type": "execute_result",
          "data": {
            "text/plain": [
              "0     False\n",
              "1      True\n",
              "2      True\n",
              "3     False\n",
              "4      True\n",
              "5      True\n",
              "6     False\n",
              "7     False\n",
              "8     False\n",
              "9      True\n",
              "10     True\n",
              "11    False\n",
              "12    False\n",
              "13     True\n",
              "14     True\n",
              "Name: Body Temperature_warm-blooded, dtype: bool"
            ]
          },
          "metadata": {},
          "execution_count": 18
        }
      ]
    },
    {
      "cell_type": "code",
      "metadata": {
        "id": "tPemia1HDUE4",
        "colab": {
          "base_uri": "https://localhost:8080/"
        },
        "outputId": "7a177fd8-3dfa-403c-e835-c2de3716f6a9"
      },
      "source": [
        "data_true = y[mask]\n",
        "data_true"
      ],
      "execution_count": 19,
      "outputs": [
        {
          "output_type": "execute_result",
          "data": {
            "text/plain": [
              "1       reptile\n",
              "2          fish\n",
              "4     amphibian\n",
              "5       reptile\n",
              "9          fish\n",
              "10      reptile\n",
              "13         fish\n",
              "14    amphibian\n",
              "Name: Class Label, dtype: object"
            ]
          },
          "metadata": {},
          "execution_count": 19
        }
      ]
    },
    {
      "cell_type": "code",
      "metadata": {
        "id": "63PH2UXzDUE8",
        "colab": {
          "base_uri": "https://localhost:8080/"
        },
        "outputId": "b9b8d77b-304e-4e5f-eaea-a85ae11f69ca"
      },
      "source": [
        "data_false = y[~mask]\n",
        "data_false"
      ],
      "execution_count": 20,
      "outputs": [
        {
          "output_type": "execute_result",
          "data": {
            "text/plain": [
              "0     mammal\n",
              "3     mammal\n",
              "6     mammal\n",
              "7       bird\n",
              "8     mammal\n",
              "11      bird\n",
              "12    mammal\n",
              "Name: Class Label, dtype: object"
            ]
          },
          "metadata": {},
          "execution_count": 20
        }
      ]
    },
    {
      "cell_type": "markdown",
      "metadata": {
        "id": "AHI_OM-DQvdo"
      },
      "source": [
        "**Calcular gini para data_true (debe salir ~0.656) y calcular gini para data_false (debe salir ~0.408)**"
      ]
    },
    {
      "cell_type": "code",
      "metadata": {
        "id": "MTPv58MhDUFA",
        "colab": {
          "base_uri": "https://localhost:8080/"
        },
        "outputId": "3dedbfb9-086e-4733-8b61-7a1edcb7ce54"
      },
      "source": [
        "# Calcular gini para data_true (debe salir ~0.656)\n",
        "1 - ((data_true.value_counts() / len(data_true))**2).sum()"
      ],
      "execution_count": 21,
      "outputs": [
        {
          "output_type": "execute_result",
          "data": {
            "text/plain": [
              "0.65625"
            ]
          },
          "metadata": {},
          "execution_count": 21
        }
      ]
    },
    {
      "cell_type": "code",
      "metadata": {
        "id": "34YFm8xsDUFE",
        "colab": {
          "base_uri": "https://localhost:8080/"
        },
        "outputId": "49cfcdf1-93b5-4ad3-810a-e2edbc49b768"
      },
      "source": [
        "# Calcular gini para data_false (debe salir ~0.408)\n",
        "1 - ((data_false.value_counts() / len(data_false))**2).sum()"
      ],
      "execution_count": 22,
      "outputs": [
        {
          "output_type": "execute_result",
          "data": {
            "text/plain": [
              "0.40816326530612246"
            ]
          },
          "metadata": {},
          "execution_count": 22
        }
      ]
    },
    {
      "cell_type": "markdown",
      "metadata": {
        "id": "kADlkb_qDUFG"
      },
      "source": [
        "# Análisis exploratorio"
      ]
    },
    {
      "cell_type": "markdown",
      "metadata": {
        "id": "lIVPFCdIDUFI"
      },
      "source": [
        "Titanic dataset: https://www.kaggle.com/c/titanic\n",
        "\n",
        "**Objetivo:**\n",
        "\n",
        "Es su trabajo predecir si un pasajero sobrevivió al hundimiento del Titanic o no.\n",
        "\n",
        "Para cada PassengerId en el conjunto de prueba, debe predecir un valor 0 o 1 para la variable Survived."
      ]
    },
    {
      "cell_type": "markdown",
      "metadata": {
        "id": "Qssm6Lj6DUFJ"
      },
      "source": [
        "Data description:\n",
        "\n",
        "<table><tbody>\n",
        "<tr><th><b>Variable</b></th><th><b>Definition</b></th><th><b>Key</b></th></tr>\n",
        "<tr>\n",
        "<td>survival</td>\n",
        "<td>Survival</td>\n",
        "<td>0 = No, 1 = Yes</td>\n",
        "</tr>\n",
        "<tr>\n",
        "<td>pclass</td>\n",
        "<td>Ticket class</td>\n",
        "<td>1 = 1st, 2 = 2nd, 3 = 3rd</td>\n",
        "</tr>\n",
        "<tr>\n",
        "<td>sex</td>\n",
        "<td>Sex</td>\n",
        "<td></td>\n",
        "</tr>\n",
        "<tr>\n",
        "<td>Age</td>\n",
        "<td>Age in years</td>\n",
        "<td></td>\n",
        "</tr>\n",
        "<tr>\n",
        "<td>sibsp</td>\n",
        "<td># of siblings / spouses aboard the Titanic</td>\n",
        "<td></td>\n",
        "</tr>\n",
        "<tr>\n",
        "<td>parch</td>\n",
        "<td># of parents / children aboard the Titanic</td>\n",
        "<td></td>\n",
        "</tr>\n",
        "<tr>\n",
        "<td>ticket</td>\n",
        "<td>Ticket number</td>\n",
        "<td></td>\n",
        "</tr>\n",
        "<tr>\n",
        "<td>fare</td>\n",
        "<td>Passenger fare</td>\n",
        "<td></td>\n",
        "</tr>\n",
        "<tr>\n",
        "<td>cabin</td>\n",
        "<td>Cabin number</td>\n",
        "<td></td>\n",
        "</tr>\n",
        "<tr>\n",
        "<td>embarked</td>\n",
        "<td>Port of Embarkation</td>\n",
        "<td>C = Cherbourg, Q = Queenstown, S = Southampton</td>\n",
        "</tr>\n",
        "</tbody></table>"
      ]
    },
    {
      "cell_type": "code",
      "metadata": {
        "id": "xzX139tGDUFK",
        "colab": {
          "base_uri": "https://localhost:8080/",
          "height": 293
        },
        "outputId": "67b7e2e8-cf63-4968-afe3-0adb8de07f63"
      },
      "source": [
        "df = pd.read_csv('data/titanic_train.csv')\n",
        "df.tail()"
      ],
      "execution_count": 23,
      "outputs": [
        {
          "output_type": "execute_result",
          "data": {
            "text/html": [
              "<div>\n",
              "<style scoped>\n",
              "    .dataframe tbody tr th:only-of-type {\n",
              "        vertical-align: middle;\n",
              "    }\n",
              "\n",
              "    .dataframe tbody tr th {\n",
              "        vertical-align: top;\n",
              "    }\n",
              "\n",
              "    .dataframe thead th {\n",
              "        text-align: right;\n",
              "    }\n",
              "</style>\n",
              "<table border=\"1\" class=\"dataframe\">\n",
              "  <thead>\n",
              "    <tr style=\"text-align: right;\">\n",
              "      <th></th>\n",
              "      <th>PassengerId</th>\n",
              "      <th>Survived</th>\n",
              "      <th>Pclass</th>\n",
              "      <th>Name</th>\n",
              "      <th>Sex</th>\n",
              "      <th>Age</th>\n",
              "      <th>SibSp</th>\n",
              "      <th>Parch</th>\n",
              "      <th>Ticket</th>\n",
              "      <th>Fare</th>\n",
              "      <th>Cabin</th>\n",
              "      <th>Embarked</th>\n",
              "    </tr>\n",
              "  </thead>\n",
              "  <tbody>\n",
              "    <tr>\n",
              "      <th>886</th>\n",
              "      <td>887</td>\n",
              "      <td>0</td>\n",
              "      <td>2</td>\n",
              "      <td>Montvila, Rev. Juozas</td>\n",
              "      <td>male</td>\n",
              "      <td>27.0</td>\n",
              "      <td>0</td>\n",
              "      <td>0</td>\n",
              "      <td>211536</td>\n",
              "      <td>13.00</td>\n",
              "      <td>NaN</td>\n",
              "      <td>S</td>\n",
              "    </tr>\n",
              "    <tr>\n",
              "      <th>887</th>\n",
              "      <td>888</td>\n",
              "      <td>1</td>\n",
              "      <td>1</td>\n",
              "      <td>Graham, Miss. Margaret Edith</td>\n",
              "      <td>female</td>\n",
              "      <td>19.0</td>\n",
              "      <td>0</td>\n",
              "      <td>0</td>\n",
              "      <td>112053</td>\n",
              "      <td>30.00</td>\n",
              "      <td>B42</td>\n",
              "      <td>S</td>\n",
              "    </tr>\n",
              "    <tr>\n",
              "      <th>888</th>\n",
              "      <td>889</td>\n",
              "      <td>0</td>\n",
              "      <td>3</td>\n",
              "      <td>Johnston, Miss. Catherine Helen \"Carrie\"</td>\n",
              "      <td>female</td>\n",
              "      <td>NaN</td>\n",
              "      <td>1</td>\n",
              "      <td>2</td>\n",
              "      <td>W./C. 6607</td>\n",
              "      <td>23.45</td>\n",
              "      <td>NaN</td>\n",
              "      <td>S</td>\n",
              "    </tr>\n",
              "    <tr>\n",
              "      <th>889</th>\n",
              "      <td>890</td>\n",
              "      <td>1</td>\n",
              "      <td>1</td>\n",
              "      <td>Behr, Mr. Karl Howell</td>\n",
              "      <td>male</td>\n",
              "      <td>26.0</td>\n",
              "      <td>0</td>\n",
              "      <td>0</td>\n",
              "      <td>111369</td>\n",
              "      <td>30.00</td>\n",
              "      <td>C148</td>\n",
              "      <td>C</td>\n",
              "    </tr>\n",
              "    <tr>\n",
              "      <th>890</th>\n",
              "      <td>891</td>\n",
              "      <td>0</td>\n",
              "      <td>3</td>\n",
              "      <td>Dooley, Mr. Patrick</td>\n",
              "      <td>male</td>\n",
              "      <td>32.0</td>\n",
              "      <td>0</td>\n",
              "      <td>0</td>\n",
              "      <td>370376</td>\n",
              "      <td>7.75</td>\n",
              "      <td>NaN</td>\n",
              "      <td>Q</td>\n",
              "    </tr>\n",
              "  </tbody>\n",
              "</table>\n",
              "</div>"
            ],
            "text/plain": [
              "     PassengerId  Survived  Pclass  ...   Fare Cabin  Embarked\n",
              "886          887         0       2  ...  13.00   NaN         S\n",
              "887          888         1       1  ...  30.00   B42         S\n",
              "888          889         0       3  ...  23.45   NaN         S\n",
              "889          890         1       1  ...  30.00  C148         C\n",
              "890          891         0       3  ...   7.75   NaN         Q\n",
              "\n",
              "[5 rows x 12 columns]"
            ]
          },
          "metadata": {},
          "execution_count": 23
        }
      ]
    },
    {
      "cell_type": "code",
      "metadata": {
        "id": "CEi81CLKDUFP",
        "colab": {
          "base_uri": "https://localhost:8080/"
        },
        "outputId": "32d58e93-0cff-4b1a-8d28-f533544444a9"
      },
      "source": [
        "# Tamaño del dataset:  (filas, columnas)\n",
        "# En la nomenclatura de pandas: (axis 0, axis 1)\n",
        "df.shape"
      ],
      "execution_count": 24,
      "outputs": [
        {
          "output_type": "execute_result",
          "data": {
            "text/plain": [
              "(891, 12)"
            ]
          },
          "metadata": {},
          "execution_count": 24
        }
      ]
    },
    {
      "cell_type": "code",
      "metadata": {
        "id": "4uugErYJDUFT",
        "colab": {
          "base_uri": "https://localhost:8080/"
        },
        "outputId": "988720b1-83f1-4f4c-aca7-e302a44f8b39"
      },
      "source": [
        "# Veamos los tipos de variables\n",
        "df.dtypes"
      ],
      "execution_count": 25,
      "outputs": [
        {
          "output_type": "execute_result",
          "data": {
            "text/plain": [
              "PassengerId      int64\n",
              "Survived         int64\n",
              "Pclass           int64\n",
              "Name            object\n",
              "Sex             object\n",
              "Age            float64\n",
              "SibSp            int64\n",
              "Parch            int64\n",
              "Ticket          object\n",
              "Fare           float64\n",
              "Cabin           object\n",
              "Embarked        object\n",
              "dtype: object"
            ]
          },
          "metadata": {},
          "execution_count": 25
        }
      ]
    },
    {
      "cell_type": "code",
      "metadata": {
        "id": "5cKGpFDqDUFW",
        "colab": {
          "base_uri": "https://localhost:8080/"
        },
        "outputId": "51ab3820-188e-4f86-fb69-f73319604268"
      },
      "source": [
        "# La cantidad de registros únicos por variable\n",
        "df.nunique()"
      ],
      "execution_count": 26,
      "outputs": [
        {
          "output_type": "execute_result",
          "data": {
            "text/plain": [
              "PassengerId    891\n",
              "Survived         2\n",
              "Pclass           3\n",
              "Name           891\n",
              "Sex              2\n",
              "Age             88\n",
              "SibSp            7\n",
              "Parch            7\n",
              "Ticket         681\n",
              "Fare           248\n",
              "Cabin          147\n",
              "Embarked         3\n",
              "dtype: int64"
            ]
          },
          "metadata": {},
          "execution_count": 26
        }
      ]
    },
    {
      "cell_type": "code",
      "metadata": {
        "id": "vjshuNqpDUFb",
        "colab": {
          "base_uri": "https://localhost:8080/"
        },
        "outputId": "d0025655-e33b-4076-a761-51372b76b107"
      },
      "source": [
        "# % de registros únicos por variable\n",
        "df.nunique() / len(df)"
      ],
      "execution_count": 27,
      "outputs": [
        {
          "output_type": "execute_result",
          "data": {
            "text/plain": [
              "PassengerId    1.000000\n",
              "Survived       0.002245\n",
              "Pclass         0.003367\n",
              "Name           1.000000\n",
              "Sex            0.002245\n",
              "Age            0.098765\n",
              "SibSp          0.007856\n",
              "Parch          0.007856\n",
              "Ticket         0.764310\n",
              "Fare           0.278339\n",
              "Cabin          0.164983\n",
              "Embarked       0.003367\n",
              "dtype: float64"
            ]
          },
          "metadata": {},
          "execution_count": 27
        }
      ]
    },
    {
      "cell_type": "code",
      "metadata": {
        "id": "U9hNPIP9DUFf",
        "colab": {
          "base_uri": "https://localhost:8080/"
        },
        "outputId": "0b941fea-2c40-443a-a124-e9a7eed8d11d"
      },
      "source": [
        "# % de datos faltantes\n",
        "df.isna().sum() / len(df)"
      ],
      "execution_count": 28,
      "outputs": [
        {
          "output_type": "execute_result",
          "data": {
            "text/plain": [
              "PassengerId    0.000000\n",
              "Survived       0.000000\n",
              "Pclass         0.000000\n",
              "Name           0.000000\n",
              "Sex            0.000000\n",
              "Age            0.198653\n",
              "SibSp          0.000000\n",
              "Parch          0.000000\n",
              "Ticket         0.000000\n",
              "Fare           0.000000\n",
              "Cabin          0.771044\n",
              "Embarked       0.002245\n",
              "dtype: float64"
            ]
          },
          "metadata": {},
          "execution_count": 28
        }
      ]
    },
    {
      "cell_type": "code",
      "metadata": {
        "id": "XogYYDQKDUFi",
        "colab": {
          "base_uri": "https://localhost:8080/",
          "height": 206
        },
        "outputId": "684c6545-e000-43f2-a092-ac7b1efd5dca"
      },
      "source": [
        "# Antes de continuar podemos eliminar algunas variables del dataset que filtran informacion acerca de nuestro objetivo.\n",
        "df.drop(['PassengerId', 'Name', 'Ticket'], axis=1, inplace=True)\n",
        "# axis=1: aplicamos la función a las columnas\n",
        "# inplace=True: aplica la función al dataframe\n",
        "# inplace=False (default): devuelve el dataframe modificado\n",
        "\n",
        "df.head()"
      ],
      "execution_count": 29,
      "outputs": [
        {
          "output_type": "execute_result",
          "data": {
            "text/html": [
              "<div>\n",
              "<style scoped>\n",
              "    .dataframe tbody tr th:only-of-type {\n",
              "        vertical-align: middle;\n",
              "    }\n",
              "\n",
              "    .dataframe tbody tr th {\n",
              "        vertical-align: top;\n",
              "    }\n",
              "\n",
              "    .dataframe thead th {\n",
              "        text-align: right;\n",
              "    }\n",
              "</style>\n",
              "<table border=\"1\" class=\"dataframe\">\n",
              "  <thead>\n",
              "    <tr style=\"text-align: right;\">\n",
              "      <th></th>\n",
              "      <th>Survived</th>\n",
              "      <th>Pclass</th>\n",
              "      <th>Sex</th>\n",
              "      <th>Age</th>\n",
              "      <th>SibSp</th>\n",
              "      <th>Parch</th>\n",
              "      <th>Fare</th>\n",
              "      <th>Cabin</th>\n",
              "      <th>Embarked</th>\n",
              "    </tr>\n",
              "  </thead>\n",
              "  <tbody>\n",
              "    <tr>\n",
              "      <th>0</th>\n",
              "      <td>0</td>\n",
              "      <td>3</td>\n",
              "      <td>male</td>\n",
              "      <td>22.0</td>\n",
              "      <td>1</td>\n",
              "      <td>0</td>\n",
              "      <td>7.2500</td>\n",
              "      <td>NaN</td>\n",
              "      <td>S</td>\n",
              "    </tr>\n",
              "    <tr>\n",
              "      <th>1</th>\n",
              "      <td>1</td>\n",
              "      <td>1</td>\n",
              "      <td>female</td>\n",
              "      <td>38.0</td>\n",
              "      <td>1</td>\n",
              "      <td>0</td>\n",
              "      <td>71.2833</td>\n",
              "      <td>C85</td>\n",
              "      <td>C</td>\n",
              "    </tr>\n",
              "    <tr>\n",
              "      <th>2</th>\n",
              "      <td>1</td>\n",
              "      <td>3</td>\n",
              "      <td>female</td>\n",
              "      <td>26.0</td>\n",
              "      <td>0</td>\n",
              "      <td>0</td>\n",
              "      <td>7.9250</td>\n",
              "      <td>NaN</td>\n",
              "      <td>S</td>\n",
              "    </tr>\n",
              "    <tr>\n",
              "      <th>3</th>\n",
              "      <td>1</td>\n",
              "      <td>1</td>\n",
              "      <td>female</td>\n",
              "      <td>35.0</td>\n",
              "      <td>1</td>\n",
              "      <td>0</td>\n",
              "      <td>53.1000</td>\n",
              "      <td>C123</td>\n",
              "      <td>S</td>\n",
              "    </tr>\n",
              "    <tr>\n",
              "      <th>4</th>\n",
              "      <td>0</td>\n",
              "      <td>3</td>\n",
              "      <td>male</td>\n",
              "      <td>35.0</td>\n",
              "      <td>0</td>\n",
              "      <td>0</td>\n",
              "      <td>8.0500</td>\n",
              "      <td>NaN</td>\n",
              "      <td>S</td>\n",
              "    </tr>\n",
              "  </tbody>\n",
              "</table>\n",
              "</div>"
            ],
            "text/plain": [
              "   Survived  Pclass     Sex   Age  SibSp  Parch     Fare Cabin Embarked\n",
              "0         0       3    male  22.0      1      0   7.2500   NaN        S\n",
              "1         1       1  female  38.0      1      0  71.2833   C85        C\n",
              "2         1       3  female  26.0      0      0   7.9250   NaN        S\n",
              "3         1       1  female  35.0      1      0  53.1000  C123        S\n",
              "4         0       3    male  35.0      0      0   8.0500   NaN        S"
            ]
          },
          "metadata": {},
          "execution_count": 29
        }
      ]
    },
    {
      "cell_type": "markdown",
      "metadata": {
        "id": "xQ195I7kDUFm"
      },
      "source": [
        "## Variables categóricas y variables numéricas"
      ]
    },
    {
      "cell_type": "code",
      "metadata": {
        "id": "axzeX9tHDUFn",
        "colab": {
          "base_uri": "https://localhost:8080/"
        },
        "outputId": "9136751d-7c3d-44de-b22c-597786fa1822"
      },
      "source": [
        "# Veamos las columnas, este tipo de sintaxis se llama \"list comprehensions\"\n",
        "[c for c in df]"
      ],
      "execution_count": 30,
      "outputs": [
        {
          "output_type": "execute_result",
          "data": {
            "text/plain": [
              "['Survived',\n",
              " 'Pclass',\n",
              " 'Sex',\n",
              " 'Age',\n",
              " 'SibSp',\n",
              " 'Parch',\n",
              " 'Fare',\n",
              " 'Cabin',\n",
              " 'Embarked']"
            ]
          },
          "metadata": {},
          "execution_count": 30
        }
      ]
    },
    {
      "cell_type": "markdown",
      "metadata": {
        "id": "cz-OXj24DUFq"
      },
      "source": [
        "[list comprehensions documentation](https://docs.python.org/3/tutorial/datastructures.html#list-comprehensions)"
      ]
    },
    {
      "cell_type": "code",
      "metadata": {
        "id": "vIou-ZaiDUFr",
        "colab": {
          "base_uri": "https://localhost:8080/"
        },
        "outputId": "f1c2bb03-dcd5-449e-a4d4-39c98316c634"
      },
      "source": [
        "# Una variable númerica puede tener distintos tipos (int, float, double, ...).\n",
        "# Para ver si una variables es numérica podemos usar la función pd.api.types.is_numeric_dtype:\n",
        "pd.api.types.is_numeric_dtype(df['Age'])"
      ],
      "execution_count": 31,
      "outputs": [
        {
          "output_type": "execute_result",
          "data": {
            "text/plain": [
              "True"
            ]
          },
          "metadata": {},
          "execution_count": 31
        }
      ]
    },
    {
      "cell_type": "code",
      "metadata": {
        "id": "wRLwX4ScDUFv",
        "colab": {
          "base_uri": "https://localhost:8080/"
        },
        "outputId": "5f5d35da-602f-422b-9787-53be85b06466"
      },
      "source": [
        "# Variables numéricas\n",
        "num_vars = [c for c in df if pd.api.types.is_numeric_dtype(df[c])]\n",
        "num_vars"
      ],
      "execution_count": 32,
      "outputs": [
        {
          "output_type": "execute_result",
          "data": {
            "text/plain": [
              "['Survived', 'Pclass', 'Age', 'SibSp', 'Parch', 'Fare']"
            ]
          },
          "metadata": {},
          "execution_count": 32
        }
      ]
    },
    {
      "cell_type": "code",
      "metadata": {
        "id": "pqu6Zv-dDUF0",
        "colab": {
          "base_uri": "https://localhost:8080/"
        },
        "outputId": "2276b75d-4a48-448a-b0a7-8580d7b455aa"
      },
      "source": [
        "# Variables categóricas\n",
        "cat_vars = [c for c in df if not pd.api.types.is_numeric_dtype(df[c])]\n",
        "cat_vars"
      ],
      "execution_count": 33,
      "outputs": [
        {
          "output_type": "execute_result",
          "data": {
            "text/plain": [
              "['Sex', 'Cabin', 'Embarked']"
            ]
          },
          "metadata": {},
          "execution_count": 33
        }
      ]
    },
    {
      "cell_type": "markdown",
      "metadata": {
        "id": "X5FnNnO0DUF3"
      },
      "source": [
        "### Transformar las variables  a categoricas"
      ]
    },
    {
      "cell_type": "code",
      "metadata": {
        "id": "jsa5JiDBDUF4",
        "colab": {
          "base_uri": "https://localhost:8080/"
        },
        "outputId": "f7076845-1e56-4e43-c114-4cd81862f29a"
      },
      "source": [
        "# Si usamos get_dummies, se generan muchas columnas\n",
        "pd.get_dummies(df).shape"
      ],
      "execution_count": 34,
      "outputs": [
        {
          "output_type": "execute_result",
          "data": {
            "text/plain": [
              "(891, 158)"
            ]
          },
          "metadata": {},
          "execution_count": 34
        }
      ]
    },
    {
      "cell_type": "code",
      "metadata": {
        "id": "XzYOBtHPDUF8",
        "colab": {
          "base_uri": "https://localhost:8080/"
        },
        "outputId": "273a9b4c-9433-45ac-86e4-ea0e95508468"
      },
      "source": [
        "df[cat_vars].nunique()"
      ],
      "execution_count": 35,
      "outputs": [
        {
          "output_type": "execute_result",
          "data": {
            "text/plain": [
              "Sex           2\n",
              "Cabin       147\n",
              "Embarked      3\n",
              "dtype: int64"
            ]
          },
          "metadata": {},
          "execution_count": 35
        }
      ]
    },
    {
      "cell_type": "markdown",
      "metadata": {
        "id": "KYPDYwQJDUGC"
      },
      "source": [
        "La variable \"Cabin\" tiene muchos valores únicos.\n",
        "\n",
        "Vamos a aplicar otro método para transformar los valores a numéricos: **label encoding**."
      ]
    },
    {
      "cell_type": "code",
      "metadata": {
        "id": "4NSGibMhDUGC",
        "colab": {
          "base_uri": "https://localhost:8080/"
        },
        "outputId": "fc183112-c62f-4a16-8fe8-d517ff6927a9"
      },
      "source": [
        "# Usando el metodo \"astype\" Podemos cambiar el tipo de variable a \"category\":\n",
        "t = df['Sex'].astype('category')\n",
        "t.head()"
      ],
      "execution_count": 36,
      "outputs": [
        {
          "output_type": "execute_result",
          "data": {
            "text/plain": [
              "0      male\n",
              "1    female\n",
              "2    female\n",
              "3    female\n",
              "4      male\n",
              "Name: Sex, dtype: category\n",
              "Categories (2, object): ['female', 'male']"
            ]
          },
          "metadata": {},
          "execution_count": 36
        }
      ]
    },
    {
      "cell_type": "code",
      "metadata": {
        "id": "TOVxcdrZDUGF",
        "colab": {
          "base_uri": "https://localhost:8080/"
        },
        "outputId": "bf598d47-ae69-4a26-a917-c4b1cd55a15c"
      },
      "source": [
        "# Dentro de dataframe.cat se encuentran los métodos para variables categóricas:\n",
        "\n",
        "# cat.codes: Representación númerica de la data\n",
        "t.cat.codes.head()"
      ],
      "execution_count": 37,
      "outputs": [
        {
          "output_type": "execute_result",
          "data": {
            "text/plain": [
              "0    1\n",
              "1    0\n",
              "2    0\n",
              "3    0\n",
              "4    1\n",
              "dtype: int8"
            ]
          },
          "metadata": {},
          "execution_count": 37
        }
      ]
    },
    {
      "cell_type": "code",
      "metadata": {
        "id": "aJgLrPflDUGH",
        "colab": {
          "base_uri": "https://localhost:8080/"
        },
        "outputId": "172eeb0e-fd40-45bc-f60d-c0ba15b94036"
      },
      "source": [
        "# cat.categories: Categorías encontradas\n",
        "t.cat.categories"
      ],
      "execution_count": 38,
      "outputs": [
        {
          "output_type": "execute_result",
          "data": {
            "text/plain": [
              "Index(['female', 'male'], dtype='object')"
            ]
          },
          "metadata": {},
          "execution_count": 38
        }
      ]
    },
    {
      "cell_type": "code",
      "metadata": {
        "id": "2fKlF9VHDUGN",
        "colab": {
          "base_uri": "https://localhost:8080/"
        },
        "outputId": "31a21ead-d1a5-4c5c-c855-6426e91fc4a3"
      },
      "source": [
        "# Si queremos entender los códigos luego, necesitamos un diccionario para guardarlos.\n",
        "# Usamos la sintaxis de listcomprehensions con {} en vez de [], para armar un diccionario:\n",
        "{i:e for i,e in enumerate(t.cat.categories)}"
      ],
      "execution_count": 39,
      "outputs": [
        {
          "output_type": "execute_result",
          "data": {
            "text/plain": [
              "{0: 'female', 1: 'male'}"
            ]
          },
          "metadata": {},
          "execution_count": 39
        }
      ]
    },
    {
      "cell_type": "code",
      "metadata": {
        "id": "tvsefaxHDUGQ",
        "colab": {
          "base_uri": "https://localhost:8080/"
        },
        "outputId": "0b212a58-b4e2-479d-ac62-dc06f2dff459"
      },
      "source": [
        "# Cuando una columna se convierte a tipo category, los datos faltantes se completan con -1.\n",
        "# Es una buena práctica sumar +1 al índice de manera que los datos faltantes usen el indice 0.\n",
        "t_dict = {i+1:e for i,e in enumerate(t.cat.categories)}\n",
        "t_dict"
      ],
      "execution_count": 40,
      "outputs": [
        {
          "output_type": "execute_result",
          "data": {
            "text/plain": [
              "{1: 'female', 2: 'male'}"
            ]
          },
          "metadata": {},
          "execution_count": 40
        }
      ]
    },
    {
      "cell_type": "code",
      "metadata": {
        "id": "Tw-ar5F1DUGU",
        "colab": {
          "base_uri": "https://localhost:8080/",
          "height": 35
        },
        "outputId": "5fb9d8f9-fd4a-4128-f253-b9a79348579a"
      },
      "source": [
        "# Usando el diccionario\n",
        "t_dict[2]"
      ],
      "execution_count": 41,
      "outputs": [
        {
          "output_type": "execute_result",
          "data": {
            "application/vnd.google.colaboratory.intrinsic+json": {
              "type": "string"
            },
            "text/plain": [
              "'male'"
            ]
          },
          "metadata": {},
          "execution_count": 41
        }
      ]
    },
    {
      "cell_type": "code",
      "metadata": {
        "id": "aocxzoOuDUGX",
        "colab": {
          "base_uri": "https://localhost:8080/"
        },
        "outputId": "0157f657-6c07-4838-da55-209e971d0c6e"
      },
      "source": [
        "# Ahora vamos a aplicar esta transformación a todas las variables categóricas,\n",
        "# guardando un diccionario de códigos.\n",
        "\n",
        "# 1. Creamos un diccionario vacio\n",
        "cat_dict = {}\n",
        "\n",
        "for cat in cat_vars:\n",
        "    # 2. Transformamos la variable a tipo category\n",
        "    df[cat] = df[cat].astype('category')\n",
        "    \n",
        "    # 3. Agregamos el diccionario de códigos\n",
        "    cat_dict[cat] = {i+1:e for i,e in enumerate(df[cat].cat.categories)}\n",
        "\n",
        "cat_dict"
      ],
      "execution_count": 42,
      "outputs": [
        {
          "output_type": "execute_result",
          "data": {
            "text/plain": [
              "{'Cabin': {1: 'A10',\n",
              "  2: 'A14',\n",
              "  3: 'A16',\n",
              "  4: 'A19',\n",
              "  5: 'A20',\n",
              "  6: 'A23',\n",
              "  7: 'A24',\n",
              "  8: 'A26',\n",
              "  9: 'A31',\n",
              "  10: 'A32',\n",
              "  11: 'A34',\n",
              "  12: 'A36',\n",
              "  13: 'A5',\n",
              "  14: 'A6',\n",
              "  15: 'A7',\n",
              "  16: 'B101',\n",
              "  17: 'B102',\n",
              "  18: 'B18',\n",
              "  19: 'B19',\n",
              "  20: 'B20',\n",
              "  21: 'B22',\n",
              "  22: 'B28',\n",
              "  23: 'B3',\n",
              "  24: 'B30',\n",
              "  25: 'B35',\n",
              "  26: 'B37',\n",
              "  27: 'B38',\n",
              "  28: 'B39',\n",
              "  29: 'B4',\n",
              "  30: 'B41',\n",
              "  31: 'B42',\n",
              "  32: 'B49',\n",
              "  33: 'B5',\n",
              "  34: 'B50',\n",
              "  35: 'B51 B53 B55',\n",
              "  36: 'B57 B59 B63 B66',\n",
              "  37: 'B58 B60',\n",
              "  38: 'B69',\n",
              "  39: 'B71',\n",
              "  40: 'B73',\n",
              "  41: 'B77',\n",
              "  42: 'B78',\n",
              "  43: 'B79',\n",
              "  44: 'B80',\n",
              "  45: 'B82 B84',\n",
              "  46: 'B86',\n",
              "  47: 'B94',\n",
              "  48: 'B96 B98',\n",
              "  49: 'C101',\n",
              "  50: 'C103',\n",
              "  51: 'C104',\n",
              "  52: 'C106',\n",
              "  53: 'C110',\n",
              "  54: 'C111',\n",
              "  55: 'C118',\n",
              "  56: 'C123',\n",
              "  57: 'C124',\n",
              "  58: 'C125',\n",
              "  59: 'C126',\n",
              "  60: 'C128',\n",
              "  61: 'C148',\n",
              "  62: 'C2',\n",
              "  63: 'C22 C26',\n",
              "  64: 'C23 C25 C27',\n",
              "  65: 'C30',\n",
              "  66: 'C32',\n",
              "  67: 'C45',\n",
              "  68: 'C46',\n",
              "  69: 'C47',\n",
              "  70: 'C49',\n",
              "  71: 'C50',\n",
              "  72: 'C52',\n",
              "  73: 'C54',\n",
              "  74: 'C62 C64',\n",
              "  75: 'C65',\n",
              "  76: 'C68',\n",
              "  77: 'C7',\n",
              "  78: 'C70',\n",
              "  79: 'C78',\n",
              "  80: 'C82',\n",
              "  81: 'C83',\n",
              "  82: 'C85',\n",
              "  83: 'C86',\n",
              "  84: 'C87',\n",
              "  85: 'C90',\n",
              "  86: 'C91',\n",
              "  87: 'C92',\n",
              "  88: 'C93',\n",
              "  89: 'C95',\n",
              "  90: 'C99',\n",
              "  91: 'D',\n",
              "  92: 'D10 D12',\n",
              "  93: 'D11',\n",
              "  94: 'D15',\n",
              "  95: 'D17',\n",
              "  96: 'D19',\n",
              "  97: 'D20',\n",
              "  98: 'D21',\n",
              "  99: 'D26',\n",
              "  100: 'D28',\n",
              "  101: 'D30',\n",
              "  102: 'D33',\n",
              "  103: 'D35',\n",
              "  104: 'D36',\n",
              "  105: 'D37',\n",
              "  106: 'D45',\n",
              "  107: 'D46',\n",
              "  108: 'D47',\n",
              "  109: 'D48',\n",
              "  110: 'D49',\n",
              "  111: 'D50',\n",
              "  112: 'D56',\n",
              "  113: 'D6',\n",
              "  114: 'D7',\n",
              "  115: 'D9',\n",
              "  116: 'E10',\n",
              "  117: 'E101',\n",
              "  118: 'E12',\n",
              "  119: 'E121',\n",
              "  120: 'E17',\n",
              "  121: 'E24',\n",
              "  122: 'E25',\n",
              "  123: 'E31',\n",
              "  124: 'E33',\n",
              "  125: 'E34',\n",
              "  126: 'E36',\n",
              "  127: 'E38',\n",
              "  128: 'E40',\n",
              "  129: 'E44',\n",
              "  130: 'E46',\n",
              "  131: 'E49',\n",
              "  132: 'E50',\n",
              "  133: 'E58',\n",
              "  134: 'E63',\n",
              "  135: 'E67',\n",
              "  136: 'E68',\n",
              "  137: 'E77',\n",
              "  138: 'E8',\n",
              "  139: 'F E69',\n",
              "  140: 'F G63',\n",
              "  141: 'F G73',\n",
              "  142: 'F2',\n",
              "  143: 'F33',\n",
              "  144: 'F38',\n",
              "  145: 'F4',\n",
              "  146: 'G6',\n",
              "  147: 'T'},\n",
              " 'Embarked': {1: 'C', 2: 'Q', 3: 'S'},\n",
              " 'Sex': {1: 'female', 2: 'male'}}"
            ]
          },
          "metadata": {},
          "execution_count": 42
        }
      ]
    },
    {
      "cell_type": "code",
      "metadata": {
        "id": "deKoM2WsDUGa",
        "colab": {
          "base_uri": "https://localhost:8080/",
          "height": 35
        },
        "outputId": "2ad023dc-b3c7-45cc-83d8-751bfb77e9f5"
      },
      "source": [
        "# Usando el diccionario\n",
        "cat_dict['Cabin'][20]"
      ],
      "execution_count": 43,
      "outputs": [
        {
          "output_type": "execute_result",
          "data": {
            "application/vnd.google.colaboratory.intrinsic+json": {
              "type": "string"
            },
            "text/plain": [
              "'B20'"
            ]
          },
          "metadata": {},
          "execution_count": 43
        }
      ]
    },
    {
      "cell_type": "code",
      "metadata": {
        "id": "puWDspMsDUGc",
        "colab": {
          "base_uri": "https://localhost:8080/",
          "height": 206
        },
        "outputId": "a002ec7d-a15d-4849-855f-789f42542916"
      },
      "source": [
        "df.head()"
      ],
      "execution_count": 44,
      "outputs": [
        {
          "output_type": "execute_result",
          "data": {
            "text/html": [
              "<div>\n",
              "<style scoped>\n",
              "    .dataframe tbody tr th:only-of-type {\n",
              "        vertical-align: middle;\n",
              "    }\n",
              "\n",
              "    .dataframe tbody tr th {\n",
              "        vertical-align: top;\n",
              "    }\n",
              "\n",
              "    .dataframe thead th {\n",
              "        text-align: right;\n",
              "    }\n",
              "</style>\n",
              "<table border=\"1\" class=\"dataframe\">\n",
              "  <thead>\n",
              "    <tr style=\"text-align: right;\">\n",
              "      <th></th>\n",
              "      <th>Survived</th>\n",
              "      <th>Pclass</th>\n",
              "      <th>Sex</th>\n",
              "      <th>Age</th>\n",
              "      <th>SibSp</th>\n",
              "      <th>Parch</th>\n",
              "      <th>Fare</th>\n",
              "      <th>Cabin</th>\n",
              "      <th>Embarked</th>\n",
              "    </tr>\n",
              "  </thead>\n",
              "  <tbody>\n",
              "    <tr>\n",
              "      <th>0</th>\n",
              "      <td>0</td>\n",
              "      <td>3</td>\n",
              "      <td>male</td>\n",
              "      <td>22.0</td>\n",
              "      <td>1</td>\n",
              "      <td>0</td>\n",
              "      <td>7.2500</td>\n",
              "      <td>NaN</td>\n",
              "      <td>S</td>\n",
              "    </tr>\n",
              "    <tr>\n",
              "      <th>1</th>\n",
              "      <td>1</td>\n",
              "      <td>1</td>\n",
              "      <td>female</td>\n",
              "      <td>38.0</td>\n",
              "      <td>1</td>\n",
              "      <td>0</td>\n",
              "      <td>71.2833</td>\n",
              "      <td>C85</td>\n",
              "      <td>C</td>\n",
              "    </tr>\n",
              "    <tr>\n",
              "      <th>2</th>\n",
              "      <td>1</td>\n",
              "      <td>3</td>\n",
              "      <td>female</td>\n",
              "      <td>26.0</td>\n",
              "      <td>0</td>\n",
              "      <td>0</td>\n",
              "      <td>7.9250</td>\n",
              "      <td>NaN</td>\n",
              "      <td>S</td>\n",
              "    </tr>\n",
              "    <tr>\n",
              "      <th>3</th>\n",
              "      <td>1</td>\n",
              "      <td>1</td>\n",
              "      <td>female</td>\n",
              "      <td>35.0</td>\n",
              "      <td>1</td>\n",
              "      <td>0</td>\n",
              "      <td>53.1000</td>\n",
              "      <td>C123</td>\n",
              "      <td>S</td>\n",
              "    </tr>\n",
              "    <tr>\n",
              "      <th>4</th>\n",
              "      <td>0</td>\n",
              "      <td>3</td>\n",
              "      <td>male</td>\n",
              "      <td>35.0</td>\n",
              "      <td>0</td>\n",
              "      <td>0</td>\n",
              "      <td>8.0500</td>\n",
              "      <td>NaN</td>\n",
              "      <td>S</td>\n",
              "    </tr>\n",
              "  </tbody>\n",
              "</table>\n",
              "</div>"
            ],
            "text/plain": [
              "   Survived  Pclass     Sex   Age  SibSp  Parch     Fare Cabin Embarked\n",
              "0         0       3    male  22.0      1      0   7.2500   NaN        S\n",
              "1         1       1  female  38.0      1      0  71.2833   C85        C\n",
              "2         1       3  female  26.0      0      0   7.9250   NaN        S\n",
              "3         1       1  female  35.0      1      0  53.1000  C123        S\n",
              "4         0       3    male  35.0      0      0   8.0500   NaN        S"
            ]
          },
          "metadata": {},
          "execution_count": 44
        }
      ]
    },
    {
      "cell_type": "markdown",
      "metadata": {
        "id": "8dTiL5t6DUGf"
      },
      "source": [
        "### Data faltante"
      ]
    },
    {
      "cell_type": "code",
      "metadata": {
        "id": "SvcfO-CrDUGh",
        "colab": {
          "base_uri": "https://localhost:8080/"
        },
        "outputId": "8dd2f9b1-a591-43a6-bd04-42593de168db"
      },
      "source": [
        "df[num_vars].isna().sum()"
      ],
      "execution_count": 45,
      "outputs": [
        {
          "output_type": "execute_result",
          "data": {
            "text/plain": [
              "Survived      0\n",
              "Pclass        0\n",
              "Age         177\n",
              "SibSp         0\n",
              "Parch         0\n",
              "Fare          0\n",
              "dtype: int64"
            ]
          },
          "metadata": {},
          "execution_count": 45
        }
      ]
    },
    {
      "cell_type": "markdown",
      "metadata": {
        "id": "9Tikle0kDUGk"
      },
      "source": [
        "Al transformar la data categórica, se asignó un código para los datos faltantes.\n",
        "\n",
        "En el caso de data numérica debemos hacer un tratamiento especial a la data faltante.\n",
        "\n",
        "El procedimiento que realizaremos es el siguiente:\n",
        "1. Obtenemos un diccionario con las medianas de cada variable.\n",
        "2. Creamos una columna que indique si hay data faltante.\n",
        "3. Reemplazamos los datos faltantes con la mediana obtenida."
      ]
    },
    {
      "cell_type": "code",
      "metadata": {
        "id": "HWFQcF3FDUGl",
        "colab": {
          "base_uri": "https://localhost:8080/"
        },
        "outputId": "aaea5278-c999-477a-fd7f-9a99f5516074"
      },
      "source": [
        "# 1. Obtenemos la mediana de la columna y la almacenamos en un diccionario.\n",
        "na_dict = df[num_vars].median().to_dict()\n",
        "na_dict"
      ],
      "execution_count": 46,
      "outputs": [
        {
          "output_type": "execute_result",
          "data": {
            "text/plain": [
              "{'Age': 28.0,\n",
              " 'Fare': 14.4542,\n",
              " 'Parch': 0.0,\n",
              " 'Pclass': 3.0,\n",
              " 'SibSp': 0.0,\n",
              " 'Survived': 0.0}"
            ]
          },
          "metadata": {},
          "execution_count": 46
        }
      ]
    },
    {
      "cell_type": "code",
      "metadata": {
        "id": "nYvx4l4vDUGn",
        "colab": {
          "base_uri": "https://localhost:8080/",
          "height": 206
        },
        "outputId": "bac752a8-8643-4c28-da23-3835ed38c2b3"
      },
      "source": [
        "# 2. Creamos una columna que indique si hay data faltante.\n",
        "df['Age_na'] = df['Age'].isna()\n",
        "df.head()"
      ],
      "execution_count": 47,
      "outputs": [
        {
          "output_type": "execute_result",
          "data": {
            "text/html": [
              "<div>\n",
              "<style scoped>\n",
              "    .dataframe tbody tr th:only-of-type {\n",
              "        vertical-align: middle;\n",
              "    }\n",
              "\n",
              "    .dataframe tbody tr th {\n",
              "        vertical-align: top;\n",
              "    }\n",
              "\n",
              "    .dataframe thead th {\n",
              "        text-align: right;\n",
              "    }\n",
              "</style>\n",
              "<table border=\"1\" class=\"dataframe\">\n",
              "  <thead>\n",
              "    <tr style=\"text-align: right;\">\n",
              "      <th></th>\n",
              "      <th>Survived</th>\n",
              "      <th>Pclass</th>\n",
              "      <th>Sex</th>\n",
              "      <th>Age</th>\n",
              "      <th>SibSp</th>\n",
              "      <th>Parch</th>\n",
              "      <th>Fare</th>\n",
              "      <th>Cabin</th>\n",
              "      <th>Embarked</th>\n",
              "      <th>Age_na</th>\n",
              "    </tr>\n",
              "  </thead>\n",
              "  <tbody>\n",
              "    <tr>\n",
              "      <th>0</th>\n",
              "      <td>0</td>\n",
              "      <td>3</td>\n",
              "      <td>male</td>\n",
              "      <td>22.0</td>\n",
              "      <td>1</td>\n",
              "      <td>0</td>\n",
              "      <td>7.2500</td>\n",
              "      <td>NaN</td>\n",
              "      <td>S</td>\n",
              "      <td>False</td>\n",
              "    </tr>\n",
              "    <tr>\n",
              "      <th>1</th>\n",
              "      <td>1</td>\n",
              "      <td>1</td>\n",
              "      <td>female</td>\n",
              "      <td>38.0</td>\n",
              "      <td>1</td>\n",
              "      <td>0</td>\n",
              "      <td>71.2833</td>\n",
              "      <td>C85</td>\n",
              "      <td>C</td>\n",
              "      <td>False</td>\n",
              "    </tr>\n",
              "    <tr>\n",
              "      <th>2</th>\n",
              "      <td>1</td>\n",
              "      <td>3</td>\n",
              "      <td>female</td>\n",
              "      <td>26.0</td>\n",
              "      <td>0</td>\n",
              "      <td>0</td>\n",
              "      <td>7.9250</td>\n",
              "      <td>NaN</td>\n",
              "      <td>S</td>\n",
              "      <td>False</td>\n",
              "    </tr>\n",
              "    <tr>\n",
              "      <th>3</th>\n",
              "      <td>1</td>\n",
              "      <td>1</td>\n",
              "      <td>female</td>\n",
              "      <td>35.0</td>\n",
              "      <td>1</td>\n",
              "      <td>0</td>\n",
              "      <td>53.1000</td>\n",
              "      <td>C123</td>\n",
              "      <td>S</td>\n",
              "      <td>False</td>\n",
              "    </tr>\n",
              "    <tr>\n",
              "      <th>4</th>\n",
              "      <td>0</td>\n",
              "      <td>3</td>\n",
              "      <td>male</td>\n",
              "      <td>35.0</td>\n",
              "      <td>0</td>\n",
              "      <td>0</td>\n",
              "      <td>8.0500</td>\n",
              "      <td>NaN</td>\n",
              "      <td>S</td>\n",
              "      <td>False</td>\n",
              "    </tr>\n",
              "  </tbody>\n",
              "</table>\n",
              "</div>"
            ],
            "text/plain": [
              "   Survived  Pclass     Sex   Age  SibSp  Parch     Fare Cabin Embarked  Age_na\n",
              "0         0       3    male  22.0      1      0   7.2500   NaN        S   False\n",
              "1         1       1  female  38.0      1      0  71.2833   C85        C   False\n",
              "2         1       3  female  26.0      0      0   7.9250   NaN        S   False\n",
              "3         1       1  female  35.0      1      0  53.1000  C123        S   False\n",
              "4         0       3    male  35.0      0      0   8.0500   NaN        S   False"
            ]
          },
          "metadata": {},
          "execution_count": 47
        }
      ]
    },
    {
      "cell_type": "code",
      "metadata": {
        "id": "6-2GxtUODUGp",
        "colab": {
          "base_uri": "https://localhost:8080/"
        },
        "outputId": "255e89cf-dc7f-4dff-c77e-35d22cd1dc91"
      },
      "source": [
        "# 3. Reemplazamos los datos faltantes con la mediana obtenida.\n",
        "df.Age.fillna(na_dict['Age'], inplace=True)\n",
        "df[num_vars].isna().sum()"
      ],
      "execution_count": 48,
      "outputs": [
        {
          "output_type": "execute_result",
          "data": {
            "text/plain": [
              "Survived    0\n",
              "Pclass      0\n",
              "Age         0\n",
              "SibSp       0\n",
              "Parch       0\n",
              "Fare        0\n",
              "dtype: int64"
            ]
          },
          "metadata": {},
          "execution_count": 48
        }
      ]
    },
    {
      "cell_type": "markdown",
      "metadata": {
        "id": "WnOVg7usDUGr"
      },
      "source": [
        "### Guardamos la data preprocesada"
      ]
    },
    {
      "cell_type": "code",
      "metadata": {
        "id": "FUixqzqaDUGs"
      },
      "source": [
        "# El formato pickle nos permite guardar objetos de python\n",
        "with open('data/titanic_cat_dict.pkl', 'wb') as f:\n",
        "    pickle.dump(cat_dict, f)\n",
        "    \n",
        "with open('data/titanic_na_dict.pkl', 'wb') as f:\n",
        "    pickle.dump(na_dict, f)\n",
        "\n",
        "df.to_pickle('data/titanic_train.pkl')"
      ],
      "execution_count": 49,
      "outputs": []
    },
    {
      "cell_type": "code",
      "metadata": {
        "id": "eBAnljLyDUGu",
        "colab": {
          "base_uri": "https://localhost:8080/",
          "height": 206
        },
        "outputId": "351fdaf7-5a6c-45ef-953f-9e8bae9556ca"
      },
      "source": [
        "# Cargar data\n",
        "with open('data/titanic_cat_dict.pkl', 'rb') as f:\n",
        "    cat_dict = pickle.load(f)\n",
        "\n",
        "with open('data/titanic_na_dict.pkl', 'rb') as f:\n",
        "    na_dict = pickle.load(f)\n",
        "\n",
        "df_raw = pd.read_pickle('data/titanic_train.pkl')\n",
        "\n",
        "df_raw.head()"
      ],
      "execution_count": 50,
      "outputs": [
        {
          "output_type": "execute_result",
          "data": {
            "text/html": [
              "<div>\n",
              "<style scoped>\n",
              "    .dataframe tbody tr th:only-of-type {\n",
              "        vertical-align: middle;\n",
              "    }\n",
              "\n",
              "    .dataframe tbody tr th {\n",
              "        vertical-align: top;\n",
              "    }\n",
              "\n",
              "    .dataframe thead th {\n",
              "        text-align: right;\n",
              "    }\n",
              "</style>\n",
              "<table border=\"1\" class=\"dataframe\">\n",
              "  <thead>\n",
              "    <tr style=\"text-align: right;\">\n",
              "      <th></th>\n",
              "      <th>Survived</th>\n",
              "      <th>Pclass</th>\n",
              "      <th>Sex</th>\n",
              "      <th>Age</th>\n",
              "      <th>SibSp</th>\n",
              "      <th>Parch</th>\n",
              "      <th>Fare</th>\n",
              "      <th>Cabin</th>\n",
              "      <th>Embarked</th>\n",
              "      <th>Age_na</th>\n",
              "    </tr>\n",
              "  </thead>\n",
              "  <tbody>\n",
              "    <tr>\n",
              "      <th>0</th>\n",
              "      <td>0</td>\n",
              "      <td>3</td>\n",
              "      <td>male</td>\n",
              "      <td>22.0</td>\n",
              "      <td>1</td>\n",
              "      <td>0</td>\n",
              "      <td>7.2500</td>\n",
              "      <td>NaN</td>\n",
              "      <td>S</td>\n",
              "      <td>False</td>\n",
              "    </tr>\n",
              "    <tr>\n",
              "      <th>1</th>\n",
              "      <td>1</td>\n",
              "      <td>1</td>\n",
              "      <td>female</td>\n",
              "      <td>38.0</td>\n",
              "      <td>1</td>\n",
              "      <td>0</td>\n",
              "      <td>71.2833</td>\n",
              "      <td>C85</td>\n",
              "      <td>C</td>\n",
              "      <td>False</td>\n",
              "    </tr>\n",
              "    <tr>\n",
              "      <th>2</th>\n",
              "      <td>1</td>\n",
              "      <td>3</td>\n",
              "      <td>female</td>\n",
              "      <td>26.0</td>\n",
              "      <td>0</td>\n",
              "      <td>0</td>\n",
              "      <td>7.9250</td>\n",
              "      <td>NaN</td>\n",
              "      <td>S</td>\n",
              "      <td>False</td>\n",
              "    </tr>\n",
              "    <tr>\n",
              "      <th>3</th>\n",
              "      <td>1</td>\n",
              "      <td>1</td>\n",
              "      <td>female</td>\n",
              "      <td>35.0</td>\n",
              "      <td>1</td>\n",
              "      <td>0</td>\n",
              "      <td>53.1000</td>\n",
              "      <td>C123</td>\n",
              "      <td>S</td>\n",
              "      <td>False</td>\n",
              "    </tr>\n",
              "    <tr>\n",
              "      <th>4</th>\n",
              "      <td>0</td>\n",
              "      <td>3</td>\n",
              "      <td>male</td>\n",
              "      <td>35.0</td>\n",
              "      <td>0</td>\n",
              "      <td>0</td>\n",
              "      <td>8.0500</td>\n",
              "      <td>NaN</td>\n",
              "      <td>S</td>\n",
              "      <td>False</td>\n",
              "    </tr>\n",
              "  </tbody>\n",
              "</table>\n",
              "</div>"
            ],
            "text/plain": [
              "   Survived  Pclass     Sex   Age  SibSp  Parch     Fare Cabin Embarked  Age_na\n",
              "0         0       3    male  22.0      1      0   7.2500   NaN        S   False\n",
              "1         1       1  female  38.0      1      0  71.2833   C85        C   False\n",
              "2         1       3  female  26.0      0      0   7.9250   NaN        S   False\n",
              "3         1       1  female  35.0      1      0  53.1000  C123        S   False\n",
              "4         0       3    male  35.0      0      0   8.0500   NaN        S   False"
            ]
          },
          "metadata": {},
          "execution_count": 50
        }
      ]
    },
    {
      "cell_type": "markdown",
      "metadata": {
        "id": "NAsCLg94DUGw"
      },
      "source": [
        "### Convertimos las columnas a numéricas"
      ]
    },
    {
      "cell_type": "code",
      "metadata": {
        "id": "F-W3XZ5HDUGx",
        "colab": {
          "base_uri": "https://localhost:8080/",
          "height": 206
        },
        "outputId": "012ddeb2-7545-4842-bf7c-1a4f792e1c01"
      },
      "source": [
        "# Hacemos una copia de la data\n",
        "df = df_raw.copy()\n",
        "\n",
        "# Convertimos cada columna categórica a numérica\n",
        "for n,col in df.items():\n",
        "    # n: nombre de la columna\n",
        "    # col: data de la columna\n",
        "    if pd.api.types.is_categorical_dtype(col):\n",
        "        df[n] = col.cat.codes+1\n",
        "        \n",
        "df.head()"
      ],
      "execution_count": 51,
      "outputs": [
        {
          "output_type": "execute_result",
          "data": {
            "text/html": [
              "<div>\n",
              "<style scoped>\n",
              "    .dataframe tbody tr th:only-of-type {\n",
              "        vertical-align: middle;\n",
              "    }\n",
              "\n",
              "    .dataframe tbody tr th {\n",
              "        vertical-align: top;\n",
              "    }\n",
              "\n",
              "    .dataframe thead th {\n",
              "        text-align: right;\n",
              "    }\n",
              "</style>\n",
              "<table border=\"1\" class=\"dataframe\">\n",
              "  <thead>\n",
              "    <tr style=\"text-align: right;\">\n",
              "      <th></th>\n",
              "      <th>Survived</th>\n",
              "      <th>Pclass</th>\n",
              "      <th>Sex</th>\n",
              "      <th>Age</th>\n",
              "      <th>SibSp</th>\n",
              "      <th>Parch</th>\n",
              "      <th>Fare</th>\n",
              "      <th>Cabin</th>\n",
              "      <th>Embarked</th>\n",
              "      <th>Age_na</th>\n",
              "    </tr>\n",
              "  </thead>\n",
              "  <tbody>\n",
              "    <tr>\n",
              "      <th>0</th>\n",
              "      <td>0</td>\n",
              "      <td>3</td>\n",
              "      <td>2</td>\n",
              "      <td>22.0</td>\n",
              "      <td>1</td>\n",
              "      <td>0</td>\n",
              "      <td>7.2500</td>\n",
              "      <td>0</td>\n",
              "      <td>3</td>\n",
              "      <td>False</td>\n",
              "    </tr>\n",
              "    <tr>\n",
              "      <th>1</th>\n",
              "      <td>1</td>\n",
              "      <td>1</td>\n",
              "      <td>1</td>\n",
              "      <td>38.0</td>\n",
              "      <td>1</td>\n",
              "      <td>0</td>\n",
              "      <td>71.2833</td>\n",
              "      <td>82</td>\n",
              "      <td>1</td>\n",
              "      <td>False</td>\n",
              "    </tr>\n",
              "    <tr>\n",
              "      <th>2</th>\n",
              "      <td>1</td>\n",
              "      <td>3</td>\n",
              "      <td>1</td>\n",
              "      <td>26.0</td>\n",
              "      <td>0</td>\n",
              "      <td>0</td>\n",
              "      <td>7.9250</td>\n",
              "      <td>0</td>\n",
              "      <td>3</td>\n",
              "      <td>False</td>\n",
              "    </tr>\n",
              "    <tr>\n",
              "      <th>3</th>\n",
              "      <td>1</td>\n",
              "      <td>1</td>\n",
              "      <td>1</td>\n",
              "      <td>35.0</td>\n",
              "      <td>1</td>\n",
              "      <td>0</td>\n",
              "      <td>53.1000</td>\n",
              "      <td>56</td>\n",
              "      <td>3</td>\n",
              "      <td>False</td>\n",
              "    </tr>\n",
              "    <tr>\n",
              "      <th>4</th>\n",
              "      <td>0</td>\n",
              "      <td>3</td>\n",
              "      <td>2</td>\n",
              "      <td>35.0</td>\n",
              "      <td>0</td>\n",
              "      <td>0</td>\n",
              "      <td>8.0500</td>\n",
              "      <td>0</td>\n",
              "      <td>3</td>\n",
              "      <td>False</td>\n",
              "    </tr>\n",
              "  </tbody>\n",
              "</table>\n",
              "</div>"
            ],
            "text/plain": [
              "   Survived  Pclass  Sex   Age  SibSp  Parch     Fare  Cabin  Embarked  Age_na\n",
              "0         0       3    2  22.0      1      0   7.2500      0         3   False\n",
              "1         1       1    1  38.0      1      0  71.2833     82         1   False\n",
              "2         1       3    1  26.0      0      0   7.9250      0         3   False\n",
              "3         1       1    1  35.0      1      0  53.1000     56         3   False\n",
              "4         0       3    2  35.0      0      0   8.0500      0         3   False"
            ]
          },
          "metadata": {},
          "execution_count": 51
        }
      ]
    },
    {
      "cell_type": "markdown",
      "metadata": {
        "id": "sbqc197eDUGz"
      },
      "source": [
        "## Visualizando data"
      ]
    },
    {
      "cell_type": "code",
      "metadata": {
        "id": "0Szw13l_DUGz",
        "colab": {
          "base_uri": "https://localhost:8080/",
          "height": 334
        },
        "outputId": "7f6203a7-fcb4-4a20-81aa-08c55efcaae2"
      },
      "source": [
        "sns.distplot(df['Age']);"
      ],
      "execution_count": 52,
      "outputs": [
        {
          "output_type": "stream",
          "name": "stderr",
          "text": [
            "/usr/local/lib/python3.7/dist-packages/seaborn/distributions.py:2619: FutureWarning: `distplot` is a deprecated function and will be removed in a future version. Please adapt your code to use either `displot` (a figure-level function with similar flexibility) or `histplot` (an axes-level function for histograms).\n",
            "  warnings.warn(msg, FutureWarning)\n"
          ]
        },
        {
          "output_type": "display_data",
          "data": {
            "image/png": "[encoded data removed]",
            "text/plain": [
              "<Figure size 432x288 with 1 Axes>"
            ]
          },
          "metadata": {
            "needs_background": "light"
          }
        }
      ]
    },
    {
      "cell_type": "code",
      "metadata": {
        "scrolled": false,
        "id": "CfTPIq66DUG4",
        "colab": {
          "base_uri": "https://localhost:8080/",
          "height": 709
        },
        "outputId": "164f901a-1ce3-405a-b465-1777e0f41069"
      },
      "source": [
        "fig, axes = plt.subplots(nrows=2, ncols=5, figsize=(13,5))\n",
        "df['Age_na'] = df['Age_na'].astype(np.float32)\n",
        "for c,ax in zip(df, axes.flatten()):\n",
        "    sns.distplot(df[c], ax=ax)\n",
        "    \n",
        "plt.tight_layout()"
      ],
      "execution_count": 53,
      "outputs": [
        {
          "output_type": "stream",
          "name": "stderr",
          "text": [
            "/usr/local/lib/python3.7/dist-packages/seaborn/distributions.py:2619: FutureWarning: `distplot` is a deprecated function and will be removed in a future version. Please adapt your code to use either `displot` (a figure-level function with similar flexibility) or `histplot` (an axes-level function for histograms).\n",
            "  warnings.warn(msg, FutureWarning)\n",
            "/usr/local/lib/python3.7/dist-packages/seaborn/distributions.py:2619: FutureWarning: `distplot` is a deprecated function and will be removed in a future version. Please adapt your code to use either `displot` (a figure-level function with similar flexibility) or `histplot` (an axes-level function for histograms).\n",
            "  warnings.warn(msg, FutureWarning)\n",
            "/usr/local/lib/python3.7/dist-packages/seaborn/distributions.py:2619: FutureWarning: `distplot` is a deprecated function and will be removed in a future version. Please adapt your code to use either `displot` (a figure-level function with similar flexibility) or `histplot` (an axes-level function for histograms).\n",
            "  warnings.warn(msg, FutureWarning)\n",
            "/usr/local/lib/python3.7/dist-packages/seaborn/distributions.py:2619: FutureWarning: `distplot` is a deprecated function and will be removed in a future version. Please adapt your code to use either `displot` (a figure-level function with similar flexibility) or `histplot` (an axes-level function for histograms).\n",
            "  warnings.warn(msg, FutureWarning)\n",
            "/usr/local/lib/python3.7/dist-packages/seaborn/distributions.py:2619: FutureWarning: `distplot` is a deprecated function and will be removed in a future version. Please adapt your code to use either `displot` (a figure-level function with similar flexibility) or `histplot` (an axes-level function for histograms).\n",
            "  warnings.warn(msg, FutureWarning)\n",
            "/usr/local/lib/python3.7/dist-packages/seaborn/distributions.py:2619: FutureWarning: `distplot` is a deprecated function and will be removed in a future version. Please adapt your code to use either `displot` (a figure-level function with similar flexibility) or `histplot` (an axes-level function for histograms).\n",
            "  warnings.warn(msg, FutureWarning)\n",
            "/usr/local/lib/python3.7/dist-packages/seaborn/distributions.py:2619: FutureWarning: `distplot` is a deprecated function and will be removed in a future version. Please adapt your code to use either `displot` (a figure-level function with similar flexibility) or `histplot` (an axes-level function for histograms).\n",
            "  warnings.warn(msg, FutureWarning)\n",
            "/usr/local/lib/python3.7/dist-packages/seaborn/distributions.py:2619: FutureWarning: `distplot` is a deprecated function and will be removed in a future version. Please adapt your code to use either `displot` (a figure-level function with similar flexibility) or `histplot` (an axes-level function for histograms).\n",
            "  warnings.warn(msg, FutureWarning)\n",
            "/usr/local/lib/python3.7/dist-packages/seaborn/distributions.py:2619: FutureWarning: `distplot` is a deprecated function and will be removed in a future version. Please adapt your code to use either `displot` (a figure-level function with similar flexibility) or `histplot` (an axes-level function for histograms).\n",
            "  warnings.warn(msg, FutureWarning)\n",
            "/usr/local/lib/python3.7/dist-packages/seaborn/distributions.py:2619: FutureWarning: `distplot` is a deprecated function and will be removed in a future version. Please adapt your code to use either `displot` (a figure-level function with similar flexibility) or `histplot` (an axes-level function for histograms).\n",
            "  warnings.warn(msg, FutureWarning)\n"
          ]
        },
        {
          "output_type": "display_data",
          "data": {
            "image/png": "[encoded data removed]",
            "text/plain": [
              "<Figure size 936x360 with 10 Axes>"
            ]
          },
          "metadata": {
            "needs_background": "light"
          }
        }
      ]
    },
    {
      "cell_type": "markdown",
      "metadata": {
        "id": "1kiIqVQ6DUG6"
      },
      "source": [
        "# Entrenar modelo"
      ]
    },
    {
      "cell_type": "code",
      "metadata": {
        "id": "yZVYYaeFDUG7"
      },
      "source": [
        "x = df.drop('Survived', axis=1)\n",
        "y = df['Survived']"
      ],
      "execution_count": 54,
      "outputs": []
    },
    {
      "cell_type": "code",
      "metadata": {
        "id": "J5RN5SXxDUHA",
        "colab": {
          "base_uri": "https://localhost:8080/"
        },
        "outputId": "3e219f10-511c-4dca-ec45-815283991686"
      },
      "source": [
        "# Entrenamos un arbol con poca profundidad, para visualizarlo comodamente:\n",
        "m = DecisionTreeClassifier(max_depth=3)\n",
        "m.fit(x, y)"
      ],
      "execution_count": 55,
      "outputs": [
        {
          "output_type": "execute_result",
          "data": {
            "text/plain": [
              "DecisionTreeClassifier(ccp_alpha=0.0, class_weight=None, criterion='gini',\n",
              "                       max_depth=3, max_features=None, max_leaf_nodes=None,\n",
              "                       min_impurity_decrease=0.0, min_impurity_split=None,\n",
              "                       min_samples_leaf=1, min_samples_split=2,\n",
              "                       min_weight_fraction_leaf=0.0, presort='deprecated',\n",
              "                       random_state=None, splitter='best')"
            ]
          },
          "metadata": {},
          "execution_count": 55
        }
      ]
    },
    {
      "cell_type": "code",
      "metadata": {
        "id": "I51QtmyMDUHC",
        "colab": {
          "base_uri": "https://localhost:8080/"
        },
        "outputId": "96d4be34-7556-446d-ca74-81f0756b6ab6"
      },
      "source": [
        "m.score(x, y)"
      ],
      "execution_count": 56,
      "outputs": [
        {
          "output_type": "execute_result",
          "data": {
            "text/plain": [
              "0.8237934904601572"
            ]
          },
          "metadata": {},
          "execution_count": 56
        }
      ]
    },
    {
      "cell_type": "code",
      "metadata": {
        "id": "SQer4Q1KDUHE",
        "colab": {
          "base_uri": "https://localhost:8080/",
          "height": 539
        },
        "outputId": "3d3b3d50-a934-48fc-9ca4-ed64400a649d"
      },
      "source": [
        "utils.draw_tree(m, x)"
      ],
      "execution_count": 57,
      "outputs": [
        {
          "output_type": "execute_result",
          "data": {
            "text/plain": [
              "<graphviz.files.Source at 0x7fc11bd9f9d0>"
            ],
            "image/svg+xml": "<?xml version=\"1.0\" encoding=\"UTF-8\" standalone=\"no\"?>\n<!DOCTYPE svg PUBLIC \"-//W3C//DTD SVG 1.1//EN\"\n \"http://www.w3.org/Graphics/SVG/1.1/DTD/svg11.dtd\">\n<!-- Generated by graphviz version 2.40.1 (20161225.0304)\n -->\n<!-- Title: Tree Pages: 1 -->\n<svg width=\"970pt\" height=\"373pt\"\n viewBox=\"0.00 0.00 969.50 373.00\" xmlns=\"http://www.w3.org/2000/svg\" xmlns:xlink=\"http://www.w3.org/1999/xlink\">\n<g id=\"graph0\" class=\"graph\" transform=\"scale(1 1) rotate(0) translate(4 369)\">\n<title>Tree</title>\n<polygon fill=\"#ffffff\" stroke=\"transparent\" points=\"-4,4 -4,-369 965.5,-369 965.5,4 -4,4\"/>\n<!-- 0 -->\n<g id=\"node1\" class=\"node\">\n<title>0</title>\n<polygon fill=\"#f5cfb4\" stroke=\"#000000\" points=\"530,-365 405,-365 405,-297 530,-297 530,-365\"/>\n<text text-anchor=\"middle\" x=\"467.5\" y=\"-349.8\" font-family=\"Times,serif\" font-size=\"14.00\" fill=\"#000000\">Sex &lt;= 1.5</text>\n<text text-anchor=\"middle\" x=\"467.5\" y=\"-334.8\" font-family=\"Times,serif\" font-size=\"14.00\" fill=\"#000000\">gini = 0.473</text>\n<text text-anchor=\"middle\" x=\"467.5\" y=\"-319.8\" font-family=\"Times,serif\" font-size=\"14.00\" fill=\"#000000\">samples = 891</text>\n<text text-anchor=\"middle\" x=\"467.5\" y=\"-304.8\" font-family=\"Times,serif\" font-size=\"14.00\" fill=\"#000000\">value = [549, 342]</text>\n</g>\n<!-- 1 -->\n<g id=\"node2\" class=\"node\">\n<title>1</title>\n<polygon fill=\"#7ebfee\" stroke=\"#000000\" points=\"406,-261 289,-261 289,-193 406,-193 406,-261\"/>\n<text text-anchor=\"middle\" x=\"347.5\" y=\"-245.8\" font-family=\"Times,serif\" font-size=\"14.00\" fill=\"#000000\">Pclass &lt;= 2.5</text>\n<text text-anchor=\"middle\" x=\"347.5\" y=\"-230.8\" font-family=\"Times,serif\" font-size=\"14.00\" fill=\"#000000\">gini = 0.383</text>\n<text text-anchor=\"middle\" x=\"347.5\" y=\"-215.8\" font-family=\"Times,serif\" font-size=\"14.00\" fill=\"#000000\">samples = 314</text>\n<text text-anchor=\"middle\" x=\"347.5\" y=\"-200.8\" font-family=\"Times,serif\" font-size=\"14.00\" fill=\"#000000\">value = [81, 233]</text>\n</g>\n<!-- 0&#45;&gt;1 -->\n<g id=\"edge1\" class=\"edge\">\n<title>0&#45;&gt;1</title>\n<path fill=\"none\" stroke=\"#000000\" d=\"M428.2075,-296.9465C417.4333,-287.6088 405.6436,-277.3911 394.485,-267.7203\"/>\n<polygon fill=\"#000000\" stroke=\"#000000\" points=\"396.7299,-265.0344 386.8808,-261.13 392.1454,-270.3243 396.7299,-265.0344\"/>\n<text text-anchor=\"middle\" x=\"388.6619\" y=\"-282.3665\" font-family=\"Times,serif\" font-size=\"14.00\" fill=\"#000000\">True</text>\n</g>\n<!-- 8 -->\n<g id=\"node9\" class=\"node\">\n<title>8</title>\n<polygon fill=\"#eb9e67\" stroke=\"#000000\" points=\"658,-261 533,-261 533,-193 658,-193 658,-261\"/>\n<text text-anchor=\"middle\" x=\"595.5\" y=\"-245.8\" font-family=\"Times,serif\" font-size=\"14.00\" fill=\"#000000\">Cabin &lt;= 4.5</text>\n<text text-anchor=\"middle\" x=\"595.5\" y=\"-230.8\" font-family=\"Times,serif\" font-size=\"14.00\" fill=\"#000000\">gini = 0.306</text>\n<text text-anchor=\"middle\" x=\"595.5\" y=\"-215.8\" font-family=\"Times,serif\" font-size=\"14.00\" fill=\"#000000\">samples = 577</text>\n<text text-anchor=\"middle\" x=\"595.5\" y=\"-200.8\" font-family=\"Times,serif\" font-size=\"14.00\" fill=\"#000000\">value = [468, 109]</text>\n</g>\n<!-- 0&#45;&gt;8 -->\n<g id=\"edge8\" class=\"edge\">\n<title>0&#45;&gt;8</title>\n<path fill=\"none\" stroke=\"#000000\" d=\"M509.412,-296.9465C521.015,-287.519 533.7221,-277.1946 545.7259,-267.4415\"/>\n<polygon fill=\"#000000\" stroke=\"#000000\" points=\"547.9398,-270.1524 553.4939,-261.13 543.5256,-264.7196 547.9398,-270.1524\"/>\n<text text-anchor=\"middle\" x=\"550.9214\" y=\"-282.2973\" font-family=\"Times,serif\" font-size=\"14.00\" fill=\"#000000\">False</text>\n</g>\n<!-- 2 -->\n<g id=\"node3\" class=\"node\">\n<title>2</title>\n<polygon fill=\"#44a2e6\" stroke=\"#000000\" points=\"223.5,-157 113.5,-157 113.5,-89 223.5,-89 223.5,-157\"/>\n<text text-anchor=\"middle\" x=\"168.5\" y=\"-141.8\" font-family=\"Times,serif\" font-size=\"14.00\" fill=\"#000000\">Age &lt;= 2.5</text>\n<text text-anchor=\"middle\" x=\"168.5\" y=\"-126.8\" font-family=\"Times,serif\" font-size=\"14.00\" fill=\"#000000\">gini = 0.1</text>\n<text text-anchor=\"middle\" x=\"168.5\" y=\"-111.8\" font-family=\"Times,serif\" font-size=\"14.00\" fill=\"#000000\">samples = 170</text>\n<text text-anchor=\"middle\" x=\"168.5\" y=\"-96.8\" font-family=\"Times,serif\" font-size=\"14.00\" fill=\"#000000\">value = [9, 161]</text>\n</g>\n<!-- 1&#45;&gt;2 -->\n<g id=\"edge2\" class=\"edge\">\n<title>1&#45;&gt;2</title>\n<path fill=\"none\" stroke=\"#000000\" d=\"M288.8887,-192.9465C270.8384,-182.4592 250.8776,-170.8619 232.4854,-160.1759\"/>\n<polygon fill=\"#000000\" stroke=\"#000000\" points=\"234.0027,-157.0096 223.5978,-155.0121 230.486,-163.0622 234.0027,-157.0096\"/>\n</g>\n<!-- 5 -->\n<g id=\"node6\" class=\"node\">\n<title>5</title>\n<polygon fill=\"#ffffff\" stroke=\"#000000\" points=\"402.5,-157 292.5,-157 292.5,-89 402.5,-89 402.5,-157\"/>\n<text text-anchor=\"middle\" x=\"347.5\" y=\"-141.8\" font-family=\"Times,serif\" font-size=\"14.00\" fill=\"#000000\">Fare &lt;= 23.35</text>\n<text text-anchor=\"middle\" x=\"347.5\" y=\"-126.8\" font-family=\"Times,serif\" font-size=\"14.00\" fill=\"#000000\">gini = 0.5</text>\n<text text-anchor=\"middle\" x=\"347.5\" y=\"-111.8\" font-family=\"Times,serif\" font-size=\"14.00\" fill=\"#000000\">samples = 144</text>\n<text text-anchor=\"middle\" x=\"347.5\" y=\"-96.8\" font-family=\"Times,serif\" font-size=\"14.00\" fill=\"#000000\">value = [72, 72]</text>\n</g>\n<!-- 1&#45;&gt;5 -->\n<g id=\"edge5\" class=\"edge\">\n<title>1&#45;&gt;5</title>\n<path fill=\"none\" stroke=\"#000000\" d=\"M347.5,-192.9465C347.5,-184.776 347.5,-175.9318 347.5,-167.3697\"/>\n<polygon fill=\"#000000\" stroke=\"#000000\" points=\"351.0001,-167.13 347.5,-157.13 344.0001,-167.13 351.0001,-167.13\"/>\n</g>\n<!-- 3 -->\n<g id=\"node4\" class=\"node\">\n<title>3</title>\n<polygon fill=\"#ffffff\" stroke=\"#000000\" points=\"95,-53 0,-53 0,0 95,0 95,-53\"/>\n<text text-anchor=\"middle\" x=\"47.5\" y=\"-37.8\" font-family=\"Times,serif\" font-size=\"14.00\" fill=\"#000000\">gini = 0.5</text>\n<text text-anchor=\"middle\" x=\"47.5\" y=\"-22.8\" font-family=\"Times,serif\" font-size=\"14.00\" fill=\"#000000\">samples = 2</text>\n<text text-anchor=\"middle\" x=\"47.5\" y=\"-7.8\" font-family=\"Times,serif\" font-size=\"14.00\" fill=\"#000000\">value = [1, 1]</text>\n</g>\n<!-- 2&#45;&gt;3 -->\n<g id=\"edge3\" class=\"edge\">\n<title>2&#45;&gt;3</title>\n<path fill=\"none\" stroke=\"#000000\" d=\"M125.8399,-88.9777C113.8989,-79.4545 100.9395,-69.1191 89.063,-59.6473\"/>\n<polygon fill=\"#000000\" stroke=\"#000000\" points=\"91.04,-56.7473 81.0395,-53.2485 86.6754,-62.22 91.04,-56.7473\"/>\n</g>\n<!-- 4 -->\n<g id=\"node5\" class=\"node\">\n<title>4</title>\n<polygon fill=\"#43a2e6\" stroke=\"#000000\" points=\"223.5,-53 113.5,-53 113.5,0 223.5,0 223.5,-53\"/>\n<text text-anchor=\"middle\" x=\"168.5\" y=\"-37.8\" font-family=\"Times,serif\" font-size=\"14.00\" fill=\"#000000\">gini = 0.091</text>\n<text text-anchor=\"middle\" x=\"168.5\" y=\"-22.8\" font-family=\"Times,serif\" font-size=\"14.00\" fill=\"#000000\">samples = 168</text>\n<text text-anchor=\"middle\" x=\"168.5\" y=\"-7.8\" font-family=\"Times,serif\" font-size=\"14.00\" fill=\"#000000\">value = [8, 160]</text>\n</g>\n<!-- 2&#45;&gt;4 -->\n<g id=\"edge4\" class=\"edge\">\n<title>2&#45;&gt;4</title>\n<path fill=\"none\" stroke=\"#000000\" d=\"M168.5,-88.9777C168.5,-80.7364 168.5,-71.887 168.5,-63.5153\"/>\n<polygon fill=\"#000000\" stroke=\"#000000\" points=\"172.0001,-63.2484 168.5,-53.2485 165.0001,-63.2485 172.0001,-63.2484\"/>\n</g>\n<!-- 6 -->\n<g id=\"node7\" class=\"node\">\n<title>6</title>\n<polygon fill=\"#c3e1f7\" stroke=\"#000000\" points=\"351.5,-53 241.5,-53 241.5,0 351.5,0 351.5,-53\"/>\n<text text-anchor=\"middle\" x=\"296.5\" y=\"-37.8\" font-family=\"Times,serif\" font-size=\"14.00\" fill=\"#000000\">gini = 0.484</text>\n<text text-anchor=\"middle\" x=\"296.5\" y=\"-22.8\" font-family=\"Times,serif\" font-size=\"14.00\" fill=\"#000000\">samples = 117</text>\n<text text-anchor=\"middle\" x=\"296.5\" y=\"-7.8\" font-family=\"Times,serif\" font-size=\"14.00\" fill=\"#000000\">value = [48, 69]</text>\n</g>\n<!-- 5&#45;&gt;6 -->\n<g id=\"edge6\" class=\"edge\">\n<title>5&#45;&gt;6</title>\n<path fill=\"none\" stroke=\"#000000\" d=\"M329.5193,-88.9777C324.9218,-80.2786 319.9663,-70.9018 315.3275,-62.1247\"/>\n<polygon fill=\"#000000\" stroke=\"#000000\" points=\"318.4035,-60.4543 310.6365,-53.2485 312.2147,-63.7251 318.4035,-60.4543\"/>\n</g>\n<!-- 7 -->\n<g id=\"node8\" class=\"node\">\n<title>7</title>\n<polygon fill=\"#e89152\" stroke=\"#000000\" points=\"471.5,-53 369.5,-53 369.5,0 471.5,0 471.5,-53\"/>\n<text text-anchor=\"middle\" x=\"420.5\" y=\"-37.8\" font-family=\"Times,serif\" font-size=\"14.00\" fill=\"#000000\">gini = 0.198</text>\n<text text-anchor=\"middle\" x=\"420.5\" y=\"-22.8\" font-family=\"Times,serif\" font-size=\"14.00\" fill=\"#000000\">samples = 27</text>\n<text text-anchor=\"middle\" x=\"420.5\" y=\"-7.8\" font-family=\"Times,serif\" font-size=\"14.00\" fill=\"#000000\">value = [24, 3]</text>\n</g>\n<!-- 5&#45;&gt;7 -->\n<g id=\"edge7\" class=\"edge\">\n<title>5&#45;&gt;7</title>\n<path fill=\"none\" stroke=\"#000000\" d=\"M373.2371,-88.9777C380.0256,-80.0039 387.3596,-70.3089 394.1784,-61.295\"/>\n<polygon fill=\"#000000\" stroke=\"#000000\" points=\"397.0237,-63.3352 400.2654,-53.2485 391.441,-59.1121 397.0237,-63.3352\"/>\n</g>\n<!-- 9 -->\n<g id=\"node10\" class=\"node\">\n<title>9</title>\n<polygon fill=\"#e99558\" stroke=\"#000000\" points=\"654,-157 537,-157 537,-89 654,-89 654,-157\"/>\n<text text-anchor=\"middle\" x=\"595.5\" y=\"-141.8\" font-family=\"Times,serif\" font-size=\"14.00\" fill=\"#000000\">Age &lt;= 3.5</text>\n<text text-anchor=\"middle\" x=\"595.5\" y=\"-126.8\" font-family=\"Times,serif\" font-size=\"14.00\" fill=\"#000000\">gini = 0.234</text>\n<text text-anchor=\"middle\" x=\"595.5\" y=\"-111.8\" font-family=\"Times,serif\" font-size=\"14.00\" fill=\"#000000\">samples = 473</text>\n<text text-anchor=\"middle\" x=\"595.5\" y=\"-96.8\" font-family=\"Times,serif\" font-size=\"14.00\" fill=\"#000000\">value = [409, 64]</text>\n</g>\n<!-- 8&#45;&gt;9 -->\n<g id=\"edge9\" class=\"edge\">\n<title>8&#45;&gt;9</title>\n<path fill=\"none\" stroke=\"#000000\" d=\"M595.5,-192.9465C595.5,-184.776 595.5,-175.9318 595.5,-167.3697\"/>\n<polygon fill=\"#000000\" stroke=\"#000000\" points=\"599.0001,-167.13 595.5,-157.13 592.0001,-167.13 599.0001,-167.13\"/>\n</g>\n<!-- 12 -->\n<g id=\"node13\" class=\"node\">\n<title>12</title>\n<polygon fill=\"#f9e1d0\" stroke=\"#000000\" points=\"840.5,-157 730.5,-157 730.5,-89 840.5,-89 840.5,-157\"/>\n<text text-anchor=\"middle\" x=\"785.5\" y=\"-141.8\" font-family=\"Times,serif\" font-size=\"14.00\" fill=\"#000000\">Age &lt;= 17.5</text>\n<text text-anchor=\"middle\" x=\"785.5\" y=\"-126.8\" font-family=\"Times,serif\" font-size=\"14.00\" fill=\"#000000\">gini = 0.491</text>\n<text text-anchor=\"middle\" x=\"785.5\" y=\"-111.8\" font-family=\"Times,serif\" font-size=\"14.00\" fill=\"#000000\">samples = 104</text>\n<text text-anchor=\"middle\" x=\"785.5\" y=\"-96.8\" font-family=\"Times,serif\" font-size=\"14.00\" fill=\"#000000\">value = [59, 45]</text>\n</g>\n<!-- 8&#45;&gt;12 -->\n<g id=\"edge12\" class=\"edge\">\n<title>8&#45;&gt;12</title>\n<path fill=\"none\" stroke=\"#000000\" d=\"M657.7131,-192.9465C678.0766,-181.8002 700.731,-169.3999 721.2423,-158.1726\"/>\n<polygon fill=\"#000000\" stroke=\"#000000\" points=\"723.1017,-161.1449 730.1931,-153.2732 719.7407,-155.0046 723.1017,-161.1449\"/>\n</g>\n<!-- 10 -->\n<g id=\"node11\" class=\"node\">\n<title>10</title>\n<polygon fill=\"#a7d3f3\" stroke=\"#000000\" points=\"585,-53 490,-53 490,0 585,0 585,-53\"/>\n<text text-anchor=\"middle\" x=\"537.5\" y=\"-37.8\" font-family=\"Times,serif\" font-size=\"14.00\" fill=\"#000000\">gini = 0.459</text>\n<text text-anchor=\"middle\" x=\"537.5\" y=\"-22.8\" font-family=\"Times,serif\" font-size=\"14.00\" fill=\"#000000\">samples = 14</text>\n<text text-anchor=\"middle\" x=\"537.5\" y=\"-7.8\" font-family=\"Times,serif\" font-size=\"14.00\" fill=\"#000000\">value = [5, 9]</text>\n</g>\n<!-- 9&#45;&gt;10 -->\n<g id=\"edge10\" class=\"edge\">\n<title>9&#45;&gt;10</title>\n<path fill=\"none\" stroke=\"#000000\" d=\"M575.0514,-88.9777C569.7678,-80.187 564.0684,-70.7044 558.7452,-61.8477\"/>\n<polygon fill=\"#000000\" stroke=\"#000000\" points=\"561.7282,-60.0165 553.5768,-53.2485 555.7285,-63.6225 561.7282,-60.0165\"/>\n</g>\n<!-- 11 -->\n<g id=\"node12\" class=\"node\">\n<title>11</title>\n<polygon fill=\"#e99254\" stroke=\"#000000\" points=\"720,-53 603,-53 603,0 720,0 720,-53\"/>\n<text text-anchor=\"middle\" x=\"661.5\" y=\"-37.8\" font-family=\"Times,serif\" font-size=\"14.00\" fill=\"#000000\">gini = 0.211</text>\n<text text-anchor=\"middle\" x=\"661.5\" y=\"-22.8\" font-family=\"Times,serif\" font-size=\"14.00\" fill=\"#000000\">samples = 459</text>\n<text text-anchor=\"middle\" x=\"661.5\" y=\"-7.8\" font-family=\"Times,serif\" font-size=\"14.00\" fill=\"#000000\">value = [404, 55]</text>\n</g>\n<!-- 9&#45;&gt;11 -->\n<g id=\"edge11\" class=\"edge\">\n<title>9&#45;&gt;11</title>\n<path fill=\"none\" stroke=\"#000000\" d=\"M618.7691,-88.9777C624.844,-80.0954 631.4021,-70.5067 637.5135,-61.5711\"/>\n<polygon fill=\"#000000\" stroke=\"#000000\" points=\"640.4493,-63.4785 643.2057,-53.2485 634.6714,-59.5267 640.4493,-63.4785\"/>\n</g>\n<!-- 13 -->\n<g id=\"node14\" class=\"node\">\n<title>13</title>\n<polygon fill=\"#399de5\" stroke=\"#000000\" points=\"833,-53 738,-53 738,0 833,0 833,-53\"/>\n<text text-anchor=\"middle\" x=\"785.5\" y=\"-37.8\" font-family=\"Times,serif\" font-size=\"14.00\" fill=\"#000000\">gini = 0.0</text>\n<text text-anchor=\"middle\" x=\"785.5\" y=\"-22.8\" font-family=\"Times,serif\" font-size=\"14.00\" fill=\"#000000\">samples = 8</text>\n<text text-anchor=\"middle\" x=\"785.5\" y=\"-7.8\" font-family=\"Times,serif\" font-size=\"14.00\" fill=\"#000000\">value = [0, 8]</text>\n</g>\n<!-- 12&#45;&gt;13 -->\n<g id=\"edge13\" class=\"edge\">\n<title>12&#45;&gt;13</title>\n<path fill=\"none\" stroke=\"#000000\" d=\"M785.5,-88.9777C785.5,-80.7364 785.5,-71.887 785.5,-63.5153\"/>\n<polygon fill=\"#000000\" stroke=\"#000000\" points=\"789.0001,-63.2484 785.5,-53.2485 782.0001,-63.2485 789.0001,-63.2484\"/>\n</g>\n<!-- 14 -->\n<g id=\"node15\" class=\"node\">\n<title>14</title>\n<polygon fill=\"#f5d0b5\" stroke=\"#000000\" points=\"961.5,-53 851.5,-53 851.5,0 961.5,0 961.5,-53\"/>\n<text text-anchor=\"middle\" x=\"906.5\" y=\"-37.8\" font-family=\"Times,serif\" font-size=\"14.00\" fill=\"#000000\">gini = 0.474</text>\n<text text-anchor=\"middle\" x=\"906.5\" y=\"-22.8\" font-family=\"Times,serif\" font-size=\"14.00\" fill=\"#000000\">samples = 96</text>\n<text text-anchor=\"middle\" x=\"906.5\" y=\"-7.8\" font-family=\"Times,serif\" font-size=\"14.00\" fill=\"#000000\">value = [59, 37]</text>\n</g>\n<!-- 12&#45;&gt;14 -->\n<g id=\"edge14\" class=\"edge\">\n<title>12&#45;&gt;14</title>\n<path fill=\"none\" stroke=\"#000000\" d=\"M828.1601,-88.9777C840.1011,-79.4545 853.0605,-69.1191 864.937,-59.6473\"/>\n<polygon fill=\"#000000\" stroke=\"#000000\" points=\"867.3246,-62.22 872.9605,-53.2485 862.96,-56.7473 867.3246,-62.22\"/>\n</g>\n</g>\n</svg>\n"
          },
          "metadata": {},
          "execution_count": 57
        }
      ]
    },
    {
      "cell_type": "markdown",
      "metadata": {
        "id": "OTp10VAMDUHG"
      },
      "source": [
        "## Usar el modelo en otro conjunto de data"
      ]
    },
    {
      "cell_type": "markdown",
      "metadata": {
        "id": "zDWQL_xcDUHH"
      },
      "source": [
        "### Cargar/preprocesar la data"
      ]
    },
    {
      "cell_type": "code",
      "metadata": {
        "id": "JyU7KMIzDUHH",
        "colab": {
          "base_uri": "https://localhost:8080/",
          "height": 206
        },
        "outputId": "bc20c976-b61c-46d6-bae0-8320b5b63b12"
      },
      "source": [
        "df_test = pd.read_csv('data/titanic_test.csv')\n",
        "df_test.drop(['PassengerId', 'Name', 'Ticket'], axis=1, inplace=True)\n",
        "df_test.head()"
      ],
      "execution_count": 58,
      "outputs": [
        {
          "output_type": "execute_result",
          "data": {
            "text/html": [
              "<div>\n",
              "<style scoped>\n",
              "    .dataframe tbody tr th:only-of-type {\n",
              "        vertical-align: middle;\n",
              "    }\n",
              "\n",
              "    .dataframe tbody tr th {\n",
              "        vertical-align: top;\n",
              "    }\n",
              "\n",
              "    .dataframe thead th {\n",
              "        text-align: right;\n",
              "    }\n",
              "</style>\n",
              "<table border=\"1\" class=\"dataframe\">\n",
              "  <thead>\n",
              "    <tr style=\"text-align: right;\">\n",
              "      <th></th>\n",
              "      <th>Pclass</th>\n",
              "      <th>Sex</th>\n",
              "      <th>Age</th>\n",
              "      <th>SibSp</th>\n",
              "      <th>Parch</th>\n",
              "      <th>Fare</th>\n",
              "      <th>Cabin</th>\n",
              "      <th>Embarked</th>\n",
              "    </tr>\n",
              "  </thead>\n",
              "  <tbody>\n",
              "    <tr>\n",
              "      <th>0</th>\n",
              "      <td>3</td>\n",
              "      <td>male</td>\n",
              "      <td>34.5</td>\n",
              "      <td>0</td>\n",
              "      <td>0</td>\n",
              "      <td>7.8292</td>\n",
              "      <td>NaN</td>\n",
              "      <td>Q</td>\n",
              "    </tr>\n",
              "    <tr>\n",
              "      <th>1</th>\n",
              "      <td>3</td>\n",
              "      <td>female</td>\n",
              "      <td>47.0</td>\n",
              "      <td>1</td>\n",
              "      <td>0</td>\n",
              "      <td>7.0000</td>\n",
              "      <td>NaN</td>\n",
              "      <td>S</td>\n",
              "    </tr>\n",
              "    <tr>\n",
              "      <th>2</th>\n",
              "      <td>2</td>\n",
              "      <td>male</td>\n",
              "      <td>62.0</td>\n",
              "      <td>0</td>\n",
              "      <td>0</td>\n",
              "      <td>9.6875</td>\n",
              "      <td>NaN</td>\n",
              "      <td>Q</td>\n",
              "    </tr>\n",
              "    <tr>\n",
              "      <th>3</th>\n",
              "      <td>3</td>\n",
              "      <td>male</td>\n",
              "      <td>27.0</td>\n",
              "      <td>0</td>\n",
              "      <td>0</td>\n",
              "      <td>8.6625</td>\n",
              "      <td>NaN</td>\n",
              "      <td>S</td>\n",
              "    </tr>\n",
              "    <tr>\n",
              "      <th>4</th>\n",
              "      <td>3</td>\n",
              "      <td>female</td>\n",
              "      <td>22.0</td>\n",
              "      <td>1</td>\n",
              "      <td>1</td>\n",
              "      <td>12.2875</td>\n",
              "      <td>NaN</td>\n",
              "      <td>S</td>\n",
              "    </tr>\n",
              "  </tbody>\n",
              "</table>\n",
              "</div>"
            ],
            "text/plain": [
              "   Pclass     Sex   Age  SibSp  Parch     Fare Cabin Embarked\n",
              "0       3    male  34.5      0      0   7.8292   NaN        Q\n",
              "1       3  female  47.0      1      0   7.0000   NaN        S\n",
              "2       2    male  62.0      0      0   9.6875   NaN        Q\n",
              "3       3    male  27.0      0      0   8.6625   NaN        S\n",
              "4       3  female  22.0      1      1  12.2875   NaN        S"
            ]
          },
          "metadata": {},
          "execution_count": 58
        }
      ]
    },
    {
      "cell_type": "code",
      "metadata": {
        "id": "t07umeB7DUHM",
        "colab": {
          "base_uri": "https://localhost:8080/"
        },
        "outputId": "4d63c422-d6f5-4d1f-dfab-8fafffe147cd"
      },
      "source": [
        "# Necesitamos crear columnas para la data faltante que usamos al entrenar\n",
        "[c[:-3] for c in df if c.endswith('_na')]"
      ],
      "execution_count": 59,
      "outputs": [
        {
          "output_type": "execute_result",
          "data": {
            "text/plain": [
              "['Age']"
            ]
          },
          "metadata": {},
          "execution_count": 59
        }
      ]
    },
    {
      "cell_type": "code",
      "metadata": {
        "id": "3_TA2N4ZDUHP",
        "colab": {
          "base_uri": "https://localhost:8080/",
          "height": 206
        },
        "outputId": "af869857-9d76-4c6c-f6bd-836ef7a719f7"
      },
      "source": [
        "for col in [c[:-3] for c in df if c.endswith('_na')]:\n",
        "    df_test[col+'_na'] = df_test[col].isna()\n",
        "    \n",
        "df_test.head()"
      ],
      "execution_count": 60,
      "outputs": [
        {
          "output_type": "execute_result",
          "data": {
            "text/html": [
              "<div>\n",
              "<style scoped>\n",
              "    .dataframe tbody tr th:only-of-type {\n",
              "        vertical-align: middle;\n",
              "    }\n",
              "\n",
              "    .dataframe tbody tr th {\n",
              "        vertical-align: top;\n",
              "    }\n",
              "\n",
              "    .dataframe thead th {\n",
              "        text-align: right;\n",
              "    }\n",
              "</style>\n",
              "<table border=\"1\" class=\"dataframe\">\n",
              "  <thead>\n",
              "    <tr style=\"text-align: right;\">\n",
              "      <th></th>\n",
              "      <th>Pclass</th>\n",
              "      <th>Sex</th>\n",
              "      <th>Age</th>\n",
              "      <th>SibSp</th>\n",
              "      <th>Parch</th>\n",
              "      <th>Fare</th>\n",
              "      <th>Cabin</th>\n",
              "      <th>Embarked</th>\n",
              "      <th>Age_na</th>\n",
              "    </tr>\n",
              "  </thead>\n",
              "  <tbody>\n",
              "    <tr>\n",
              "      <th>0</th>\n",
              "      <td>3</td>\n",
              "      <td>male</td>\n",
              "      <td>34.5</td>\n",
              "      <td>0</td>\n",
              "      <td>0</td>\n",
              "      <td>7.8292</td>\n",
              "      <td>NaN</td>\n",
              "      <td>Q</td>\n",
              "      <td>False</td>\n",
              "    </tr>\n",
              "    <tr>\n",
              "      <th>1</th>\n",
              "      <td>3</td>\n",
              "      <td>female</td>\n",
              "      <td>47.0</td>\n",
              "      <td>1</td>\n",
              "      <td>0</td>\n",
              "      <td>7.0000</td>\n",
              "      <td>NaN</td>\n",
              "      <td>S</td>\n",
              "      <td>False</td>\n",
              "    </tr>\n",
              "    <tr>\n",
              "      <th>2</th>\n",
              "      <td>2</td>\n",
              "      <td>male</td>\n",
              "      <td>62.0</td>\n",
              "      <td>0</td>\n",
              "      <td>0</td>\n",
              "      <td>9.6875</td>\n",
              "      <td>NaN</td>\n",
              "      <td>Q</td>\n",
              "      <td>False</td>\n",
              "    </tr>\n",
              "    <tr>\n",
              "      <th>3</th>\n",
              "      <td>3</td>\n",
              "      <td>male</td>\n",
              "      <td>27.0</td>\n",
              "      <td>0</td>\n",
              "      <td>0</td>\n",
              "      <td>8.6625</td>\n",
              "      <td>NaN</td>\n",
              "      <td>S</td>\n",
              "      <td>False</td>\n",
              "    </tr>\n",
              "    <tr>\n",
              "      <th>4</th>\n",
              "      <td>3</td>\n",
              "      <td>female</td>\n",
              "      <td>22.0</td>\n",
              "      <td>1</td>\n",
              "      <td>1</td>\n",
              "      <td>12.2875</td>\n",
              "      <td>NaN</td>\n",
              "      <td>S</td>\n",
              "      <td>False</td>\n",
              "    </tr>\n",
              "  </tbody>\n",
              "</table>\n",
              "</div>"
            ],
            "text/plain": [
              "   Pclass     Sex   Age  SibSp  Parch     Fare Cabin Embarked  Age_na\n",
              "0       3    male  34.5      0      0   7.8292   NaN        Q   False\n",
              "1       3  female  47.0      1      0   7.0000   NaN        S   False\n",
              "2       2    male  62.0      0      0   9.6875   NaN        Q   False\n",
              "3       3    male  27.0      0      0   8.6625   NaN        S   False\n",
              "4       3  female  22.0      1      1  12.2875   NaN        S   False"
            ]
          },
          "metadata": {},
          "execution_count": 60
        }
      ]
    },
    {
      "cell_type": "code",
      "metadata": {
        "id": "GJSf_bfIDUHR",
        "colab": {
          "base_uri": "https://localhost:8080/"
        },
        "outputId": "71d58020-74ba-4102-c390-7fae11980323"
      },
      "source": [
        "df_test.isna().sum()"
      ],
      "execution_count": 61,
      "outputs": [
        {
          "output_type": "execute_result",
          "data": {
            "text/plain": [
              "Pclass        0\n",
              "Sex           0\n",
              "Age          86\n",
              "SibSp         0\n",
              "Parch         0\n",
              "Fare          1\n",
              "Cabin       327\n",
              "Embarked      0\n",
              "Age_na        0\n",
              "dtype: int64"
            ]
          },
          "metadata": {},
          "execution_count": 61
        }
      ]
    },
    {
      "cell_type": "code",
      "metadata": {
        "id": "BoFXcB8pDUHT",
        "colab": {
          "base_uri": "https://localhost:8080/"
        },
        "outputId": "0e4e2d25-3ff7-44b6-d005-bb45d3975f8c"
      },
      "source": [
        "# Usamos el diccionario \"na_dict\" para completar la data faltante\n",
        "for n,v in na_dict.items():\n",
        "    if n in df_test:\n",
        "        df_test[n].fillna(v, inplace=True)\n",
        "    \n",
        "df_test.isna().sum()"
      ],
      "execution_count": 62,
      "outputs": [
        {
          "output_type": "execute_result",
          "data": {
            "text/plain": [
              "Pclass        0\n",
              "Sex           0\n",
              "Age           0\n",
              "SibSp         0\n",
              "Parch         0\n",
              "Fare          0\n",
              "Cabin       327\n",
              "Embarked      0\n",
              "Age_na        0\n",
              "dtype: int64"
            ]
          },
          "metadata": {},
          "execution_count": 62
        }
      ]
    },
    {
      "cell_type": "code",
      "metadata": {
        "id": "p499j3PjDUHV",
        "colab": {
          "base_uri": "https://localhost:8080/",
          "height": 206
        },
        "outputId": "8c3dcf7c-9ca2-4d42-819e-8df7c11d445f"
      },
      "source": [
        "# Usamos el data frame de entrenamiento para aplicar las mismas categorias a este\n",
        "for n,col in df_raw.items():\n",
        "    if pd.api.types.is_categorical_dtype(col):\n",
        "        df_test[n] = pd.Categorical(df_test[n], categories=col.cat.categories).codes + 1\n",
        "\n",
        "df_test.head()"
      ],
      "execution_count": 63,
      "outputs": [
        {
          "output_type": "execute_result",
          "data": {
            "text/html": [
              "<div>\n",
              "<style scoped>\n",
              "    .dataframe tbody tr th:only-of-type {\n",
              "        vertical-align: middle;\n",
              "    }\n",
              "\n",
              "    .dataframe tbody tr th {\n",
              "        vertical-align: top;\n",
              "    }\n",
              "\n",
              "    .dataframe thead th {\n",
              "        text-align: right;\n",
              "    }\n",
              "</style>\n",
              "<table border=\"1\" class=\"dataframe\">\n",
              "  <thead>\n",
              "    <tr style=\"text-align: right;\">\n",
              "      <th></th>\n",
              "      <th>Pclass</th>\n",
              "      <th>Sex</th>\n",
              "      <th>Age</th>\n",
              "      <th>SibSp</th>\n",
              "      <th>Parch</th>\n",
              "      <th>Fare</th>\n",
              "      <th>Cabin</th>\n",
              "      <th>Embarked</th>\n",
              "      <th>Age_na</th>\n",
              "    </tr>\n",
              "  </thead>\n",
              "  <tbody>\n",
              "    <tr>\n",
              "      <th>0</th>\n",
              "      <td>3</td>\n",
              "      <td>2</td>\n",
              "      <td>34.5</td>\n",
              "      <td>0</td>\n",
              "      <td>0</td>\n",
              "      <td>7.8292</td>\n",
              "      <td>0</td>\n",
              "      <td>2</td>\n",
              "      <td>False</td>\n",
              "    </tr>\n",
              "    <tr>\n",
              "      <th>1</th>\n",
              "      <td>3</td>\n",
              "      <td>1</td>\n",
              "      <td>47.0</td>\n",
              "      <td>1</td>\n",
              "      <td>0</td>\n",
              "      <td>7.0000</td>\n",
              "      <td>0</td>\n",
              "      <td>3</td>\n",
              "      <td>False</td>\n",
              "    </tr>\n",
              "    <tr>\n",
              "      <th>2</th>\n",
              "      <td>2</td>\n",
              "      <td>2</td>\n",
              "      <td>62.0</td>\n",
              "      <td>0</td>\n",
              "      <td>0</td>\n",
              "      <td>9.6875</td>\n",
              "      <td>0</td>\n",
              "      <td>2</td>\n",
              "      <td>False</td>\n",
              "    </tr>\n",
              "    <tr>\n",
              "      <th>3</th>\n",
              "      <td>3</td>\n",
              "      <td>2</td>\n",
              "      <td>27.0</td>\n",
              "      <td>0</td>\n",
              "      <td>0</td>\n",
              "      <td>8.6625</td>\n",
              "      <td>0</td>\n",
              "      <td>3</td>\n",
              "      <td>False</td>\n",
              "    </tr>\n",
              "    <tr>\n",
              "      <th>4</th>\n",
              "      <td>3</td>\n",
              "      <td>1</td>\n",
              "      <td>22.0</td>\n",
              "      <td>1</td>\n",
              "      <td>1</td>\n",
              "      <td>12.2875</td>\n",
              "      <td>0</td>\n",
              "      <td>3</td>\n",
              "      <td>False</td>\n",
              "    </tr>\n",
              "  </tbody>\n",
              "</table>\n",
              "</div>"
            ],
            "text/plain": [
              "   Pclass  Sex   Age  SibSp  Parch     Fare  Cabin  Embarked  Age_na\n",
              "0       3    2  34.5      0      0   7.8292      0         2   False\n",
              "1       3    1  47.0      1      0   7.0000      0         3   False\n",
              "2       2    2  62.0      0      0   9.6875      0         2   False\n",
              "3       3    2  27.0      0      0   8.6625      0         3   False\n",
              "4       3    1  22.0      1      1  12.2875      0         3   False"
            ]
          },
          "metadata": {},
          "execution_count": 63
        }
      ]
    },
    {
      "cell_type": "markdown",
      "metadata": {
        "id": "ovyn-gQnDUHX"
      },
      "source": [
        "### Obtener las predicciones del modelo"
      ]
    },
    {
      "cell_type": "code",
      "metadata": {
        "id": "KwY-TvReDUHY",
        "colab": {
          "base_uri": "https://localhost:8080/"
        },
        "outputId": "6b694a9f-2875-4505-b1e9-6f8bf0522c35"
      },
      "source": [
        "m.predict(df_test)"
      ],
      "execution_count": 64,
      "outputs": [
        {
          "output_type": "execute_result",
          "data": {
            "text/plain": [
              "array([0, 1, 0, 0, 1, 0, 1, 0, 1, 0, 0, 0, 1, 0, 1, 1, 0, 0, 1, 1, 0, 0,\n",
              "       1, 0, 1, 0, 1, 0, 0, 0, 0, 0, 1, 0, 0, 0, 1, 1, 0, 0, 0, 0, 0, 1,\n",
              "       1, 0, 0, 0, 1, 1, 0, 0, 1, 1, 0, 0, 0, 0, 0, 1, 0, 0, 0, 1, 1, 1,\n",
              "       1, 0, 0, 1, 1, 0, 1, 0, 1, 0, 0, 1, 0, 1, 0, 0, 0, 0, 0, 0, 1, 1,\n",
              "       1, 1, 1, 0, 1, 0, 0, 0, 1, 0, 1, 0, 1, 0, 0, 0, 1, 0, 0, 0, 0, 0,\n",
              "       0, 1, 1, 1, 1, 0, 0, 1, 0, 1, 1, 0, 1, 0, 0, 1, 0, 1, 0, 0, 0, 0,\n",
              "       0, 0, 0, 0, 0, 0, 1, 0, 0, 1, 0, 0, 0, 0, 0, 0, 0, 0, 1, 0, 0, 1,\n",
              "       0, 0, 1, 1, 0, 1, 1, 0, 1, 0, 0, 1, 0, 0, 1, 1, 0, 0, 0, 0, 0, 1,\n",
              "       1, 0, 1, 1, 0, 0, 1, 0, 1, 0, 1, 0, 0, 0, 0, 0, 0, 0, 0, 0, 1, 1,\n",
              "       0, 1, 1, 1, 0, 1, 0, 0, 1, 0, 1, 0, 0, 0, 0, 1, 1, 0, 1, 0, 1, 0,\n",
              "       1, 0, 1, 0, 1, 1, 0, 1, 0, 0, 0, 1, 0, 0, 0, 0, 0, 0, 1, 1, 1, 1,\n",
              "       0, 0, 0, 0, 1, 0, 1, 1, 0, 0, 0, 0, 0, 0, 0, 0, 1, 0, 0, 0, 1, 1,\n",
              "       0, 0, 0, 0, 1, 0, 0, 0, 1, 1, 0, 1, 0, 0, 0, 0, 1, 1, 1, 1, 1, 0,\n",
              "       0, 0, 0, 0, 0, 1, 0, 0, 0, 0, 0, 0, 0, 0, 0, 0, 0, 0, 1, 1, 0, 1,\n",
              "       0, 1, 0, 0, 0, 1, 1, 1, 0, 0, 0, 0, 0, 0, 0, 0, 1, 0, 1, 0, 0, 0,\n",
              "       1, 0, 0, 1, 0, 0, 0, 0, 0, 0, 0, 0, 0, 1, 0, 1, 0, 1, 0, 1, 1, 0,\n",
              "       0, 0, 1, 0, 1, 0, 0, 1, 0, 1, 1, 0, 1, 0, 0, 0, 1, 0, 0, 1, 0, 0,\n",
              "       1, 1, 1, 0, 0, 0, 0, 0, 1, 1, 0, 1, 0, 0, 0, 0, 0, 1, 0, 0, 0, 1,\n",
              "       0, 1, 0, 0, 1, 0, 1, 0, 0, 0, 0, 0, 1, 1, 1, 1, 1, 0, 1, 0, 0, 0])"
            ]
          },
          "metadata": {},
          "execution_count": 64
        }
      ]
    },
    {
      "cell_type": "markdown",
      "metadata": {
        "id": "A36RDrz2DUHa"
      },
      "source": [
        "**Pregunta 2: ¿Cómo saber si el modelo esta haciendo un buen trabajo? Tomando de referencia el código anterior. Agregue el código necesario para incluir un cross-validation. Recuerda que esto debe hacerse en la etapa de entrenamiento con la finalidad de poder ajustar los hiperparámetros del modelo y poder obtener un mejor score. (Sugerencia: puede utilizar los métodos [traing_test_split](https://scikit-learn.org/stable/modules/generated/sklearn.model_selection.train_test_split.html?highlight=train_test_split#sklearn.model_selection.train_test_split) o [Kfold](https://scikit-learn.org/stable/modules/generated/sklearn.model_selection.KFold.html)**"
      ]
    },
    {
      "cell_type": "code",
      "metadata": {
        "colab": {
          "base_uri": "https://localhost:8080/"
        },
        "id": "f2jMBX2NpX3W",
        "outputId": "da8c2faa-36c4-46bf-c443-75937f80b2fc"
      },
      "source": [
        "from sklearn.model_selection import train_test_split\n",
        "x_test = df_test.drop('Pclass', axis=1)\n",
        "y_test = df_test['Pclass']\n",
        "x_test_train, x_test_val, y_test_train, y_test_val = train_test_split(x_test, y_test, test_size=0.2, random_state=42)\n",
        "m.fit(x_test_train, y_test_train)\n",
        "print(f'Scores:')\n",
        "print(f'Train      = {m.score(x_test_train, y_test_train):.4}')\n",
        "print(f'Validation = {m.score(x_test_val, y_test_val):.4}')"
      ],
      "execution_count": 66,
      "outputs": [
        {
          "output_type": "stream",
          "name": "stdout",
          "text": [
            "Scores:\n",
            "Train      = 0.8862\n",
            "Validation = 0.8571\n"
          ]
        }
      ]
    },
    {
      "cell_type": "code",
      "metadata": {
        "colab": {
          "base_uri": "https://localhost:8080/"
        },
        "id": "ICEh9YKPtqGl",
        "outputId": "012f03d0-036e-419a-b6c5-2920a971e8ef"
      },
      "source": [
        "from sklearn.model_selection import cross_validate\n",
        "cv_results = cross_validate(m, x_test, y_test, cv=3)\n",
        "sorted(cv_results.keys())\n",
        "cv_results['test_score']"
      ],
      "execution_count": 68,
      "outputs": [
        {
          "output_type": "execute_result",
          "data": {
            "text/plain": [
              "array([0.82857143, 0.79136691, 0.8705036 ])"
            ]
          },
          "metadata": {},
          "execution_count": 68
        }
      ]
    }
  ]
}