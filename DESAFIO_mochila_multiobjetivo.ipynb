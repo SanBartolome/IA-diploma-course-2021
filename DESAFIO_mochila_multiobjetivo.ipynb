{
  "cells": [
    {
      "cell_type": "markdown",
      "metadata": {
        "id": "view-in-github",
        "colab_type": "text"
      },
      "source": [
        "<a href=\"https://colab.research.google.com/github/SanBartolome/IA-diploma-course-2021/blob/main/DESAFIO_mochila_multiobjetivo.ipynb\" target=\"_parent\"><img src=\"https://colab.research.google.com/assets/colab-badge.svg\" alt=\"Open In Colab\"/></a>"
      ]
    },
    {
      "cell_type": "markdown",
      "metadata": {
        "collapsed": true,
        "id": "9Vpa-UTAk-IP"
      },
      "source": [
        "# Optimizacion Industrial con Computacion Evolutiva\n",
        "<b> Diplomatura de Especialización en Desarrollo de Aplicaciones con Inteligencia Artificial</b>\n",
        "\n",
        "Dr. Edwin Villanueva (ervillanueva@pucp.edu.pe)"
      ]
    },
    {
      "cell_type": "markdown",
      "metadata": {
        "id": "dnJCLCtuk-IR"
      },
      "source": [
        "## DESAFIO: Algoritmo Genetico Multiobjetivo NSGA-II aplicado al problema de la mochila\n",
        "\n",
        "El problema de la mochila o \"knapsack problem\" es un tipo de problema de optimización combinatoria. Se puede definir como: dado un conjunto de items, cada uno con un peso y un valor, determinar una colección de articulos cuyo valor total sea lo más grande posible, pero el peso total no sobrepase un límite dado. La presente implementacion aborda este problema como un problema multiobjetivo y se resuelve con el algoritmo NSGA-II. Los objetivos son:\n",
        "\n",
        "-\tMaximizar el valor de la mochila\n",
        "-\tMinimizar el peso de la mochila\n",
        "\n",
        "\n",
        "<b>Responder las preguntas al final del notebook </b>\n",
        "\n",
        "<p><img src=\"https://upload.wikimedia.org/wikipedia/commons/f/fd/Knapsack.svg\">"
      ]
    },
    {
      "cell_type": "markdown",
      "metadata": {
        "id": "F9_tsaGAUbXV"
      },
      "source": [
        "### librerias a usar"
      ]
    },
    {
      "cell_type": "code",
      "execution_count": 1,
      "metadata": {
        "id": "3kH97z_YEUQp"
      },
      "outputs": [],
      "source": [
        "import sys\n",
        "import time\n",
        "import numpy as np\n",
        "from random import shuffle, random, sample, randint, randrange, uniform\n",
        "from copy import deepcopy\n",
        "import matplotlib.pyplot as plt"
      ]
    },
    {
      "cell_type": "markdown",
      "metadata": {
        "id": "krhj7vf_vEe2"
      },
      "source": [
        "### Define el objeto Item en el problema de la mochila\n",
        "Un objeto de clase Item almacena erl valor del item y el peso del item "
      ]
    },
    {
      "cell_type": "code",
      "execution_count": 2,
      "metadata": {
        "id": "YBuOdwmjvEe5"
      },
      "outputs": [],
      "source": [
        "class Item(object):\n",
        "    def __init__(self, value, weight):\n",
        "        self.value  = value  # Valor del item. La suma de los valores de los items es lo que se quiere maximizar\n",
        "        self.weight = weight # Peso del item. Se impone una restriccion en el peso maximo de una mochila"
      ]
    },
    {
      "cell_type": "markdown",
      "metadata": {
        "id": "MnVcuNVdk-IS"
      },
      "source": [
        "### Define la estructura de un individuo en el AG con sus operadores genéticos \n",
        "\n",
        "Implementa el individuo del AG. Un individuo tiene un cromosoma que es una lista de NUM_ITEMS elementos (genes), cada gen i puede asumir dos posibles alelos: 0 o 1 (no incluir/incluir en la mochila el item i del pool)"
      ]
    },
    {
      "cell_type": "code",
      "execution_count": 3,
      "metadata": {
        "id": "JjbNgyCdk-IU"
      },
      "outputs": [],
      "source": [
        "class Individual:\n",
        "\n",
        "    def __init__(self, chromosome):  # el constructor recibe un cromosoma\n",
        "        self.chromosome = chromosome[:]  \n",
        "        self.fitness = -1  # -1 indica que el individuo no ha sido evaluado\n",
        "\n",
        "    def crossover_onepoint(self, other):\n",
        "        \"Retorna dos nuevos individuos del cruzamiento de un punto entre individuos self y other \"\n",
        "        c = randrange(len(self.chromosome))\n",
        "        ind1 = Individual(self.chromosome[:c] + other.chromosome[c:])\n",
        "        ind2 = Individual(other.chromosome[:c] + self.chromosome[c:])\n",
        "        return [ind1, ind2]   \n",
        "    \n",
        "    def crossover_uniform(self, other):\n",
        "        chromosome1 = []\n",
        "        chromosome2 = []\n",
        "        \"Retorna dos nuevos individuos del cruzamiento uniforme entre self y other \"\n",
        "        for i in range(len(self.chromosome)):\n",
        "            if uniform(0, 1) < 0.5:\n",
        "                chromosome1.append(self.chromosome[i])\n",
        "                chromosome2.append(other.chromosome[i])\n",
        "            else:\n",
        "                chromosome1.append(other.chromosome[i])\n",
        "                chromosome2.append(self.chromosome[i])\n",
        "        ind1 = Individual(chromosome1)\n",
        "        ind2 = Individual(chromosome2)\n",
        "        return [ind1, ind2] \n",
        "\n",
        "    def mutation_flip(self):\n",
        "        \"Cambia aleatoriamente el alelo de un gen.\"\n",
        "        new_chromosome = deepcopy(self.chromosome)\n",
        "        mutGene = randrange(0,len(new_chromosome))   # escoge un gen para mutar\n",
        "        if new_chromosome[mutGene] == 0:\n",
        "            new_chromosome[mutGene] = 1\n",
        "        else:\n",
        "            new_chromosome[mutGene] = 0\n",
        "        return Individual(new_chromosome)\n",
        "    \n",
        "    def mutation_multiflip(self):\n",
        "        \"\"\"\n",
        "        Cambia los alelos de un conjunto de genes escogidos aleatoriamente (hasta un maximo de 50% de genes).\n",
        "        \"\"\"\n",
        "        new_chromosome = deepcopy(self.chromosome)\n",
        "        random_rate = randrange(0,len(new_chromosome)/2)\n",
        "        mutGenes = np.random.permutation(len(new_chromosome))[:random_rate]\n",
        "        for i in mutGenes:\n",
        "            if new_chromosome[i] == 0:\n",
        "                new_chromosome[i] = 1\n",
        "            else:\n",
        "                new_chromosome[i] = 0\n",
        "        return Individual(new_chromosome)\n",
        "    \n",
        "    def mutation_inversion(self):\n",
        "        \"\"\"\n",
        "        Invierte todos los genes entre 2 puntos al azar.\n",
        "        \"\"\"\n",
        "        new_chromosome = deepcopy(self.chromosome)\n",
        "        rangeGenes = np.random.permutation(len(new_chromosome))[:2]\n",
        "        rangeGenes = np.sort(rangeGenes)\n",
        "        for i in range(rangeGenes[0], rangeGenes[1]):\n",
        "            temp_value = new_chromosome[i]\n",
        "            new_chromosome[i] = new_chromosome[(rangeGenes[1] - 1) - i + rangeGenes[0]]\n",
        "            new_chromosome[(rangeGenes[1] - 1) - i + rangeGenes[0]] = temp_value\n",
        "        return Individual(new_chromosome)\n"
      ]
    },
    {
      "cell_type": "markdown",
      "metadata": {
        "id": "fJsv0S_8k-IZ"
      },
      "source": [
        "### Funcion para obtener los fitnesses de un cromosoma"
      ]
    },
    {
      "cell_type": "code",
      "execution_count": 4,
      "metadata": {
        "id": "x-OUH07tk-Ic"
      },
      "outputs": [],
      "source": [
        "def get_fitness(chromosome, items, max_weight):\n",
        "    \"\"\"Retorna los fitness del cromosoma pasado [valor_de_la_mochila, ligereza]\"\"\"\n",
        "    fitness = np.zeros(2) # 2 objetivos, fitness[0] es valor, fitness[1] es 1/peso (ligereza) \n",
        "    sum_weight = 0\n",
        "    sum_value  = 0\n",
        "    for i in range(len(items)):\n",
        "        if chromosome[i] == 1:  # si item i esta incluido en cromosoma, acumula su valor y peso \n",
        "            sum_weight += items[i].weight\n",
        "            sum_value  += items[i].value\n",
        "\n",
        "    if sum_weight != 0:\n",
        "        fitness[0] = sum_value\n",
        "        fitness[1] = 1/sum_weight   # es una medida de Ligereza \n",
        "    else:\n",
        "        fitness[0] = sum_value\n",
        "        fitness[1] = 0\n",
        "    return fitness\n"
      ]
    },
    {
      "cell_type": "markdown",
      "metadata": {
        "id": "PuScmwjyk-In"
      },
      "source": [
        "### Funcion para inicializar aleatoriamente una población de individuos"
      ]
    },
    {
      "cell_type": "code",
      "execution_count": 5,
      "metadata": {
        "id": "swoZMGwdk-Io"
      },
      "outputs": [],
      "source": [
        "def init_population(pop_size, chromosome_size):\n",
        "    #Inicializa una poblacion de pop_size individuos, cada cromosoma de individuo de tamaño chromosome_size.\n",
        "    population = []\n",
        "    for i in range(pop_size):\n",
        "        new_chromosome = np.zeros(chromosome_size)\n",
        "        ones = randint(0, chromosome_size)\n",
        "        new_chromosome[0:ones] = 1\n",
        "        np.random.shuffle(new_chromosome)\n",
        "        \n",
        "        population.append( Individual(new_chromosome) )\n",
        "    return population"
      ]
    },
    {
      "cell_type": "markdown",
      "source": [
        "### Operadores de seleccion de padres"
      ],
      "metadata": {
        "id": "ClDXXdlThudM"
      }
    },
    {
      "cell_type": "code",
      "source": [
        "def select_parents_roulette(population):\n",
        "    popsize = len(population)\n",
        "    \n",
        "    # Escoje el primer padre\n",
        "    sumfitness = sum([indiv.fitness[0] for indiv in population])  # suma total del fitness de la poblacion\n",
        "    pickfitness = uniform(0, sumfitness)   # escoge un numero aleatorio entre 0 y sumfitness\n",
        "    cumfitness = 0     # fitness acumulado\n",
        "    for i in range(popsize):\n",
        "        cumfitness += population[i].fitness[0]\n",
        "        if cumfitness > pickfitness: \n",
        "            iParent1 = i\n",
        "            break\n",
        "    \n",
        "    # Escoje el segundo padre, desconsiderando el primer padre\n",
        "    sumfitness = sumfitness - population[iParent1].fitness[0] # retira el fitness del padre ya escogido\n",
        "    pickfitness = uniform(0, sumfitness)   # escoge un numero aleatorio entre 0 y sumfitness\n",
        "    cumfitness = 0     # fitness acumulado\n",
        "    for i in range(popsize):\n",
        "        if i == iParent1: continue   # si es el primer padre \n",
        "        cumfitness += population[i].fitness[0]\n",
        "        if cumfitness > pickfitness: \n",
        "            iParent2 = i\n",
        "            break        \n",
        "    return (population[iParent1], population[iParent2])"
      ],
      "metadata": {
        "id": "Llv_-TfEhzE9"
      },
      "execution_count": 6,
      "outputs": []
    },
    {
      "cell_type": "code",
      "source": [
        "def select_parents_tournament(population, tournament_size):\n",
        "    # Escoje el primer padre\n",
        "    list_indiv=[]\n",
        "    x1 = np.random.permutation(len(population) )\n",
        "    y1= x1[0:tournament_size]\n",
        "    for i in range(tournament_size):\n",
        "        list_indiv.append(population[y1[i]].fitness[0])\n",
        "    \n",
        "    iParent1=np.argmax(list_indiv)\n",
        "    \n",
        "    # Escoje el segundo padre, desconsiderando el primer padre   \n",
        "    x2 = np.delete(x1, iParent1)\n",
        "    x2 = np.random.permutation(x2)\n",
        "    list_indiv=[]\n",
        "    y2= x2[0:tournament_size]\n",
        "    for i in range(tournament_size):\n",
        "        list_indiv.append(population[y2[i]].fitness[0])\n",
        "    iParent2=np.argmax(list_indiv)\n",
        "    \n",
        "    return (population[x1[iParent1]],population[x2[iParent2]])"
      ],
      "metadata": {
        "id": "8oyq22y6h1G-"
      },
      "execution_count": 7,
      "outputs": []
    },
    {
      "cell_type": "markdown",
      "metadata": {
        "id": "Xw6sR4v7k-Ii"
      },
      "source": [
        "### Funcion para evaluar una población de individuos "
      ]
    },
    {
      "cell_type": "code",
      "execution_count": 8,
      "metadata": {
        "id": "Pqtbl-Zlk-Ij"
      },
      "outputs": [],
      "source": [
        "def evaluate_population(population, items, max_weight):\n",
        "    \"\"\" Evalua una poblacion de individuos con la funcion get_fitness \"\"\"\n",
        "    pop_size = len(population)\n",
        "\n",
        "    for i in range(pop_size):\n",
        "        if population[i].fitness == -1:    # evalua solo si el individuo no esta evaluado\n",
        "            population[i].fitness = get_fitness(population[i].chromosome, items, max_weight)"
      ]
    },
    {
      "cell_type": "code",
      "execution_count": 9,
      "metadata": {
        "id": "wCH6GXmCbqT0"
      },
      "outputs": [],
      "source": [
        "def build_offspring_population(population, crossover=\"onepoint\", mutation=\"flip\", pmut=0.1, selection_parents_method=\"default\"):     \n",
        "    \"\"\" Construye una poblacion hija con los operadores de cruzamiento y mutacion pasados\n",
        "        crossover:  operador de cruzamiento\n",
        "        mutation:   operador de mutacion\n",
        "        pmut:       taza de mutacion\n",
        "    \"\"\"\n",
        "    pop_size = len(population)\n",
        "    \n",
        "    ## Selecciona parejas de individuos (mating_pool) para cruzamiento \n",
        "    \n",
        "    mating_pool = []\n",
        "    for i in range(int(pop_size/2)): \n",
        "        if selection_parents_method == \"roulette\":\n",
        "                mating_pool.append(select_parents_roulette(population))\n",
        "        elif selection_parents_method == \"tournament\":\n",
        "                mating_pool.append(select_parents_tournament(population, 3))\n",
        "        elif selection_parents_method == \"default\":\n",
        "                # escoje dos individuos diferentes aleatoriamente de la poblacion\n",
        "                permut = np.random.permutation( pop_size )\n",
        "                mating_pool.append( (population[permut[0]], population[permut[1]] ) ) \n",
        "        else:\n",
        "                raise NotImplementedError\n",
        "        \n",
        "    ## Crea la poblacion descendencia cruzando las parejas del mating pool \n",
        "    offspring_population = []\n",
        "    for i in range(len(mating_pool)): \n",
        "        if crossover == \"onepoint\":\n",
        "            offspring_population.extend( mating_pool[i][0].crossover_onepoint(mating_pool[i][1]) ) # cruzamiento 1 punto\n",
        "        elif crossover == \"uniform\":\n",
        "            offspring_population.extend( mating_pool[i][0].crossover_uniform(mating_pool[i][1]) ) # cruzamiento uniforme\n",
        "        else:\n",
        "            raise NotImplementedError\n",
        "\n",
        "    ## Aplica el operador de mutacion con probabilidad pmut en cada hijo generado\n",
        "    for i in range(len(offspring_population)):\n",
        "        if uniform(0, 1) < pmut: \n",
        "            if mutation == \"flip\":\n",
        "                offspring_population[i] = offspring_population[i].mutation_flip() # cambia el alelo de un gen\n",
        "            elif mutation == \"multiflip\":\n",
        "                    offspring_population[i] = offspring_population[i].mutation_multiflip() # cambia los alelos de un gen\n",
        "            elif mutation == \"inversion\":\n",
        "                    offspring_population[i] = offspring_population[i].mutation_inversion() # invierte todos los genes entre 2 puntos al azar\n",
        "            else:\n",
        "                raise NotImplementedError   \n",
        "                \n",
        "    return offspring_population"
      ]
    },
    {
      "cell_type": "code",
      "execution_count": 10,
      "metadata": {
        "id": "fEZpwAA8b3nA"
      },
      "outputs": [],
      "source": [
        "def get_crowding_distances(fitnesses):\n",
        "    \"\"\"\n",
        "    La distancia crowding de un individuo es la diferencia del fitness mas proximo hacia arriba menos el fitness mas proximo \n",
        "    hacia abajo. El valor crowding total es la suma de todas las distancias crowdings para todos los fitness\n",
        "    \"\"\"\n",
        "    \n",
        "    pop_size = len(fitnesses[:, 0])\n",
        "    num_objectives = len(fitnesses[0, :])\n",
        "\n",
        "    # crea matriz crowding. Filas representan individuos, columnas representan objectives\n",
        "    crowding_matrix = np.zeros((pop_size, num_objectives))\n",
        "\n",
        "    # normalisa los fitnesses entre 0 y 1 (ptp es max - min)\n",
        "    normalized_fitnesses = (fitnesses - fitnesses.min(0)) / fitnesses.ptp(0)\n",
        "\n",
        "    for col in range(num_objectives):   # Por cada objective\n",
        "        crowding = np.zeros(pop_size)\n",
        "\n",
        "        # puntos extremos tienen maximo crowding\n",
        "        crowding[0] = 1\n",
        "        crowding[pop_size - 1] = 1\n",
        "\n",
        "        # ordena los fitness normalizados del objectivo actual\n",
        "        sorted_fitnesses = np.sort(normalized_fitnesses[:, col])\n",
        "        sorted_fitnesses_index = np.argsort(normalized_fitnesses[:, col])\n",
        "\n",
        "        # Calcula la distancia crowding de cada individuo como la diferencia de score de los vecinos\n",
        "        crowding[1:pop_size - 1] = (sorted_fitnesses[2:pop_size] - sorted_fitnesses[0:pop_size - 2])\n",
        "\n",
        "        # obtiene el ordenamiento original\n",
        "        re_sort_order = np.argsort(sorted_fitnesses_index)\n",
        "        sorted_crowding = crowding[re_sort_order]\n",
        "\n",
        "        # Salva las distancias crowdingpara el objetivo que se esta iterando\n",
        "        crowding_matrix[:, col] = sorted_crowding\n",
        "\n",
        "    # Obtiene las distancias crowding finales sumando las distancias crowding de cada objetivo \n",
        "    crowding_distances = np.sum(crowding_matrix, axis=1)\n",
        "\n",
        "    return crowding_distances"
      ]
    },
    {
      "cell_type": "code",
      "execution_count": 11,
      "metadata": {
        "id": "o0FGvhaucWVv"
      },
      "outputs": [],
      "source": [
        "def select_by_crowding(population, num_individuals):\n",
        "    \"\"\"\n",
        "    Selecciona una poblacion de individuos basado en torneos de pares de individuos: dos individuos se escoge al azar\n",
        "    y se selecciona el mejor segun la distancia crowding. Se repite hasta obtener num_individuals individuos\n",
        "    \"\"\"    \n",
        "    population = deepcopy(population)\n",
        "    pop_size = len(population)\n",
        "    \n",
        "    num_objectives = len(population[0].fitness)\n",
        "    \n",
        "    # extrae los fitness de la poblacion en la matriz fitnesses\n",
        "    fitnesses = np.zeros([pop_size, num_objectives])\n",
        "    for i in range(pop_size): fitnesses[i,:] = population[i].fitness\n",
        "        \n",
        "    # obtiene las  distancias  crowding\n",
        "    crowding_distances = get_crowding_distances(fitnesses)   \n",
        "    \n",
        "    population_selected = []   # poblacion escogida\n",
        "\n",
        "    for i in range(num_individuals):  # por cada individuo a seleccionar\n",
        "\n",
        "        # escoje dos individuos aleatoriamente de la poblacion no escogida aun\n",
        "        permut = np.random.permutation( len(population) )\n",
        "        ind1_id = permut[0]\n",
        "        ind2_id = permut[1]\n",
        "\n",
        "        # Si ind1_id es el mejor\n",
        "        if crowding_distances[ind1_id] >= crowding_distances[ind2_id]:\n",
        "\n",
        "            # traslada el individuo ind1 de population a la lista de individuos seleccionados\n",
        "            population_selected.append( population.pop(ind1_id) )\n",
        "            # remueve la distancia crowding del individuo seleccionado\n",
        "            crowding_distances = np.delete(crowding_distances, ind1_id, axis=0)\n",
        "            \n",
        "        else:  # Si ind2_id es el mejor\n",
        "            \n",
        "            # traslada el individuo ind2 de population a la lista de individuos seleccionados\n",
        "            population_selected.append( population.pop(ind2_id) )\n",
        "            # remueve la distancia crowding del individuo seleccionado\n",
        "            crowding_distances = np.delete(crowding_distances, ind2_id, axis=0)\n",
        "\n",
        "    return (population_selected)"
      ]
    },
    {
      "cell_type": "code",
      "execution_count": 12,
      "metadata": {
        "id": "Rc-FwddlccYR"
      },
      "outputs": [],
      "source": [
        "def get_paretofront_population(population):\n",
        "    \"\"\"\n",
        "    Obtiene de population la poblacion de individups de la frontera de Pareto, \n",
        "    \"\"\"\n",
        "    population = deepcopy(population)\n",
        "    pop_size = len(population)\n",
        "    \n",
        "    # todos los individuos son inicialmente asumidos como la frontera de Pareto\n",
        "    pareto_front = np.ones(pop_size, dtype=bool)\n",
        "    \n",
        "    for i in range(pop_size): # Compara cada individuo contra todos los demas\n",
        "        for j in range(pop_size):\n",
        "            # Chequea si individuo 'i' es dominado por individuo 'j'\n",
        "            #if all(population[j].fitness >= population[i].fitness) and any(population[j].fitness > population[i].fitness):\n",
        "            #if str(all(population[j].fitness >= population[i].fitness)) and str(any(population[j].fitness > population[i].fitness)):\n",
        "            if all(np.asarray(population[j].fitness) >= np.asarray(population[i].fitness)) and any(np.asarray(population[j].fitness) > np.asarray(population[i].fitness)):\n",
        "                # j domina i -> señaliza que individuo 'i' como no siendo parte de la frontera de Pareto\n",
        "                pareto_front[i] = 0\n",
        "                break   # Para la busqueda para 'i' (no es necesario hacer mas comparaciones)\n",
        "\n",
        "    paretofront_population = []\n",
        "    for i in range(pop_size):  # construye la lista de individuos de la frontera de Pareto \n",
        "        if pareto_front[i] == 1: paretofront_population.append(population[i])\n",
        "        \n",
        "    return paretofront_population"
      ]
    },
    {
      "cell_type": "code",
      "execution_count": 13,
      "metadata": {
        "id": "1stz_XCkcldd"
      },
      "outputs": [],
      "source": [
        "def build_next_population(population, min_pop_size, max_pop_size):\n",
        "    \"\"\"\n",
        "    Construye la poblacion de la siguiente generacion añadiendo sucesivas fronteras de Pareto hasta \n",
        "    tener una poblacion de al menos min_pop_size individuos. Reduce la frontera de Pareto con el metodo de\n",
        "    crowding distance si al agregar la frontera excede el tamaño maximo de la poblacion (max_pop_size)\n",
        "    \"\"\"\n",
        "    population = deepcopy(population)\n",
        "    pareto_front = []\n",
        "    next_population = []\n",
        "    \n",
        "    while len(next_population) < min_pop_size:   # mientras la poblacion no tenga el tamaño minimo\n",
        "        # obtiene la poblacion frontera de Pareto actual\n",
        "        paretofront_population = get_paretofront_population(population)\n",
        "        \n",
        "        # si poblacion actual + paretofront excede el maximo permitido -> reduce paretofront con el metodo de crowding\n",
        "        combined_population_size = len(next_population) + len(paretofront_population)\n",
        "        if  combined_population_size > max_pop_size:\n",
        "            paretofront_population = select_by_crowding( paretofront_population, max_pop_size-len(next_population) ) \n",
        "        \n",
        "        # Adiciona la frontera de Pareto (original o reducida) a la poblacion en construccion\n",
        "        next_population.extend( paretofront_population )\n",
        "    \n",
        "        # remueve de population los individuos que fueron agregados a next_population \n",
        "        for i in range( len(paretofront_population) ):\n",
        "            for j in range( len(population) ):\n",
        "                if all( np.asarray(paretofront_population[i].chromosome) == np.asarray(population[j].chromosome) ):\n",
        "                    del(population[j])\n",
        "                    break\n",
        "                    \n",
        "    return next_population"
      ]
    },
    {
      "cell_type": "markdown",
      "metadata": {
        "id": "RvHCciYtdkbW"
      },
      "source": [
        "## Algoritmo genetico multiobjetivo (NSGA-II) principal"
      ]
    },
    {
      "cell_type": "code",
      "execution_count": 14,
      "metadata": {
        "id": "Psw5mrPcc9Zf"
      },
      "outputs": [],
      "source": [
        "## Hiperparametros del algoritmo genetico\n",
        "\n",
        "NUM_ITEMS = 60        # numero de items\n",
        "\n",
        "MAX_ITEM_WEIGHT = 60  # maximo peso posible de cada  item\n",
        "MAX_ITEM_VALUE = 60   # maximo valor posible de cada  item\n",
        "#pool de items generado aleatoriamente\n",
        "ItemPool = [ Item(randint(1,MAX_ITEM_VALUE), randint(1,MAX_ITEM_WEIGHT)) for x in range (0,NUM_ITEMS)]\n",
        "MAX_WEIGHT = 10*len(ItemPool)    # maximo peso que puede soportar la mochila\n",
        "\n",
        "#POP_SIZE = 100\n",
        "MIN_POP_SIZE = 100\n",
        "MAX_POP_SIZE = 100\n",
        "CHROMOSOME_SIZE = NUM_ITEMS\n",
        "GENERATIONS = 300   # numero de generaciones\n",
        "PMUT = 0.1         # tasa de mutacion\n"
      ]
    },
    {
      "cell_type": "code",
      "execution_count": 15,
      "metadata": {
        "id": "iVkkyX0zooHu"
      },
      "outputs": [],
      "source": [
        "# Crea  una poblacion inicial\n",
        "poblacion_inicial = init_population( MAX_POP_SIZE, CHROMOSOME_SIZE )  "
      ]
    },
    {
      "cell_type": "code",
      "execution_count": 16,
      "metadata": {
        "colab": {
          "base_uri": "https://localhost:8080/"
        },
        "id": "kCNZXkfsdsbV",
        "outputId": "f6776355-b2cb-48c2-8cc2-b950b56a3337"
      },
      "outputs": [
        {
          "output_type": "stream",
          "name": "stdout",
          "text": [
            "Generacion 0 (de 300) \n",
            "Generacion 10 (de 300) \n",
            "Generacion 20 (de 300) \n",
            "Generacion 30 (de 300) \n",
            "Generacion 40 (de 300) \n",
            "Generacion 50 (de 300) \n",
            "Generacion 60 (de 300) \n",
            "Generacion 70 (de 300) \n",
            "Generacion 80 (de 300) \n",
            "Generacion 90 (de 300) \n",
            "Generacion 100 (de 300) \n",
            "Generacion 110 (de 300) \n",
            "Generacion 120 (de 300) \n",
            "Generacion 130 (de 300) \n",
            "Generacion 140 (de 300) \n",
            "Generacion 150 (de 300) \n",
            "Generacion 160 (de 300) \n",
            "Generacion 170 (de 300) \n",
            "Generacion 180 (de 300) \n",
            "Generacion 190 (de 300) \n",
            "Generacion 200 (de 300) \n",
            "Generacion 210 (de 300) \n",
            "Generacion 220 (de 300) \n",
            "Generacion 230 (de 300) \n",
            "Generacion 240 (de 300) \n",
            "Generacion 250 (de 300) \n",
            "Generacion 260 (de 300) \n",
            "Generacion 270 (de 300) \n",
            "Generacion 280 (de 300) \n",
            "Generacion 290 (de 300) \n"
          ]
        }
      ],
      "source": [
        "## CODIGO PRINCIPAL DEL  ALGORITMO GENETICO  NSGA-II\n",
        "\n",
        "P = deepcopy(poblacion_inicial)  # copia la poblacion inicial en una nueva variable para no alterar la poblacion inicial\n",
        "\n",
        "#  evalua la poblacion inicial\n",
        "evaluate_population(P, ItemPool, MAX_WEIGHT)\n",
        "\n",
        "## Ejecuta los ciclos evolutivos \n",
        "for g in range(GENERATIONS):   # Por cada generacion\n",
        "    \n",
        "    if g %10 == 0:\n",
        "        print ('Generacion {} (de {}) '.format(g, GENERATIONS))\n",
        "    \n",
        "    ## genera y evalua la poblacion hija    \n",
        "    Q = build_offspring_population(P, \"uniform\", \"flip\", PMUT)\n",
        "    evaluate_population(Q, ItemPool, MAX_WEIGHT)\n",
        "    \n",
        "    ## une la poblacion padre y la poblacion hija\n",
        "    P.extend(Q) \n",
        "    \n",
        "    ## Construye la poblacion de la siguiente generacion\n",
        "    P = build_next_population(P, MIN_POP_SIZE, MAX_POP_SIZE)\n",
        "\n",
        "# Obtiene la poblacion de la frontera de pareto final \n",
        "pareto_front_population = get_paretofront_population(P)"
      ]
    },
    {
      "cell_type": "code",
      "execution_count": 17,
      "metadata": {
        "colab": {
          "base_uri": "https://localhost:8080/",
          "height": 283
        },
        "id": "61WIbdhvd8wj",
        "outputId": "d4c9c17d-edf1-4e55-b886-5bb4b65af9b9"
      },
      "outputs": [
        {
          "output_type": "display_data",
          "data": {
            "text/plain": [
              "<Figure size 432x288 with 1 Axes>"
            ],
            "image/png": "[encoded data removed]"
          },
          "metadata": {
            "needs_background": "light"
          }
        }
      ],
      "source": [
        "## Plotea los individuos de la frontera de Pareto final\n",
        "pop_size = len(pareto_front_population)\n",
        "num_objectives = len(pareto_front_population[0].fitness)\n",
        "    \n",
        "# extrae los fitness de la poblacion en la matriz fitnesses\n",
        "fitnesses = np.zeros([pop_size, num_objectives])\n",
        "for i in range(pop_size): fitnesses[i,:] = pareto_front_population[i].fitness\n",
        "\n",
        "x = fitnesses[:, 0]\n",
        "y = fitnesses[:, 1]\n",
        "plt.xlabel('Objectivo A - Valor')\n",
        "plt.ylabel('Objectivo B - Ligereza (1/peso)')\n",
        "plt.scatter(x,y)\n",
        "#plt.savefig('pareto.png')\n",
        "plt.show()"
      ]
    },
    {
      "cell_type": "code",
      "execution_count": 18,
      "metadata": {
        "colab": {
          "base_uri": "https://localhost:8080/"
        },
        "id": "piqMnUO5UbXd",
        "outputId": "fb1cc167-a906-4d07-c03c-b23c37225fc8"
      },
      "outputs": [
        {
          "output_type": "execute_result",
          "data": {
            "text/plain": [
              "100"
            ]
          },
          "metadata": {},
          "execution_count": 18
        }
      ],
      "source": [
        "pop_size"
      ]
    },
    {
      "cell_type": "code",
      "execution_count": 19,
      "metadata": {
        "colab": {
          "base_uri": "https://localhost:8080/"
        },
        "id": "-DHSwbTWp24w",
        "outputId": "569d6e15-605a-420b-864b-b98669ccc4fa"
      },
      "outputs": [
        {
          "output_type": "stream",
          "name": "stdout",
          "text": [
            "[4.93000000e+02 8.40336134e-03]\n",
            "[5.33000000e+02 7.24637681e-03]\n",
            "[5.51000000e+02 6.80272109e-03]\n",
            "[5.51000000e+02 6.80272109e-03]\n",
            "[4.76000000e+02 8.92857143e-03]\n"
          ]
        }
      ],
      "source": [
        "#Algunos de los valores del pareto front y su fitness:\n",
        "for i in range(5):\n",
        "    b = pareto_front_population[i].fitness\n",
        "    print(b)"
      ]
    },
    {
      "cell_type": "code",
      "execution_count": 20,
      "metadata": {
        "colab": {
          "base_uri": "https://localhost:8080/"
        },
        "id": "8G8YE9RRq6DH",
        "outputId": "c19d6a0c-f781-4a8f-f1ea-3df59b558850"
      },
      "outputs": [
        {
          "output_type": "stream",
          "name": "stdout",
          "text": [
            "[0.0, 0.0, 0.0, 0.0, 1, 0.0, 0.0, 0.0, 1.0, 0.0, 0.0, 0.0, 0.0, 1.0, 0.0, 1.0, 0.0, 1.0, 0.0, 0.0, 0.0, 0.0, 0.0, 1.0, 0.0, 0.0, 1.0, 0.0, 1.0, 0.0, 0.0, 0.0, 0.0, 0.0, 0.0, 0.0, 0.0, 0.0, 1.0, 0.0, 0.0, 0.0, 0.0, 0.0, 0.0, 0.0, 0.0, 0.0, 0.0, 0.0, 0.0, 0.0, 1.0, 0.0, 0.0, 1.0, 0.0, 0.0, 0.0, 0.0]\n",
            "[0.0, 0.0, 0.0, 0.0, 1.0, 0.0, 0.0, 0.0, 0.0, 0.0, 0.0, 0.0, 0.0, 1.0, 0.0, 1, 0.0, 1.0, 1.0, 0.0, 0.0, 0.0, 1.0, 1.0, 0.0, 0.0, 1.0, 0.0, 1.0, 0.0, 0.0, 0.0, 0.0, 0.0, 0.0, 0.0, 0.0, 1.0, 0.0, 0.0, 0.0, 0.0, 0.0, 0.0, 0.0, 0.0, 0.0, 0.0, 0.0, 0.0, 0.0, 0.0, 1.0, 0.0, 0.0, 1, 0.0, 0.0, 0.0, 0.0]\n",
            "[0.0, 0.0, 0.0, 0.0, 1.0, 0.0, 0.0, 0.0, 0.0, 0.0, 0.0, 0.0, 0.0, 1.0, 0.0, 1.0, 0.0, 1.0, 1.0, 0.0, 1.0, 0.0, 1.0, 1.0, 0.0, 0.0, 1.0, 0.0, 1.0, 0.0, 0.0, 0.0, 0.0, 0.0, 0.0, 0.0, 0.0, 0.0, 0.0, 0.0, 0.0, 0.0, 0.0, 0.0, 0.0, 0.0, 0.0, 0.0, 0.0, 0.0, 0.0, 0.0, 1.0, 0.0, 0.0, 1, 0.0, 0.0, 0.0, 0.0]\n",
            "[0.0, 0.0, 0.0, 0.0, 1.0, 0.0, 0.0, 0.0, 0.0, 0.0, 0.0, 0.0, 0.0, 1.0, 0.0, 1, 0.0, 1.0, 1.0, 0.0, 1.0, 0.0, 1.0, 1.0, 0.0, 0.0, 1.0, 0.0, 1.0, 0.0, 0.0, 0.0, 0.0, 0.0, 0.0, 0.0, 0.0, 0.0, 0.0, 0.0, 0.0, 0.0, 0.0, 0.0, 0.0, 0.0, 0.0, 0.0, 0.0, 0.0, 0.0, 0.0, 1.0, 0.0, 0.0, 1, 0.0, 0.0, 0.0, 0.0]\n",
            "[0.0, 0.0, 0.0, 0.0, 0.0, 0.0, 0.0, 0.0, 0.0, 0.0, 0.0, 0.0, 0.0, 1.0, 0.0, 1.0, 0.0, 1.0, 0.0, 0.0, 0.0, 0.0, 1.0, 1.0, 0.0, 0.0, 1.0, 0.0, 1.0, 0.0, 0.0, 0.0, 0.0, 0.0, 0.0, 0.0, 0.0, 0.0, 1.0, 0.0, 0.0, 0.0, 0.0, 0.0, 0.0, 0.0, 0.0, 0.0, 0.0, 0.0, 0.0, 0.0, 1.0, 0.0, 0.0, 1, 0.0, 0.0, 0.0, 0.0]\n"
          ]
        }
      ],
      "source": [
        "#Imprime 5 soluciones de la frontera:\n",
        "for i in range(5):\n",
        "    a = pareto_front_population[i].chromosome\n",
        "    print(a)\n",
        "  "
      ]
    },
    {
      "cell_type": "markdown",
      "metadata": {
        "id": "auYK2xpwUbXe"
      },
      "source": [
        "# Preguntas:"
      ]
    },
    {
      "cell_type": "markdown",
      "metadata": {
        "id": "EfzuBObnUbXe"
      },
      "source": [
        "<b> 1) Realize un experimento (puede realizar varios) con NSGA-2 y el algoritmo mono-objetivo de la mochila. Use los siguientes parametros:    </b>\n",
        "\n",
        "NUM_ITEMS = 60        \n",
        "MAX_ITEM_WEIGHT = 60  \n",
        "MAX_ITEM_VALUE = 60   \n",
        "MAX_WEIGHT = 10*len(ItemPool)    \n",
        "MIN_POP_SIZE = 50\n",
        "MAX_POP_SIZE = 50\n",
        "GENERATIONS = 300   # numero de generaciones\n",
        "\n",
        "En el experimento pre-genere el mismo ItemPool para ambos algoritmos. Escoja los operadores de cruzamiento, mutacion y tasa de mutacion de acuerdo a los mejores resultados que obtuvo en la Pregunta 3 del Desafio \"ProblemaMochila_Desafio\". Al final de las ejecuciones, plotee el mejor individuo encontrado por el AG monoobjetivo como un punto en el plot de Pareto. Interprete el resultado en relacion a si la solucion monoobjetivo está en la frontera o es dominada por esta y si hay algun favorecimiento para alguno de los objetivos.  Qué diferencia substancial encuentra entre los dos enfoques?       \n"
      ]
    },
    {
      "cell_type": "code",
      "execution_count": 21,
      "metadata": {
        "id": "Njw4WS13UbXf"
      },
      "outputs": [],
      "source": [
        "## Hiperparametros del algoritmo genetico\n",
        "\n",
        "NUM_ITEMS = 60        # numero de items\n",
        "\n",
        "MAX_ITEM_WEIGHT = 60  # maximo peso posible de cada  item\n",
        "MAX_ITEM_VALUE = 60   # maximo valor posible de cada  item\n",
        "#pool de items generado aleatoriamente\n",
        "ItemPool = [ Item(randint(1,MAX_ITEM_VALUE), randint(1,MAX_ITEM_WEIGHT)) for x in range (0,NUM_ITEMS)]\n",
        "MAX_WEIGHT = 10*len(ItemPool)    # maximo peso que puede soportar la mochila\n",
        "\n",
        "#POP_SIZE = 100\n",
        "MIN_POP_SIZE = 50\n",
        "MAX_POP_SIZE = 50\n",
        "CHROMOSOME_SIZE = NUM_ITEMS\n",
        "GENERATIONS = 300   # numero de generaciones\n",
        "PMUT = 1         # tasa de mutacion"
      ]
    },
    {
      "cell_type": "code",
      "source": [
        "poblacion_inicial = init_population( MAX_POP_SIZE, CHROMOSOME_SIZE )  "
      ],
      "metadata": {
        "id": "y8qsVFGQUBqh"
      },
      "execution_count": 22,
      "outputs": []
    },
    {
      "cell_type": "code",
      "source": [
        "P = deepcopy(poblacion_inicial)  # copia la poblacion inicial en una nueva variable para no alterar la poblacion inicial\n",
        "\n",
        "#  evalua la poblacion inicial\n",
        "evaluate_population(P, ItemPool, MAX_WEIGHT)\n",
        "\n",
        "## Ejecuta los ciclos evolutivos \n",
        "for g in range(GENERATIONS):   # Por cada generacion\n",
        "    \n",
        "    if g %10 == 0:\n",
        "        print ('Generacion {} (de {}) '.format(g, GENERATIONS))\n",
        "    \n",
        "    ## genera y evalua la poblacion hija    \n",
        "    Q = build_offspring_population(P, \"uniform\", \"multiflip\", PMUT, 'tournament')\n",
        "    evaluate_population(Q, ItemPool, MAX_WEIGHT)\n",
        "    \n",
        "    ## une la poblacion padre y la poblacion hija\n",
        "    P.extend(Q) \n",
        "    \n",
        "    ## Construye la poblacion de la siguiente generacion\n",
        "    P = build_next_population(P, MIN_POP_SIZE, MAX_POP_SIZE)\n",
        "\n",
        "# Obtiene la poblacion de la frontera de pareto final \n",
        "pareto_front_population = get_paretofront_population(P)"
      ],
      "metadata": {
        "colab": {
          "base_uri": "https://localhost:8080/"
        },
        "id": "3zo19fywUEeM",
        "outputId": "643858c6-c3f8-4947-a0c4-f861c2272f84"
      },
      "execution_count": 23,
      "outputs": [
        {
          "output_type": "stream",
          "name": "stdout",
          "text": [
            "Generacion 0 (de 300) \n",
            "Generacion 10 (de 300) \n",
            "Generacion 20 (de 300) \n",
            "Generacion 30 (de 300) \n",
            "Generacion 40 (de 300) \n",
            "Generacion 50 (de 300) \n",
            "Generacion 60 (de 300) \n",
            "Generacion 70 (de 300) \n",
            "Generacion 80 (de 300) \n",
            "Generacion 90 (de 300) \n",
            "Generacion 100 (de 300) \n",
            "Generacion 110 (de 300) \n",
            "Generacion 120 (de 300) \n",
            "Generacion 130 (de 300) \n",
            "Generacion 140 (de 300) \n",
            "Generacion 150 (de 300) \n",
            "Generacion 160 (de 300) \n",
            "Generacion 170 (de 300) \n",
            "Generacion 180 (de 300) \n",
            "Generacion 190 (de 300) \n",
            "Generacion 200 (de 300) \n",
            "Generacion 210 (de 300) \n",
            "Generacion 220 (de 300) \n",
            "Generacion 230 (de 300) \n",
            "Generacion 240 (de 300) \n",
            "Generacion 250 (de 300) \n",
            "Generacion 260 (de 300) \n",
            "Generacion 270 (de 300) \n",
            "Generacion 280 (de 300) \n",
            "Generacion 290 (de 300) \n"
          ]
        }
      ]
    },
    {
      "cell_type": "code",
      "source": [
        "pop_size = len(pareto_front_population)\n",
        "num_objectives = len(pareto_front_population[0].fitness)\n",
        "    \n",
        "# extrae los fitness de la poblacion en la matriz fitnesses\n",
        "fitnesses = np.zeros([pop_size, num_objectives])\n",
        "for i in range(pop_size): fitnesses[i,:] = pareto_front_population[i].fitness"
      ],
      "metadata": {
        "id": "1t6dg7CBUSkd"
      },
      "execution_count": 24,
      "outputs": []
    },
    {
      "cell_type": "code",
      "source": [
        "x = fitnesses[:, 0]\n",
        "np.max(x)"
      ],
      "metadata": {
        "colab": {
          "base_uri": "https://localhost:8080/"
        },
        "id": "gNf6wCm9XVrH",
        "outputId": "476b904e-9da2-4db1-a88a-be08a8c3d61b"
      },
      "execution_count": 25,
      "outputs": [
        {
          "output_type": "execute_result",
          "data": {
            "text/plain": [
              "1744.0"
            ]
          },
          "metadata": {},
          "execution_count": 25
        }
      ]
    },
    {
      "cell_type": "markdown",
      "source": [
        "##Mono Objetivo"
      ],
      "metadata": {
        "id": "EzVQb3IitL9n"
      }
    },
    {
      "cell_type": "code",
      "source": [
        "mono_fitness = 1248\n",
        "mono_lightness = 0.0016722408026755853"
      ],
      "metadata": {
        "id": "gVaFzVVTyKWy"
      },
      "execution_count": 28,
      "outputs": []
    },
    {
      "cell_type": "code",
      "source": [
        "## Plotea los individuos de la frontera de Pareto final\n",
        "pop_size = len(pareto_front_population)\n",
        "num_objectives = len(pareto_front_population[0].fitness)\n",
        "    \n",
        "# extrae los fitness de la poblacion en la matriz fitnesses\n",
        "fitnesses = np.zeros([pop_size, num_objectives])\n",
        "for i in range(pop_size): fitnesses[i,:] = pareto_front_population[i].fitness\n",
        "\n",
        "x = fitnesses[:, 0]\n",
        "y = fitnesses[:, 1]\n",
        "plt.xlabel('Objectivo A - Valor')\n",
        "plt.ylabel('Objectivo B - Ligereza (1/peso)')\n",
        "plt.scatter(x,y)\n",
        "plt.plot(mono_fitness, mono_lightness, 'or')\n",
        "#plt.savefig('pareto.png')\n",
        "plt.show()"
      ],
      "metadata": {
        "colab": {
          "base_uri": "https://localhost:8080/",
          "height": 279
        },
        "id": "fKsyfN_eyPn5",
        "outputId": "49eae24c-0233-49d7-df9a-922cd48ca858"
      },
      "execution_count": 29,
      "outputs": [
        {
          "output_type": "display_data",
          "data": {
            "text/plain": [
              "<Figure size 432x288 with 1 Axes>"
            ],
            "image/png": "[encoded data removed]"
          },
          "metadata": {
            "needs_background": "light"
          }
        }
      ]
    },
    {
      "cell_type": "markdown",
      "source": [
        "El resultado del mono objetivo se encuentra en la frontera de solución, sin embargo no es la óptima."
      ],
      "metadata": {
        "id": "7zCG70Lx0zm6"
      }
    }
  ],
  "metadata": {
    "colab": {
      "collapsed_sections": [],
      "name": "DESAFIO_mochila_multiobjetivo.ipynb",
      "provenance": [],
      "include_colab_link": true
    },
    "kernelspec": {
      "display_name": "Python 3",
      "language": "python",
      "name": "python3"
    },
    "language_info": {
      "codemirror_mode": {
        "name": "ipython",
        "version": 3
      },
      "file_extension": ".py",
      "mimetype": "text/x-python",
      "name": "python",
      "nbconvert_exporter": "python",
      "pygments_lexer": "ipython3",
      "version": "3.8.3"
    }
  },
  "nbformat": 4,
  "nbformat_minor": 0
}